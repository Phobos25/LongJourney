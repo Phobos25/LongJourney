{
 "cells": [
  {
   "cell_type": "code",
   "execution_count": 1,
   "id": "7603a4a2",
   "metadata": {},
   "outputs": [],
   "source": [
    "def most_common(lst): return max(set(lst), key=lst.count)"
   ]
  },
  {
   "cell_type": "code",
   "execution_count": 3,
   "id": "e53e6434",
   "metadata": {},
   "outputs": [
    {
     "name": "stdout",
     "output_type": "stream",
     "text": [
      "10\n",
      "1 1 1 1 1 1 1 1 1 2\n"
     ]
    }
   ],
   "source": [
    "n = input()\n",
    "a = input()"
   ]
  },
  {
   "cell_type": "code",
   "execution_count": 9,
   "id": "a8b37fca",
   "metadata": {},
   "outputs": [
    {
     "name": "stdout",
     "output_type": "stream",
     "text": [
      "1\n"
     ]
    }
   ],
   "source": [
    "def mostFrequent(arr, n):\n",
    " \n",
    "    # Sort the array\n",
    "    arr.sort()\n",
    " \n",
    "    # find the max frequency using\n",
    "    # linear traversal\n",
    "    max_count = 1; res = arr[0]; curr_count = 1\n",
    "     \n",
    "    for i in range(1, n):\n",
    "        if (arr[i] == arr[i - 1]):\n",
    "            curr_count += 1\n",
    "             \n",
    "        else :\n",
    "            if (curr_count > max_count):\n",
    "                max_count = curr_count\n",
    "                res = arr[i - 1]\n",
    "             \n",
    "            curr_count = 1\n",
    "     \n",
    "    # If last element is most frequent\n",
    "    if (curr_count > max_count):\n",
    "     \n",
    "        max_count = curr_count\n",
    "        res = arr[n - 1]\n",
    "     \n",
    "    return res\n",
    " "
   ]
  },
  {
   "cell_type": "code",
   "execution_count": 10,
   "id": "e646c260",
   "metadata": {},
   "outputs": [
    {
     "name": "stdout",
     "output_type": "stream",
     "text": [
      "10\n"
     ]
    }
   ],
   "source": [
    "# Driver Code\n",
    "n = 10\n",
    "arr = [10, 6, 10, 10, 10, 10, 8, 8, 10, 9]\n",
    "\n",
    "print(mostFrequent(arr, n))"
   ]
  },
  {
   "cell_type": "markdown",
   "id": "c72f1fe8",
   "metadata": {},
   "source": [
    "### Реализация графов и деревьев"
   ]
  },
  {
   "cell_type": "code",
   "execution_count": 11,
   "id": "bacea9b6",
   "metadata": {},
   "outputs": [],
   "source": [
    "a, b, c, d, e, f, g, h = range(8)\n",
    "N = [\n",
    "    {b, c, d, e, f}, # a\n",
    "    {c, e}, # b\n",
    "    {d}, # c\n",
    "    {e}, # d\n",
    "    {f}, # e\n",
    "    {c, g, h}, # f\n",
    "    {f, h}, # g\n",
    "    {f, g} # h\n",
    "]"
   ]
  },
  {
   "cell_type": "code",
   "execution_count": 21,
   "id": "4a154f48",
   "metadata": {},
   "outputs": [
    {
     "data": {
      "text/plain": [
       "True"
      ]
     },
     "execution_count": 21,
     "metadata": {},
     "output_type": "execute_result"
    }
   ],
   "source": [
    "h in N[f] # можно ли из вершины перейти"
   ]
  },
  {
   "cell_type": "code",
   "execution_count": 23,
   "id": "d7498333",
   "metadata": {
    "scrolled": true
   },
   "outputs": [
    {
     "data": {
      "text/plain": [
       "5"
      ]
     },
     "execution_count": 23,
     "metadata": {},
     "output_type": "execute_result"
    }
   ],
   "source": [
    "len(N[a])"
   ]
  },
  {
   "cell_type": "code",
   "execution_count": 26,
   "id": "89612817",
   "metadata": {},
   "outputs": [],
   "source": [
    "n = 9\n",
    "arr = [0, 3, 0, 1, 2, 1, 3, 1, 0]"
   ]
  },
  {
   "cell_type": "code",
   "execution_count": 27,
   "id": "59c72167",
   "metadata": {},
   "outputs": [],
   "source": [
    "n = int(n)\n",
    "d = []\n",
    "for i in range(n):\n",
    "    d.append(int(arr[i]))"
   ]
  },
  {
   "cell_type": "code",
   "execution_count": 28,
   "id": "fbcd5e52",
   "metadata": {},
   "outputs": [
    {
     "name": "stdout",
     "output_type": "stream",
     "text": [
      "0\n",
      "3\n",
      "0\n",
      "1\n",
      "2\n",
      "1\n",
      "3\n",
      "1\n",
      "0\n"
     ]
    }
   ],
   "source": [
    "for i in range(n):\n",
    "    print(d[i])"
   ]
  },
  {
   "cell_type": "code",
   "execution_count": null,
   "id": "c5452e81",
   "metadata": {},
   "outputs": [],
   "source": []
  }
 ],
 "metadata": {
  "kernelspec": {
   "display_name": "Python 3",
   "language": "python",
   "name": "python3"
  },
  "language_info": {
   "codemirror_mode": {
    "name": "ipython",
    "version": 3
   },
   "file_extension": ".py",
   "mimetype": "text/x-python",
   "name": "python",
   "nbconvert_exporter": "python",
   "pygments_lexer": "ipython3",
   "version": "3.7.6"
  }
 },
 "nbformat": 4,
 "nbformat_minor": 5
}
