{
 "cells": [
  {
   "cell_type": "markdown",
   "metadata": {
    "id": "F7ns07Hos8rf"
   },
   "source": [
    "# Графы\n",
    "\n",
    "В этом ноутбуке мы рассмотрим базовую работу с графами"
   ]
  },
  {
   "cell_type": "code",
   "execution_count": null,
   "metadata": {
    "colab": {
     "base_uri": "https://localhost:8080/"
    },
    "executionInfo": {
     "elapsed": 2263,
     "status": "ok",
     "timestamp": 1605188738155,
     "user": {
      "displayName": "Vladimir Podolskii",
      "photoUrl": "",
      "userId": "06527081676405376569"
     },
     "user_tz": -180
    },
    "id": "RS7G9avas8rg",
    "outputId": "c66adc73-fd6b-4e4a-d5a8-104326ad9564"
   },
   "outputs": [],
   "source": [
    "# Задаем граф\n",
    "\n",
    "import networkx as nx\n",
    "\n",
    "G = nx.Graph()\n",
    "\n",
    "G.add_edge('A','B')\n",
    "G.add_edges_from([('B','C'), ('C','A'), ('C','D'), ('C','E'),('D','E')])\n",
    "\n",
    "G.add_node('F')\n",
    "\n",
    "nodes=list(G.nodes())\n",
    "edges=list(G.edges())\n",
    "\n",
    "print(\"Список вершин:\",nodes)\n",
    "print(\"Список ребер:\",edges)\n",
    "\n",
    "num_nodes = G.number_of_nodes()\n",
    "num_edges = G.number_of_edges()\n",
    "\n",
    "print(\"Число вершин:\",num_nodes)\n",
    "print(\"Число ребер:\",num_edges)"
   ]
  },
  {
   "cell_type": "code",
   "execution_count": null,
   "metadata": {
    "colab": {
     "base_uri": "https://localhost:8080/",
     "height": 248
    },
    "executionInfo": {
     "elapsed": 1140,
     "status": "ok",
     "timestamp": 1605188743757,
     "user": {
      "displayName": "Vladimir Podolskii",
      "photoUrl": "",
      "userId": "06527081676405376569"
     },
     "user_tz": -180
    },
    "id": "DJrPzpxrs8rl",
    "outputId": "88485f8e-fc66-4c25-d78f-e559b6f69cb4"
   },
   "outputs": [],
   "source": [
    "# Рисуем граф\n",
    "\n",
    "nx.draw_networkx(G)"
   ]
  },
  {
   "cell_type": "code",
   "execution_count": null,
   "metadata": {
    "colab": {
     "base_uri": "https://localhost:8080/",
     "height": 248
    },
    "executionInfo": {
     "elapsed": 1273,
     "status": "ok",
     "timestamp": 1605188785307,
     "user": {
      "displayName": "Vladimir Podolskii",
      "photoUrl": "",
      "userId": "06527081676405376569"
     },
     "user_tz": -180
    },
    "id": "7gAEvExEs8ro",
    "outputId": "2e19802f-c0d3-4396-d6f0-720667d9b929"
   },
   "outputs": [],
   "source": [
    "# Рисуем граф примерно как в слайдах\n",
    "\n",
    "import matplotlib.pyplot as plt\n",
    "\n",
    "pos = {'A': (1, 1.5), 'B': (4, 0), 'C': (5, 2), 'D': (2.9, 2.2), 'E': (6, 0.5), 'F': (7.5, 1.5)}\n",
    "\n",
    "\n",
    "\n",
    "def draw_G():\n",
    "    options = {\n",
    "        \"font_size\": 20,\n",
    "        \"node_size\": 1500,\n",
    "        \"node_color\": \"white\",\n",
    "        \"edgecolors\": \"black\",\n",
    "        \"linewidths\": 3,\n",
    "        \"width\": 3,\n",
    "    }\n",
    "\n",
    "    plt.axis([0, 8.5, -0.5, 2.7])\n",
    "\n",
    "    nx.draw_networkx(G, pos, **options)\n",
    "    plt.show()\n",
    "    \n",
    "draw_G()\n"
   ]
  },
  {
   "cell_type": "code",
   "execution_count": null,
   "metadata": {
    "colab": {
     "base_uri": "https://localhost:8080/"
    },
    "executionInfo": {
     "elapsed": 1131,
     "status": "ok",
     "timestamp": 1605188855080,
     "user": {
      "displayName": "Vladimir Podolskii",
      "photoUrl": "",
      "userId": "06527081676405376569"
     },
     "user_tz": -180
    },
    "id": "cfLbD7p4s8rr",
    "outputId": "48950c89-d1e6-475d-ca8b-aa5c69df6b73"
   },
   "outputs": [],
   "source": [
    "# Ищем степень вершины\n",
    "\n",
    "G.degree('A')"
   ]
  },
  {
   "cell_type": "code",
   "execution_count": null,
   "metadata": {
    "colab": {
     "base_uri": "https://localhost:8080/"
    },
    "executionInfo": {
     "elapsed": 904,
     "status": "ok",
     "timestamp": 1605188858018,
     "user": {
      "displayName": "Vladimir Podolskii",
      "photoUrl": "",
      "userId": "06527081676405376569"
     },
     "user_tz": -180
    },
    "id": "pfMx1Yfrs8rt",
    "outputId": "f28925e9-dc62-4a3c-e3d5-708142299b98"
   },
   "outputs": [],
   "source": [
    "# Ищем соседей\n",
    "\n",
    "list(G['A'])"
   ]
  },
  {
   "cell_type": "code",
   "execution_count": null,
   "metadata": {
    "id": "MGJKNyw1s8rv"
   },
   "outputs": [],
   "source": []
  }
 ],
 "metadata": {
  "colab": {
   "name": "graphs.ipynb",
   "provenance": []
  },
  "kernelspec": {
   "display_name": "Python 3",
   "language": "python",
   "name": "python3"
  },
  "language_info": {
   "codemirror_mode": {
    "name": "ipython",
    "version": 3
   },
   "file_extension": ".py",
   "mimetype": "text/x-python",
   "name": "python",
   "nbconvert_exporter": "python",
   "pygments_lexer": "ipython3",
   "version": "3.7.6"
  }
 },
 "nbformat": 4,
 "nbformat_minor": 1
}
