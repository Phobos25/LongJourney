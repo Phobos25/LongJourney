{
 "cells": [
  {
   "cell_type": "code",
   "execution_count": 1,
   "id": "31dded5f",
   "metadata": {},
   "outputs": [
    {
     "name": "stdout",
     "output_type": "stream",
     "text": [
      "Collecting tab2img\n",
      "  Downloading tab2img-0.0.2-py3-none-any.whl (4.8 kB)\n",
      "Installing collected packages: tab2img\n",
      "Successfully installed tab2img-0.0.2\n"
     ]
    }
   ],
   "source": [
    "#!pip install tab2img"
   ]
  },
  {
   "cell_type": "code",
   "execution_count": 2,
   "id": "9a8d7ddd",
   "metadata": {},
   "outputs": [],
   "source": [
    "from sklearn.datasets import fetch_covtype\n",
    "from tab2img.converter import Tab2Img\n",
    "import pandas as pd\n",
    "import matplotlib.pyplot as plt\n",
    "%matplotlib inline\n",
    "\n",
    "\n",
    "# model = Tab2Img()\n",
    "# images = model.fit_transform(train, target)"
   ]
  },
  {
   "cell_type": "code",
   "execution_count": 66,
   "id": "ad7701e4",
   "metadata": {},
   "outputs": [],
   "source": [
    "train_data = pd.read_csv(\"data/titanic/train.csv\")\n",
    "test_data  = pd.read_csv(\"data/titanic/test.csv\")\n",
    "\n",
    "#replace NaN with 0\n",
    "train_data.fillna(0,inplace=True)\n",
    "test_data.fillna(0,inplace=True)\n",
    "\n",
    "# drop useless columns\n",
    "train_data = train_data.drop(columns=['Name','Cabin','Embarked', 'Ticket'])\n",
    "train_data['TFamily'] = train_data['SibSp'] + train_data['Parch']\n",
    "train_data = train_data.drop(columns=['SibSp', 'Parch'])\n",
    "\n",
    "test_data = test_data.drop(columns=['Name','Cabin','Embarked', 'Ticket'])\n",
    "test_data['TFamily'] = test_data['SibSp'] + test_data['Parch']\n",
    "test_data = test_data.drop(columns=['SibSp', 'Parch'])"
   ]
  },
  {
   "cell_type": "code",
   "execution_count": 67,
   "id": "265ca7bb",
   "metadata": {},
   "outputs": [],
   "source": [
    "X = train_data.drop(columns=['Survived'])\n",
    "Y = train_data['Survived'].values"
   ]
  },
  {
   "cell_type": "code",
   "execution_count": 68,
   "id": "4e986e00",
   "metadata": {},
   "outputs": [],
   "source": [
    "arr = []\n",
    "for sex in X['Sex']:\n",
    "    if sex == 'male':\n",
    "        arr.append(1)\n",
    "    else:\n",
    "        arr.append(0)\n",
    "X['Sex'] = arr"
   ]
  },
  {
   "cell_type": "code",
   "execution_count": 69,
   "id": "d1b80790",
   "metadata": {},
   "outputs": [],
   "source": [
    "from sklearn.model_selection import train_test_split"
   ]
  },
  {
   "cell_type": "code",
   "execution_count": 70,
   "id": "d54912e4",
   "metadata": {},
   "outputs": [],
   "source": [
    "#make the x for train and valid\n",
    "xtrain,xvalid,ytrain,yvalid = train_test_split(X,Y,train_size=0.80,random_state=2)"
   ]
  },
  {
   "cell_type": "code",
   "execution_count": 81,
   "id": "dbf4c6a7",
   "metadata": {},
   "outputs": [],
   "source": [
    "model = Tab2Img()\n",
    "images_train = model.fit_transform(xtrain.to_numpy(), ytrain)\n",
    "images_valid = model.transform(xvalid.to_numpy())"
   ]
  },
  {
   "cell_type": "code",
   "execution_count": 85,
   "id": "c9ad1405",
   "metadata": {},
   "outputs": [
    {
     "data": {
      "text/plain": [
       "array([40., 31.,  0.], dtype=float32)"
      ]
     },
     "execution_count": 85,
     "metadata": {},
     "output_type": "execute_result"
    }
   ],
   "source": [
    "images_train"
   ]
  },
  {
   "cell_type": "code",
   "execution_count": null,
   "id": "d80c2eac",
   "metadata": {},
   "outputs": [],
   "source": []
  },
  {
   "cell_type": "code",
   "execution_count": null,
   "id": "ce16798c",
   "metadata": {},
   "outputs": [],
   "source": []
  },
  {
   "cell_type": "code",
   "execution_count": null,
   "id": "62142da4",
   "metadata": {},
   "outputs": [],
   "source": []
  },
  {
   "cell_type": "code",
   "execution_count": null,
   "id": "a1923e04",
   "metadata": {},
   "outputs": [],
   "source": []
  }
 ],
 "metadata": {
  "kernelspec": {
   "display_name": "Python 3 (ipykernel)",
   "language": "python",
   "name": "python3"
  },
  "language_info": {
   "codemirror_mode": {
    "name": "ipython",
    "version": 3
   },
   "file_extension": ".py",
   "mimetype": "text/x-python",
   "name": "python",
   "nbconvert_exporter": "python",
   "pygments_lexer": "ipython3",
   "version": "3.9.12"
  }
 },
 "nbformat": 4,
 "nbformat_minor": 5
}
