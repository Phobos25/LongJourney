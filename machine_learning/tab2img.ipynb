{
 "cells": [
  {
   "cell_type": "markdown",
   "id": "c93f7a03",
   "metadata": {},
   "source": [
    "# Convert tabular data to image"
   ]
  },
  {
   "cell_type": "markdown",
   "id": "7fd7270f",
   "metadata": {},
   "source": [
    "Sometimes it's easier to work with convolutional network. Since it provides very good accuracy, sometimes even better than random forest, or XGBoost. "
   ]
  },
  {
   "cell_type": "markdown",
   "id": "c4adc2c5",
   "metadata": {},
   "source": [
    "we are going to use tab2img library\n",
    "\n",
    "Look [here](https://github.com/nicomignoni/tab2img) for more information"
   ]
  },
  {
   "cell_type": "code",
   "execution_count": 1,
   "id": "31dded5f",
   "metadata": {},
   "outputs": [
    {
     "name": "stdout",
     "output_type": "stream",
     "text": [
      "Collecting tab2img\n",
      "  Downloading tab2img-0.0.2-py3-none-any.whl (4.8 kB)\n",
      "Installing collected packages: tab2img\n",
      "Successfully installed tab2img-0.0.2\n"
     ]
    }
   ],
   "source": [
    "# !pip install tab2img"
   ]
  },
  {
   "cell_type": "markdown",
   "id": "1c25510f",
   "metadata": {},
   "source": [
    "Load libraries"
   ]
  },
  {
   "cell_type": "code",
   "execution_count": 3,
   "id": "9a8d7ddd",
   "metadata": {},
   "outputs": [],
   "source": [
    "from sklearn.datasets import fetch_covtype\n",
    "from tab2img.converter import Tab2Img\n",
    "import pandas as pd\n",
    "import matplotlib.pyplot as plt\n",
    "%matplotlib inline\n",
    "\n",
    "\n",
    "# model = Tab2Img()\n",
    "# images = model.fit_transform(train, target)"
   ]
  },
  {
   "cell_type": "markdown",
   "id": "d3526587",
   "metadata": {},
   "source": [
    "### Data processing"
   ]
  },
  {
   "cell_type": "markdown",
   "id": "3c8409ea",
   "metadata": {},
   "source": [
    "We are going to use titanic dataset, for no particular reason\n",
    "\n"
   ]
  },
  {
   "cell_type": "code",
   "execution_count": 4,
   "id": "ad7701e4",
   "metadata": {},
   "outputs": [],
   "source": [
    "train_data = pd.read_csv(\"data/titanic/train.csv\")\n",
    "test_data  = pd.read_csv(\"data/titanic/test.csv\")\n",
    "\n",
    "#replace NaN with 0\n",
    "train_data.fillna(0,inplace=True)\n",
    "test_data.fillna(0,inplace=True)\n",
    "\n",
    "# drop useless columns\n",
    "train_data = train_data.drop(columns=['Name','Cabin','Embarked', 'Ticket'])\n",
    "train_data['TFamily'] = train_data['SibSp'] + train_data['Parch']\n",
    "train_data = train_data.drop(columns=['SibSp', 'Parch'])\n",
    "\n",
    "test_data = test_data.drop(columns=['Name','Cabin','Embarked', 'Ticket'])\n",
    "test_data['TFamily'] = test_data['SibSp'] + test_data['Parch']\n",
    "test_data = test_data.drop(columns=['SibSp', 'Parch'])"
   ]
  },
  {
   "cell_type": "code",
   "execution_count": 5,
   "id": "265ca7bb",
   "metadata": {},
   "outputs": [],
   "source": [
    "X = train_data.drop(columns=['Survived'])\n",
    "Y = train_data['Survived'].values"
   ]
  },
  {
   "cell_type": "markdown",
   "id": "e356bfb5",
   "metadata": {},
   "source": [
    "We need to convert 'sex' column into 1 and 0, where 1 --- stands for male, and 0 --- stands for female"
   ]
  },
  {
   "cell_type": "code",
   "execution_count": 6,
   "id": "4e986e00",
   "metadata": {},
   "outputs": [],
   "source": [
    "arr = []\n",
    "for sex in X['Sex']:\n",
    "    if sex == 'male':\n",
    "        arr.append(1)\n",
    "    else:\n",
    "        arr.append(0)\n",
    "X['Sex'] = arr"
   ]
  },
  {
   "cell_type": "code",
   "execution_count": 7,
   "id": "d1b80790",
   "metadata": {},
   "outputs": [],
   "source": [
    "# load data split function\n",
    "from sklearn.model_selection import train_test_split"
   ]
  },
  {
   "cell_type": "code",
   "execution_count": 8,
   "id": "d54912e4",
   "metadata": {},
   "outputs": [],
   "source": [
    "#make the x for train and valid\n",
    "xtrain,xvalid,ytrain,yvalid = train_test_split(X,Y,train_size=0.80,random_state=2)"
   ]
  },
  {
   "cell_type": "markdown",
   "id": "33cc5ea2",
   "metadata": {},
   "source": [
    "### Convert to image"
   ]
  },
  {
   "cell_type": "code",
   "execution_count": 9,
   "id": "dbf4c6a7",
   "metadata": {},
   "outputs": [],
   "source": [
    "model = Tab2Img()\n",
    "images_train = model.fit_transform(xtrain.to_numpy(), ytrain)\n",
    "images_valid = model.transform(xvalid.to_numpy())"
   ]
  },
  {
   "cell_type": "markdown",
   "id": "950f737b",
   "metadata": {},
   "source": [
    "Now we have images to work with. We can use CNN or any other model to work with thi data. "
   ]
  },
  {
   "cell_type": "code",
   "execution_count": 10,
   "id": "c9ad1405",
   "metadata": {},
   "outputs": [
    {
     "data": {
      "text/plain": [
       "array([[[ 27.7208,   0.    ,   1.    ],\n",
       "        [ 40.    ,  31.    ,   0.    ],\n",
       "        [  1.    ,   0.    ,   0.    ]],\n",
       "\n",
       "       [[ 16.7   ,   2.    ,   3.    ],\n",
       "        [  4.    ,  11.    ,   0.    ],\n",
       "        [  0.    ,   0.    ,   0.    ]],\n",
       "\n",
       "       [[  9.    ,   0.    ,   3.    ],\n",
       "        [ 47.    , 874.    ,   0.    ],\n",
       "        [  1.    ,   0.    ,   0.    ]],\n",
       "\n",
       "       ...,\n",
       "\n",
       "       [[ 49.5042,   0.    ,   1.    ],\n",
       "        [ 71.    , 494.    ,   0.    ],\n",
       "        [  1.    ,   0.    ,   0.    ]],\n",
       "\n",
       "       [[221.7792,   0.    ,   1.    ],\n",
       "        [  0.    , 528.    ,   0.    ],\n",
       "        [  1.    ,   0.    ,   0.    ]],\n",
       "\n",
       "       [[ 25.925 ,   0.    ,   1.    ],\n",
       "        [  0.    , 169.    ,   0.    ],\n",
       "        [  1.    ,   0.    ,   0.    ]]], dtype=float32)"
      ]
     },
     "execution_count": 10,
     "metadata": {},
     "output_type": "execute_result"
    }
   ],
   "source": [
    "images_train"
   ]
  },
  {
   "cell_type": "markdown",
   "id": "adfc20f5",
   "metadata": {},
   "source": [
    "### Imagenet"
   ]
  },
  {
   "cell_type": "code",
   "execution_count": null,
   "id": "8dcc27cc",
   "metadata": {},
   "outputs": [],
   "source": []
  },
  {
   "cell_type": "code",
   "execution_count": null,
   "id": "0a0ca59a",
   "metadata": {},
   "outputs": [],
   "source": []
  },
  {
   "cell_type": "code",
   "execution_count": null,
   "id": "8f3b250e",
   "metadata": {},
   "outputs": [],
   "source": []
  },
  {
   "cell_type": "markdown",
   "id": "131c57fa",
   "metadata": {},
   "source": [
    "### fastai"
   ]
  },
  {
   "cell_type": "code",
   "execution_count": null,
   "id": "311cd682",
   "metadata": {},
   "outputs": [],
   "source": []
  },
  {
   "cell_type": "code",
   "execution_count": null,
   "id": "2f1ea0ca",
   "metadata": {},
   "outputs": [],
   "source": []
  },
  {
   "cell_type": "code",
   "execution_count": null,
   "id": "add12827",
   "metadata": {},
   "outputs": [],
   "source": []
  },
  {
   "cell_type": "markdown",
   "id": "3a738619",
   "metadata": {},
   "source": [
    "### CNN"
   ]
  },
  {
   "cell_type": "code",
   "execution_count": 1,
   "id": "5eaeb4e0",
   "metadata": {},
   "outputs": [
    {
     "ename": "ModuleNotFoundError",
     "evalue": "No module named 'tensorflow'",
     "output_type": "error",
     "traceback": [
      "\u001b[0;31m---------------------------------------------------------------------------\u001b[0m",
      "\u001b[0;31mModuleNotFoundError\u001b[0m                       Traceback (most recent call last)",
      "\u001b[0;32m/tmp/ipykernel_7965/1589520110.py\u001b[0m in \u001b[0;36m<module>\u001b[0;34m\u001b[0m\n\u001b[0;32m----> 1\u001b[0;31m \u001b[0;32mfrom\u001b[0m \u001b[0mtensorflow\u001b[0m \u001b[0;32mimport\u001b[0m \u001b[0mkeras\u001b[0m\u001b[0;34m\u001b[0m\u001b[0;34m\u001b[0m\u001b[0m\n\u001b[0m",
      "\u001b[0;31mModuleNotFoundError\u001b[0m: No module named 'tensorflow'"
     ]
    }
   ],
   "source": []
  },
  {
   "cell_type": "code",
   "execution_count": null,
   "id": "c0aed2d3",
   "metadata": {},
   "outputs": [],
   "source": []
  },
  {
   "cell_type": "code",
   "execution_count": null,
   "id": "b6236d3b",
   "metadata": {},
   "outputs": [],
   "source": []
  },
  {
   "cell_type": "markdown",
   "id": "d0a12512",
   "metadata": {},
   "source": [
    "### Bonus section"
   ]
  },
  {
   "cell_type": "markdown",
   "id": "077a14f5",
   "metadata": {},
   "source": [
    "As a bonus, let's use XGBoost and compare our results"
   ]
  },
  {
   "cell_type": "markdown",
   "id": "80fa90e8",
   "metadata": {},
   "source": [
    "### XGBoost"
   ]
  },
  {
   "cell_type": "code",
   "execution_count": null,
   "id": "dead4565",
   "metadata": {},
   "outputs": [],
   "source": []
  }
 ],
 "metadata": {
  "kernelspec": {
   "display_name": "Python 3 (ipykernel)",
   "language": "python",
   "name": "python3"
  },
  "language_info": {
   "codemirror_mode": {
    "name": "ipython",
    "version": 3
   },
   "file_extension": ".py",
   "mimetype": "text/x-python",
   "name": "python",
   "nbconvert_exporter": "python",
   "pygments_lexer": "ipython3",
   "version": "3.7.13"
  }
 },
 "nbformat": 4,
 "nbformat_minor": 5
}
