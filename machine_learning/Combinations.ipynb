{
 "cells": [
  {
   "cell_type": "markdown",
   "metadata": {},
   "source": [
    "### Комбинации"
   ]
  },
  {
   "cell_type": "markdown",
   "metadata": {},
   "source": [
    "Комбинации --- это сочетание разнородных объектов, где **порядок не имеет значения**\n",
    "\n",
    "Для примера рассмотрим комбинации трех букв: [a,b,c]\n",
    "```\n",
    "[],\n",
    "[a],\n",
    "[b],\n",
    "[c],\n",
    "[a,b],\n",
    "[b,c],\n",
    "[a,c],\n",
    "[a,b,c]\n",
    "```\n",
    "Такая комбинация называется **полной**, т.к. мы рассматриваем **комбинации любой длины**. \n",
    "\n",
    "В комбинациях, как следует из определения, порядок не имеет значения, поэтому мы рассматриваем только [a,b] или [b,a], **но не обе комбинации.**"
   ]
  },
  {
   "cell_type": "markdown",
   "metadata": {},
   "source": [
    "![tree](pics/combination_tree.png)"
   ]
  },
  {
   "cell_type": "markdown",
   "metadata": {},
   "source": [
    "Рассмотрим комбинации как дерево. \n",
    "\n",
    "Пусть у нас попеременно вводятся три буквы: a, b, c. Ветка слева это не вводим букву, справа вводим. \n",
    "\n",
    "Для буквы **a** --- у нас получается два варианта: пустая строка, [a]\n",
    "\n",
    "Для буквы **b** --- у нас уже четыре варианта: пустая строка, [b], [a], [a,b]\n",
    "\n",
    "Для буквы **c** --- у нас уже восемь вариантов: пустая строка, [c], [b], [b,c], [a], [a,c], [a,b], [a,b,c]\n"
   ]
  },
  {
   "cell_type": "markdown",
   "metadata": {},
   "source": [
    "таким образом, **у нас получается 2^n, где n - число букв для комбинации.**"
   ]
  },
  {
   "cell_type": "markdown",
   "metadata": {},
   "source": [
    "Рассмотрим пример использования комбинации в коде:"
   ]
  },
  {
   "cell_type": "code",
   "execution_count": 17,
   "metadata": {},
   "outputs": [],
   "source": [
    "# O(2^n) time complexity\n",
    "# O(n^2) space complexity\n",
    "def combinations(arr):\n",
    "    if len(arr) == 0:\n",
    "        return [[]]\n",
    "    first = arr[0]\n",
    "    rest = arr[1:]\n",
    "    combsWithoutFirst = combinations(rest)\n",
    "    combsWithFirst = []\n",
    "    for combs in combsWithoutFirst:\n",
    "        combWithFirst = combs + [first]\n",
    "        combsWithFirst.append(combWithFirst)\n",
    "    return combsWithoutFirst + combsWithFirst"
   ]
  },
  {
   "cell_type": "code",
   "execution_count": 15,
   "metadata": {},
   "outputs": [
    {
     "name": "stdout",
     "output_type": "stream",
     "text": [
      "[]\n",
      "['c']\n",
      "['b']\n",
      "['c', 'b']\n",
      "['a']\n",
      "['c', 'a']\n",
      "['b', 'a']\n",
      "['c', 'b', 'a']\n"
     ]
    }
   ],
   "source": [
    "for comb in combinations(['a','b','c']):\n",
    "    print(comb)"
   ]
  },
  {
   "cell_type": "code",
   "execution_count": 16,
   "metadata": {},
   "outputs": [
    {
     "name": "stdout",
     "output_type": "stream",
     "text": [
      "[[], ['b'], ['a'], ['b', 'a']]\n"
     ]
    }
   ],
   "source": [
    "print(combinations(['a','b']))"
   ]
  },
  {
   "cell_type": "code",
   "execution_count": null,
   "metadata": {},
   "outputs": [],
   "source": []
  }
 ],
 "metadata": {
  "kernelspec": {
   "display_name": "Python 3",
   "language": "python",
   "name": "python3"
  },
  "language_info": {
   "codemirror_mode": {
    "name": "ipython",
    "version": 3
   },
   "file_extension": ".py",
   "mimetype": "text/x-python",
   "name": "python",
   "nbconvert_exporter": "python",
   "pygments_lexer": "ipython3",
   "version": "3.8.8"
  }
 },
 "nbformat": 4,
 "nbformat_minor": 4
}
