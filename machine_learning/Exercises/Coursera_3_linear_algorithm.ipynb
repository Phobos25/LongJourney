{
 "cells": [
  {
   "cell_type": "markdown",
   "metadata": {},
   "source": [
    "Вы научитесь:\n",
    "\n",
    "* работать с персептроном — простейшим вариантом линейного классификатора\n",
    "\n",
    "* повышать качество линейной модели путем нормализации признаков"
   ]
  },
  {
   "cell_type": "code",
   "execution_count": 6,
   "metadata": {},
   "outputs": [],
   "source": [
    "import numpy as np\n",
    "import pandas as pd\n",
    "from sklearn.linear_model import Perceptron\n",
    "#пример использование персептрона\n",
    "X = np.array([[1, 2], [3, 4], [5, 6]])\n",
    "y = np.array([0, 1, 0])\n",
    "clf = Perceptron()\n",
    "clf.fit(X, y)\n",
    "predictions = clf.predict(X)"
   ]
  },
  {
   "cell_type": "code",
   "execution_count": 7,
   "metadata": {},
   "outputs": [],
   "source": [
    "#подключаем библиотеку для нормировки\n",
    "from sklearn.preprocessing import StandardScaler\n",
    "#import evaluation libraries\n",
    "from sklearn.model_selection import cross_val_score\n",
    "from sklearn.metrics import classification_report\n",
    "from sklearn.metrics import confusion_matrix\n",
    "from sklearn.metrics import accuracy_score"
   ]
  },
  {
   "cell_type": "code",
   "execution_count": 15,
   "metadata": {},
   "outputs": [],
   "source": [
    "#read data\n",
    "df = pd.read_csv('perceptron-train.csv', header=None)\n",
    "X_train = df[[1,2]]\n",
    "y_train = df[0]\n",
    "\n",
    "df = pd.read_csv('perceptron-test.csv', header=None)\n",
    "X_test = df[[1,2]]\n",
    "y_test = df[0]"
   ]
  },
  {
   "cell_type": "code",
   "execution_count": 37,
   "metadata": {},
   "outputs": [],
   "source": [
    "#normalize our data\n",
    "scaler = StandardScaler()\n",
    "'''Для стандартизации признаков удобно воспользоваться классом \n",
    "sklearn.preprocessing.StandardScaler. Функция fit_transform данного класса находит \n",
    "параметры нормализации (средние и дисперсии каждого признака) по выборке, и сразу же \n",
    "делает нормализацию выборки с использованием этих параметров. Функция transform делает \n",
    "нормализацию на основе уже найденных параметров.'''\n",
    "\n",
    "X_train_scaled = scaler.fit_transform(X_train)\n",
    "X_test_scaled = scaler.transform(X_test)"
   ]
  },
  {
   "cell_type": "code",
   "execution_count": 26,
   "metadata": {},
   "outputs": [],
   "source": [
    "perceptron = Perceptron(random_state=241)\n",
    "perceptron.fit(X_train, y_train)\n",
    "predictions = perceptron.predict(X_test)"
   ]
  },
  {
   "cell_type": "code",
   "execution_count": 27,
   "metadata": {
    "scrolled": true
   },
   "outputs": [
    {
     "name": "stdout",
     "output_type": "stream",
     "text": [
      "0.655\n",
      "[[62 30]\n",
      " [39 69]]\n",
      "              precision    recall  f1-score   support\n",
      "\n",
      "        -1.0       0.61      0.67      0.64        92\n",
      "         1.0       0.70      0.64      0.67       108\n",
      "\n",
      "    accuracy                           0.66       200\n",
      "   macro avg       0.66      0.66      0.65       200\n",
      "weighted avg       0.66      0.66      0.66       200\n",
      "\n"
     ]
    }
   ],
   "source": [
    "#Evaluate predictions\n",
    "before = accuracy_score(y_test, predictions)\n",
    "print(accuracy_score(y_test, predictions))\n",
    "'''confusion matrix: \n",
    "    TP   |   FN\n",
    "    FP   |   TN\n",
    "'''\n",
    "print(confusion_matrix(y_test, predictions))\n",
    "print(classification_report(y_test, predictions))"
   ]
  },
  {
   "cell_type": "code",
   "execution_count": 42,
   "metadata": {},
   "outputs": [],
   "source": [
    "clf = Perceptron()\n",
    "clf.fit(X_train_scaled, y_train)\n",
    "predictions = clf.predict(X_test_scaled)"
   ]
  },
  {
   "cell_type": "code",
   "execution_count": 43,
   "metadata": {},
   "outputs": [
    {
     "name": "stdout",
     "output_type": "stream",
     "text": [
      "0.845\n",
      "[[81 11]\n",
      " [20 88]]\n",
      "              precision    recall  f1-score   support\n",
      "\n",
      "        -1.0       0.80      0.88      0.84        92\n",
      "         1.0       0.89      0.81      0.85       108\n",
      "\n",
      "    accuracy                           0.84       200\n",
      "   macro avg       0.85      0.85      0.84       200\n",
      "weighted avg       0.85      0.84      0.85       200\n",
      "\n"
     ]
    }
   ],
   "source": [
    "#Evaluate predictions\n",
    "after = accuracy_score(y_test, predictions)\n",
    "print(accuracy_score(y_test, predictions))\n",
    "'''confusion matrix: \n",
    "    TP   |   FN\n",
    "    FP   |   TN\n",
    "'''\n",
    "print(confusion_matrix(y_test, predictions))\n",
    "print(classification_report(y_test, predictions))"
   ]
  },
  {
   "cell_type": "code",
   "execution_count": 44,
   "metadata": {},
   "outputs": [
    {
     "data": {
      "text/plain": [
       "0.18999999999999995"
      ]
     },
     "execution_count": 44,
     "metadata": {},
     "output_type": "execute_result"
    }
   ],
   "source": [
    "after - before"
   ]
  },
  {
   "cell_type": "code",
   "execution_count": null,
   "metadata": {},
   "outputs": [],
   "source": []
  }
 ],
 "metadata": {
  "kernelspec": {
   "display_name": "Python 3",
   "language": "python",
   "name": "python3"
  },
  "language_info": {
   "codemirror_mode": {
    "name": "ipython",
    "version": 3
   },
   "file_extension": ".py",
   "mimetype": "text/x-python",
   "name": "python",
   "nbconvert_exporter": "python",
   "pygments_lexer": "ipython3",
   "version": "3.7.6"
  }
 },
 "nbformat": 4,
 "nbformat_minor": 2
}
