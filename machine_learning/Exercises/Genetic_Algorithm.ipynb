{
 "cells": [
  {
   "cell_type": "markdown",
   "metadata": {},
   "source": [
    "**Genetic algorithm is optimization technique.**"
   ]
  },
  {
   "cell_type": "markdown",
   "metadata": {},
   "source": [
    "There are different types of **genes**: binary, decimal, integer, and others. \n",
    "\n",
    "There are different types of **mutations**: bit flip, swap, inverse, uniform, non-uniform, Gaussian, shrink, and others.\n",
    "\n",
    "There are different types of **crossover**: blend, one point, two points, uniform, and others"
   ]
  },
  {
   "cell_type": "code",
   "execution_count": 29,
   "metadata": {},
   "outputs": [],
   "source": [
    "import numpy as np\n",
    "import random"
   ]
  },
  {
   "cell_type": "code",
   "execution_count": 44,
   "metadata": {},
   "outputs": [],
   "source": [
    "def initialize(p_zero, N):\n",
    "    \n",
    "    #we need to create a map. It's going to be random\n",
    "    the_map = np.zeros([N,N])\n",
    "    \n",
    "    for i in range(N):\n",
    "        for j in range(i):            \n",
    "            if random.random() > p_zero:\n",
    "                the_map[i,j] = random.random()*100\n",
    "                the_map[j,i] = the_map[i,j]\n",
    "            else:\n",
    "                the_map[i][j] = 0\n",
    "                the_map[j][i] = the_map[i][j]\n",
    "                \n",
    "    #second thing is to create the distance between each points.\n",
    "    \n",
    "    \n",
    "    # we need to start with random but valid solution for the prolem we are going to solve\n",
    "\n",
    "    return the_map"
   ]
  },
  {
   "cell_type": "code",
   "execution_count": 18,
   "metadata": {},
   "outputs": [],
   "source": [
    "def fitness(route, the_map):\n",
    "    \n",
    "    score = 0\n",
    "    \n",
    "    for i in range(1, len(route)):\n",
    "        if (the_map[route[i-1]][route[i]] == 0) and i != len(the_map)-1:\n",
    "            print(\"WARNING: INVALID ROUTE\")\n",
    "            print(route)\n",
    "            print(the_map)\n",
    "        score = score + the_map[route[i-1]][route[i]]\n",
    "\n",
    "    return score"
   ]
  },
  {
   "cell_type": "code",
   "execution_count": 19,
   "metadata": {},
   "outputs": [],
   "source": [
    "def crossover(a, b):\n",
    "        \n",
    "    # I initially made an error here by allowing routes to crossover at any point, which obviously won't work\n",
    "    # you have to insure that when the two routes cross over that the resulting routes produce a valid route\n",
    "    # which means that crossover points have to be at the same position value on the map\n",
    "    \n",
    "    common_elements = set(a) & set(b)\n",
    "    \n",
    "    if len(common_elements) == 2:\n",
    "        return (a, b)\n",
    "    else:\n",
    "        common_elements.remove(0)\n",
    "        common_elements.remove(max(a)) \n",
    "        value = random.sample(common_elements, 1)        \n",
    "    \n",
    "    cut_a = np.random.choice(np.where(np.isin(a, value))[0])\n",
    "    cut_b = np.random.choice(np.where(np.isin(b, value))[0])\n",
    "    \n",
    "    new_a1 = copy.deepcopy(a[0:cut_a])\n",
    "    new_a2 = copy.deepcopy(b[cut_b:])\n",
    "    \n",
    "    new_b1 = copy.deepcopy(b[0:cut_b])\n",
    "    new_b2 = copy.deepcopy(a[cut_a:])\n",
    "    \n",
    "    new_a = np.append(new_a1, new_a2)\n",
    "    new_b = np.append(new_b1, new_b2)\n",
    "       \n",
    "    return (new_a, new_b)"
   ]
  },
  {
   "cell_type": "code",
   "execution_count": 20,
   "metadata": {},
   "outputs": [],
   "source": [
    "def mutate(route, probability, the_map):\n",
    "    \n",
    "    #in mutation we reroll the route\n",
    "    \n",
    "    new_route = copy.deepcopy(route)\n",
    "    \n",
    "    for i in range(1, len(new_route)):\n",
    "        if random.random() < probability:\n",
    "            \n",
    "            go = True\n",
    "\n",
    "            while go:\n",
    "\n",
    "                possible_values = np.nonzero(the_map[new_route[i-1]])\n",
    "                proposed_value = random.randint(0,len(possible_values[0])-1)\n",
    "                route = np.append(new_route, possible_values[0][proposed_value])\n",
    "\n",
    "                if new_route[i] == len(the_map)-1:\n",
    "                    go = False\n",
    "                else:\n",
    "                    i += 1\n",
    "    \n",
    "    return new_route"
   ]
  },
  {
   "cell_type": "code",
   "execution_count": 47,
   "metadata": {},
   "outputs": [],
   "source": [
    "def create_member(the_map):\n",
    "    \n",
    "    N = len(the_map)\n",
    "    \n",
    "    route = np.zeros(1, dtype=int)\n",
    "    \n",
    "    go = True\n",
    "    \n",
    "    i = 1\n",
    "    \n",
    "    while go:\n",
    "        \n",
    "        possible_values = np.nonzero(the_map[route[i-1]])\n",
    "        proposed_value = random.randint(0, len(possible_values[0])-1)\n",
    "        route = np.append(route, possible_values[0,proposed_value])\n",
    "        \n",
    "        if route[i]==n-1:\n",
    "            go = False\n",
    "        else:\n",
    "            i += 1\n",
    "    \n",
    "    print(the_map)\n",
    "    return the_map"
   ]
  },
  {
   "cell_type": "code",
   "execution_count": 48,
   "metadata": {},
   "outputs": [],
   "source": [
    "def create_starting_population(size, max_route_length, N):\n",
    "    population = []\n",
    "    \n",
    "    for i in range(0, size):\n",
    "        population.append(create_member(max_route_length, N))"
   ]
  },
  {
   "cell_type": "code",
   "execution_count": 22,
   "metadata": {},
   "outputs": [],
   "source": [
    "def create_new_population(parents, children):\n",
    "    return parents"
   ]
  },
  {
   "cell_type": "code",
   "execution_count": 23,
   "metadata": {},
   "outputs": [],
   "source": [
    "def main(number_of_iteration):\n",
    "    return number_of_iteration"
   ]
  },
  {
   "cell_type": "code",
   "execution_count": 28,
   "metadata": {},
   "outputs": [
    {
     "data": {
      "text/plain": [
       "0.6114592693955897"
      ]
     },
     "execution_count": 28,
     "metadata": {},
     "output_type": "execute_result"
    }
   ],
   "source": [
    "import random\n",
    "random.random()"
   ]
  },
  {
   "cell_type": "code",
   "execution_count": 45,
   "metadata": {},
   "outputs": [],
   "source": [
    "the_map = initialize(p_zero=0.1, N=4)"
   ]
  },
  {
   "cell_type": "code",
   "execution_count": 46,
   "metadata": {},
   "outputs": [
    {
     "data": {
      "text/plain": [
       "array([[ 0.        , 51.74478602, 68.35643106, 45.81507713],\n",
       "       [51.74478602,  0.        , 28.27080338, 41.33352109],\n",
       "       [68.35643106, 28.27080338,  0.        , 11.73360292],\n",
       "       [45.81507713, 41.33352109, 11.73360292,  0.        ]])"
      ]
     },
     "execution_count": 46,
     "metadata": {},
     "output_type": "execute_result"
    }
   ],
   "source": [
    "the_map"
   ]
  },
  {
   "cell_type": "code",
   "execution_count": 41,
   "metadata": {},
   "outputs": [],
   "source": [
    "N = 4\n",
    "the_map = np.zeros([N,N])\n"
   ]
  },
  {
   "cell_type": "code",
   "execution_count": 43,
   "metadata": {},
   "outputs": [
    {
     "data": {
      "text/plain": [
       "0.0"
      ]
     },
     "execution_count": 43,
     "metadata": {},
     "output_type": "execute_result"
    }
   ],
   "source": []
  },
  {
   "cell_type": "code",
   "execution_count": null,
   "metadata": {},
   "outputs": [],
   "source": []
  }
 ],
 "metadata": {
  "kernelspec": {
   "display_name": "Python 3",
   "language": "python",
   "name": "python3"
  },
  "language_info": {
   "codemirror_mode": {
    "name": "ipython",
    "version": 3
   },
   "file_extension": ".py",
   "mimetype": "text/x-python",
   "name": "python",
   "nbconvert_exporter": "python",
   "pygments_lexer": "ipython3",
   "version": "3.6.5"
  }
 },
 "nbformat": 4,
 "nbformat_minor": 2
}
