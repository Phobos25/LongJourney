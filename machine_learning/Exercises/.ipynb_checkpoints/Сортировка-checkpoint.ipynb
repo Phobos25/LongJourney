{
 "cells": [
  {
   "cell_type": "markdown",
   "metadata": {},
   "source": [
    "## Метод пузырька\n",
    "\n",
    "Метод пузырька является одним из базовых алгоритмов сортировки. Основная идея заключается в том, чтобы сравнивать два соседних элемента в массиве и менять их местами - по возрастанию или по убыванию, т.е. как \"пузырек\" наибольший или наименьший элемент перемещается в начало или в конец массива. \n",
    "\n",
    "Алгоритм является крайне не оптимизированный. Сложность составляет O($n^{2}$)"
   ]
  },
  {
   "cell_type": "code",
   "execution_count": 1,
   "metadata": {},
   "outputs": [
    {
     "name": "stdout",
     "output_type": "stream",
     "text": [
      "[1, 2, 4, 5, 8]\n"
     ]
    }
   ],
   "source": [
    "def bubble_sort(nums):  \n",
    "    # Устанавливаем swapped в True, чтобы цикл запустился хотя бы один раз\n",
    "    swapped = True\n",
    "    while swapped:\n",
    "        swapped = False\n",
    "        for i in range(len(nums) - 1):\n",
    "            if nums[i] > nums[i + 1]:\n",
    "                # Меняем элементы\n",
    "                nums[i], nums[i + 1] = nums[i + 1], nums[i]\n",
    "                # Устанавливаем swapped в True для следующей итерации\n",
    "                swapped = True\n",
    "\n",
    "# Проверяем, что оно работает\n",
    "random_list_of_nums = [5, 2, 1, 8, 4]  \n",
    "bubble_sort(random_list_of_nums)  \n",
    "print(random_list_of_nums)"
   ]
  },
  {
   "cell_type": "markdown",
   "metadata": {},
   "source": [
    "https://tproger.ru/translations/sorting-algorithms-in-python/"
   ]
  }
 ],
 "metadata": {
  "kernelspec": {
   "display_name": "Python 3",
   "language": "python",
   "name": "python3"
  },
  "language_info": {
   "codemirror_mode": {
    "name": "ipython",
    "version": 3
   },
   "file_extension": ".py",
   "mimetype": "text/x-python",
   "name": "python",
   "nbconvert_exporter": "python",
   "pygments_lexer": "ipython3",
   "version": "3.7.6"
  }
 },
 "nbformat": 4,
 "nbformat_minor": 4
}
