{
 "cells": [
  {
   "cell_type": "markdown",
   "metadata": {},
   "source": [
    "**Genetic algorithm is optimization technique.**"
   ]
  },
  {
   "cell_type": "markdown",
   "metadata": {},
   "source": [
    "There are different types of **genes**: binary, decimal, integer, and others. \n",
    "\n",
    "There are different types of **mutations**: bit flip, swap, inverse, uniform, non-uniform, Gaussian, shrink, and others.\n",
    "\n",
    "There are different types of **crossover**: blend, one point, two points, uniform, and others"
   ]
  },
  {
   "cell_type": "code",
   "execution_count": 18,
   "metadata": {},
   "outputs": [],
   "source": [
    "import numpy as np\n",
    "import seaborn as sns\n",
    "import matplotlib.pyplot as plt\n",
    "import random\n",
    "%matplotlib inline"
   ]
  },
  {
   "cell_type": "code",
   "execution_count": 10,
   "metadata": {},
   "outputs": [],
   "source": [
    "def initialize_map(p_zero, N):\n",
    "    # first thing is to create the map that you're trying to navigate.  I will do this randomly.\n",
    "    # This will be of the form of a adjacency matrix...\n",
    "    # In other words, an NxN matrix where each row and column correspond to an intersection on a map\n",
    "    # X_ij, then is equal to the amount of time that it takes to get from position i to position j\n",
    "    # could also be considered a distance measure... but whatever is easier to think about.\n",
    "    # practically, then we need a matrix that has numeric values in it... \n",
    "    # there should be some paths that don't exist.  I will assign these a 0.  \n",
    "    # For instance, if you can't get directly from i to j, then X_ij = 0\n",
    "    \n",
    "    # The initialization needs some tuning parameters.  One is the proportion of 0's in the final result\n",
    "    \n",
    "    the_map = np.zeros((N,N))\n",
    "    \n",
    "    for i in range(0, N):\n",
    "        for j in range(0, i):\n",
    "            if random.random() > p_zero:\n",
    "                the_map[i][j] = random.random()\n",
    "                the_map[j][i] = the_map[i][j]\n",
    "                \n",
    "    return the_map"
   ]
  },
  {
   "cell_type": "code",
   "execution_count": 11,
   "metadata": {},
   "outputs": [],
   "source": [
    "# Let's make a more complicated map that has at least 10 stops that have to be made and see what happens.\n",
    "\n",
    "def initialize_complex_map(p_zero, N, groups):\n",
    "\n",
    "    the_map = np.zeros((N,N))\n",
    "    \n",
    "    for i in range(0, N):\n",
    "        for j in range(0, i):\n",
    "            group_i = int(i/(N/groups))\n",
    "            group_j = int(j/(N/groups))\n",
    "            \n",
    "            if random.random() > p_zero and abs(group_i - group_j) <= 1:\n",
    "                the_map[i][j] = random.random()\n",
    "                the_map[j][i] = the_map[i][j]\n",
    "          \n",
    "        \n",
    "    ax = sns.heatmap(the_map)\n",
    "\n",
    "    plt.show()\n",
    "        \n",
    "    return the_map"
   ]
  },
  {
   "cell_type": "code",
   "execution_count": 3,
   "metadata": {},
   "outputs": [],
   "source": [
    "def fitness(route, the_map):\n",
    "    \n",
    "    score = 0\n",
    "    \n",
    "    for i in range(1, len(route)):\n",
    "        if (the_map[route[i-1]][route[i]] == 0) and i != len(the_map)-1:\n",
    "            print(\"WARNING: INVALID ROUTE\")\n",
    "            print(route)\n",
    "            print(the_map)\n",
    "        score = score + the_map[route[i-1]][route[i]]\n",
    "\n",
    "    return score"
   ]
  },
  {
   "cell_type": "code",
   "execution_count": 4,
   "metadata": {},
   "outputs": [],
   "source": [
    "def crossover(a, b):\n",
    "        \n",
    "    # I initially made an error here by allowing routes to crossover at any point, which obviously won't work\n",
    "    # you have to insure that when the two routes cross over that the resulting routes produce a valid route\n",
    "    # which means that crossover points have to be at the same position value on the map\n",
    "    \n",
    "    common_elements = set(a) & set(b)\n",
    "    \n",
    "    if len(common_elements) == 2:\n",
    "        return (a, b)\n",
    "    else:\n",
    "        common_elements.remove(0)\n",
    "        common_elements.remove(max(a)) \n",
    "        value = random.sample(common_elements, 1)        \n",
    "    \n",
    "    cut_a = np.random.choice(np.where(np.isin(a, value))[0])\n",
    "    cut_b = np.random.choice(np.where(np.isin(b, value))[0])\n",
    "    \n",
    "    new_a1 = copy.deepcopy(a[0:cut_a])\n",
    "    new_a2 = copy.deepcopy(b[cut_b:])\n",
    "    \n",
    "    new_b1 = copy.deepcopy(b[0:cut_b])\n",
    "    new_b2 = copy.deepcopy(a[cut_a:])\n",
    "    \n",
    "    new_a = np.append(new_a1, new_a2)\n",
    "    new_b = np.append(new_b1, new_b2)\n",
    "       \n",
    "    return (new_a, new_b)"
   ]
  },
  {
   "cell_type": "code",
   "execution_count": 5,
   "metadata": {},
   "outputs": [],
   "source": [
    "def mutate(route, probability, the_map):\n",
    "    \n",
    "    #in mutation we reroll the route\n",
    "    \n",
    "    new_route = copy.deepcopy(route)\n",
    "    \n",
    "    for i in range(1, len(new_route)):\n",
    "        if random.random() < probability:\n",
    "            \n",
    "            go = True\n",
    "\n",
    "            while go:\n",
    "\n",
    "                possible_values = np.nonzero(the_map[new_route[i-1]])\n",
    "                proposed_value = random.randint(0,len(possible_values[0])-1)\n",
    "                route = np.append(new_route, possible_values[0][proposed_value])\n",
    "\n",
    "                if new_route[i] == len(the_map)-1:\n",
    "                    go = False\n",
    "                else:\n",
    "                    i += 1\n",
    "    \n",
    "    return new_route"
   ]
  },
  {
   "cell_type": "code",
   "execution_count": 27,
   "metadata": {},
   "outputs": [],
   "source": [
    "def create_new_member(the_map):\n",
    "    # here we are going to create a new route\n",
    "    # the new route can have any number of steps, so we'll select that randomly\n",
    "    # the structure of the route will be a vector of integers where each value is the next step in the route\n",
    "    # Everyone starts at 0, so the first value in the vector will indicate where to attempt to go next.\n",
    "    # That is, if v_i = 4, then that would correspond to X_0,4 in the map that was created at initialization\n",
    "    \n",
    "    # N is the size of the map, so we need to make sure that \n",
    "    # we don't generate any values that exceed the size of the map\n",
    "\n",
    "    N = len(the_map)\n",
    "    \n",
    "    route = np.zeros(1, dtype=int)\n",
    "\n",
    "    go = True\n",
    "    \n",
    "    i = 1\n",
    "    \n",
    "    while go:\n",
    "        \n",
    "        possible_values = np.nonzero(the_map[route[i-1]])\n",
    "        proposed_value = random.randint(0,len(possible_values[0])-1)\n",
    "        route = np.append(route, possible_values[0][proposed_value])\n",
    "                \n",
    "        if route[i] == N-1:\n",
    "            go = False\n",
    "        else:\n",
    "            i += 1\n",
    "    \n",
    "    return route"
   ]
  },
  {
   "cell_type": "code",
   "execution_count": 25,
   "metadata": {},
   "outputs": [],
   "source": [
    "def create_starting_population(size, the_map):\n",
    "    \n",
    "    #this just creates a population of different routes of a fixed size.  Pretty straightforward.\n",
    "    \n",
    "    population = []\n",
    "    \n",
    "    for i in range(0,size):\n",
    "        population.append(create_new_member(the_map))\n",
    "        \n",
    "    return population"
   ]
  },
  {
   "cell_type": "code",
   "execution_count": 8,
   "metadata": {},
   "outputs": [],
   "source": [
    "def score_population(population, the_map):\n",
    "    \n",
    "    scores = []\n",
    "    \n",
    "    for i in range(0, len(population)):\n",
    "        scores += [fitness(population[i], the_map)]\n",
    "        \n",
    "    return scores"
   ]
  },
  {
   "cell_type": "code",
   "execution_count": 9,
   "metadata": {},
   "outputs": [],
   "source": [
    "def pick_mate(scores):\n",
    "\n",
    "    array = np.array(scores)\n",
    "    temp = array.argsort()\n",
    "    ranks = np.empty_like(temp)\n",
    "    ranks[temp] = np.arange(len(array))\n",
    "\n",
    "    fitness = [len(ranks) - x for x in ranks]\n",
    "    \n",
    "    cum_scores = copy.deepcopy(fitness)\n",
    "    \n",
    "    for i in range(1,len(cum_scores)):\n",
    "        cum_scores[i] = fitness[i] + cum_scores[i-1]\n",
    "        \n",
    "    probs = [x / cum_scores[-1] for x in cum_scores]\n",
    "    \n",
    "    rand = random.random()\n",
    "    \n",
    "    for i in range(0, len(probs)):\n",
    "        if rand < probs[i]:\n",
    "            \n",
    "            return i"
   ]
  },
  {
   "cell_type": "code",
   "execution_count": 14,
   "metadata": {},
   "outputs": [],
   "source": [
    "def main():\n",
    "    \n",
    "    # parameters\n",
    "    sparseness_of_map = 0.95\n",
    "    size_of_map = 1000\n",
    "    population_size = 30\n",
    "    number_of_iterations = 1000\n",
    "    number_of_couples = 9\n",
    "    number_of_winners_to_keep = 2\n",
    "    mutation_probability = 0.05\n",
    "    number_of_groups = 1\n",
    "    \n",
    "    # initialize the map and save it\n",
    "    the_map = initialize_complex_map(sparseness_of_map, size_of_map, number_of_groups)\n",
    "\n",
    "    # create the starting population\n",
    "    population = create_starting_population(population_size, the_map)\n",
    "\n",
    "    last_distance = 1000000000\n",
    "    # for a large number of iterations do:\n",
    "        \n",
    "    for i in range(0,number_of_iterations):\n",
    "        new_population = []\n",
    "        \n",
    "        # evaluate the fitness of the current population\n",
    "        scores = score_population(population, the_map)\n",
    "\n",
    "        best = population[np.argmin(scores)]\n",
    "        number_of_moves = len(best)\n",
    "        distance = fitness(best, the_map)\n",
    "        \n",
    "        if distance != last_distance:\n",
    "            print('Iteration %i: Best so far is %i steps for a distance of %f' % (i, number_of_moves, distance))\n",
    "            plot_best(the_map, best, i)\n",
    "\n",
    "        \n",
    "        # allow members of the population to breed based on their relative score; \n",
    "            # i.e., if their score is higher they're more likely to breed\n",
    "        for j in range(0, number_of_couples):  \n",
    "            new_1, new_2 = crossover(population[pick_mate(scores)], population[pick_mate(scores)])\n",
    "            new_population = new_population + [new_1, new_2]\n",
    "  \n",
    "        # mutate\n",
    "        for j in range(0, len(new_population)):\n",
    "            new_population[j] = np.copy(mutate(new_population[j], 0.05, the_map))\n",
    "            \n",
    "        # keep members of previous generation\n",
    "        new_population += [population[np.argmin(scores)]]\n",
    "        for j in range(1, number_of_winners_to_keep):\n",
    "            keeper = pick_mate(scores)            \n",
    "            new_population += [population[keeper]]\n",
    "            \n",
    "        # add new random members\n",
    "        while len(new_population) < population_size:\n",
    "            new_population += [create_new_member(the_map)]\n",
    "            \n",
    "        #replace the old population with a real copy\n",
    "        population = copy.deepcopy(new_population)\n",
    "                \n",
    "        last_distance = distance\n",
    "        \n",
    "    # plot the results"
   ]
  },
  {
   "cell_type": "code",
   "execution_count": 12,
   "metadata": {},
   "outputs": [],
   "source": [
    "def plot_best(the_map, route, iteration_number):\n",
    "    ax = sns.heatmap(the_map)\n",
    "\n",
    "    x=[0.5] + [x + 0.5 for x in route[0:len(route)-1]] + [len(the_map) - 0.5]\n",
    "    y=[0.5] + [x + 0.5 for x in route[1:len(route)]] + [len(the_map) - 0.5]\n",
    "    \n",
    "    plt.plot(x, y, marker = 'o', linewidth=4, markersize=12, linestyle = \"-\", color='white')\n",
    "    plt.savefig('images/new1000plot_%i.png' %(iteration_number), dpi=300)\n",
    "    plt.show()"
   ]
  },
  {
   "cell_type": "code",
   "execution_count": 28,
   "metadata": {},
   "outputs": [
    {
     "data": {
      "image/png": "[encoded data removed]",
      "text/plain": [
       "<Figure size 432x288 with 2 Axes>"
      ]
     },
     "metadata": {},
     "output_type": "display_data"
    },
    {
     "ename": "TypeError",
     "evalue": "tuple indices must be integers or slices, not tuple",
     "output_type": "error",
     "traceback": [
      "\u001b[1;31m---------------------------------------------------------------------------\u001b[0m",
      "\u001b[1;31mTypeError\u001b[0m                                 Traceback (most recent call last)",
      "\u001b[1;32m<ipython-input-28-263240bbee7e>\u001b[0m in \u001b[0;36m<module>\u001b[1;34m()\u001b[0m\n\u001b[1;32m----> 1\u001b[1;33m \u001b[0mmain\u001b[0m\u001b[1;33m(\u001b[0m\u001b[1;33m)\u001b[0m\u001b[1;33m\u001b[0m\u001b[0m\n\u001b[0m",
      "\u001b[1;32m<ipython-input-14-55f6bf9f3fa0>\u001b[0m in \u001b[0;36mmain\u001b[1;34m()\u001b[0m\n\u001b[0;32m     15\u001b[0m \u001b[1;33m\u001b[0m\u001b[0m\n\u001b[0;32m     16\u001b[0m     \u001b[1;31m# create the starting population\u001b[0m\u001b[1;33m\u001b[0m\u001b[1;33m\u001b[0m\u001b[0m\n\u001b[1;32m---> 17\u001b[1;33m     \u001b[0mpopulation\u001b[0m \u001b[1;33m=\u001b[0m \u001b[0mcreate_starting_population\u001b[0m\u001b[1;33m(\u001b[0m\u001b[0mpopulation_size\u001b[0m\u001b[1;33m,\u001b[0m \u001b[0mthe_map\u001b[0m\u001b[1;33m)\u001b[0m\u001b[1;33m\u001b[0m\u001b[0m\n\u001b[0m\u001b[0;32m     18\u001b[0m \u001b[1;33m\u001b[0m\u001b[0m\n\u001b[0;32m     19\u001b[0m     \u001b[0mlast_distance\u001b[0m \u001b[1;33m=\u001b[0m \u001b[1;36m1000000000\u001b[0m\u001b[1;33m\u001b[0m\u001b[0m\n",
      "\u001b[1;32m<ipython-input-25-dd1c433f2d61>\u001b[0m in \u001b[0;36mcreate_starting_population\u001b[1;34m(size, the_map)\u001b[0m\n\u001b[0;32m      6\u001b[0m \u001b[1;33m\u001b[0m\u001b[0m\n\u001b[0;32m      7\u001b[0m     \u001b[1;32mfor\u001b[0m \u001b[0mi\u001b[0m \u001b[1;32min\u001b[0m \u001b[0mrange\u001b[0m\u001b[1;33m(\u001b[0m\u001b[1;36m0\u001b[0m\u001b[1;33m,\u001b[0m\u001b[0msize\u001b[0m\u001b[1;33m)\u001b[0m\u001b[1;33m:\u001b[0m\u001b[1;33m\u001b[0m\u001b[0m\n\u001b[1;32m----> 8\u001b[1;33m         \u001b[0mpopulation\u001b[0m\u001b[1;33m.\u001b[0m\u001b[0mappend\u001b[0m\u001b[1;33m(\u001b[0m\u001b[0mcreate_new_member\u001b[0m\u001b[1;33m(\u001b[0m\u001b[0mthe_map\u001b[0m\u001b[1;33m)\u001b[0m\u001b[1;33m)\u001b[0m\u001b[1;33m\u001b[0m\u001b[0m\n\u001b[0m\u001b[0;32m      9\u001b[0m \u001b[1;33m\u001b[0m\u001b[0m\n\u001b[0;32m     10\u001b[0m     \u001b[1;32mreturn\u001b[0m \u001b[0mpopulation\u001b[0m\u001b[1;33m\u001b[0m\u001b[0m\n",
      "\u001b[1;32m<ipython-input-27-a9fa5eafeb48>\u001b[0m in \u001b[0;36mcreate_new_member\u001b[1;34m(the_map)\u001b[0m\n\u001b[0;32m     13\u001b[0m         \u001b[0mpossible_values\u001b[0m \u001b[1;33m=\u001b[0m \u001b[0mnp\u001b[0m\u001b[1;33m.\u001b[0m\u001b[0mnonzero\u001b[0m\u001b[1;33m(\u001b[0m\u001b[0mthe_map\u001b[0m\u001b[1;33m[\u001b[0m\u001b[0mroute\u001b[0m\u001b[1;33m[\u001b[0m\u001b[0mi\u001b[0m\u001b[1;33m-\u001b[0m\u001b[1;36m1\u001b[0m\u001b[1;33m]\u001b[0m\u001b[1;33m]\u001b[0m\u001b[1;33m)\u001b[0m\u001b[1;33m\u001b[0m\u001b[0m\n\u001b[0;32m     14\u001b[0m         \u001b[0mproposed_value\u001b[0m \u001b[1;33m=\u001b[0m \u001b[0mrandom\u001b[0m\u001b[1;33m.\u001b[0m\u001b[0mrandint\u001b[0m\u001b[1;33m(\u001b[0m\u001b[1;36m0\u001b[0m\u001b[1;33m,\u001b[0m \u001b[0mlen\u001b[0m\u001b[1;33m(\u001b[0m\u001b[0mpossible_values\u001b[0m\u001b[1;33m[\u001b[0m\u001b[1;36m0\u001b[0m\u001b[1;33m]\u001b[0m\u001b[1;33m)\u001b[0m\u001b[1;33m-\u001b[0m\u001b[1;36m1\u001b[0m\u001b[1;33m)\u001b[0m\u001b[1;33m\u001b[0m\u001b[0m\n\u001b[1;32m---> 15\u001b[1;33m         \u001b[0mroute\u001b[0m \u001b[1;33m=\u001b[0m \u001b[0mnp\u001b[0m\u001b[1;33m.\u001b[0m\u001b[0mappend\u001b[0m\u001b[1;33m(\u001b[0m\u001b[0mroute\u001b[0m\u001b[1;33m,\u001b[0m \u001b[0mpossible_values\u001b[0m\u001b[1;33m[\u001b[0m\u001b[1;36m0\u001b[0m\u001b[1;33m,\u001b[0m\u001b[0mproposed_value\u001b[0m\u001b[1;33m]\u001b[0m\u001b[1;33m)\u001b[0m\u001b[1;33m\u001b[0m\u001b[0m\n\u001b[0m\u001b[0;32m     16\u001b[0m \u001b[1;33m\u001b[0m\u001b[0m\n\u001b[0;32m     17\u001b[0m         \u001b[1;32mif\u001b[0m \u001b[0mroute\u001b[0m\u001b[1;33m[\u001b[0m\u001b[0mi\u001b[0m\u001b[1;33m]\u001b[0m\u001b[1;33m==\u001b[0m\u001b[0mn\u001b[0m\u001b[1;33m-\u001b[0m\u001b[1;36m1\u001b[0m\u001b[1;33m:\u001b[0m\u001b[1;33m\u001b[0m\u001b[0m\n",
      "\u001b[1;31mTypeError\u001b[0m: tuple indices must be integers or slices, not tuple"
     ]
    }
   ],
   "source": [
    "main()"
   ]
  },
  {
   "cell_type": "code",
   "execution_count": null,
   "metadata": {},
   "outputs": [],
   "source": []
  }
 ],
 "metadata": {
  "kernelspec": {
   "display_name": "Python 3",
   "language": "python",
   "name": "python3"
  },
  "language_info": {
   "codemirror_mode": {
    "name": "ipython",
    "version": 3
   },
   "file_extension": ".py",
   "mimetype": "text/x-python",
   "name": "python",
   "nbconvert_exporter": "python",
   "pygments_lexer": "ipython3",
   "version": "3.6.5"
  }
 },
 "nbformat": 4,
 "nbformat_minor": 2
}
