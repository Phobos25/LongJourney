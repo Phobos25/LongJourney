{
 "cells": [
  {
   "cell_type": "code",
   "execution_count": 1,
   "id": "2790d8f4",
   "metadata": {},
   "outputs": [],
   "source": [
    "def most_common(lst): return max(set(lst), key=lst.count)"
   ]
  },
  {
   "cell_type": "code",
   "execution_count": 3,
   "id": "b09df3e2",
   "metadata": {},
   "outputs": [
    {
     "name": "stdout",
     "output_type": "stream",
     "text": [
      "10\n",
      "1 1 1 1 1 1 1 1 1 2\n"
     ]
    }
   ],
   "source": [
    "n = input()\n",
    "a = input()"
   ]
  },
  {
   "cell_type": "code",
   "execution_count": 9,
   "id": "1853585a",
   "metadata": {},
   "outputs": [
    {
     "name": "stdout",
     "output_type": "stream",
     "text": [
      "1\n"
     ]
    }
   ],
   "source": [
    "def mostFrequent(arr, n):\n",
    " \n",
    "    # Sort the array\n",
    "    arr.sort()\n",
    " \n",
    "    # find the max frequency using\n",
    "    # linear traversal\n",
    "    max_count = 1; res = arr[0]; curr_count = 1\n",
    "     \n",
    "    for i in range(1, n):\n",
    "        if (arr[i] == arr[i - 1]):\n",
    "            curr_count += 1\n",
    "             \n",
    "        else :\n",
    "            if (curr_count > max_count):\n",
    "                max_count = curr_count\n",
    "                res = arr[i - 1]\n",
    "             \n",
    "            curr_count = 1\n",
    "     \n",
    "    # If last element is most frequent\n",
    "    if (curr_count > max_count):\n",
    "     \n",
    "        max_count = curr_count\n",
    "        res = arr[n - 1]\n",
    "     \n",
    "    return res\n",
    " "
   ]
  },
  {
   "cell_type": "code",
   "execution_count": 10,
   "id": "86ce2896",
   "metadata": {},
   "outputs": [
    {
     "name": "stdout",
     "output_type": "stream",
     "text": [
      "10\n"
     ]
    }
   ],
   "source": [
    "# Driver Code\n",
    "n = 10\n",
    "arr = [10, 6, 10, 10, 10, 10, 8, 8, 10, 9]\n",
    "\n",
    "print(mostFrequent(arr, n))"
   ]
  },
  {
   "cell_type": "markdown",
   "id": "bc9846c1",
   "metadata": {},
   "source": [
    "### Реализация графов и деревьев"
   ]
  },
  {
   "cell_type": "code",
   "execution_count": 11,
   "id": "a6c4e7dc",
   "metadata": {},
   "outputs": [],
   "source": [
    "a, b, c, d, e, f, g, h = range(8)\n",
    "N = [\n",
    "    {b, c, d, e, f}, # a\n",
    "    {c, e}, # b\n",
    "    {d}, # c\n",
    "    {e}, # d\n",
    "    {f}, # e\n",
    "    {c, g, h}, # f\n",
    "    {f, h}, # g\n",
    "    {f, g} # h\n",
    "]"
   ]
  },
  {
   "cell_type": "code",
   "execution_count": 21,
   "id": "df7d6fa7",
   "metadata": {},
   "outputs": [
    {
     "data": {
      "text/plain": [
       "True"
      ]
     },
     "execution_count": 21,
     "metadata": {},
     "output_type": "execute_result"
    }
   ],
   "source": [
    "h in N[f] # можно ли из вершины перейти"
   ]
  },
  {
   "cell_type": "code",
   "execution_count": 23,
   "id": "3841374b",
   "metadata": {
    "scrolled": true
   },
   "outputs": [
    {
     "data": {
      "text/plain": [
       "5"
      ]
     },
     "execution_count": 23,
     "metadata": {},
     "output_type": "execute_result"
    }
   ],
   "source": [
    "len(N[a])"
   ]
  },
  {
   "cell_type": "code",
   "execution_count": 26,
   "id": "664c0023",
   "metadata": {},
   "outputs": [],
   "source": [
    "n = 9\n",
    "arr = [0, 3, 0, 1, 2, 1, 3, 1, 0]"
   ]
  },
  {
   "cell_type": "code",
   "execution_count": 27,
   "id": "953d176d",
   "metadata": {},
   "outputs": [],
   "source": [
    "n = int(n)\n",
    "d = []\n",
    "for i in range(n):\n",
    "    d.append(int(arr[i]))"
   ]
  },
  {
   "cell_type": "code",
   "execution_count": 28,
   "id": "5d4b22aa",
   "metadata": {},
   "outputs": [
    {
     "name": "stdout",
     "output_type": "stream",
     "text": [
      "0\n",
      "3\n",
      "0\n",
      "1\n",
      "2\n",
      "1\n",
      "3\n",
      "1\n",
      "0\n"
     ]
    }
   ],
   "source": [
    "for i in range(n):\n",
    "    print(d[i])"
   ]
  },
  {
   "cell_type": "markdown",
   "id": "d94a5dbd",
   "metadata": {},
   "source": [
    "### Задача на анализ данных"
   ]
  },
  {
   "cell_type": "code",
   "execution_count": 2,
   "id": "13b1dbc6",
   "metadata": {},
   "outputs": [],
   "source": [
    "import pandas as pd\n",
    "import numpy as np\n",
    "import os"
   ]
  },
  {
   "cell_type": "code",
   "execution_count": 18,
   "id": "569b61e0",
   "metadata": {},
   "outputs": [
    {
     "data": {
      "text/html": [
       "<div>\n",
       "<style scoped>\n",
       "    .dataframe tbody tr th:only-of-type {\n",
       "        vertical-align: middle;\n",
       "    }\n",
       "\n",
       "    .dataframe tbody tr th {\n",
       "        vertical-align: top;\n",
       "    }\n",
       "\n",
       "    .dataframe thead th {\n",
       "        text-align: right;\n",
       "    }\n",
       "</style>\n",
       "<table border=\"1\" class=\"dataframe\">\n",
       "  <thead>\n",
       "    <tr style=\"text-align: right;\">\n",
       "      <th></th>\n",
       "      <th>0</th>\n",
       "      <th>1</th>\n",
       "      <th>2</th>\n",
       "      <th>3</th>\n",
       "      <th>4</th>\n",
       "      <th>5</th>\n",
       "      <th>6</th>\n",
       "      <th>7</th>\n",
       "      <th>8</th>\n",
       "      <th>9</th>\n",
       "      <th>10</th>\n",
       "    </tr>\n",
       "  </thead>\n",
       "  <tbody>\n",
       "    <tr>\n",
       "      <th>0</th>\n",
       "      <td>0.655968525404552</td>\n",
       "      <td>2.0</td>\n",
       "      <td>6.0</td>\n",
       "      <td>-0.032833673646417205</td>\n",
       "      <td>-4.062045264897834</td>\n",
       "      <td>12.064858107915615</td>\n",
       "      <td>-4.632454</td>\n",
       "      <td>-1.0</td>\n",
       "      <td>4.0</td>\n",
       "      <td>1.0</td>\n",
       "      <td>0</td>\n",
       "    </tr>\n",
       "    <tr>\n",
       "      <th>1</th>\n",
       "      <td>10.199211979664126</td>\n",
       "      <td>1.0</td>\n",
       "      <td>2.0</td>\n",
       "      <td>1.351357995650444</td>\n",
       "      <td>-3.5717621073746653</td>\n",
       "      <td>9.89244646012535</td>\n",
       "      <td>-1.005013</td>\n",
       "      <td>1.0</td>\n",
       "      <td>1.0</td>\n",
       "      <td>2.0</td>\n",
       "      <td>0</td>\n",
       "    </tr>\n",
       "    <tr>\n",
       "      <th>2</th>\n",
       "      <td>0.007215371684138306</td>\n",
       "      <td>1.0</td>\n",
       "      <td>10.0</td>\n",
       "      <td>-1.4884445239973123</td>\n",
       "      <td>-3.9464790108710197</td>\n",
       "      <td>10.513220799618184</td>\n",
       "      <td>-8.979408</td>\n",
       "      <td>0.0</td>\n",
       "      <td>3.0</td>\n",
       "      <td>3.0</td>\n",
       "      <td>0</td>\n",
       "    </tr>\n",
       "    <tr>\n",
       "      <th>3</th>\n",
       "      <td>0.25743120934008346</td>\n",
       "      <td>1.0</td>\n",
       "      <td>9.0</td>\n",
       "      <td>-1.5231538101794566</td>\n",
       "      <td>-4.4502335354549425</td>\n",
       "      <td>11.798010557567801</td>\n",
       "      <td>-6.217044</td>\n",
       "      <td>0.0</td>\n",
       "      <td>6.0</td>\n",
       "      <td>4.0</td>\n",
       "      <td>0</td>\n",
       "    </tr>\n",
       "    <tr>\n",
       "      <th>4</th>\n",
       "      <td>2.871536319644719</td>\n",
       "      <td>2.0</td>\n",
       "      <td>4.0</td>\n",
       "      <td>-0.5324727856834761</td>\n",
       "      <td>-3.4844525300735434</td>\n",
       "      <td>12.500063315341055</td>\n",
       "      <td>-3.503076</td>\n",
       "      <td>-1.0</td>\n",
       "      <td>15.0</td>\n",
       "      <td>5.0</td>\n",
       "      <td>0</td>\n",
       "    </tr>\n",
       "  </tbody>\n",
       "</table>\n",
       "</div>"
      ],
      "text/plain": [
       "                      0    1     2                      3  \\\n",
       "0     0.655968525404552  2.0   6.0  -0.032833673646417205   \n",
       "1    10.199211979664126  1.0   2.0      1.351357995650444   \n",
       "2  0.007215371684138306  1.0  10.0    -1.4884445239973123   \n",
       "3   0.25743120934008346  1.0   9.0    -1.5231538101794566   \n",
       "4     2.871536319644719  2.0   4.0    -0.5324727856834761   \n",
       "\n",
       "                     4                   5         6     7     8    9  10  \n",
       "0   -4.062045264897834  12.064858107915615 -4.632454  -1.0   4.0  1.0   0  \n",
       "1  -3.5717621073746653    9.89244646012535 -1.005013   1.0   1.0  2.0   0  \n",
       "2  -3.9464790108710197  10.513220799618184 -8.979408   0.0   3.0  3.0   0  \n",
       "3  -4.4502335354549425  11.798010557567801 -6.217044   0.0   6.0  4.0   0  \n",
       "4  -3.4844525300735434  12.500063315341055 -3.503076  -1.0  15.0  5.0   0  "
      ]
     },
     "execution_count": 18,
     "metadata": {},
     "output_type": "execute_result"
    }
   ],
   "source": [
    "pathname = os.path.join(\"data\", \"spoiled_data.csv\")\n",
    "\n",
    "data = pd.read_csv(pathname, index_col=0)\n",
    "data.head()"
   ]
  },
  {
   "cell_type": "code",
   "execution_count": 78,
   "id": "0f22d7e7",
   "metadata": {},
   "outputs": [
    {
     "data": {
      "text/html": [
       "<div>\n",
       "<style scoped>\n",
       "    .dataframe tbody tr th:only-of-type {\n",
       "        vertical-align: middle;\n",
       "    }\n",
       "\n",
       "    .dataframe tbody tr th {\n",
       "        vertical-align: top;\n",
       "    }\n",
       "\n",
       "    .dataframe thead th {\n",
       "        text-align: right;\n",
       "    }\n",
       "</style>\n",
       "<table border=\"1\" class=\"dataframe\">\n",
       "  <thead>\n",
       "    <tr style=\"text-align: right;\">\n",
       "      <th></th>\n",
       "      <th>0</th>\n",
       "      <th>1</th>\n",
       "      <th>2</th>\n",
       "      <th>3</th>\n",
       "      <th>4</th>\n",
       "      <th>5</th>\n",
       "      <th>6</th>\n",
       "      <th>7</th>\n",
       "      <th>8</th>\n",
       "      <th>9</th>\n",
       "      <th>10</th>\n",
       "    </tr>\n",
       "  </thead>\n",
       "  <tbody>\n",
       "    <tr>\n",
       "      <th>1585</th>\n",
       "      <td>-</td>\n",
       "      <td>-</td>\n",
       "      <td>5.0</td>\n",
       "      <td>0.17723993863393606</td>\n",
       "      <td>-</td>\n",
       "      <td>9.90018886549262</td>\n",
       "      <td>-3.803903</td>\n",
       "      <td>-1.0</td>\n",
       "      <td>0.0</td>\n",
       "      <td>1.0</td>\n",
       "      <td>8</td>\n",
       "    </tr>\n",
       "    <tr>\n",
       "      <th>1586</th>\n",
       "      <td>0.04667945495505864</td>\n",
       "      <td>-</td>\n",
       "      <td>10.0</td>\n",
       "      <td>-</td>\n",
       "      <td>-</td>\n",
       "      <td>-</td>\n",
       "      <td>-8.715818</td>\n",
       "      <td>0.0</td>\n",
       "      <td>0.0</td>\n",
       "      <td>2.0</td>\n",
       "      <td>8</td>\n",
       "    </tr>\n",
       "    <tr>\n",
       "      <th>1587</th>\n",
       "      <td>-</td>\n",
       "      <td>2.0</td>\n",
       "      <td>5.0</td>\n",
       "      <td>-1.1260640196914773</td>\n",
       "      <td>-3.67909491943822</td>\n",
       "      <td>-</td>\n",
       "      <td>-3.687618</td>\n",
       "      <td>-1.0</td>\n",
       "      <td>4.0</td>\n",
       "      <td>3.0</td>\n",
       "      <td>8</td>\n",
       "    </tr>\n",
       "    <tr>\n",
       "      <th>1588</th>\n",
       "      <td>1.0484621681558046</td>\n",
       "      <td>2.0</td>\n",
       "      <td>7.0</td>\n",
       "      <td>2.2135076634427557</td>\n",
       "      <td>-</td>\n",
       "      <td>-</td>\n",
       "      <td>-4.917433</td>\n",
       "      <td>-</td>\n",
       "      <td>0.0</td>\n",
       "      <td>4.0</td>\n",
       "      <td>8</td>\n",
       "    </tr>\n",
       "    <tr>\n",
       "      <th>1589</th>\n",
       "      <td>-</td>\n",
       "      <td>-</td>\n",
       "      <td>10.0</td>\n",
       "      <td>-1.5941691518602998</td>\n",
       "      <td>-</td>\n",
       "      <td>11.878856702666639</td>\n",
       "      <td>-8.857871</td>\n",
       "      <td>0.0</td>\n",
       "      <td>5.0</td>\n",
       "      <td>5.0</td>\n",
       "      <td>8</td>\n",
       "    </tr>\n",
       "    <tr>\n",
       "      <th>...</th>\n",
       "      <td>...</td>\n",
       "      <td>...</td>\n",
       "      <td>...</td>\n",
       "      <td>...</td>\n",
       "      <td>...</td>\n",
       "      <td>...</td>\n",
       "      <td>...</td>\n",
       "      <td>...</td>\n",
       "      <td>...</td>\n",
       "      <td>...</td>\n",
       "      <td>...</td>\n",
       "    </tr>\n",
       "    <tr>\n",
       "      <th>1980</th>\n",
       "      <td>-</td>\n",
       "      <td>-</td>\n",
       "      <td>6.0</td>\n",
       "      <td>-</td>\n",
       "      <td>-3.413403537162727</td>\n",
       "      <td>-</td>\n",
       "      <td>-4.764454</td>\n",
       "      <td>-1.0</td>\n",
       "      <td>0.0</td>\n",
       "      <td>396.0</td>\n",
       "      <td>8</td>\n",
       "    </tr>\n",
       "    <tr>\n",
       "      <th>1981</th>\n",
       "      <td>-</td>\n",
       "      <td>-</td>\n",
       "      <td>6.0</td>\n",
       "      <td>-</td>\n",
       "      <td>-2.6799952465108072</td>\n",
       "      <td>-</td>\n",
       "      <td>-4.412096</td>\n",
       "      <td>-</td>\n",
       "      <td>1.0</td>\n",
       "      <td>397.0</td>\n",
       "      <td>8</td>\n",
       "    </tr>\n",
       "    <tr>\n",
       "      <th>1982</th>\n",
       "      <td>-</td>\n",
       "      <td>2.0</td>\n",
       "      <td>3.0</td>\n",
       "      <td>3.42716656147861</td>\n",
       "      <td>-4.135475767160339</td>\n",
       "      <td>9.380876239640518</td>\n",
       "      <td>-2.789733</td>\n",
       "      <td>-</td>\n",
       "      <td>1.0</td>\n",
       "      <td>398.0</td>\n",
       "      <td>8</td>\n",
       "    </tr>\n",
       "    <tr>\n",
       "      <th>1983</th>\n",
       "      <td>0.20356316785974118</td>\n",
       "      <td>1.0</td>\n",
       "      <td>10.0</td>\n",
       "      <td>-</td>\n",
       "      <td>-3.8854017204028675</td>\n",
       "      <td>10.95539932392784</td>\n",
       "      <td>-6.762878</td>\n",
       "      <td>-</td>\n",
       "      <td>2.0</td>\n",
       "      <td>399.0</td>\n",
       "      <td>8</td>\n",
       "    </tr>\n",
       "    <tr>\n",
       "      <th>1984</th>\n",
       "      <td>-</td>\n",
       "      <td>-</td>\n",
       "      <td>2.0</td>\n",
       "      <td>-</td>\n",
       "      <td>-3.2881173199677454</td>\n",
       "      <td>-</td>\n",
       "      <td>-1.127238</td>\n",
       "      <td>1.0</td>\n",
       "      <td>1.0</td>\n",
       "      <td>400.0</td>\n",
       "      <td>8</td>\n",
       "    </tr>\n",
       "  </tbody>\n",
       "</table>\n",
       "<p>400 rows × 11 columns</p>\n",
       "</div>"
      ],
      "text/plain": [
       "                        0    1     2                    3  \\\n",
       "1585                    -    -   5.0  0.17723993863393606   \n",
       "1586  0.04667945495505864    -  10.0                    -   \n",
       "1587                    -  2.0   5.0  -1.1260640196914773   \n",
       "1588   1.0484621681558046  2.0   7.0   2.2135076634427557   \n",
       "1589                    -    -  10.0  -1.5941691518602998   \n",
       "...                   ...  ...   ...                  ...   \n",
       "1980                    -    -   6.0                    -   \n",
       "1981                    -    -   6.0                    -   \n",
       "1982                    -  2.0   3.0     3.42716656147861   \n",
       "1983  0.20356316785974118  1.0  10.0                    -   \n",
       "1984                    -    -   2.0                    -   \n",
       "\n",
       "                        4                   5         6     7    8      9  10  \n",
       "1585                    -    9.90018886549262 -3.803903  -1.0  0.0    1.0   8  \n",
       "1586                    -                   - -8.715818   0.0  0.0    2.0   8  \n",
       "1587    -3.67909491943822                   - -3.687618  -1.0  4.0    3.0   8  \n",
       "1588                    -                   - -4.917433     -  0.0    4.0   8  \n",
       "1589                    -  11.878856702666639 -8.857871   0.0  5.0    5.0   8  \n",
       "...                   ...                 ...       ...   ...  ...    ...  ..  \n",
       "1980   -3.413403537162727                   - -4.764454  -1.0  0.0  396.0   8  \n",
       "1981  -2.6799952465108072                   - -4.412096     -  1.0  397.0   8  \n",
       "1982   -4.135475767160339   9.380876239640518 -2.789733     -  1.0  398.0   8  \n",
       "1983  -3.8854017204028675   10.95539932392784 -6.762878     -  2.0  399.0   8  \n",
       "1984  -3.2881173199677454                   - -1.127238   1.0  1.0  400.0   8  \n",
       "\n",
       "[400 rows x 11 columns]"
      ]
     },
     "execution_count": 78,
     "metadata": {},
     "output_type": "execute_result"
    }
   ],
   "source": [
    "data.loc[data['10'] == 8]"
   ]
  },
  {
   "cell_type": "code",
   "execution_count": 35,
   "id": "8565e1c9",
   "metadata": {},
   "outputs": [],
   "source": [
    "arr = np.arange(1, 181, 1.0, dtype=float)"
   ]
  },
  {
   "cell_type": "code",
   "execution_count": 53,
   "id": "9d1c5d87",
   "metadata": {},
   "outputs": [
    {
     "data": {
      "text/plain": [
       "'1.0'"
      ]
     },
     "execution_count": 53,
     "metadata": {},
     "output_type": "execute_result"
    }
   ],
   "source": [
    "data.loc[data['10'] ==8]['9'].array[0]"
   ]
  },
  {
   "cell_type": "code",
   "execution_count": 70,
   "id": "d1be3346",
   "metadata": {},
   "outputs": [
    {
     "name": "stderr",
     "output_type": "stream",
     "text": [
      "C:\\Users\\Igor\\anaconda3\\lib\\site-packages\\ipykernel_launcher.py:4: SettingWithCopyWarning: \n",
      "A value is trying to be set on a copy of a slice from a DataFrame.\n",
      "Try using .loc[row_indexer,col_indexer] = value instead\n",
      "\n",
      "See the caveats in the documentation: https://pandas.pydata.org/pandas-docs/stable/user_guide/indexing.html#returning-a-view-versus-a-copy\n",
      "  after removing the cwd from sys.path.\n"
     ]
    }
   ],
   "source": [
    "#выглядит как нумерация от 1 до 400\n",
    "N = len(data[data['10'] == 8]['9'])\n",
    "arr = np.arange(1, N+1, 1.0, dtype=float)\n",
    "data[data['10'] == 8]['9'] = arr"
   ]
  },
  {
   "cell_type": "code",
   "execution_count": 75,
   "id": "c434a6ed",
   "metadata": {},
   "outputs": [],
   "source": [
    "#вот так меняем значения. Хотя наверное лучше не хардкодить, такие значения.\n",
    "data.loc[1585:, '9'] = arr"
   ]
  },
  {
   "cell_type": "code",
   "execution_count": 77,
   "id": "b5068d3b",
   "metadata": {},
   "outputs": [
    {
     "data": {
      "text/plain": [
       "<PandasArray>\n",
       "[  1.0,   2.0,   3.0,   4.0,   5.0,   6.0,   7.0,   8.0,   9.0,  10.0,\n",
       " ...\n",
       " 391.0, 392.0, 393.0, 394.0, 395.0, 396.0, 397.0, 398.0, 399.0, 400.0]\n",
       "Length: 400, dtype: object"
      ]
     },
     "execution_count": 77,
     "metadata": {},
     "output_type": "execute_result"
    }
   ],
   "source": [
    "data.loc[1585:, '9'].array"
   ]
  },
  {
   "cell_type": "markdown",
   "id": "1230a5b2",
   "metadata": {},
   "source": [
    "#### TODO\n",
    "Надо посмотреть, как обнаружить отсутствующие данные, т.е. на самом деле мне надо просто заменить все \"-\" на NaN и поискать где NaN. Чтобы прямо вывел значения стобцов. Чтобы не искать их вручную. По моему в работе по титанику я что-то подобное делал.\n",
    "\n",
    "Посмотри, вспомни. Все таки титаник я делал год назад. Прошлым летом. Основательно подзабыл видимо"
   ]
  },
  {
   "cell_type": "code",
   "execution_count": null,
   "id": "cdd616e5",
   "metadata": {},
   "outputs": [],
   "source": []
  }
 ],
 "metadata": {
  "kernelspec": {
   "display_name": "Python 3",
   "language": "python",
   "name": "python3"
  },
  "language_info": {
   "codemirror_mode": {
    "name": "ipython",
    "version": 3
   },
   "file_extension": ".py",
   "mimetype": "text/x-python",
   "name": "python",
   "nbconvert_exporter": "python",
   "pygments_lexer": "ipython3",
   "version": "3.7.6"
  }
 },
 "nbformat": 4,
 "nbformat_minor": 5
}
