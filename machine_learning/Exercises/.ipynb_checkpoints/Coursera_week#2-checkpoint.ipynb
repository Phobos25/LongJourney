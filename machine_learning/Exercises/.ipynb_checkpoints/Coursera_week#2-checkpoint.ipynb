{
 "cells": [
  {
   "cell_type": "markdown",
   "metadata": {},
   "source": [
    "# KNN --- K nearest neighbours\n"
   ]
  },
  {
   "cell_type": "code",
   "execution_count": 1,
   "metadata": {},
   "outputs": [],
   "source": [
    "import numpy as np\n",
    "import pandas as pd"
   ]
  },
  {
   "cell_type": "code",
   "execution_count": 2,
   "metadata": {},
   "outputs": [],
   "source": [
    "from sklearn.neighbors import KNeighborsClassifier"
   ]
  },
  {
   "cell_type": "code",
   "execution_count": 3,
   "metadata": {},
   "outputs": [],
   "source": [
    "#create features column\n",
    "features = ['Classes',\n",
    "            'Alcohol',\n",
    "            'Malic acid',\n",
    "            'Ash',\n",
    "            'Alcalinity of ash',\n",
    "            'Magnesium',\n",
    "            'Total phenols',\n",
    "            'Flavanoids',\n",
    "            'Nonflavanoid phenols',\n",
    "            'Proanthocyanins',\n",
    "            'Color intensity',\n",
    "            'Hue',\n",
    "            'OD280/OD315 of diluted wines',\n",
    "            'Proline']"
   ]
  },
  {
   "cell_type": "code",
   "execution_count": 4,
   "metadata": {
    "scrolled": true
   },
   "outputs": [
    {
     "data": {
      "text/html": [
       "<div>\n",
       "<style scoped>\n",
       "    .dataframe tbody tr th:only-of-type {\n",
       "        vertical-align: middle;\n",
       "    }\n",
       "\n",
       "    .dataframe tbody tr th {\n",
       "        vertical-align: top;\n",
       "    }\n",
       "\n",
       "    .dataframe thead th {\n",
       "        text-align: right;\n",
       "    }\n",
       "</style>\n",
       "<table border=\"1\" class=\"dataframe\">\n",
       "  <thead>\n",
       "    <tr style=\"text-align: right;\">\n",
       "      <th></th>\n",
       "      <th>Classes</th>\n",
       "      <th>Alcohol</th>\n",
       "      <th>Malic acid</th>\n",
       "      <th>Ash</th>\n",
       "      <th>Alcalinity of ash</th>\n",
       "      <th>Magnesium</th>\n",
       "      <th>Total phenols</th>\n",
       "      <th>Flavanoids</th>\n",
       "      <th>Nonflavanoid phenols</th>\n",
       "      <th>Proanthocyanins</th>\n",
       "      <th>Color intensity</th>\n",
       "      <th>Hue</th>\n",
       "      <th>OD280/OD315 of diluted wines</th>\n",
       "      <th>Proline</th>\n",
       "    </tr>\n",
       "  </thead>\n",
       "  <tbody>\n",
       "    <tr>\n",
       "      <th>0</th>\n",
       "      <td>1</td>\n",
       "      <td>14.23</td>\n",
       "      <td>1.71</td>\n",
       "      <td>2.43</td>\n",
       "      <td>15.6</td>\n",
       "      <td>127</td>\n",
       "      <td>2.80</td>\n",
       "      <td>3.06</td>\n",
       "      <td>0.28</td>\n",
       "      <td>2.29</td>\n",
       "      <td>5.64</td>\n",
       "      <td>1.04</td>\n",
       "      <td>3.92</td>\n",
       "      <td>1065</td>\n",
       "    </tr>\n",
       "    <tr>\n",
       "      <th>1</th>\n",
       "      <td>1</td>\n",
       "      <td>13.20</td>\n",
       "      <td>1.78</td>\n",
       "      <td>2.14</td>\n",
       "      <td>11.2</td>\n",
       "      <td>100</td>\n",
       "      <td>2.65</td>\n",
       "      <td>2.76</td>\n",
       "      <td>0.26</td>\n",
       "      <td>1.28</td>\n",
       "      <td>4.38</td>\n",
       "      <td>1.05</td>\n",
       "      <td>3.40</td>\n",
       "      <td>1050</td>\n",
       "    </tr>\n",
       "  </tbody>\n",
       "</table>\n",
       "</div>"
      ],
      "text/plain": [
       "   Classes  Alcohol  Malic acid   Ash  Alcalinity of ash  Magnesium  \\\n",
       "0        1    14.23        1.71  2.43               15.6        127   \n",
       "1        1    13.20        1.78  2.14               11.2        100   \n",
       "\n",
       "   Total phenols  Flavanoids  Nonflavanoid phenols  Proanthocyanins  \\\n",
       "0           2.80        3.06                  0.28             2.29   \n",
       "1           2.65        2.76                  0.26             1.28   \n",
       "\n",
       "   Color intensity   Hue  OD280/OD315 of diluted wines  Proline  \n",
       "0             5.64  1.04                          3.92     1065  \n",
       "1             4.38  1.05                          3.40     1050  "
      ]
     },
     "execution_count": 4,
     "metadata": {},
     "output_type": "execute_result"
    }
   ],
   "source": [
    "#load data\n",
    "df = pd.read_csv('wine.data', header=None)\n",
    "#add columns\n",
    "df.columns = features\n",
    "df.head(2)"
   ]
  },
  {
   "cell_type": "code",
   "execution_count": 5,
   "metadata": {},
   "outputs": [],
   "source": [
    "# Classes column is our target. Only for this exercise. In real data KNN has no target\n",
    "y = df['Classes']\n",
    "# drop Classes column\n",
    "X = df.drop(['Classes'], axis=1)"
   ]
  },
  {
   "cell_type": "code",
   "execution_count": 6,
   "metadata": {},
   "outputs": [],
   "source": [
    "# we'll use kfold method to cross validate our model\n",
    "from sklearn.model_selection import KFold"
   ]
  },
  {
   "cell_type": "code",
   "execution_count": 9,
   "metadata": {},
   "outputs": [],
   "source": [
    "#import evaluation libraries\n",
    "from sklearn.model_selection import cross_val_score\n",
    "from sklearn.metrics import classification_report\n",
    "from sklearn.metrics import confusion_matrix\n",
    "from sklearn.metrics import accuracy_score"
   ]
  },
  {
   "cell_type": "code",
   "execution_count": 8,
   "metadata": {
    "scrolled": true
   },
   "outputs": [
    {
     "name": "stdout",
     "output_type": "stream",
     "text": [
      "1: 0.730476 (0.040783)\n",
      "2: 0.662540 (0.052873)\n",
      "3: 0.708254 (0.090338)\n",
      "4: 0.657778 (0.083453)\n",
      "5: 0.674603 (0.054977)\n",
      "6: 0.674286 (0.031828)\n",
      "7: 0.680000 (0.050088)\n",
      "8: 0.680000 (0.047286)\n",
      "9: 0.702381 (0.036701)\n",
      "10: 0.680159 (0.049401)\n",
      "11: 0.702540 (0.043253)\n",
      "12: 0.696667 (0.019942)\n",
      "13: 0.690952 (0.025563)\n",
      "14: 0.679365 (0.045108)\n",
      "15: 0.701905 (0.040774)\n",
      "16: 0.679524 (0.050656)\n",
      "17: 0.701587 (0.058700)\n",
      "18: 0.679524 (0.066467)\n",
      "19: 0.679365 (0.059816)\n",
      "20: 0.690952 (0.064048)\n",
      "21: 0.701905 (0.059282)\n",
      "22: 0.696508 (0.057780)\n",
      "23: 0.702063 (0.071216)\n",
      "24: 0.707619 (0.061535)\n",
      "25: 0.701905 (0.059282)\n",
      "26: 0.696508 (0.057314)\n",
      "27: 0.696349 (0.055709)\n",
      "28: 0.707937 (0.056869)\n",
      "29: 0.713492 (0.047767)\n",
      "30: 0.707937 (0.056869)\n",
      "31: 0.690952 (0.073053)\n",
      "32: 0.713492 (0.064293)\n",
      "33: 0.713492 (0.059298)\n",
      "34: 0.724603 (0.073747)\n",
      "35: 0.724603 (0.048500)\n",
      "36: 0.713492 (0.073267)\n",
      "37: 0.713492 (0.064293)\n",
      "38: 0.713492 (0.064293)\n",
      "39: 0.707937 (0.056869)\n",
      "40: 0.707778 (0.062678)\n",
      "41: 0.713492 (0.064293)\n",
      "42: 0.707778 (0.062678)\n",
      "43: 0.707778 (0.062678)\n",
      "44: 0.707778 (0.062678)\n",
      "45: 0.707778 (0.062678)\n",
      "46: 0.707778 (0.062678)\n",
      "47: 0.696667 (0.047429)\n",
      "48: 0.719048 (0.070380)\n",
      "49: 0.696667 (0.047429)\n",
      "50: 0.707778 (0.062678)\n"
     ]
    }
   ],
   "source": [
    "results = list()\n",
    "names = list()\n",
    "highest = 0\n",
    "highest_k = 0\n",
    "\n",
    "k_list = list(range(1,51))\n",
    "\n",
    "kfold = KFold(n_splits=5, random_state=42, shuffle=True)\n",
    "kfold.get_n_splits(X)\n",
    "\n",
    "for k in k_list: \n",
    "    kmeans = KNeighborsClassifier(n_neighbors=k)\n",
    "    cv_results = cross_val_score(kmeans, X, y, cv=kfold, scoring='accuracy')\n",
    "    results.append(cv_results)\n",
    "    names.append(k)\n",
    "    if cv_results.mean() > highest:\n",
    "        highest = cv_results.mean()\n",
    "        highest_k  = k\n",
    "    print('%s: %f (%f)' % (k, cv_results.mean(), cv_results.std()))"
   ]
  },
  {
   "cell_type": "code",
   "execution_count": 9,
   "metadata": {},
   "outputs": [
    {
     "name": "stdout",
     "output_type": "stream",
     "text": [
      "1: 0.730476\n"
     ]
    }
   ],
   "source": [
    "print('%s: %f' % (highest_k, highest))"
   ]
  },
  {
   "cell_type": "code",
   "execution_count": 10,
   "metadata": {},
   "outputs": [],
   "source": [
    "#подключаем библиотеку для нормировки\n",
    "from sklearn.preprocessing import scale"
   ]
  },
  {
   "cell_type": "code",
   "execution_count": 11,
   "metadata": {},
   "outputs": [],
   "source": [
    "#нормируем наши данные\n",
    "proc_X = scale(X)"
   ]
  },
  {
   "cell_type": "code",
   "execution_count": 12,
   "metadata": {},
   "outputs": [
    {
     "name": "stdout",
     "output_type": "stream",
     "text": [
      "1: 0.943968 (0.017327)\n",
      "2: 0.932857 (0.027991)\n",
      "3: 0.955079 (0.013688)\n",
      "4: 0.938254 (0.010817)\n",
      "5: 0.949365 (0.021393)\n",
      "6: 0.949524 (0.020712)\n",
      "7: 0.949524 (0.020712)\n",
      "8: 0.955238 (0.021986)\n",
      "9: 0.960794 (0.022468)\n",
      "10: 0.960794 (0.013352)\n",
      "11: 0.960952 (0.022145)\n",
      "12: 0.955238 (0.021986)\n",
      "13: 0.949524 (0.027810)\n",
      "14: 0.966349 (0.010958)\n",
      "15: 0.972063 (0.017571)\n",
      "16: 0.972063 (0.017571)\n",
      "17: 0.966508 (0.027186)\n",
      "18: 0.966508 (0.027186)\n",
      "19: 0.955397 (0.028236)\n",
      "20: 0.966508 (0.027186)\n",
      "21: 0.960952 (0.028267)\n",
      "22: 0.966508 (0.020747)\n",
      "23: 0.960952 (0.022145)\n",
      "24: 0.955238 (0.013219)\n",
      "25: 0.955238 (0.013219)\n",
      "26: 0.960794 (0.013352)\n",
      "27: 0.955238 (0.013219)\n",
      "28: 0.966349 (0.010958)\n",
      "29: 0.977619 (0.020832)\n",
      "30: 0.960794 (0.022066)\n",
      "31: 0.955238 (0.021986)\n",
      "32: 0.960794 (0.022066)\n",
      "33: 0.966349 (0.027154)\n",
      "34: 0.966349 (0.027154)\n",
      "35: 0.960794 (0.037588)\n",
      "36: 0.960794 (0.022066)\n",
      "37: 0.955238 (0.033177)\n",
      "38: 0.960794 (0.022066)\n",
      "39: 0.960794 (0.022066)\n",
      "40: 0.960794 (0.022066)\n",
      "41: 0.966349 (0.027154)\n",
      "42: 0.960794 (0.013352)\n",
      "43: 0.966349 (0.027154)\n",
      "44: 0.960635 (0.028459)\n",
      "45: 0.966349 (0.027154)\n",
      "46: 0.949524 (0.020712)\n",
      "47: 0.955079 (0.022271)\n",
      "48: 0.949524 (0.020712)\n",
      "49: 0.955079 (0.022271)\n",
      "50: 0.960635 (0.013880)\n"
     ]
    }
   ],
   "source": [
    "results = list()\n",
    "names = list()\n",
    "highest = 0\n",
    "highest_k = 0\n",
    "\n",
    "k_list = list(range(1,51))\n",
    "\n",
    "kfold = KFold(n_splits=5, random_state=42, shuffle=True)\n",
    "kfold.get_n_splits(proc_X)\n",
    "\n",
    "for k in k_list: \n",
    "    kmeans = KNeighborsClassifier(n_neighbors=k)\n",
    "    cv_results = cross_val_score(kmeans, proc_X, y, cv=kfold, scoring='accuracy')\n",
    "    results.append(cv_results)\n",
    "    names.append(k)\n",
    "    if cv_results.mean() > highest:\n",
    "        highest = cv_results.mean()\n",
    "        highest_k  = k\n",
    "    print('%s: %f (%f)' % (k, cv_results.mean(), cv_results.std()))"
   ]
  },
  {
   "cell_type": "code",
   "execution_count": 13,
   "metadata": {},
   "outputs": [
    {
     "name": "stdout",
     "output_type": "stream",
     "text": [
      "29: 0.977619\n"
     ]
    }
   ],
   "source": [
    "print('%s: %f' % (highest_k, highest))"
   ]
  },
  {
   "cell_type": "markdown",
   "metadata": {},
   "source": [
    "Нормировка данных помогла. Как видно, после нормировки точность поднялась больше чем на 20%. \n",
    "\n",
    "Задача упражнения состояла в том, чтобы при помощи метода ближайших соседей kNN (k-nearest neighbors) правильно классифицировать типы вин. "
   ]
  },
  {
   "cell_type": "markdown",
   "metadata": {},
   "source": [
    "# Metrics"
   ]
  },
  {
   "cell_type": "code",
   "execution_count": 2,
   "metadata": {},
   "outputs": [],
   "source": [
    "from sklearn.datasets import load_boston\n",
    "from sklearn.preprocessing import scale"
   ]
  },
  {
   "cell_type": "code",
   "execution_count": 3,
   "metadata": {},
   "outputs": [],
   "source": [
    "boston = load_boston()"
   ]
  },
  {
   "cell_type": "code",
   "execution_count": 4,
   "metadata": {},
   "outputs": [
    {
     "name": "stdout",
     "output_type": "stream",
     "text": [
      ".. _boston_dataset:\n",
      "\n",
      "Boston house prices dataset\n",
      "---------------------------\n",
      "\n",
      "**Data Set Characteristics:**  \n",
      "\n",
      "    :Number of Instances: 506 \n",
      "\n",
      "    :Number of Attributes: 13 numeric/categorical predictive. Median Value (attribute 14) is usually the target.\n",
      "\n",
      "    :Attribute Information (in order):\n",
      "        - CRIM     per capita crime rate by town\n",
      "        - ZN       proportion of residential land zoned for lots over 25,000 sq.ft.\n",
      "        - INDUS    proportion of non-retail business acres per town\n",
      "        - CHAS     Charles River dummy variable (= 1 if tract bounds river; 0 otherwise)\n",
      "        - NOX      nitric oxides concentration (parts per 10 million)\n",
      "        - RM       average number of rooms per dwelling\n",
      "        - AGE      proportion of owner-occupied units built prior to 1940\n",
      "        - DIS      weighted distances to five Boston employment centres\n",
      "        - RAD      index of accessibility to radial highways\n",
      "        - TAX      full-value property-tax rate per $10,000\n",
      "        - PTRATIO  pupil-teacher ratio by town\n",
      "        - B        1000(Bk - 0.63)^2 where Bk is the proportion of blacks by town\n",
      "        - LSTAT    % lower status of the population\n",
      "        - MEDV     Median value of owner-occupied homes in $1000's\n",
      "\n",
      "    :Missing Attribute Values: None\n",
      "\n",
      "    :Creator: Harrison, D. and Rubinfeld, D.L.\n",
      "\n",
      "This is a copy of UCI ML housing dataset.\n",
      "https://archive.ics.uci.edu/ml/machine-learning-databases/housing/\n",
      "\n",
      "\n",
      "This dataset was taken from the StatLib library which is maintained at Carnegie Mellon University.\n",
      "\n",
      "The Boston house-price data of Harrison, D. and Rubinfeld, D.L. 'Hedonic\n",
      "prices and the demand for clean air', J. Environ. Economics & Management,\n",
      "vol.5, 81-102, 1978.   Used in Belsley, Kuh & Welsch, 'Regression diagnostics\n",
      "...', Wiley, 1980.   N.B. Various transformations are used in the table on\n",
      "pages 244-261 of the latter.\n",
      "\n",
      "The Boston house-price data has been used in many machine learning papers that address regression\n",
      "problems.   \n",
      "     \n",
      ".. topic:: References\n",
      "\n",
      "   - Belsley, Kuh & Welsch, 'Regression diagnostics: Identifying Influential Data and Sources of Collinearity', Wiley, 1980. 244-261.\n",
      "   - Quinlan,R. (1993). Combining Instance-Based and Model-Based Learning. In Proceedings on the Tenth International Conference of Machine Learning, 236-243, University of Massachusetts, Amherst. Morgan Kaufmann.\n",
      "\n"
     ]
    }
   ],
   "source": [
    "print(boston['DESCR'])"
   ]
  },
  {
   "cell_type": "code",
   "execution_count": 5,
   "metadata": {
    "scrolled": true
   },
   "outputs": [
    {
     "data": {
      "text/html": [
       "<div>\n",
       "<style scoped>\n",
       "    .dataframe tbody tr th:only-of-type {\n",
       "        vertical-align: middle;\n",
       "    }\n",
       "\n",
       "    .dataframe tbody tr th {\n",
       "        vertical-align: top;\n",
       "    }\n",
       "\n",
       "    .dataframe thead th {\n",
       "        text-align: right;\n",
       "    }\n",
       "</style>\n",
       "<table border=\"1\" class=\"dataframe\">\n",
       "  <thead>\n",
       "    <tr style=\"text-align: right;\">\n",
       "      <th></th>\n",
       "      <th>CRIM</th>\n",
       "      <th>ZN</th>\n",
       "      <th>INDUS</th>\n",
       "      <th>CHAS</th>\n",
       "      <th>NOX</th>\n",
       "      <th>RM</th>\n",
       "      <th>AGE</th>\n",
       "      <th>DIS</th>\n",
       "      <th>RAD</th>\n",
       "      <th>TAX</th>\n",
       "      <th>PTRATIO</th>\n",
       "      <th>B</th>\n",
       "      <th>LSTAT</th>\n",
       "    </tr>\n",
       "  </thead>\n",
       "  <tbody>\n",
       "    <tr>\n",
       "      <th>0</th>\n",
       "      <td>0.00632</td>\n",
       "      <td>18.0</td>\n",
       "      <td>2.31</td>\n",
       "      <td>0.0</td>\n",
       "      <td>0.538</td>\n",
       "      <td>6.575</td>\n",
       "      <td>65.2</td>\n",
       "      <td>4.0900</td>\n",
       "      <td>1.0</td>\n",
       "      <td>296.0</td>\n",
       "      <td>15.3</td>\n",
       "      <td>396.9</td>\n",
       "      <td>4.98</td>\n",
       "    </tr>\n",
       "    <tr>\n",
       "      <th>1</th>\n",
       "      <td>0.02731</td>\n",
       "      <td>0.0</td>\n",
       "      <td>7.07</td>\n",
       "      <td>0.0</td>\n",
       "      <td>0.469</td>\n",
       "      <td>6.421</td>\n",
       "      <td>78.9</td>\n",
       "      <td>4.9671</td>\n",
       "      <td>2.0</td>\n",
       "      <td>242.0</td>\n",
       "      <td>17.8</td>\n",
       "      <td>396.9</td>\n",
       "      <td>9.14</td>\n",
       "    </tr>\n",
       "  </tbody>\n",
       "</table>\n",
       "</div>"
      ],
      "text/plain": [
       "      CRIM    ZN  INDUS  CHAS    NOX     RM   AGE     DIS  RAD    TAX  \\\n",
       "0  0.00632  18.0   2.31   0.0  0.538  6.575  65.2  4.0900  1.0  296.0   \n",
       "1  0.02731   0.0   7.07   0.0  0.469  6.421  78.9  4.9671  2.0  242.0   \n",
       "\n",
       "   PTRATIO      B  LSTAT  \n",
       "0     15.3  396.9   4.98  \n",
       "1     17.8  396.9   9.14  "
      ]
     },
     "execution_count": 5,
     "metadata": {},
     "output_type": "execute_result"
    }
   ],
   "source": [
    "#create dataframe with loaded data\n",
    "boston_data = pd.DataFrame(boston['data'], columns=boston['feature_names'])\n",
    "#save the target to separate variable\n",
    "y = boston['target']\n",
    "boston_data.head(2)"
   ]
  },
  {
   "cell_type": "code",
   "execution_count": 6,
   "metadata": {},
   "outputs": [],
   "source": [
    "X = scale(boston_data)"
   ]
  },
  {
   "cell_type": "code",
   "execution_count": 7,
   "metadata": {},
   "outputs": [],
   "source": [
    "import numpy as np\n",
    "from sklearn.neighbors import KNeighborsRegressor\n",
    "# we'll use kfold method to cross validate our model\n",
    "from sklearn.model_selection import KFold"
   ]
  },
  {
   "cell_type": "code",
   "execution_count": null,
   "metadata": {},
   "outputs": [
    {
     "name": "stdout",
     "output_type": "stream",
     "text": [
      "0: -16.030647 (3.304728)\n",
      "1: -16.407839 (3.467756)\n",
      "2: -16.370697 (3.435001)\n",
      "3: -16.445716 (3.391960)\n",
      "4: -16.475058 (3.379476)\n",
      "5: -16.526432 (3.374465)\n",
      "6: -16.636709 (3.335958)\n",
      "7: -16.824224 (3.067055)\n",
      "8: -16.874209 (3.030742)\n",
      "9: -17.124899 (3.142558)\n",
      "10: -17.145232 (3.137033)\n",
      "11: -17.019360 (2.988721)\n",
      "12: -17.099132 (2.855070)\n",
      "13: -16.801327 (2.616297)\n",
      "14: -16.980745 (2.572819)\n",
      "15: -17.033459 (2.337850)\n",
      "16: -17.171642 (2.421111)\n"
     ]
    }
   ],
   "source": [
    "results = list()\n",
    "names = list()\n",
    "highest = -100\n",
    "highest_p = 0\n",
    "p_array = np.linspace(1,10,num=200)\n",
    "kfold = KFold(n_splits=5, random_state=42, shuffle=True)\n",
    "kfold.get_n_splits(X)\n",
    "\n",
    "for num in range(200):\n",
    "    knn_regressor = KNeighborsRegressor(n_neighbors=5, weights='distance', p=p_array[num])\n",
    "    cv_results = cross_val_score(knn_regressor, X, y, cv=kfold, scoring='neg_mean_squared_error')\n",
    "    results.append(cv_results)\n",
    "    names.append(num)\n",
    "    if cv_results.mean() > highest:\n",
    "        highest = cv_results.mean()\n",
    "        highest_p  = p_array[num]\n",
    "    print('%s: %f (%f)' % (num, cv_results.mean(), cv_results.std()))"
   ]
  },
  {
   "cell_type": "code",
   "execution_count": 16,
   "metadata": {},
   "outputs": [
    {
     "name": "stdout",
     "output_type": "stream",
     "text": [
      "1.0: -16.030647\n"
     ]
    }
   ],
   "source": [
    "print('%s: %f' % (highest_p, highest))"
   ]
  },
  {
   "cell_type": "code",
   "execution_count": null,
   "metadata": {},
   "outputs": [],
   "source": []
  }
 ],
 "metadata": {
  "kernelspec": {
   "display_name": "Python 3",
   "language": "python",
   "name": "python3"
  },
  "language_info": {
   "codemirror_mode": {
    "name": "ipython",
    "version": 3
   },
   "file_extension": ".py",
   "mimetype": "text/x-python",
   "name": "python",
   "nbconvert_exporter": "python",
   "pygments_lexer": "ipython3",
   "version": "3.7.6"
  }
 },
 "nbformat": 4,
 "nbformat_minor": 4
}
