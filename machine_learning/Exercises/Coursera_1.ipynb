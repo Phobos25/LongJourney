{
 "cells": [
  {
   "cell_type": "code",
   "execution_count": 1,
   "metadata": {},
   "outputs": [],
   "source": [
    "import pandas\n"
   ]
  },
  {
   "cell_type": "code",
   "execution_count": 2,
   "metadata": {},
   "outputs": [],
   "source": [
    "data = pandas.read_csv('titanic.csv', index_col='PassengerId')"
   ]
  },
  {
   "cell_type": "code",
   "execution_count": 3,
   "metadata": {},
   "outputs": [
    {
     "data": {
      "text/html": [
       "<div>\n",
       "<style scoped>\n",
       "    .dataframe tbody tr th:only-of-type {\n",
       "        vertical-align: middle;\n",
       "    }\n",
       "\n",
       "    .dataframe tbody tr th {\n",
       "        vertical-align: top;\n",
       "    }\n",
       "\n",
       "    .dataframe thead th {\n",
       "        text-align: right;\n",
       "    }\n",
       "</style>\n",
       "<table border=\"1\" class=\"dataframe\">\n",
       "  <thead>\n",
       "    <tr style=\"text-align: right;\">\n",
       "      <th></th>\n",
       "      <th>Survived</th>\n",
       "      <th>Pclass</th>\n",
       "      <th>Name</th>\n",
       "      <th>Sex</th>\n",
       "      <th>Age</th>\n",
       "      <th>SibSp</th>\n",
       "      <th>Parch</th>\n",
       "      <th>Ticket</th>\n",
       "      <th>Fare</th>\n",
       "      <th>Cabin</th>\n",
       "      <th>Embarked</th>\n",
       "    </tr>\n",
       "    <tr>\n",
       "      <th>PassengerId</th>\n",
       "      <th></th>\n",
       "      <th></th>\n",
       "      <th></th>\n",
       "      <th></th>\n",
       "      <th></th>\n",
       "      <th></th>\n",
       "      <th></th>\n",
       "      <th></th>\n",
       "      <th></th>\n",
       "      <th></th>\n",
       "      <th></th>\n",
       "    </tr>\n",
       "  </thead>\n",
       "  <tbody>\n",
       "    <tr>\n",
       "      <th>1</th>\n",
       "      <td>0</td>\n",
       "      <td>3</td>\n",
       "      <td>Braund, Mr. Owen Harris</td>\n",
       "      <td>male</td>\n",
       "      <td>22.0</td>\n",
       "      <td>1</td>\n",
       "      <td>0</td>\n",
       "      <td>A/5 21171</td>\n",
       "      <td>7.2500</td>\n",
       "      <td>NaN</td>\n",
       "      <td>S</td>\n",
       "    </tr>\n",
       "    <tr>\n",
       "      <th>2</th>\n",
       "      <td>1</td>\n",
       "      <td>1</td>\n",
       "      <td>Cumings, Mrs. John Bradley (Florence Briggs Th...</td>\n",
       "      <td>female</td>\n",
       "      <td>38.0</td>\n",
       "      <td>1</td>\n",
       "      <td>0</td>\n",
       "      <td>PC 17599</td>\n",
       "      <td>71.2833</td>\n",
       "      <td>C85</td>\n",
       "      <td>C</td>\n",
       "    </tr>\n",
       "    <tr>\n",
       "      <th>3</th>\n",
       "      <td>1</td>\n",
       "      <td>3</td>\n",
       "      <td>Heikkinen, Miss. Laina</td>\n",
       "      <td>female</td>\n",
       "      <td>26.0</td>\n",
       "      <td>0</td>\n",
       "      <td>0</td>\n",
       "      <td>STON/O2. 3101282</td>\n",
       "      <td>7.9250</td>\n",
       "      <td>NaN</td>\n",
       "      <td>S</td>\n",
       "    </tr>\n",
       "    <tr>\n",
       "      <th>4</th>\n",
       "      <td>1</td>\n",
       "      <td>1</td>\n",
       "      <td>Futrelle, Mrs. Jacques Heath (Lily May Peel)</td>\n",
       "      <td>female</td>\n",
       "      <td>35.0</td>\n",
       "      <td>1</td>\n",
       "      <td>0</td>\n",
       "      <td>113803</td>\n",
       "      <td>53.1000</td>\n",
       "      <td>C123</td>\n",
       "      <td>S</td>\n",
       "    </tr>\n",
       "    <tr>\n",
       "      <th>5</th>\n",
       "      <td>0</td>\n",
       "      <td>3</td>\n",
       "      <td>Allen, Mr. William Henry</td>\n",
       "      <td>male</td>\n",
       "      <td>35.0</td>\n",
       "      <td>0</td>\n",
       "      <td>0</td>\n",
       "      <td>373450</td>\n",
       "      <td>8.0500</td>\n",
       "      <td>NaN</td>\n",
       "      <td>S</td>\n",
       "    </tr>\n",
       "  </tbody>\n",
       "</table>\n",
       "</div>"
      ],
      "text/plain": [
       "             Survived  Pclass  \\\n",
       "PassengerId                     \n",
       "1                   0       3   \n",
       "2                   1       1   \n",
       "3                   1       3   \n",
       "4                   1       1   \n",
       "5                   0       3   \n",
       "\n",
       "                                                          Name     Sex   Age  \\\n",
       "PassengerId                                                                    \n",
       "1                                      Braund, Mr. Owen Harris    male  22.0   \n",
       "2            Cumings, Mrs. John Bradley (Florence Briggs Th...  female  38.0   \n",
       "3                                       Heikkinen, Miss. Laina  female  26.0   \n",
       "4                 Futrelle, Mrs. Jacques Heath (Lily May Peel)  female  35.0   \n",
       "5                                     Allen, Mr. William Henry    male  35.0   \n",
       "\n",
       "             SibSp  Parch            Ticket     Fare Cabin Embarked  \n",
       "PassengerId                                                          \n",
       "1                1      0         A/5 21171   7.2500   NaN        S  \n",
       "2                1      0          PC 17599  71.2833   C85        C  \n",
       "3                0      0  STON/O2. 3101282   7.9250   NaN        S  \n",
       "4                1      0            113803  53.1000  C123        S  \n",
       "5                0      0            373450   8.0500   NaN        S  "
      ]
     },
     "execution_count": 3,
     "metadata": {},
     "output_type": "execute_result"
    }
   ],
   "source": [
    "data.head()"
   ]
  },
  {
   "cell_type": "code",
   "execution_count": 4,
   "metadata": {},
   "outputs": [
    {
     "name": "stdout",
     "output_type": "stream",
     "text": [
      "577\n",
      "314\n"
     ]
    }
   ],
   "source": [
    "print(data[data['Sex']=='male']['Name'].count())\n",
    "print(data[data['Sex']=='female']['Name'].count())"
   ]
  },
  {
   "cell_type": "code",
   "execution_count": 5,
   "metadata": {},
   "outputs": [
    {
     "data": {
      "text/plain": [
       "0.3838383838383838"
      ]
     },
     "execution_count": 5,
     "metadata": {},
     "output_type": "execute_result"
    }
   ],
   "source": [
    "data[data['Survived']==1]['Name'].count()/data['Name'].count()"
   ]
  },
  {
   "cell_type": "code",
   "execution_count": 6,
   "metadata": {},
   "outputs": [
    {
     "data": {
      "text/plain": [
       "0.24242424242424243"
      ]
     },
     "execution_count": 6,
     "metadata": {},
     "output_type": "execute_result"
    }
   ],
   "source": [
    "data[data['Pclass']==1]['Name'].count()/data['Name'].count()"
   ]
  },
  {
   "cell_type": "code",
   "execution_count": 7,
   "metadata": {},
   "outputs": [
    {
     "name": "stdout",
     "output_type": "stream",
     "text": [
      "29.69911764705882\n",
      "28.0\n"
     ]
    }
   ],
   "source": [
    "print(data['Age'].mean())\n",
    "print(data[\"Age\"].median())"
   ]
  },
  {
   "cell_type": "code",
   "execution_count": 42,
   "metadata": {},
   "outputs": [
    {
     "data": {
      "text/html": [
       "<div>\n",
       "<style scoped>\n",
       "    .dataframe tbody tr th:only-of-type {\n",
       "        vertical-align: middle;\n",
       "    }\n",
       "\n",
       "    .dataframe tbody tr th {\n",
       "        vertical-align: top;\n",
       "    }\n",
       "\n",
       "    .dataframe thead th {\n",
       "        text-align: right;\n",
       "    }\n",
       "</style>\n",
       "<table border=\"1\" class=\"dataframe\">\n",
       "  <thead>\n",
       "    <tr style=\"text-align: right;\">\n",
       "      <th></th>\n",
       "      <th>SibSp</th>\n",
       "      <th>Parch</th>\n",
       "    </tr>\n",
       "  </thead>\n",
       "  <tbody>\n",
       "    <tr>\n",
       "      <th>SibSp</th>\n",
       "      <td>1.000000</td>\n",
       "      <td>0.414838</td>\n",
       "    </tr>\n",
       "    <tr>\n",
       "      <th>Parch</th>\n",
       "      <td>0.414838</td>\n",
       "      <td>1.000000</td>\n",
       "    </tr>\n",
       "  </tbody>\n",
       "</table>\n",
       "</div>"
      ],
      "text/plain": [
       "          SibSp     Parch\n",
       "SibSp  1.000000  0.414838\n",
       "Parch  0.414838  1.000000"
      ]
     },
     "execution_count": 42,
     "metadata": {},
     "output_type": "execute_result"
    }
   ],
   "source": [
    "data[['SibSp','Parch']].corr()"
   ]
  },
  {
   "cell_type": "code",
   "execution_count": 45,
   "metadata": {},
   "outputs": [
    {
     "data": {
      "text/plain": [
       "PassengerId\n",
       "2     Cumings, Mrs. John Bradley (Florence Briggs Th...\n",
       "3                                Heikkinen, Miss. Laina\n",
       "4          Futrelle, Mrs. Jacques Heath (Lily May Peel)\n",
       "9     Johnson, Mrs. Oscar W (Elisabeth Vilhelmina Berg)\n",
       "10                  Nasser, Mrs. Nicholas (Adele Achem)\n",
       "Name: Name, dtype: object"
      ]
     },
     "execution_count": 45,
     "metadata": {},
     "output_type": "execute_result"
    }
   ],
   "source": [
    "data[data['Sex']=='female']['Name'].head()"
   ]
  },
  {
   "cell_type": "code",
   "execution_count": 10,
   "metadata": {},
   "outputs": [],
   "source": [
    "namedata = data[data['Sex']=='female']['Name']"
   ]
  },
  {
   "cell_type": "code",
   "execution_count": 11,
   "metadata": {},
   "outputs": [
    {
     "ename": "TypeError",
     "evalue": "'builtin_function_or_method' object is not subscriptable",
     "output_type": "error",
     "traceback": [
      "\u001b[1;31m---------------------------------------------------------------------------\u001b[0m",
      "\u001b[1;31mTypeError\u001b[0m                                 Traceback (most recent call last)",
      "\u001b[1;32m<ipython-input-11-9aa87e1f5d2a>\u001b[0m in \u001b[0;36m<module>\u001b[1;34m()\u001b[0m\n\u001b[0;32m      1\u001b[0m \u001b[1;32mfor\u001b[0m \u001b[0mname\u001b[0m \u001b[1;32min\u001b[0m \u001b[0mnamedata\u001b[0m\u001b[1;33m:\u001b[0m\u001b[1;33m\u001b[0m\u001b[0m\n\u001b[1;32m----> 2\u001b[1;33m     \u001b[1;32mif\u001b[0m \u001b[0mname\u001b[0m\u001b[1;33m.\u001b[0m\u001b[0msplit\u001b[0m\u001b[1;33m[\u001b[0m\u001b[1;34m' '\u001b[0m\u001b[1;33m]\u001b[0m\u001b[1;33m[\u001b[0m\u001b[1;36m1\u001b[0m\u001b[1;33m]\u001b[0m \u001b[1;33m==\u001b[0m \u001b[1;34m'Mrs.'\u001b[0m\u001b[1;33m:\u001b[0m\u001b[1;33m\u001b[0m\u001b[0m\n\u001b[0m\u001b[0;32m      3\u001b[0m         \u001b[0mFormatMrs\u001b[0m\u001b[1;33m(\u001b[0m\u001b[0mname\u001b[0m\u001b[1;33m)\u001b[0m\u001b[1;33m\u001b[0m\u001b[0m\n\u001b[0;32m      4\u001b[0m     \u001b[1;32melif\u001b[0m \u001b[0mname\u001b[0m\u001b[1;33m.\u001b[0m\u001b[0msplit\u001b[0m\u001b[1;33m[\u001b[0m\u001b[1;34m' '\u001b[0m\u001b[1;33m]\u001b[0m\u001b[1;33m[\u001b[0m\u001b[1;36m1\u001b[0m\u001b[1;33m]\u001b[0m \u001b[1;33m==\u001b[0m \u001b[1;34m'Miss.'\u001b[0m\u001b[1;33m:\u001b[0m\u001b[1;33m\u001b[0m\u001b[0m\n\u001b[0;32m      5\u001b[0m         \u001b[0mFormatMiss\u001b[0m\u001b[1;33m(\u001b[0m\u001b[0mname\u001b[0m\u001b[1;33m)\u001b[0m\u001b[1;33m\u001b[0m\u001b[0m\n",
      "\u001b[1;31mTypeError\u001b[0m: 'builtin_function_or_method' object is not subscriptable"
     ]
    }
   ],
   "source": [
    "for name in namedata:\n",
    "    if name.split[' '][1] == 'Mrs.':\n",
    "        FormatMrs(name)\n",
    "    elif name.split[' '][1] == 'Miss.':\n",
    "        FormatMiss(name)\n",
    "    else:\n",
    "        FormatOther(name)"
   ]
  },
  {
   "cell_type": "code",
   "execution_count": 8,
   "metadata": {},
   "outputs": [],
   "source": [
    "def FormatMiss(name):\n",
    "    return name\n",
    "def FormatMrs(name):\n",
    "    return name\n",
    "def FormatOther(name):\n",
    "    print(name)\n",
    "    return"
   ]
  },
  {
   "cell_type": "code",
   "execution_count": 29,
   "metadata": {},
   "outputs": [
    {
     "name": "stdout",
     "output_type": "stream",
     "text": [
      "Heikkinen, Miss. Laina\n",
      "Sandstrom, Miss. Marguerite Rut\n",
      "Bonnell, Miss. Elizabeth\n",
      "Vestrom, Miss. Hulda Amanda Adolfina\n",
      "McGowan, Miss. Anna \"Annie\"\n",
      "Palsson, Miss. Torborg Danira\n",
      "O'Dwyer, Miss. Ellen \"Nellie\"\n",
      "Glynn, Miss. Mary Agatha\n",
      "Nicola-Yarred, Miss. Jamila\n",
      "Laroche, Miss. Simonne Marie Anne Andree\n",
      "Devaney, Miss. Margaret Delia\n",
      "O'Driscoll, Miss. Bridget\n",
      "Rugg, Miss. Emily\n",
      "West, Miss. Constance Mirium\n",
      "Icard, Miss. Amelie\n",
      "Andersson, Miss. Erna Alexandra\n",
      "Goodwin, Miss. Lillian Amy\n",
      "Dowdell, Miss. Elizabeth\n",
      "McDermott, Miss. Brigdet Delia\n",
      "Ilett, Miss. Bertha\n",
      "Fortune, Miss. Mabel Helen\n",
      "Petranec, Miss. Matilda\n",
      "Salkjelsvik, Miss. Anna Kristine\n",
      "Moran, Miss. Bertha\n",
      "Zabour, Miss. Hileni\n",
      "Jussila, Miss. Katriina\n",
      "Attalah, Miss. Malake\n",
      "Andersson, Miss. Ellis Anna Maria\n",
      "Webber, Miss. Susan\n",
      "Peter, Miss. Anna\n",
      "Newsom, Miss. Helen Monypeny\n",
      "Nysten, Miss. Anna Sofia\n",
      "Ford, Miss. Robina Maggie \"Ruby\"\n",
      "Gilnagh, Miss. Katherine \"Katie\"\n",
      "Johnson, Miss. Eleanor Ileen\n",
      "Isham, Miss. Ann Elizabeth\n",
      "Sage, Miss. Constance Gladys\n",
      "Kink-Heilmann, Miss. Luise Gretchen\n",
      "Andersen-Jensen, Miss. Carla Christine Nielsine\n",
      "Lurette, Miss. Elise\n",
      "Madigan, Miss. Margaret \"Maggie\"\n",
      "Yrois, Miss. Henriette (\"Mrs Harbeck\")\n",
      "Strom, Miss. Telma Matilda\n",
      "Carr, Miss. Helen \"Ellen\"\n",
      "Cameron, Miss. Clear Annie\n",
      "Newell, Miss. Madeleine\n",
      "Honkanen, Miss. Eliina\n",
      "Bazzani, Miss. Albina\n",
      "Lefebre, Miss. Mathilde\n",
      "Asplund, Miss. Lillian Gertrud\n",
      "Harknett, Miss. Alice Phoebe\n",
      "Collyer, Miss. Marjorie \"Lottie\"\n",
      "Zabour, Miss. Thamine\n",
      "Murphy, Miss. Katherine \"Kate\"\n",
      "Lindahl, Miss. Agda Thorilda Viktoria\n",
      "Cherry, Miss. Gladys\n",
      "Ward, Miss. Anna\n",
      "Henry, Miss. Delia\n",
      "Bissette, Miss. Amelia\n",
      "Healy, Miss. Hanora \"Nora\"\n",
      "Andrews, Miss. Kornelia Theodosia\n",
      "Lindblom, Miss. Augusta Charlotta\n",
      "Connolly, Miss. Kate\n",
      "Barber, Miss. Ellen \"Nellie\"\n",
      "Haas, Miss. Aloisia\n",
      "Allison, Miss. Helen Loraine\n",
      "Kelly, Miss. Anna Katherine \"Annie Kate\"\n",
      "Keane, Miss. Nora A\n",
      "Fleming, Miss. Margaret\n",
      "Francatelli, Miss. Laura Mabel\n",
      "Hays, Miss. Margaret Bechstein\n",
      "Ryerson, Miss. Emily Borie\n",
      "Nilsson, Miss. Helmina Josefina\n",
      "Wick, Miss. Mary Natalie\n",
      "Slayter, Miss. Hilda Mary\n",
      "Young, Miss. Marie Grice\n",
      "Hippach, Miss. Jean Gertrude\n",
      "McCoy, Miss. Agnes\n",
      "Burns, Miss. Elizabeth Margaret\n",
      "Fortune, Miss. Alice Elizabeth\n",
      "Brown, Miss. Amelia \"Mildred\"\n",
      "Smith, Miss. Marion Elsie\n",
      "Bowerman, Miss. Elsie Edith\n",
      "Funk, Miss. Annie Clemmer\n",
      "McGovern, Miss. Mary\n",
      "Mockler, Miss. Helen Mary \"Ellie\"\n",
      "Jermyn, Miss. Annie\n",
      "Palsson, Miss. Stina Viola\n",
      "Landergren, Miss. Aurora Adelia\n",
      "Bidois, Miss. Rosalie\n",
      "Nakid, Miss. Maria (\"Mary\")\n",
      "Buss, Miss. Kate\n",
      "Lehmann, Miss. Bertha\n",
      "Newell, Miss. Marjorie\n",
      "Olsson, Miss. Elina\n",
      "Jussila, Miss. Mari Aina\n",
      "Oreskovic, Miss. Marija\n",
      "Lefebre, Miss. Ida\n",
      "Minahan, Miss. Daisy E\n",
      "Silven, Miss. Lyyli Karoliina\n",
      "Phillips, Miss. Kate Florence (\"Mrs Kate Louise Phillips Marshall\")\n",
      "Carter, Miss. Lucile Polk\n",
      "Ford, Miss. Doolina Margaret \"Daisy\"\n",
      "Mellinger, Miss. Madeleine Violet\n",
      "Baclini, Miss. Marie Catherine\n",
      "Toomey, Miss. Ellen\n",
      "Baclini, Miss. Helene Barbara\n",
      "Strandberg, Miss. Ida Sofia\n",
      "Hirvonen, Miss. Hildur E\n",
      "Lefebre, Miss. Jeannie\n",
      "Eustis, Miss. Elizabeth Mussey\n",
      "Canavan, Miss. Mary\n",
      "O'Sullivan, Miss. Bridget Mary\n",
      "Laitinen, Miss. Kristina Sofia\n",
      "Maioni, Miss. Roberta\n",
      "Perreault, Miss. Anne\n",
      "Ridsdale, Miss. Lucy\n",
      "Quick, Miss. Phyllis May\n",
      "Cacic, Miss. Marija\n",
      "Hart, Miss. Eva Miriam\n",
      "LeRoy, Miss. Bertha\n",
      "Frolicher, Miss. Hedwig Margaritha\n",
      "Crosby, Miss. Harriet R\n",
      "Andersson, Miss. Ingeborg Constanzia\n",
      "Andersson, Miss. Sigrid Elisabeth\n",
      "Ohman, Miss. Velin\n",
      "Meanwell, Miss. (Marion Ogden)\n",
      "Kelly, Miss. Mary\n",
      "Garside, Miss. Ethel\n",
      "Christy, Miss. Julie Rachel\n",
      "Taussig, Miss. Ruth\n",
      "Bourke, Miss. Mary\n",
      "Leitch, Miss. Jessie Wills\n",
      "Shutes, Miss. Elizabeth W\n",
      "Murphy, Miss. Margaret Jane\n",
      "Herman, Miss. Alice\n",
      "Becker, Miss. Marion Louise\n",
      "Longley, Miss. Gretchen Fiske\n",
      "Skoog, Miss. Mabel\n",
      "Davis, Miss. Mary\n",
      "Skoog, Miss. Margit Elizabeth\n",
      "Baclini, Miss. Eugenie\n",
      "Stanley, Miss. Amy Zillah Elsie\n",
      "Doling, Miss. Elsie\n",
      "O'Leary, Miss. Hanora \"Norah\"\n",
      "Hegarty, Miss. Hanora \"Nora\"\n",
      "Turja, Miss. Anna Sofia\n",
      "Peters, Miss. Katie\n",
      "Madill, Miss. Georgette Alexandra\n",
      "Karun, Miss. Manca\n",
      "Mullens, Miss. Katherine \"Katie\"\n",
      "Barbara, Miss. Saiide\n",
      "Cleaver, Miss. Alice\n",
      "Endres, Miss. Caroline Louise\n",
      "Troutt, Miss. Edwina Celia \"Winnie\"\n",
      "Harper, Miss. Annie Jessie \"Nina\"\n",
      "Mannion, Miss. Margareth\n",
      "Ilmakangas, Miss. Pieta Sofia\n",
      "Allen, Miss. Elisabeth Walton\n",
      "Ryerson, Miss. Susan Parker \"Suzette\"\n",
      "Sinkkonen, Miss. Anna\n",
      "Wells, Miss. Joan\n",
      "Mangan, Miss. Mary\n",
      "Emanuel, Miss. Virginia Ethel\n",
      "Ayoub, Miss. Banoura\n",
      "Sjoblom, Miss. Anna Sofia\n",
      "Sage, Miss. Stella Anna\n",
      "Pettersson, Miss. Ellen Natalia\n",
      "Andersson, Miss. Ebba Iris Alfrida\n",
      "Heininen, Miss. Wendla Maria\n",
      "Compton, Miss. Sara Rebecca\n",
      "Serepeca, Miss. Augusta\n",
      "Boulos, Miss. Nourelain\n",
      "Lines, Miss. Mary Conover\n",
      "Sage, Miss. Dorothy Edith \"Dolly\"\n",
      "Najib, Miss. Adele Kiamie \"Jane\"\n",
      "Dahlberg, Miss. Gerda Ulrika\n",
      "Graham, Miss. Margaret Edith\n",
      "Johnston, Miss. Catherine Helen \"Carrie\"\n"
     ]
    }
   ],
   "source": [
    "for name in namedata:\n",
    "    if name.split(' ')[1] == 'Miss.':\n",
    "        pass\n",
    "    elif name.split(',')[1] == 'Mrs.':\n",
    "        pass"
   ]
  },
  {
   "cell_type": "code",
   "execution_count": 13,
   "metadata": {},
   "outputs": [],
   "source": [
    "someword = data[data['Sex']=='female']['Name'][2].split(',')"
   ]
  },
  {
   "cell_type": "code",
   "execution_count": null,
   "metadata": {},
   "outputs": [],
   "source": []
  },
  {
   "cell_type": "code",
   "execution_count": null,
   "metadata": {},
   "outputs": [],
   "source": []
  }
 ],
 "metadata": {
  "kernelspec": {
   "display_name": "Python 3",
   "language": "python",
   "name": "python3"
  },
  "language_info": {
   "codemirror_mode": {
    "name": "ipython",
    "version": 3
   },
   "file_extension": ".py",
   "mimetype": "text/x-python",
   "name": "python",
   "nbconvert_exporter": "python",
   "pygments_lexer": "ipython3",
   "version": "3.6.5"
  }
 },
 "nbformat": 4,
 "nbformat_minor": 2
}
