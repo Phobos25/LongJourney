{
 "cells": [
  {
   "cell_type": "markdown",
   "metadata": {},
   "source": [
    "## Метод пузырька\n",
    "\n",
    "Метод пузырька является одним из базовых алгоритмов сортировки. Основная идея заключается в том, чтобы сравнивать два соседних элемента в массиве и менять их местами - по возрастанию или по убыванию, т.е. как \"пузырек\" наибольший или наименьший элемент перемещается в начало или в конец массива. \n",
    "\n",
    "Алгоритм является крайне не оптимизированный. Сложность составляет O($n^{2}$)"
   ]
  },
  {
   "cell_type": "code",
   "execution_count": null,
   "metadata": {},
   "outputs": [],
   "source": []
  }
 ],
 "metadata": {
  "kernelspec": {
   "display_name": "Python 3",
   "language": "python",
   "name": "python3"
  },
  "language_info": {
   "codemirror_mode": {
    "name": "ipython",
    "version": 3
   },
   "file_extension": ".py",
   "mimetype": "text/x-python",
   "name": "python",
   "nbconvert_exporter": "python",
   "pygments_lexer": "ipython3",
   "version": "3.7.6"
  }
 },
 "nbformat": 4,
 "nbformat_minor": 4
}
