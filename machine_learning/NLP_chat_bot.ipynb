{
 "cells": [
  {
   "cell_type": "code",
   "execution_count": 14,
   "id": "e6f6c14d",
   "metadata": {},
   "outputs": [],
   "source": [
    "import random\n",
    "import nltk #для расчета расстояния левенштейна"
   ]
  },
  {
   "cell_type": "code",
   "execution_count": 2,
   "id": "8e2e85b8",
   "metadata": {},
   "outputs": [],
   "source": [
    "BOT_CONFIG = {    \n",
    "    \n",
    "    'intents': {\n",
    "      'hello': {\n",
    "          'examples': ['Привет', 'Добрый день', 'Шалом', 'Здраствуйте', 'дарова', 'здорова', 'здоров'],\n",
    "          'responses': ['Привет, человек', 'Доброго времени суток', 'Хэллоу']\n",
    "      },\n",
    "      'bye': {\n",
    "          'examples': ['Пока', 'Досвидания', 'До свидания', 'Прощайте'],\n",
    "          'responses': ['Счастливо', 'Если что, я тут', 'Еще увидимся']\n",
    "      }          \n",
    "    },\n",
    "    \n",
    "    'failure_phrase': [\n",
    "        'Попробуйте написать по-другому',\n",
    "        'Что-то непонятно',\n",
    "        'Я же всего лишь бот. Сформулируйте попроще',\n",
    "        '#ничегонепонятно #немучайбота'\n",
    "    ]\n",
    "}"
   ]
  },
  {
   "cell_type": "code",
   "execution_count": 18,
   "id": "e533197c",
   "metadata": {},
   "outputs": [
    {
     "data": {
      "text/plain": [
       "0.36363636363636365"
      ]
     },
     "execution_count": 18,
     "metadata": {},
     "output_type": "execute_result"
    }
   ],
   "source": [
    "dist = nltk.edit_distance('Добрый день', 'Добрый вечер')\n",
    "dist/len('Добрый день')"
   ]
  },
  {
   "cell_type": "code",
   "execution_count": 12,
   "id": "223ddba7",
   "metadata": {},
   "outputs": [],
   "source": [
    "def filter_text(example):\n",
    "    text = example.lower()\n",
    "    text = [c for c in text if c in 'абвгджзеёийклмнопрстуфчцчшщъыьэюя- ']\n",
    "    text = ''.join(text)\n",
    "    return text\n",
    "\n",
    "def get_intent(question):\n",
    "    for intent, intent_data in BOT_CONFIG['intents'].items():\n",
    "        for example in intent_data['examples']:\n",
    "            dist = nltk.edit_distance(filter_text(example), filter_text(question))\n",
    "            if dist/len('Добрый день') < 0.4;\n",
    "                return intent"
   ]
  },
  {
   "cell_type": "code",
   "execution_count": 4,
   "id": "3a76b6a4",
   "metadata": {},
   "outputs": [],
   "source": [
    "def get_answer_by_intent(intent):\n",
    "    if intent in BOT_CONFIG['intents']:\n",
    "        phrases = BOT_CONFIG['intents'][intent]['responses']\n",
    "        return random.choice(phrases)"
   ]
  },
  {
   "cell_type": "code",
   "execution_count": 5,
   "id": "f272c17f",
   "metadata": {},
   "outputs": [],
   "source": [
    "def generate_answer_by_text(question):\n",
    "    return "
   ]
  },
  {
   "cell_type": "code",
   "execution_count": 6,
   "id": "e91cedd2",
   "metadata": {},
   "outputs": [],
   "source": [
    "def get_failure_phrase():\n",
    "    phrases = BOT_CONFIG['failure_phrase']\n",
    "    return random.choice(phrases)"
   ]
  },
  {
   "cell_type": "code",
   "execution_count": 7,
   "id": "e991145a",
   "metadata": {},
   "outputs": [],
   "source": [
    "def bot(question):\n",
    "    #NLU\n",
    "    intent = get_intent(question)\n",
    "    \n",
    "    # Получение ответа\n",
    "    \n",
    "#     ищем готовый ответ\n",
    "    if intent:   \n",
    "        answer = get_answer_by_intent(intent)\n",
    "        if answer:\n",
    "            return answer\n",
    "    \n",
    "    # Генерируем подходящий по контексту ответ\n",
    "    answer = generate_answer_by_text(question)\n",
    "    if answer:\n",
    "        return answer\n",
    "    \n",
    "    # используем заглушку\n",
    "    answer = get_failure_phrase() # выдаем ошибку. или фразу об ошибке    \n",
    "    return answer;"
   ]
  },
  {
   "cell_type": "code",
   "execution_count": 13,
   "id": "fb7390f1",
   "metadata": {},
   "outputs": [
    {
     "name": "stdout",
     "output_type": "stream",
     "text": [
      "привет\n",
      "Доброго времени суток\n",
      "привет!\n",
      "Хэллоу\n",
      "привет!!!!!!!!!!!!!!\n",
      "Доброго времени суток\n",
      "ПОКА\n",
      "Если что, я тут\n",
      "?пока?!?!?!?!\n",
      "Счастливо\n",
      "exit\n",
      "#ничегонепонятно #немучайбота\n"
     ]
    }
   ],
   "source": [
    "question = None\n",
    "\n",
    "while question not in ['exit', 'выход']:\n",
    "    question = input()\n",
    "    answer = bot(question)\n",
    "    print(answer)"
   ]
  },
  {
   "cell_type": "code",
   "execution_count": null,
   "id": "0148133c",
   "metadata": {},
   "outputs": [],
   "source": []
  }
 ],
 "metadata": {
  "kernelspec": {
   "display_name": "Python 3",
   "language": "python",
   "name": "python3"
  },
  "language_info": {
   "codemirror_mode": {
    "name": "ipython",
    "version": 3
   },
   "file_extension": ".py",
   "mimetype": "text/x-python",
   "name": "python",
   "nbconvert_exporter": "python",
   "pygments_lexer": "ipython3",
   "version": "3.7.6"
  }
 },
 "nbformat": 4,
 "nbformat_minor": 5
}
