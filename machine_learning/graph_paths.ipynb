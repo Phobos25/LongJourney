{
 "cells": [
  {
   "cell_type": "markdown",
   "metadata": {
    "id": "AvJ5T8RpvdKn"
   },
   "source": [
    "# Достижимость, связность, поиск\n",
    "\n",
    "В этом ноутбуке мы посмотрим как работать с достижимостью в графе"
   ]
  },
  {
   "cell_type": "code",
   "execution_count": null,
   "metadata": {
    "executionInfo": {
     "elapsed": 2066,
     "status": "ok",
     "timestamp": 1605202293305,
     "user": {
      "displayName": "Николай Проскурин",
      "photoUrl": "https://lh4.googleusercontent.com/-7dldC_av2-E/AAAAAAAAAAI/AAAAAAAAD2U/sxNNx2X6reI/s64/photo.jpg",
      "userId": "08174801876020700561"
     },
     "user_tz": -180
    },
    "id": "EPkk7Ev4vdKp"
   },
   "outputs": [],
   "source": [
    "# Задаем граф\n",
    "\n",
    "import networkx as nx\n",
    "\n",
    "graph = nx.Graph()\n",
    "\n",
    "graph.add_nodes_from(['A','B','C','D','E','F'])\n",
    "graph.add_edges_from([('A','B'), ('B','C'), ('C','A'),('B','D'),('B','E'),('D','E')])"
   ]
  },
  {
   "cell_type": "code",
   "execution_count": null,
   "metadata": {
    "colab": {
     "base_uri": "https://localhost:8080/",
     "height": 248
    },
    "executionInfo": {
     "elapsed": 1097,
     "status": "ok",
     "timestamp": 1605202295236,
     "user": {
      "displayName": "Николай Проскурин",
      "photoUrl": "https://lh4.googleusercontent.com/-7dldC_av2-E/AAAAAAAAAAI/AAAAAAAAD2U/sxNNx2X6reI/s64/photo.jpg",
      "userId": "08174801876020700561"
     },
     "user_tz": -180
    },
    "id": "RVATfDCwvdKt",
    "outputId": "ae0cd452-df3e-4325-a40e-b53f01fa771e"
   },
   "outputs": [],
   "source": [
    "# Рисуем граф примерно как в слайдах\n",
    "\n",
    "import matplotlib.pyplot as plt\n",
    "\n",
    "pos = {'A': (1, 1.5), 'B': (4, 0), 'C': (5, 2), 'D': (2.9, 2.2), 'E': (6, 0.5), 'F': (7.5, 1.5)}\n",
    "\n",
    "def draw_G():\n",
    "    options = {\n",
    "        \"font_size\": 20,\n",
    "        \"node_size\": 1500,\n",
    "        \"node_color\": \"white\",\n",
    "        \"edgecolors\": \"black\",\n",
    "        \"linewidths\": 3,\n",
    "        \"width\": 3,\n",
    "    }\n",
    "\n",
    "    plt.axis([0, 8.5, -0.5, 2.7])\n",
    "    nx.draw_networkx(graph, pos, **options)\n",
    "    plt.show()\n",
    "    \n",
    "draw_G()"
   ]
  },
  {
   "cell_type": "code",
   "execution_count": null,
   "metadata": {
    "colab": {
     "base_uri": "https://localhost:8080/"
    },
    "executionInfo": {
     "elapsed": 938,
     "status": "ok",
     "timestamp": 1605202307243,
     "user": {
      "displayName": "Николай Проскурин",
      "photoUrl": "https://lh4.googleusercontent.com/-7dldC_av2-E/AAAAAAAAAAI/AAAAAAAAD2U/sxNNx2X6reI/s64/photo.jpg",
      "userId": "08174801876020700561"
     },
     "user_tz": -180
    },
    "id": "qSPsFSE0vdKx",
    "outputId": "b70332f4-de23-4d7a-dec1-a038f992dfa6"
   },
   "outputs": [],
   "source": [
    "# Проверяем достижимость\n",
    "\n",
    "nx.has_path(graph,'A','E')"
   ]
  },
  {
   "cell_type": "code",
   "execution_count": null,
   "metadata": {
    "colab": {
     "base_uri": "https://localhost:8080/"
    },
    "executionInfo": {
     "elapsed": 1524,
     "status": "ok",
     "timestamp": 1605202309101,
     "user": {
      "displayName": "Николай Проскурин",
      "photoUrl": "https://lh4.googleusercontent.com/-7dldC_av2-E/AAAAAAAAAAI/AAAAAAAAD2U/sxNNx2X6reI/s64/photo.jpg",
      "userId": "08174801876020700561"
     },
     "user_tz": -180
    },
    "id": "u1tjnaELvdK0",
    "outputId": "f3848321-0e2f-40a5-8c1a-c3992d9a8b58"
   },
   "outputs": [],
   "source": [
    "# Проверяем связность\n",
    "\n",
    "#graph.add_edge('E','F')\n",
    "#draw_G()\n",
    "\n",
    "\n",
    "nx.is_connected(graph)\n"
   ]
  },
  {
   "cell_type": "code",
   "execution_count": null,
   "metadata": {
    "colab": {
     "base_uri": "https://localhost:8080/"
    },
    "executionInfo": {
     "elapsed": 716,
     "status": "ok",
     "timestamp": 1605202641469,
     "user": {
      "displayName": "Николай Проскурин",
      "photoUrl": "https://lh4.googleusercontent.com/-7dldC_av2-E/AAAAAAAAAAI/AAAAAAAAD2U/sxNNx2X6reI/s64/photo.jpg",
      "userId": "08174801876020700561"
     },
     "user_tz": -180
    },
    "id": "tvVi6GmvvdK3",
    "outputId": "206708a6-463c-4394-a76e-70a2b26d2042"
   },
   "outputs": [],
   "source": [
    "# Реализуем поиск в глубину\n",
    "\n",
    "clock = 0\n",
    "\n",
    "pre={}\n",
    "post={}\n",
    "\n",
    "def Previsit(v):\n",
    "    global clock\n",
    "    pre[v]=clock\n",
    "    clock+=1\n",
    "\n",
    "def Postvisit(v):\n",
    "    global clock\n",
    "    post[v]=clock\n",
    "    clock+=1\n",
    "\n",
    "visited={}\n",
    "for v in graph:\n",
    "    visited[v]=False\n",
    "\n",
    "def Explore(v):\n",
    "    visited[v]=True\n",
    "    Previsit(v)\n",
    "    for u in graph[v]:\n",
    "        if not visited[u]:\n",
    "            Explore(u)\n",
    "    Postvisit(v)\n",
    "            \n",
    "def dfs():\n",
    "    for v in graph:\n",
    "        if not visited[v]:\n",
    "            Explore(v)   \n",
    "            \n",
    "dfs()\n",
    "\n",
    "print(\"Pre:\\t\",sorted(pre.items()))\n",
    "print(\"Post:\\t\",sorted(post.items()))"
   ]
  },
  {
   "cell_type": "code",
   "execution_count": null,
   "metadata": {
    "id": "ZSHc-qxnvdK6"
   },
   "outputs": [],
   "source": []
  }
 ],
 "metadata": {
  "colab": {
   "collapsed_sections": [],
   "name": "paths.ipynb",
   "provenance": []
  },
  "kernelspec": {
   "display_name": "Python 3",
   "language": "python",
   "name": "python3"
  },
  "language_info": {
   "codemirror_mode": {
    "name": "ipython",
    "version": 3
   },
   "file_extension": ".py",
   "mimetype": "text/x-python",
   "name": "python",
   "nbconvert_exporter": "python",
   "pygments_lexer": "ipython3",
   "version": "3.7.6"
  }
 },
 "nbformat": 4,
 "nbformat_minor": 1
}
