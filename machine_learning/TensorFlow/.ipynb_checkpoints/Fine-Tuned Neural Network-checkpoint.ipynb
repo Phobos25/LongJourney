{
 "cells": [
  {
   "cell_type": "markdown",
   "metadata": {},
   "source": [
    "# VGG16 \n",
    "\n",
    "В этой программе будем рассматривать модель VGG16, модель которая победила в 2014 году соревнование ImageNet. \n",
    "\n",
    "Эта модель изначально использовалась для классификации 1000 разных классов. Мы будем менять прогармму таким образом, чтобы классифицировать только на 2 класса. По английски это называется **fine tuning**."
   ]
  },
  {
   "cell_type": "code",
   "execution_count": null,
   "metadata": {},
   "outputs": [],
   "source": []
  }
 ],
 "metadata": {
  "kernelspec": {
   "display_name": "Python 3",
   "language": "python",
   "name": "python3"
  },
  "language_info": {
   "codemirror_mode": {
    "name": "ipython",
    "version": 3
   },
   "file_extension": ".py",
   "mimetype": "text/x-python",
   "name": "python",
   "nbconvert_exporter": "python",
   "pygments_lexer": "ipython3",
   "version": "3.7.6"
  }
 },
 "nbformat": 4,
 "nbformat_minor": 4
}
