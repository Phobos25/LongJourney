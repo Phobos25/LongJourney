{
 "cells": [
  {
   "cell_type": "code",
   "execution_count": 1,
   "id": "dc3f1b2a",
   "metadata": {},
   "outputs": [
    {
     "name": "stdout",
     "output_type": "stream",
     "text": [
      "Collecting pytelegrambotapi\n",
      "  Downloading pyTelegramBotAPI-3.7.9.tar.gz (90 kB)\n",
      "Requirement already satisfied: requests in c:\\users\\igor\\anaconda3\\lib\\site-packages (from pytelegrambotapi) (2.25.1)\n",
      "Requirement already satisfied: urllib3<1.27,>=1.21.1 in c:\\users\\igor\\anaconda3\\lib\\site-packages (from requests->pytelegrambotapi) (1.26.4)\n",
      "Requirement already satisfied: idna<3,>=2.5 in c:\\users\\igor\\anaconda3\\lib\\site-packages (from requests->pytelegrambotapi) (2.10)\n",
      "Requirement already satisfied: chardet<5,>=3.0.2 in c:\\users\\igor\\anaconda3\\lib\\site-packages (from requests->pytelegrambotapi) (4.0.0)\n",
      "Requirement already satisfied: certifi>=2017.4.17 in c:\\users\\igor\\anaconda3\\lib\\site-packages (from requests->pytelegrambotapi) (2020.12.5)\n",
      "Building wheels for collected packages: pytelegrambotapi\n",
      "  Building wheel for pytelegrambotapi (setup.py): started\n",
      "  Building wheel for pytelegrambotapi (setup.py): finished with status 'done'\n",
      "  Created wheel for pytelegrambotapi: filename=pyTelegramBotAPI-3.7.9-py3-none-any.whl size=67900 sha256=2632686ec9d2defdfc2c11ac4bc0333cc66c7824e57db73153be97b8c4ed8ad9\n",
      "  Stored in directory: c:\\users\\igor\\appdata\\local\\pip\\cache\\wheels\\1d\\5c\\2e\\7e9e2c9c799f78f27508accfe91687e3407519542921958bf3\n",
      "Successfully built pytelegrambotapi\n",
      "Installing collected packages: pytelegrambotapi\n",
      "Successfully installed pytelegrambotapi-3.7.9\n"
     ]
    }
   ],
   "source": [
    "#!pip install pytelegrambotapi"
   ]
  },
  {
   "cell_type": "code",
   "execution_count": 9,
   "id": "8477dfed",
   "metadata": {},
   "outputs": [],
   "source": [
    "import os\n",
    "def get_token():\n",
    "    filename = os.path.join(\"..\",\"token\")\n",
    "    return filename"
   ]
  },
  {
   "cell_type": "code",
   "execution_count": 10,
   "id": "cb9726be",
   "metadata": {},
   "outputs": [
    {
     "data": {
      "text/plain": [
       "<function __main__.get_token()>"
      ]
     },
     "execution_count": 10,
     "metadata": {},
     "output_type": "execute_result"
    }
   ],
   "source": [
    "    "
   ]
  },
  {
   "cell_type": "code",
   "execution_count": null,
   "id": "474dfc4b",
   "metadata": {},
   "outputs": [],
   "source": [
    "import telebot\n",
    "bot = telebot.Telebot(get_token)"
   ]
  }
 ],
 "metadata": {
  "kernelspec": {
   "display_name": "Python 3",
   "language": "python",
   "name": "python3"
  },
  "language_info": {
   "codemirror_mode": {
    "name": "ipython",
    "version": 3
   },
   "file_extension": ".py",
   "mimetype": "text/x-python",
   "name": "python",
   "nbconvert_exporter": "python",
   "pygments_lexer": "ipython3",
   "version": "3.7.6"
  }
 },
 "nbformat": 4,
 "nbformat_minor": 5
}
