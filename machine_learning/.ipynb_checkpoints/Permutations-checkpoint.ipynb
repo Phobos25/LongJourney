{
 "cells": [
  {
   "cell_type": "markdown",
   "metadata": {},
   "source": [
    "### Пермутации"
   ]
  },
  {
   "cell_type": "markdown",
   "metadata": {},
   "source": [
    "Пермутации --- это сочетание разнородных объектов, где порядок **имеет значение**\n",
    "\n",
    "Для примера рассмотрим пример пермутации из трех букв: [a,b,c]\n",
    "```\n",
    "[c,b,a]\n",
    "[b,c,a]\n",
    "[b,a,c]\n",
    "[a,b,c]\n",
    "[c,a,b]\n",
    "[a,c,b]\n",
    "```\n",
    "\n",
    "В отличии от комбинации, в пермутации рассматриваются **все элементы**. \n",
    "\n",
    "всего n!- пермутаций"
   ]
  },
  {
   "cell_type": "markdown",
   "metadata": {},
   "source": [
    "![permutation](pics/permutation_tree.png)"
   ]
  },
  {
   "cell_type": "markdown",
   "metadata": {},
   "source": [
    "Чтобы понять, почему именно n! пермутаций, рассмотрим пермутации нашего примера [a,b,c] в качестве дерева. \n",
    "\n",
    "Дерево будет иметь три уровня, и на каждом уровне мы будем вносить по одной букве. \n",
    "\n",
    "Сначала идет 'a' --- тут никаких вариантов нет. \n",
    "\n",
    "Затем идет 'b' --- у нас два варианта, вставить 'b' **после** 'a' или **перед** 'a'\n",
    "\n",
    "Затем идет 'c' --- тут вариантов уже три, для каждого предыдущего случая. \n",
    "\n",
    "Если экстраполивароть, то получается, что для следующего уровня 'd' у нас было бы четыре варианта для каждого случая. \n",
    "\n",
    "Количество пермутаций можно выразить математически как: \n",
    "\n",
    "$1\\cdot2\\cdot3 = 3!$"
   ]
  },
  {
   "cell_type": "code",
   "execution_count": 1,
   "metadata": {},
   "outputs": [],
   "source": [
    "# time: O(n!)\n",
    "# space: O(n^2)\n",
    "def permutations(elements):\n",
    "    if len(elements) == 0: # if is empty \n",
    "        return [[]]        # return base scenario\n",
    "    first = elements[0]    # save first element\n",
    "    rest = elements[1:]    # remove first element\n",
    "    perms_without_first = permutations(rest)\n",
    "    \n",
    "    all_permutations = []\n",
    "    for perm in perms_without_first:\n",
    "        for i in range(len(perm)+1):\n",
    "            perm_with_first = perm[:i] + [first] + perm[i:]\n",
    "            all_permutations.append(perm_with_first)\n",
    "    return all_permutations"
   ]
  },
  {
   "cell_type": "code",
   "execution_count": 2,
   "metadata": {},
   "outputs": [
    {
     "name": "stdout",
     "output_type": "stream",
     "text": [
      "['a', 'b', 'c']\n",
      "['b', 'a', 'c']\n",
      "['b', 'c', 'a']\n",
      "['a', 'c', 'b']\n",
      "['c', 'a', 'b']\n",
      "['c', 'b', 'a']\n"
     ]
    }
   ],
   "source": [
    "perms = permutations(['a','b','c'])\n",
    "for perm in perms:\n",
    "    print(perm)"
   ]
  },
  {
   "cell_type": "code",
   "execution_count": 5,
   "metadata": {},
   "outputs": [
    {
     "name": "stdout",
     "output_type": "stream",
     "text": [
      "1: ['1', '2', '3']\n",
      "2: ['2', '1', '3']\n",
      "3: ['2', '3', '1']\n",
      "4: ['1', '3', '2']\n",
      "5: ['3', '1', '2']\n",
      "6: ['3', '2', '1']\n"
     ]
    }
   ],
   "source": [
    "perms = permutations(['1','2','3','4','5'])\n",
    "count = 1\n",
    "for perm in perms:\n",
    "    print(f'{count}: {perm}')\n",
    "    count += 1"
   ]
  },
  {
   "cell_type": "code",
   "execution_count": null,
   "metadata": {},
   "outputs": [],
   "source": []
  }
 ],
 "metadata": {
  "kernelspec": {
   "display_name": "Python 3 (ipykernel)",
   "language": "python",
   "name": "python3"
  },
  "language_info": {
   "codemirror_mode": {
    "name": "ipython",
    "version": 3
   },
   "file_extension": ".py",
   "mimetype": "text/x-python",
   "name": "python",
   "nbconvert_exporter": "python",
   "pygments_lexer": "ipython3",
   "version": "3.7.11"
  }
 },
 "nbformat": 4,
 "nbformat_minor": 4
}
