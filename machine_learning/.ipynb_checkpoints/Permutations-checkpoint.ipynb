{
 "cells": [
  {
   "cell_type": "markdown",
   "metadata": {},
   "source": [
    "### Пермутации"
   ]
  },
  {
   "cell_type": "markdown",
   "metadata": {},
   "source": [
    "Пермутации --- это сочетание разнородных объектов, где порядок **имеет значение**\n",
    "\n",
    "Для примера рассмотрим пример пермутации из трех букв: [a,b,c]\n",
    "```\n",
    "[c,b,a]\n",
    "[b,c,a]\n",
    "[b,a,c]\n",
    "[a,b,c]\n",
    "[c,a,b]\n",
    "[a,c,b]\n",
    "```\n",
    "\n",
    "В отличии от комбинации, в пермутации рассматриваются **все элементы**. \n",
    "\n",
    "всего n!- пермутаций"
   ]
  },
  {
   "cell_type": "markdown",
   "metadata": {},
   "source": [
    "![permutation](pics/permutation_tree.png)"
   ]
  },
  {
   "cell_type": "code",
   "execution_count": null,
   "metadata": {},
   "outputs": [],
   "source": []
  }
 ],
 "metadata": {
  "kernelspec": {
   "display_name": "Python 3",
   "language": "python",
   "name": "python3"
  },
  "language_info": {
   "codemirror_mode": {
    "name": "ipython",
    "version": 3
   },
   "file_extension": ".py",
   "mimetype": "text/x-python",
   "name": "python",
   "nbconvert_exporter": "python",
   "pygments_lexer": "ipython3",
   "version": "3.7.6"
  }
 },
 "nbformat": 4,
 "nbformat_minor": 4
}
