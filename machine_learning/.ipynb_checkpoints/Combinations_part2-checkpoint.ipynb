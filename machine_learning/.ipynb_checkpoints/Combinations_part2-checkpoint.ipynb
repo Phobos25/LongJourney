{
 "cells": [
  {
   "cell_type": "markdown",
   "id": "8051dd11",
   "metadata": {},
   "source": [
    "### Числа сочетанция, с повторением и без"
   ]
  },
  {
   "cell_type": "markdown",
   "id": "d337784d",
   "metadata": {},
   "source": [
    "В этом ноутбуке мы посмотрим на примеры генерации чисел сочетаний. Мы, также, покажем примеры вычисления биномиальных коэффициентов"
   ]
  },
  {
   "cell_type": "code",
   "execution_count": 1,
   "id": "8a5e361e",
   "metadata": {},
   "outputs": [
    {
     "name": "stdout",
     "output_type": "stream",
     "text": [
      "abc abd abe acd ace ade bcd bce bde cde "
     ]
    }
   ],
   "source": [
    "# генерируем сочетанция\n",
    "from itertools import combinations\n",
    "\n",
    "# combinations (n, k)\n",
    "for c in combinations(\"abcde\", 3):\n",
    "    print(\"\".join(c), end= ' ')"
   ]
  },
  {
   "cell_type": "code",
   "execution_count": 2,
   "id": "4cdb2b29",
   "metadata": {},
   "outputs": [
    {
     "name": "stdout",
     "output_type": "stream",
     "text": [
      "aa ab ac ad ae bb bc bd be cc cd ce dd de ee "
     ]
    }
   ],
   "source": [
    "# Генерируем сочетания с повторениями\n",
    "\n",
    "from itertools import combinations_with_replacement\n",
    "\n",
    "for c in combinations_with_replacement(\"abcde\", 2):\n",
    "    print(''.join(c), end=' ')"
   ]
  },
  {
   "cell_type": "code",
   "execution_count": 3,
   "id": "d8f70552",
   "metadata": {},
   "outputs": [
    {
     "name": "stdout",
     "output_type": "stream",
     "text": [
      "120\n"
     ]
    }
   ],
   "source": [
    "# Считаем число салатов размера 7 из помидоров, огурцов, перцев и баклажанов\n",
    "\n",
    "print(len(list(combinations_with_replacement(\"TCPE\", 7))))"
   ]
  },
  {
   "cell_type": "code",
   "execution_count": 4,
   "id": "c78e66a0",
   "metadata": {},
   "outputs": [
    {
     "name": "stdout",
     "output_type": "stream",
     "text": [
      "50\n"
     ]
    }
   ],
   "source": [
    "# считаем число салатов, в которых помидоров больше огурцов\n",
    "\n",
    "count = 0\n",
    "\n",
    "for p in combinations_with_replacement(\"TCPE\", 7):\n",
    "    if p.count('T') > p.count('C'):\n",
    "        count += 1\n",
    "print(count)"
   ]
  },
  {
   "cell_type": "code",
   "execution_count": null,
   "id": "b6e4cef4",
   "metadata": {},
   "outputs": [],
   "source": [
    "count = 0\n",
    "\n",
    "for p in combinations_with_replacement(\"123456789\", 4):\n",
    "    count += 1\n",
    "print(count)"
   ]
  }
 ],
 "metadata": {
  "kernelspec": {
   "display_name": "Python 3",
   "language": "python",
   "name": "python3"
  },
  "language_info": {
   "codemirror_mode": {
    "name": "ipython",
    "version": 3
   },
   "file_extension": ".py",
   "mimetype": "text/x-python",
   "name": "python",
   "nbconvert_exporter": "python",
   "pygments_lexer": "ipython3",
   "version": "3.7.6"
  }
 },
 "nbformat": 4,
 "nbformat_minor": 5
}
