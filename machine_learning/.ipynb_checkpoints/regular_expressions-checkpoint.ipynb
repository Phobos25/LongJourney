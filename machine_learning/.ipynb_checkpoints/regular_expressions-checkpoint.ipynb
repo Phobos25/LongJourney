{
 "cells": [
  {
   "cell_type": "markdown",
   "metadata": {},
   "source": [
    "## Regular expressions\n",
    "\n",
    "can look for a code and commands in this [github page](https://github.com/CoreyMSchafer/code_snippets/tree/master/Python-Regular-Expressions)"
   ]
  },
  {
   "cell_type": "markdown",
   "metadata": {},
   "source": [
    "```\n",
    "MetaCharacters (Need to be escaped):\n",
    ". ^ $ * + ? { } [ ] \\ | ( )\n",
    "```\n",
    "to escape character use \\ before the character. Ex.: \n",
    "```\n",
    "\\.  \\*  \\^ \n",
    "```\n"
   ]
  },
  {
   "cell_type": "markdown",
   "metadata": {},
   "source": [
    "```\n",
    ".       - Any Character Except New Line\n",
    "\\d      - Digit (0-9)\n",
    "\\D      - Not a Digit (0-9)\n",
    "\\w      - Word Character (a-z, A-Z, 0-9, _)\n",
    "\\W      - Not a Word Character\n",
    "\\s      - Whitespace (space, tab, newline)\n",
    "\\S      - Not Whitespace (space, tab, newline)\n",
    "\n",
    "\\b      - Word Boundary\n",
    "\\B      - Not a Word Boundary\n",
    "^       - Beginning of a String\n",
    "$       - End of a String\n",
    "\n",
    "[]      - Matches Characters in brackets\n",
    "[^ ]    - Matches Characters NOT in brackets\n",
    "|       - Either Or\n",
    "( )     - Group\n",
    "\n",
    "Quantifiers:\n",
    "*       - 0 or More\n",
    "+       - 1 or More\n",
    "?       - 0 or One\n",
    "{3}     - Exact Number\n",
    "{3,4}   - Range of Numbers (Minimum, Maximum)\n",
    "\n",
    "\n",
    "#### Sample Regexs ####\n",
    "\n",
    "[a-zA-Z0-9_.+-]+@[a-zA-Z0-9-]+\\.[a-zA-Z0-9-.]+\n",
    "```"
   ]
  },
  {
   "cell_type": "code",
   "execution_count": 16,
   "metadata": {},
   "outputs": [
    {
     "name": "stdout",
     "output_type": "stream",
     "text": [
      "<re.Match object; span=(55, 56), match='1'>\n",
      "<re.Match object; span=(56, 57), match='2'>\n",
      "<re.Match object; span=(57, 58), match='3'>\n",
      "<re.Match object; span=(58, 59), match='4'>\n",
      "<re.Match object; span=(59, 60), match='5'>\n",
      "<re.Match object; span=(60, 61), match='6'>\n",
      "<re.Match object; span=(61, 62), match='7'>\n",
      "<re.Match object; span=(62, 63), match='8'>\n",
      "<re.Match object; span=(63, 64), match='9'>\n",
      "<re.Match object; span=(64, 65), match='0'>\n",
      "<re.Match object; span=(151, 152), match='3'>\n",
      "<re.Match object; span=(152, 153), match='2'>\n",
      "<re.Match object; span=(153, 154), match='1'>\n",
      "<re.Match object; span=(155, 156), match='5'>\n",
      "<re.Match object; span=(156, 157), match='5'>\n",
      "<re.Match object; span=(157, 158), match='5'>\n",
      "<re.Match object; span=(159, 160), match='4'>\n",
      "<re.Match object; span=(160, 161), match='3'>\n",
      "<re.Match object; span=(161, 162), match='2'>\n",
      "<re.Match object; span=(162, 163), match='1'>\n",
      "<re.Match object; span=(164, 165), match='1'>\n",
      "<re.Match object; span=(165, 166), match='2'>\n",
      "<re.Match object; span=(166, 167), match='3'>\n",
      "<re.Match object; span=(168, 169), match='5'>\n",
      "<re.Match object; span=(169, 170), match='5'>\n",
      "<re.Match object; span=(170, 171), match='5'>\n",
      "<re.Match object; span=(172, 173), match='1'>\n",
      "<re.Match object; span=(173, 174), match='2'>\n",
      "<re.Match object; span=(174, 175), match='3'>\n",
      "<re.Match object; span=(175, 176), match='4'>\n",
      "<re.Match object; span=(177, 178), match='1'>\n",
      "<re.Match object; span=(178, 179), match='2'>\n",
      "<re.Match object; span=(179, 180), match='3'>\n",
      "<re.Match object; span=(181, 182), match='5'>\n",
      "<re.Match object; span=(182, 183), match='5'>\n",
      "<re.Match object; span=(183, 184), match='5'>\n",
      "<re.Match object; span=(185, 186), match='1'>\n",
      "<re.Match object; span=(186, 187), match='2'>\n",
      "<re.Match object; span=(187, 188), match='3'>\n",
      "<re.Match object; span=(188, 189), match='4'>\n",
      "<re.Match object; span=(190, 191), match='8'>\n",
      "<re.Match object; span=(191, 192), match='0'>\n",
      "<re.Match object; span=(192, 193), match='0'>\n",
      "<re.Match object; span=(194, 195), match='5'>\n",
      "<re.Match object; span=(195, 196), match='5'>\n",
      "<re.Match object; span=(196, 197), match='5'>\n",
      "<re.Match object; span=(198, 199), match='1'>\n",
      "<re.Match object; span=(199, 200), match='2'>\n",
      "<re.Match object; span=(200, 201), match='3'>\n",
      "<re.Match object; span=(201, 202), match='4'>\n",
      "<re.Match object; span=(203, 204), match='9'>\n",
      "<re.Match object; span=(204, 205), match='0'>\n",
      "<re.Match object; span=(205, 206), match='0'>\n",
      "<re.Match object; span=(207, 208), match='5'>\n",
      "<re.Match object; span=(208, 209), match='5'>\n",
      "<re.Match object; span=(209, 210), match='5'>\n",
      "<re.Match object; span=(211, 212), match='1'>\n",
      "<re.Match object; span=(212, 213), match='2'>\n",
      "<re.Match object; span=(213, 214), match='3'>\n",
      "<re.Match object; span=(214, 215), match='4'>\n",
      "<re.Match object; span=(216, 217), match='8'>\n",
      "<re.Match object; span=(217, 218), match='4'>\n",
      "<re.Match object; span=(218, 219), match='9'>\n",
      "<re.Match object; span=(219, 220), match='5'>\n",
      "<re.Match object; span=(221, 222), match='5'>\n",
      "<re.Match object; span=(222, 223), match='5'>\n",
      "<re.Match object; span=(223, 224), match='5'>\n",
      "<re.Match object; span=(225, 226), match='1'>\n",
      "<re.Match object; span=(226, 227), match='2'>\n",
      "<re.Match object; span=(227, 228), match='3'>\n",
      "<re.Match object; span=(228, 229), match='4'>\n",
      "<re.Match object; span=(230, 231), match='8'>\n",
      "<re.Match object; span=(231, 232), match='4'>\n",
      "<re.Match object; span=(232, 233), match='9'>\n",
      "<re.Match object; span=(233, 234), match='8'>\n",
      "<re.Match object; span=(235, 236), match='5'>\n",
      "<re.Match object; span=(236, 237), match='5'>\n",
      "<re.Match object; span=(237, 238), match='5'>\n",
      "<re.Match object; span=(239, 240), match='1'>\n",
      "<re.Match object; span=(240, 241), match='2'>\n",
      "<re.Match object; span=(241, 242), match='3'>\n",
      "<re.Match object; span=(242, 243), match='4'>\n",
      "<re.Match object; span=(244, 245), match='8'>\n",
      "<re.Match object; span=(245, 246), match='4'>\n",
      "<re.Match object; span=(246, 247), match='9'>\n",
      "<re.Match object; span=(247, 248), match='9'>\n",
      "<re.Match object; span=(249, 250), match='5'>\n",
      "<re.Match object; span=(250, 251), match='5'>\n",
      "<re.Match object; span=(251, 252), match='5'>\n",
      "<re.Match object; span=(253, 254), match='1'>\n",
      "<re.Match object; span=(254, 255), match='2'>\n",
      "<re.Match object; span=(255, 256), match='3'>\n",
      "<re.Match object; span=(256, 257), match='4'>\n"
     ]
    }
   ],
   "source": [
    "import re\n",
    "\n",
    "text_to_search = '''\n",
    "abcdefghijklmnopqurtuvwxyz\n",
    "ABCDEFGHIJKLMNOPQRSTUVWXYZ\n",
    "1234567890\n",
    "Ha HaHa\n",
    "MetaCharacters (Need to be escaped):\n",
    ". ^ $ * + ? { } [ ] \\ | ( )\n",
    "coreyms.com\n",
    "321-555-4321\n",
    "123.555.1234\n",
    "123*555*1234\n",
    "800-555-1234\n",
    "900-555-1234\n",
    "8495-555-1234\n",
    "8498-555-1234\n",
    "8499-555-1234\n",
    "Mr. Schafer\n",
    "Mr Smith\n",
    "Ms Davis\n",
    "Mrs. Robinson\n",
    "Mr. T\n",
    "cat\n",
    "bat\n",
    "mat\n",
    "dat\n",
    "'''\n",
    "\n",
    "sentence = 'Start a sentence and then bring it to an end'\n",
    "\n",
    "# re.compile(r'start') - создает паттерн, по которому мы можем вести поиск в тексте, т.е. если у нас start\n",
    "# то будет искать start в тексте. в определенном смысле это как поисковик\n",
    "pattern = re.compile(r'\\d')\n",
    "\n",
    "matches = pattern.finditer(text_to_search)\n",
    "\n",
    "for match in matches:\n",
    "    print(match)\n",
    "    #возвращает span - от начала до конца искомого слова, и само слово"
   ]
  },
  {
   "cell_type": "markdown",
   "metadata": {},
   "source": [
    "### Примеры использования regular expression\n",
    "\n",
    "Для примера попробуем найти все телефонные номера. Простой их поиск нам ничего не даст, т.к. телефонные номера всегда разные, но при этом у них очень простая последовательность: 000-000-0000 (для российских номеров может быть либо 00-00-00, либо 000-000 или еще с кодом города +7(0000)00-00-00 и т.д.)"
   ]
  },
  {
   "cell_type": "code",
   "execution_count": 2,
   "metadata": {},
   "outputs": [
    {
     "name": "stdout",
     "output_type": "stream",
     "text": [
      "<re.Match object; span=(151, 163), match='321-555-4321'>\n",
      "<re.Match object; span=(164, 176), match='123.555.1234'>\n",
      "<re.Match object; span=(177, 189), match='123*555*1234'>\n",
      "<re.Match object; span=(190, 202), match='800-555-1234'>\n",
      "<re.Match object; span=(203, 215), match='900-555-1234'>\n"
     ]
    }
   ],
   "source": [
    "#\\d\\d\\d - 3 цифры подряд, потом идет \".\", который указывает на \n",
    "# любой знак \n",
    "pattern = re.compile('\\d\\d\\d.\\d\\d\\d.\\d\\d\\d\\d')\n",
    "matches = pattern.finditer(text_to_search)\n",
    "for match in matches:\n",
    "    print(match)\n",
    "# как мы видим, программа находит все номера телефонов."
   ]
  },
  {
   "cell_type": "code",
   "execution_count": 7,
   "metadata": {},
   "outputs": [
    {
     "name": "stdout",
     "output_type": "stream",
     "text": [
      "<re.Match object; span=(151, 163), match='321-555-4321'>\n",
      "<re.Match object; span=(164, 176), match='123.555.1234'>\n",
      "<re.Match object; span=(190, 202), match='800-555-1234'>\n",
      "<re.Match object; span=(203, 215), match='900-555-1234'>\n"
     ]
    }
   ],
   "source": [
    "#\\d\\d\\d --- 3 цифры подряд, потом идет \"[-.]\", который означает\n",
    "# либо \"-\" либо \".\"\n",
    "pattern = re.compile(r'\\d\\d\\d[-.]\\d\\d\\d[-.]\\d\\d\\d\\d')\n",
    "matches = pattern.finditer(text_to_search)\n",
    "for match in matches:\n",
    "    print(match)\n",
    "# как мы видим, программа находит только те номера телефонов, которые.\n",
    "# разделены при помощи \"-\" или \".\""
   ]
  },
  {
   "cell_type": "code",
   "execution_count": 13,
   "metadata": {},
   "outputs": [
    {
     "name": "stdout",
     "output_type": "stream",
     "text": [
      "<re.Match object; span=(216, 229), match='8495-555-1234'>\n",
      "<re.Match object; span=(230, 243), match='8498-555-1234'>\n",
      "<re.Match object; span=(244, 257), match='8499-555-1234'>\n"
     ]
    }
   ],
   "source": [
    "# Допустим, теперь, мы ищем конкретно московские номера\n",
    "# как мы знаем московские номера начинаются с 495, 498 и 499\n",
    "\n",
    "pattern = re.compile(r'849[589][-.]\\d\\d\\d[-.]\\d\\d\\d\\d')\n",
    "matches = pattern.finditer(text_to_search)\n",
    "for match in matches:\n",
    "    print(match)"
   ]
  },
  {
   "cell_type": "code",
   "execution_count": 14,
   "metadata": {},
   "outputs": [
    {
     "name": "stdout",
     "output_type": "stream",
     "text": [
      "<re.Match object; span=(1, 2), match='a'>\n",
      "<re.Match object; span=(2, 3), match='b'>\n",
      "<re.Match object; span=(3, 4), match='c'>\n",
      "<re.Match object; span=(4, 5), match='d'>\n",
      "<re.Match object; span=(5, 6), match='e'>\n",
      "<re.Match object; span=(6, 7), match='f'>\n",
      "<re.Match object; span=(7, 8), match='g'>\n",
      "<re.Match object; span=(8, 9), match='h'>\n",
      "<re.Match object; span=(9, 10), match='i'>\n",
      "<re.Match object; span=(10, 11), match='j'>\n",
      "<re.Match object; span=(11, 12), match='k'>\n",
      "<re.Match object; span=(12, 13), match='l'>\n",
      "<re.Match object; span=(13, 14), match='m'>\n",
      "<re.Match object; span=(14, 15), match='n'>\n",
      "<re.Match object; span=(15, 16), match='o'>\n",
      "<re.Match object; span=(16, 17), match='p'>\n",
      "<re.Match object; span=(17, 18), match='q'>\n",
      "<re.Match object; span=(18, 19), match='u'>\n",
      "<re.Match object; span=(19, 20), match='r'>\n",
      "<re.Match object; span=(20, 21), match='t'>\n",
      "<re.Match object; span=(21, 22), match='u'>\n",
      "<re.Match object; span=(22, 23), match='v'>\n",
      "<re.Match object; span=(23, 24), match='w'>\n",
      "<re.Match object; span=(24, 25), match='x'>\n",
      "<re.Match object; span=(25, 26), match='y'>\n",
      "<re.Match object; span=(26, 27), match='z'>\n",
      "<re.Match object; span=(28, 29), match='A'>\n",
      "<re.Match object; span=(29, 30), match='B'>\n",
      "<re.Match object; span=(30, 31), match='C'>\n",
      "<re.Match object; span=(31, 32), match='D'>\n",
      "<re.Match object; span=(32, 33), match='E'>\n",
      "<re.Match object; span=(33, 34), match='F'>\n",
      "<re.Match object; span=(34, 35), match='G'>\n",
      "<re.Match object; span=(35, 36), match='H'>\n",
      "<re.Match object; span=(36, 37), match='I'>\n",
      "<re.Match object; span=(37, 38), match='J'>\n",
      "<re.Match object; span=(38, 39), match='K'>\n",
      "<re.Match object; span=(39, 40), match='L'>\n",
      "<re.Match object; span=(40, 41), match='M'>\n",
      "<re.Match object; span=(41, 42), match='N'>\n",
      "<re.Match object; span=(42, 43), match='O'>\n",
      "<re.Match object; span=(43, 44), match='P'>\n",
      "<re.Match object; span=(44, 45), match='Q'>\n",
      "<re.Match object; span=(45, 46), match='R'>\n",
      "<re.Match object; span=(46, 47), match='S'>\n",
      "<re.Match object; span=(47, 48), match='T'>\n",
      "<re.Match object; span=(48, 49), match='U'>\n",
      "<re.Match object; span=(49, 50), match='V'>\n",
      "<re.Match object; span=(50, 51), match='W'>\n",
      "<re.Match object; span=(51, 52), match='X'>\n",
      "<re.Match object; span=(52, 53), match='Y'>\n",
      "<re.Match object; span=(53, 54), match='Z'>\n",
      "<re.Match object; span=(55, 56), match='1'>\n",
      "<re.Match object; span=(56, 57), match='2'>\n",
      "<re.Match object; span=(57, 58), match='3'>\n",
      "<re.Match object; span=(64, 65), match='0'>\n",
      "<re.Match object; span=(66, 67), match='H'>\n",
      "<re.Match object; span=(67, 68), match='a'>\n",
      "<re.Match object; span=(69, 70), match='H'>\n",
      "<re.Match object; span=(70, 71), match='a'>\n",
      "<re.Match object; span=(71, 72), match='H'>\n",
      "<re.Match object; span=(72, 73), match='a'>\n",
      "<re.Match object; span=(74, 75), match='M'>\n",
      "<re.Match object; span=(75, 76), match='e'>\n",
      "<re.Match object; span=(76, 77), match='t'>\n",
      "<re.Match object; span=(77, 78), match='a'>\n",
      "<re.Match object; span=(78, 79), match='C'>\n",
      "<re.Match object; span=(79, 80), match='h'>\n",
      "<re.Match object; span=(80, 81), match='a'>\n",
      "<re.Match object; span=(81, 82), match='r'>\n",
      "<re.Match object; span=(82, 83), match='a'>\n",
      "<re.Match object; span=(83, 84), match='c'>\n",
      "<re.Match object; span=(84, 85), match='t'>\n",
      "<re.Match object; span=(85, 86), match='e'>\n",
      "<re.Match object; span=(86, 87), match='r'>\n",
      "<re.Match object; span=(87, 88), match='s'>\n",
      "<re.Match object; span=(90, 91), match='N'>\n",
      "<re.Match object; span=(91, 92), match='e'>\n",
      "<re.Match object; span=(92, 93), match='e'>\n",
      "<re.Match object; span=(93, 94), match='d'>\n",
      "<re.Match object; span=(95, 96), match='t'>\n",
      "<re.Match object; span=(96, 97), match='o'>\n",
      "<re.Match object; span=(98, 99), match='b'>\n",
      "<re.Match object; span=(99, 100), match='e'>\n",
      "<re.Match object; span=(101, 102), match='e'>\n",
      "<re.Match object; span=(102, 103), match='s'>\n",
      "<re.Match object; span=(103, 104), match='c'>\n",
      "<re.Match object; span=(104, 105), match='a'>\n",
      "<re.Match object; span=(105, 106), match='p'>\n",
      "<re.Match object; span=(106, 107), match='e'>\n",
      "<re.Match object; span=(107, 108), match='d'>\n",
      "<re.Match object; span=(139, 140), match='c'>\n",
      "<re.Match object; span=(140, 141), match='o'>\n",
      "<re.Match object; span=(141, 142), match='r'>\n",
      "<re.Match object; span=(142, 143), match='e'>\n",
      "<re.Match object; span=(143, 144), match='y'>\n",
      "<re.Match object; span=(144, 145), match='m'>\n",
      "<re.Match object; span=(145, 146), match='s'>\n",
      "<re.Match object; span=(147, 148), match='c'>\n",
      "<re.Match object; span=(148, 149), match='o'>\n",
      "<re.Match object; span=(149, 150), match='m'>\n",
      "<re.Match object; span=(151, 152), match='3'>\n",
      "<re.Match object; span=(152, 153), match='2'>\n",
      "<re.Match object; span=(153, 154), match='1'>\n",
      "<re.Match object; span=(160, 161), match='3'>\n",
      "<re.Match object; span=(161, 162), match='2'>\n",
      "<re.Match object; span=(162, 163), match='1'>\n",
      "<re.Match object; span=(164, 165), match='1'>\n",
      "<re.Match object; span=(165, 166), match='2'>\n",
      "<re.Match object; span=(166, 167), match='3'>\n",
      "<re.Match object; span=(172, 173), match='1'>\n",
      "<re.Match object; span=(173, 174), match='2'>\n",
      "<re.Match object; span=(174, 175), match='3'>\n",
      "<re.Match object; span=(177, 178), match='1'>\n",
      "<re.Match object; span=(178, 179), match='2'>\n",
      "<re.Match object; span=(179, 180), match='3'>\n",
      "<re.Match object; span=(185, 186), match='1'>\n",
      "<re.Match object; span=(186, 187), match='2'>\n",
      "<re.Match object; span=(187, 188), match='3'>\n",
      "<re.Match object; span=(191, 192), match='0'>\n",
      "<re.Match object; span=(192, 193), match='0'>\n",
      "<re.Match object; span=(198, 199), match='1'>\n",
      "<re.Match object; span=(199, 200), match='2'>\n",
      "<re.Match object; span=(200, 201), match='3'>\n",
      "<re.Match object; span=(204, 205), match='0'>\n",
      "<re.Match object; span=(205, 206), match='0'>\n",
      "<re.Match object; span=(211, 212), match='1'>\n",
      "<re.Match object; span=(212, 213), match='2'>\n",
      "<re.Match object; span=(213, 214), match='3'>\n",
      "<re.Match object; span=(225, 226), match='1'>\n",
      "<re.Match object; span=(226, 227), match='2'>\n",
      "<re.Match object; span=(227, 228), match='3'>\n",
      "<re.Match object; span=(239, 240), match='1'>\n",
      "<re.Match object; span=(240, 241), match='2'>\n",
      "<re.Match object; span=(241, 242), match='3'>\n",
      "<re.Match object; span=(253, 254), match='1'>\n",
      "<re.Match object; span=(254, 255), match='2'>\n",
      "<re.Match object; span=(255, 256), match='3'>\n",
      "<re.Match object; span=(258, 259), match='M'>\n",
      "<re.Match object; span=(259, 260), match='r'>\n",
      "<re.Match object; span=(262, 263), match='S'>\n",
      "<re.Match object; span=(263, 264), match='c'>\n",
      "<re.Match object; span=(264, 265), match='h'>\n",
      "<re.Match object; span=(265, 266), match='a'>\n",
      "<re.Match object; span=(266, 267), match='f'>\n",
      "<re.Match object; span=(267, 268), match='e'>\n",
      "<re.Match object; span=(268, 269), match='r'>\n",
      "<re.Match object; span=(270, 271), match='M'>\n",
      "<re.Match object; span=(271, 272), match='r'>\n",
      "<re.Match object; span=(273, 274), match='S'>\n",
      "<re.Match object; span=(274, 275), match='m'>\n",
      "<re.Match object; span=(275, 276), match='i'>\n",
      "<re.Match object; span=(276, 277), match='t'>\n",
      "<re.Match object; span=(277, 278), match='h'>\n",
      "<re.Match object; span=(279, 280), match='M'>\n",
      "<re.Match object; span=(280, 281), match='s'>\n",
      "<re.Match object; span=(282, 283), match='D'>\n",
      "<re.Match object; span=(283, 284), match='a'>\n",
      "<re.Match object; span=(284, 285), match='v'>\n",
      "<re.Match object; span=(285, 286), match='i'>\n",
      "<re.Match object; span=(286, 287), match='s'>\n",
      "<re.Match object; span=(288, 289), match='M'>\n",
      "<re.Match object; span=(289, 290), match='r'>\n",
      "<re.Match object; span=(290, 291), match='s'>\n",
      "<re.Match object; span=(293, 294), match='R'>\n",
      "<re.Match object; span=(294, 295), match='o'>\n",
      "<re.Match object; span=(295, 296), match='b'>\n",
      "<re.Match object; span=(296, 297), match='i'>\n",
      "<re.Match object; span=(297, 298), match='n'>\n",
      "<re.Match object; span=(298, 299), match='s'>\n",
      "<re.Match object; span=(299, 300), match='o'>\n",
      "<re.Match object; span=(300, 301), match='n'>\n",
      "<re.Match object; span=(302, 303), match='M'>\n",
      "<re.Match object; span=(303, 304), match='r'>\n",
      "<re.Match object; span=(306, 307), match='T'>\n"
     ]
    }
   ],
   "source": [
    "# теперь рассмотрим -. Его можно использовать для того, чтобы\n",
    "# задать интервал. К примеру 0-9, означает от 0 до 9, или a-z, все\n",
    "# буквы от a до z\n",
    "pattern = re.compile(r'[0-3a-zA-Z]')\n",
    "matches = pattern.finditer(text_to_search)\n",
    "for match in matches:\n",
    "    print(match)\n",
    "#  как видим выводит буквы с a до z, как большие так и маленькие\n",
    "#  и цифры от 0 до 3"
   ]
  },
  {
   "cell_type": "code",
   "execution_count": 17,
   "metadata": {},
   "outputs": [
    {
     "name": "stdout",
     "output_type": "stream",
     "text": [
      "<re.Match object; span=(308, 311), match='cat'>\n",
      "<re.Match object; span=(316, 319), match='mat'>\n",
      "<re.Match object; span=(320, 323), match='dat'>\n"
     ]
    }
   ],
   "source": [
    "# ^ --- такой знак внутри [] означает исключение, или не\n",
    "pattern = re.compile(r'[^b]at') # все 3-х буквенные заканчивающиеся at, кроме bat\n",
    "matches = pattern.finditer(text_to_search)\n",
    "for match in matches:\n",
    "    print(match)"
   ]
  },
  {
   "cell_type": "code",
   "execution_count": 18,
   "metadata": {},
   "outputs": [
    {
     "name": "stdout",
     "output_type": "stream",
     "text": [
      "<re.Match object; span=(151, 163), match='321-555-4321'>\n",
      "<re.Match object; span=(164, 176), match='123.555.1234'>\n",
      "<re.Match object; span=(177, 189), match='123*555*1234'>\n",
      "<re.Match object; span=(190, 202), match='800-555-1234'>\n",
      "<re.Match object; span=(203, 215), match='900-555-1234'>\n",
      "<re.Match object; span=(217, 229), match='495-555-1234'>\n",
      "<re.Match object; span=(231, 243), match='498-555-1234'>\n",
      "<re.Match object; span=(245, 257), match='499-555-1234'>\n"
     ]
    }
   ],
   "source": [
    "#pattern = re.compile('\\d\\d\\d.\\d\\d\\d.\\d\\d\\d\\d') изменим этот код\n",
    "# любой знак \n",
    "pattern = re.compile('\\d{3}.\\d{3}.\\d{4}') #работает точно так же\n",
    "matches = pattern.finditer(text_to_search)\n",
    "for match in matches:\n",
    "    print(match)\n",
    "# как мы видим, программа находит все номера телефонов."
   ]
  },
  {
   "cell_type": "code",
   "execution_count": 26,
   "metadata": {},
   "outputs": [
    {
     "name": "stdout",
     "output_type": "stream",
     "text": [
      "<re.Match object; span=(258, 269), match='Mr. Schafer'>\n",
      "<re.Match object; span=(270, 278), match='Mr Smith'>\n",
      "<re.Match object; span=(302, 307), match='Mr. T'>\n"
     ]
    }
   ],
   "source": [
    "# Mr. Schafer\n",
    "# Mr Smith\n",
    "# Ms Davis\n",
    "# Mrs. Robinson\n",
    "# Mr. T\n",
    "# рассмотрим более сложный пример, попробуем прочитать фамилии\n",
    "\n",
    "pattern = re.compile(r'Mr\\.?\\s[A-Z]\\w*')\n",
    "# мы ищем начало Mr. затем идет \\.? --- точка (или нет)\n",
    "# затем идет \\s --- пробел, [A-Z] --- любая большая буква, т.к.\n",
    "# фамилии начинаются с большой буквы\n",
    "# \\w --- сам по себе означает любую букву. \"*\" от 0 и больше. \n",
    "matches = pattern.finditer(text_to_search)\n",
    "for match in matches:\n",
    "    print(match)\n"
   ]
  },
  {
   "cell_type": "code",
   "execution_count": 28,
   "metadata": {},
   "outputs": [
    {
     "name": "stdout",
     "output_type": "stream",
     "text": [
      "<re.Match object; span=(258, 269), match='Mr. Schafer'>\n",
      "<re.Match object; span=(270, 278), match='Mr Smith'>\n",
      "<re.Match object; span=(279, 287), match='Ms Davis'>\n",
      "<re.Match object; span=(288, 301), match='Mrs. Robinson'>\n",
      "<re.Match object; span=(302, 307), match='Mr. T'>\n"
     ]
    }
   ],
   "source": [
    "# приведенный выше пример не читает Ms и Mrs, для этого\n",
    "# воспользуемся группировкой, которая задается при помощи ()\n",
    "pattern = re.compile(r'(Mr|Ms|Mrs)\\.?\\s[A-Z]\\w*')\n",
    "matches = pattern.finditer(text_to_search)\n",
    "for match in matches:\n",
    "    print(match)\n",
    "# как мы видим, выводит все фамилии"
   ]
  },
  {
   "cell_type": "markdown",
   "metadata": {},
   "source": [
    "### Более сложные примеры"
   ]
  },
  {
   "cell_type": "markdown",
   "metadata": {},
   "source": [
    "Начнем рассматривать более сложные пример. Рассмотрим чтение электронных адресов"
   ]
  },
  {
   "cell_type": "code",
   "execution_count": 33,
   "metadata": {},
   "outputs": [
    {
     "name": "stdout",
     "output_type": "stream",
     "text": [
      "<re.Match object; span=(1, 24), match='CoreyMSchafer@gmail.com'>\n",
      "<re.Match object; span=(25, 53), match='corey.schafer@university.edu'>\n",
      "<re.Match object; span=(54, 83), match='corey-321-schafer@my-work.net'>\n"
     ]
    }
   ],
   "source": [
    "emails = '''\n",
    "CoreyMSchafer@gmail.com\n",
    "corey.schafer@university.edu\n",
    "corey-321-schafer@my-work.net\n",
    "'''\n",
    "\n",
    "pattern = re.compile(r'[a-zA-Z.0-9-]+@[a-zA-Z-]+\\.(edu|com|net)')\n",
    "matches = pattern.finditer(emails)\n",
    "for match in matches:\n",
    "    print(match)"
   ]
  },
  {
   "cell_type": "code",
   "execution_count": 48,
   "metadata": {},
   "outputs": [
    {
     "name": "stdout",
     "output_type": "stream",
     "text": [
      "www.\n",
      "google\n",
      "None\n",
      "coreyms\n",
      "None\n",
      "youtube\n",
      "www.\n",
      "nasa\n"
     ]
    }
   ],
   "source": [
    "urls = '''\n",
    "https://www.google.com\n",
    "http://coreyms.com\n",
    "https://youtube.com\n",
    "https://www.nasa.gov\n",
    "'''\n",
    "# если мы разделим наш паттер на группы\n",
    "pattern = re.compile(r'https?://(www\\.)?(\\w+)(\\.\\w+)')\n",
    "matches = pattern.finditer(urls)\n",
    "# мы сможем выводить определенные группы\n",
    "# следует помнить, однако, что группа 0 --- это полный текст = паттернуы\n",
    "for match in matches:\n",
    "    print(match.group(2))"
   ]
  },
  {
   "cell_type": "code",
   "execution_count": 47,
   "metadata": {},
   "outputs": [
    {
     "name": "stdout",
     "output_type": "stream",
     "text": [
      "\n",
      "google.com\n",
      "coreyms.com\n",
      "youtube.com\n",
      "nasa.gov\n",
      "\n"
     ]
    }
   ],
   "source": [
    "pattern = re.compile(r'https?://(www\\.)?(\\w+)(\\.\\w+)')\n",
    "subbed_urls = pattern.sub(r'\\2\\3',urls)\n",
    "print(subbed_urls)"
   ]
  },
  {
   "cell_type": "markdown",
   "metadata": {},
   "source": [
    "### Другие методы для поиска паттернов"
   ]
  },
  {
   "cell_type": "code",
   "execution_count": 54,
   "metadata": {},
   "outputs": [
    {
     "name": "stdout",
     "output_type": "stream",
     "text": [
      "Mr\n",
      "Mr\n",
      "Ms\n",
      "Mrs\n",
      "Mr\n",
      "('Mr', 'Schafer')\n",
      "('Mr', 'Smith')\n",
      "('Ms', 'Davis')\n",
      "('Mrs', 'Robinson')\n",
      "('Mr', 'T')\n",
      "321-555-4321\n",
      "123.555.1234\n",
      "123*555*1234\n",
      "800-555-1234\n",
      "900-555-1234\n",
      "495-555-1234\n",
      "498-555-1234\n",
      "499-555-1234\n"
     ]
    }
   ],
   "source": [
    "# до сих пор мы использовали pattern.finditer метод, который очень\n",
    "# функциональный. т.к. возвращает еще и координаты найденного паттерна\n",
    "pattern = re.compile(r'(Mr|Ms|Mrs)\\.?\\s[A-Z]\\w*') \n",
    "# find all выводит только текстовые значения\n",
    "# надо иметь в виду, что он возвращает группы, если они есть в паттерне\n",
    "# если групп вообще нет, то тогда возвращает весь текст\n",
    "matches = pattern.findall(text_to_search)\n",
    "for match in matches:\n",
    "    print(match)\n",
    "    \n",
    "pattern = re.compile(r'(Mr|Ms|Mrs)\\.?\\s([A-Z]\\w*)') \n",
    "matches = pattern.findall(text_to_search)\n",
    "for match in matches:\n",
    "    print(match)\n",
    "    \n",
    "pattern = re.compile(r'\\d{3}.\\d{3}.\\d{4}') \n",
    "matches = pattern.findall(text_to_search)\n",
    "for match in matches:\n",
    "    print(match)\n",
    "        "
   ]
  },
  {
   "cell_type": "markdown",
   "metadata": {},
   "source": [
    "Рассмотрим еще два метода, match и search. они работают довольно похоже, возвращают только 1 значение если нашли, и возвращают None если не нашли"
   ]
  },
  {
   "cell_type": "code",
   "execution_count": 60,
   "metadata": {},
   "outputs": [
    {
     "name": "stdout",
     "output_type": "stream",
     "text": [
      "<re.Match object; span=(0, 5), match='Start'>\n"
     ]
    }
   ],
   "source": [
    "# match ищет только вначале строки\n",
    "pattern = re.compile(r'Start') \n",
    "matches = pattern.match(sentence)\n",
    "print(matches)"
   ]
  },
  {
   "cell_type": "code",
   "execution_count": 61,
   "metadata": {},
   "outputs": [
    {
     "name": "stdout",
     "output_type": "stream",
     "text": [
      "<re.Match object; span=(8, 16), match='sentence'>\n"
     ]
    }
   ],
   "source": [
    "#search ищет по всей строке\n",
    "pattern = re.compile(r'sentence') \n",
    "matches = pattern.search(sentence)\n",
    "print(matches)"
   ]
  },
  {
   "cell_type": "code",
   "execution_count": 63,
   "metadata": {},
   "outputs": [
    {
     "name": "stdout",
     "output_type": "stream",
     "text": [
      "<re.Match object; span=(0, 5), match='Start'>\n"
     ]
    }
   ],
   "source": [
    "# рассмотрим флаги, re.I или re.IGNORECASE игнорирует регистр, \n",
    "# это очень удобно если мы не знаем пишется слово с большой буквы или\n",
    "# с маленькой. Или все написано большими буквами\n",
    "pattern = re.compile(r'start', re.I) \n",
    "matches = pattern.match(sentence)\n",
    "print(matches)"
   ]
  },
  {
   "cell_type": "code",
   "execution_count": null,
   "metadata": {},
   "outputs": [],
   "source": []
  }
 ],
 "metadata": {
  "kernelspec": {
   "display_name": "Python 3",
   "language": "python",
   "name": "python3"
  },
  "language_info": {
   "codemirror_mode": {
    "name": "ipython",
    "version": 3
   },
   "file_extension": ".py",
   "mimetype": "text/x-python",
   "name": "python",
   "nbconvert_exporter": "python",
   "pygments_lexer": "ipython3",
   "version": "3.7.6"
  }
 },
 "nbformat": 4,
 "nbformat_minor": 4
}
