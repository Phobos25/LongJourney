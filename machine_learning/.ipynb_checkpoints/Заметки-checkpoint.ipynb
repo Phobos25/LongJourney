{
 "cells": [
  {
   "cell_type": "markdown",
   "id": "8c868b8f",
   "metadata": {},
   "source": [
    "## Deep learning cheat sheet\n",
    "\n",
    "[Linear Algebra Cheat Sheet for Deep Learning](https://medium.com/towards-data-science/linear-algebra-cheat-sheet-for-deep-learning-cd67aba4526c)\n",
    "\n",
    "[Building a remote PC for model training](https://medium.com/@sravsatuluri/setting-up-a-deep-learning-machine-in-a-lazy-yet-quick-way-be2642318850)"
   ]
  },
  {
   "cell_type": "markdown",
   "id": "439d9139",
   "metadata": {},
   "source": [
    "### Transfer learning"
   ]
  },
  {
   "cell_type": "markdown",
   "id": "4406305e",
   "metadata": {},
   "source": [
    "[](https://www.google.com/url?sa=t&rct=j&q=&esrc=s&source=web&cd=&cad=rja&uact=8&ved=2ahUKEwivutyt1573AhXwAxAIHUZKBuIQFnoECAQQAQ&url=https%3A%2F%2Fmodelzoo.co%2F&usg=AOvVaw029ivnvmn_HB9Whfic4czX)"
   ]
  }
 ],
 "metadata": {
  "kernelspec": {
   "display_name": "Python 3",
   "language": "python",
   "name": "python3"
  },
  "language_info": {
   "codemirror_mode": {
    "name": "ipython",
    "version": 3
   },
   "file_extension": ".py",
   "mimetype": "text/x-python",
   "name": "python",
   "nbconvert_exporter": "python",
   "pygments_lexer": "ipython3",
   "version": "3.7.6"
  }
 },
 "nbformat": 4,
 "nbformat_minor": 5
}
