{
 "cells": [
  {
   "cell_type": "code",
   "execution_count": 1,
   "id": "33db903c",
   "metadata": {},
   "outputs": [
    {
     "name": "stdout",
     "output_type": "stream",
     "text": [
      "Collecting nltk\n",
      "  Downloading nltk-3.7-py3-none-any.whl (1.5 MB)\n",
      "\u001b[K     |████████████████████████████████| 1.5 MB 247 kB/s eta 0:00:01\n",
      "\u001b[?25hRequirement already satisfied: click in /home/igorpetrov/anaconda3/envs/tensorflow/lib/python3.7/site-packages (from nltk) (8.0.4)\n",
      "Requirement already satisfied: joblib in /home/igorpetrov/anaconda3/envs/tensorflow/lib/python3.7/site-packages (from nltk) (1.1.0)\n",
      "Collecting tqdm\n",
      "  Downloading tqdm-4.64.0-py2.py3-none-any.whl (78 kB)\n",
      "\u001b[K     |████████████████████████████████| 78 kB 4.3 MB/s  eta 0:00:01\n",
      "\u001b[?25hCollecting regex>=2021.8.3\n",
      "  Downloading regex-2022.6.2-cp37-cp37m-manylinux_2_17_x86_64.manylinux2014_x86_64.whl (749 kB)\n",
      "\u001b[K     |████████████████████████████████| 749 kB 171 kB/s eta 0:00:011\n",
      "\u001b[?25hRequirement already satisfied: importlib-metadata in /home/igorpetrov/anaconda3/envs/tensorflow/lib/python3.7/site-packages (from click->nltk) (4.11.3)\n",
      "Requirement already satisfied: typing-extensions>=3.6.4 in /home/igorpetrov/anaconda3/envs/tensorflow/lib/python3.7/site-packages (from importlib-metadata->click->nltk) (4.1.1)\n",
      "Requirement already satisfied: zipp>=0.5 in /home/igorpetrov/anaconda3/envs/tensorflow/lib/python3.7/site-packages (from importlib-metadata->click->nltk) (3.8.0)\n",
      "Installing collected packages: tqdm, regex, nltk\n",
      "Successfully installed nltk-3.7 regex-2022.6.2 tqdm-4.64.0\n"
     ]
    }
   ],
   "source": [
    "!pip install nltk"
   ]
  },
  {
   "cell_type": "code",
   "execution_count": 1,
   "id": "2b2f822d",
   "metadata": {},
   "outputs": [],
   "source": [
    "import nltk\n",
    "# nltk.download('all')"
   ]
  },
  {
   "cell_type": "code",
   "execution_count": 2,
   "id": "52e718d1",
   "metadata": {},
   "outputs": [],
   "source": [
    "paragraph = \"\"\"\n",
    "After the war, Demikhov resumed his post in the human physiology department at Moscow State University,[4][5] where he continued his experimental research, eventually performing successful heart and lung transplants on warm-blooded animals.[1] In 1947, he moved to the Institute of Surgery in Moscow where he began to experiment with liver and kidney transplantation in the late 1940s.[4]\n",
    "\n",
    "He spent the 1950s carrying out research into organ transplantation surgery, continuously improving his experimental techniques. He successfully performed an isolated orthotopic heart transplantation in a dog in 1951 (where the heart was correctly positioned rather than offset inside the thoracic cavity). The survival rates steadily increased from a few hours to several weeks,[6] and one of the dogs that received a heart transplant in 1953 survived for another seven years after the operation.[1] A successful mammary–coronary artery anastomosis was achieved in 1953, after unsuccessful attempts the previous year. Demikhov also developed the principles of myocardial revascularization, which enabled him to perform the first experimental coronary artery bypass operation.[7] The ultimate aim of his research was for organ transplantations to be implemented in clinical practice on humans.[1] \n",
    "\n",
    "\"\"\""
   ]
  },
  {
   "cell_type": "code",
   "execution_count": 3,
   "id": "fea0c1ed",
   "metadata": {},
   "outputs": [],
   "source": [
    "import nltk\n",
    "from nltk.stem import PorterStemmer\n",
    "from nltk.corpus import stopwords"
   ]
  },
  {
   "cell_type": "code",
   "execution_count": 16,
   "id": "5fe646f9",
   "metadata": {},
   "outputs": [
    {
     "name": "stderr",
     "output_type": "stream",
     "text": [
      "[nltk_data] Downloading package punkt to\n",
      "[nltk_data]     C:\\Users\\Igor\\AppData\\Roaming\\nltk_data...\n",
      "[nltk_data]   Package punkt is already up-to-date!\n",
      "[nltk_data] Downloading package stopwords to\n",
      "[nltk_data]     C:\\Users\\Igor\\AppData\\Roaming\\nltk_data...\n",
      "[nltk_data]   Unzipping corpora\\stopwords.zip.\n"
     ]
    }
   ],
   "source": [
    "## tokenization --- convert paragraph-setncences-words\n",
    "nltk.download('punkt')\n",
    "nltk.download('stopwords')\n",
    "sentences=nltk.sent_tokenize(paragraph)"
   ]
  },
  {
   "cell_type": "code",
   "execution_count": 5,
   "id": "c99aad0e",
   "metadata": {},
   "outputs": [
    {
     "name": "stdout",
     "output_type": "stream",
     "text": [
      "\n",
      "After the war, Demikhov resumed his post in the human physiology department at Moscow State University,[4][5] where he continued his experimental research, eventually performing successful heart and lung transplants on warm-blooded animals.\n",
      "\n",
      "\n",
      "[1] In 1947, he moved to the Institute of Surgery in Moscow where he began to experiment with liver and kidney transplantation in the late 1940s.\n",
      "\n",
      "\n",
      "[4]\n",
      "\n",
      "He spent the 1950s carrying out research into organ transplantation surgery, continuously improving his experimental techniques.\n",
      "\n",
      "\n",
      "He successfully performed an isolated orthotopic heart transplantation in a dog in 1951 (where the heart was correctly positioned rather than offset inside the thoracic cavity).\n",
      "\n",
      "\n",
      "The survival rates steadily increased from a few hours to several weeks,[6] and one of the dogs that received a heart transplant in 1953 survived for another seven years after the operation.\n",
      "\n",
      "\n",
      "[1] A successful mammary–coronary artery anastomosis was achieved in 1953, after unsuccessful attempts the previous year.\n",
      "\n",
      "\n",
      "Demikhov also developed the principles of myocardial revascularization, which enabled him to perform the first experimental coronary artery bypass operation.\n",
      "\n",
      "\n",
      "[7] The ultimate aim of his research was for organ transplantations to be implemented in clinical practice on humans.\n",
      "\n",
      "\n",
      "[1]\n",
      "\n",
      "\n"
     ]
    }
   ],
   "source": [
    "for sent in sentences:\n",
    "    print(sent)\n",
    "    print('\\n')"
   ]
  },
  {
   "cell_type": "code",
   "execution_count": 6,
   "id": "7caef549",
   "metadata": {},
   "outputs": [],
   "source": [
    "stemmer = PorterStemmer()"
   ]
  },
  {
   "cell_type": "code",
   "execution_count": 7,
   "id": "72193709",
   "metadata": {},
   "outputs": [
    {
     "data": {
      "text/plain": [
       "'final'"
      ]
     },
     "execution_count": 7,
     "metadata": {},
     "output_type": "execute_result"
    }
   ],
   "source": [
    "stemmer.stem('finally')"
   ]
  },
  {
   "cell_type": "code",
   "execution_count": 8,
   "id": "cdd6e8e6",
   "metadata": {},
   "outputs": [],
   "source": [
    "from nltk.stem import WordNetLemmatizer"
   ]
  },
  {
   "cell_type": "code",
   "execution_count": 9,
   "id": "35656966",
   "metadata": {},
   "outputs": [
    {
     "name": "stderr",
     "output_type": "stream",
     "text": [
      "[nltk_data] Downloading package wordnet to\n",
      "[nltk_data]     C:\\Users\\Igor\\AppData\\Roaming\\nltk_data...\n",
      "[nltk_data]   Package wordnet is already up-to-date!\n",
      "[nltk_data] Downloading package omw-1.4 to\n",
      "[nltk_data]     C:\\Users\\Igor\\AppData\\Roaming\\nltk_data...\n",
      "[nltk_data]   Package omw-1.4 is already up-to-date!\n"
     ]
    }
   ],
   "source": [
    "nltk.download('wordnet')\n",
    "nltk.download('omw-1.4')\n",
    "lemmatizer = WordNetLemmatizer()"
   ]
  },
  {
   "cell_type": "code",
   "execution_count": 10,
   "id": "b356e9ba",
   "metadata": {},
   "outputs": [
    {
     "data": {
      "text/plain": [
       "'go'"
      ]
     },
     "execution_count": 10,
     "metadata": {},
     "output_type": "execute_result"
    }
   ],
   "source": [
    "lemmatizer.lemmatize('goes')"
   ]
  },
  {
   "cell_type": "code",
   "execution_count": 11,
   "id": "fba6d486",
   "metadata": {},
   "outputs": [],
   "source": [
    "import re\n",
    "corpus=[]\n",
    "for i in range(len(sentences)):\n",
    "    review = re.sub('[^a-zA-Z]',' ',sentences[i]) # replace anything but a-z and A-Z with blank space\n",
    "    review = review.lower()\n",
    "    corpus.append(review)"
   ]
  },
  {
   "cell_type": "code",
   "execution_count": 12,
   "id": "e964a12c",
   "metadata": {},
   "outputs": [
    {
     "data": {
      "text/plain": [
       "[' after the war  demikhov resumed his post in the human physiology department at moscow state university        where he continued his experimental research  eventually performing successful heart and lung transplants on warm blooded animals ',\n",
       " '    in       he moved to the institute of surgery in moscow where he began to experiment with liver and kidney transplantation in the late     s ',\n",
       " '     he spent the     s carrying out research into organ transplantation surgery  continuously improving his experimental techniques ',\n",
       " 'he successfully performed an isolated orthotopic heart transplantation in a dog in       where the heart was correctly positioned rather than offset inside the thoracic cavity  ',\n",
       " 'the survival rates steadily increased from a few hours to several weeks     and one of the dogs that received a heart transplant in      survived for another seven years after the operation ',\n",
       " '    a successful mammary coronary artery anastomosis was achieved in       after unsuccessful attempts the previous year ',\n",
       " 'demikhov also developed the principles of myocardial revascularization  which enabled him to perform the first experimental coronary artery bypass operation ',\n",
       " '    the ultimate aim of his research was for organ transplantations to be implemented in clinical practice on humans ',\n",
       " '   ']"
      ]
     },
     "execution_count": 12,
     "metadata": {},
     "output_type": "execute_result"
    }
   ],
   "source": [
    "corpus"
   ]
  },
  {
   "cell_type": "code",
   "execution_count": 18,
   "id": "0601dbb1",
   "metadata": {},
   "outputs": [
    {
     "data": {
      "text/plain": [
       "['i',\n",
       " 'me',\n",
       " 'my',\n",
       " 'myself',\n",
       " 'we',\n",
       " 'our',\n",
       " 'ours',\n",
       " 'ourselves',\n",
       " 'you',\n",
       " \"you're\",\n",
       " \"you've\",\n",
       " \"you'll\",\n",
       " \"you'd\",\n",
       " 'your',\n",
       " 'yours',\n",
       " 'yourself',\n",
       " 'yourselves',\n",
       " 'he',\n",
       " 'him',\n",
       " 'his',\n",
       " 'himself',\n",
       " 'she',\n",
       " \"she's\",\n",
       " 'her',\n",
       " 'hers',\n",
       " 'herself',\n",
       " 'it',\n",
       " \"it's\",\n",
       " 'its',\n",
       " 'itself',\n",
       " 'they',\n",
       " 'them',\n",
       " 'their',\n",
       " 'theirs',\n",
       " 'themselves',\n",
       " 'what',\n",
       " 'which',\n",
       " 'who',\n",
       " 'whom',\n",
       " 'this',\n",
       " 'that',\n",
       " \"that'll\",\n",
       " 'these',\n",
       " 'those',\n",
       " 'am',\n",
       " 'is',\n",
       " 'are',\n",
       " 'was',\n",
       " 'were',\n",
       " 'be',\n",
       " 'been',\n",
       " 'being',\n",
       " 'have',\n",
       " 'has',\n",
       " 'had',\n",
       " 'having',\n",
       " 'do',\n",
       " 'does',\n",
       " 'did',\n",
       " 'doing',\n",
       " 'a',\n",
       " 'an',\n",
       " 'the',\n",
       " 'and',\n",
       " 'but',\n",
       " 'if',\n",
       " 'or',\n",
       " 'because',\n",
       " 'as',\n",
       " 'until',\n",
       " 'while',\n",
       " 'of',\n",
       " 'at',\n",
       " 'by',\n",
       " 'for',\n",
       " 'with',\n",
       " 'about',\n",
       " 'against',\n",
       " 'between',\n",
       " 'into',\n",
       " 'through',\n",
       " 'during',\n",
       " 'before',\n",
       " 'after',\n",
       " 'above',\n",
       " 'below',\n",
       " 'to',\n",
       " 'from',\n",
       " 'up',\n",
       " 'down',\n",
       " 'in',\n",
       " 'out',\n",
       " 'on',\n",
       " 'off',\n",
       " 'over',\n",
       " 'under',\n",
       " 'again',\n",
       " 'further',\n",
       " 'then',\n",
       " 'once',\n",
       " 'here',\n",
       " 'there',\n",
       " 'when',\n",
       " 'where',\n",
       " 'why',\n",
       " 'how',\n",
       " 'all',\n",
       " 'any',\n",
       " 'both',\n",
       " 'each',\n",
       " 'few',\n",
       " 'more',\n",
       " 'most',\n",
       " 'other',\n",
       " 'some',\n",
       " 'such',\n",
       " 'no',\n",
       " 'nor',\n",
       " 'not',\n",
       " 'only',\n",
       " 'own',\n",
       " 'same',\n",
       " 'so',\n",
       " 'than',\n",
       " 'too',\n",
       " 'very',\n",
       " 's',\n",
       " 't',\n",
       " 'can',\n",
       " 'will',\n",
       " 'just',\n",
       " 'don',\n",
       " \"don't\",\n",
       " 'should',\n",
       " \"should've\",\n",
       " 'now',\n",
       " 'd',\n",
       " 'll',\n",
       " 'm',\n",
       " 'o',\n",
       " 're',\n",
       " 've',\n",
       " 'y',\n",
       " 'ain',\n",
       " 'aren',\n",
       " \"aren't\",\n",
       " 'couldn',\n",
       " \"couldn't\",\n",
       " 'didn',\n",
       " \"didn't\",\n",
       " 'doesn',\n",
       " \"doesn't\",\n",
       " 'hadn',\n",
       " \"hadn't\",\n",
       " 'hasn',\n",
       " \"hasn't\",\n",
       " 'haven',\n",
       " \"haven't\",\n",
       " 'isn',\n",
       " \"isn't\",\n",
       " 'ma',\n",
       " 'mightn',\n",
       " \"mightn't\",\n",
       " 'mustn',\n",
       " \"mustn't\",\n",
       " 'needn',\n",
       " \"needn't\",\n",
       " 'shan',\n",
       " \"shan't\",\n",
       " 'shouldn',\n",
       " \"shouldn't\",\n",
       " 'wasn',\n",
       " \"wasn't\",\n",
       " 'weren',\n",
       " \"weren't\",\n",
       " 'won',\n",
       " \"won't\",\n",
       " 'wouldn',\n",
       " \"wouldn't\"]"
      ]
     },
     "execution_count": 18,
     "metadata": {},
     "output_type": "execute_result"
    }
   ],
   "source": [
    "stopwords.words('english')"
   ]
  },
  {
   "cell_type": "code",
   "execution_count": 17,
   "id": "99a659ba",
   "metadata": {},
   "outputs": [
    {
     "name": "stdout",
     "output_type": "stream",
     "text": [
      "war\n",
      "demikhov\n",
      "resum\n",
      "post\n",
      "human\n",
      "physiolog\n",
      "depart\n",
      "moscow\n",
      "state\n",
      "univers\n",
      "continu\n",
      "experiment\n",
      "research\n",
      "eventu\n",
      "perform\n",
      "success\n",
      "heart\n",
      "lung\n",
      "transplant\n",
      "warm\n",
      "blood\n",
      "anim\n",
      "move\n",
      "institut\n",
      "surgeri\n",
      "moscow\n",
      "began\n",
      "experi\n",
      "liver\n",
      "kidney\n",
      "transplant\n",
      "late\n",
      "spent\n",
      "carri\n",
      "research\n",
      "organ\n",
      "transplant\n",
      "surgeri\n",
      "continu\n",
      "improv\n",
      "experiment\n",
      "techniqu\n",
      "success\n",
      "perform\n",
      "isol\n",
      "orthotop\n",
      "heart\n",
      "transplant\n",
      "dog\n",
      "heart\n",
      "correctli\n",
      "posit\n",
      "rather\n",
      "offset\n",
      "insid\n",
      "thorac\n",
      "caviti\n",
      "surviv\n",
      "rate\n",
      "steadili\n",
      "increas\n",
      "hour\n",
      "sever\n",
      "week\n",
      "one\n",
      "dog\n",
      "receiv\n",
      "heart\n",
      "transplant\n",
      "surviv\n",
      "anoth\n",
      "seven\n",
      "year\n",
      "oper\n",
      "success\n",
      "mammari\n",
      "coronari\n",
      "arteri\n",
      "anastomosi\n",
      "achiev\n",
      "unsuccess\n",
      "attempt\n",
      "previou\n",
      "year\n",
      "demikhov\n",
      "also\n",
      "develop\n",
      "principl\n",
      "myocardi\n",
      "revascular\n",
      "enabl\n",
      "perform\n",
      "first\n",
      "experiment\n",
      "coronari\n",
      "arteri\n",
      "bypass\n",
      "oper\n",
      "ultim\n",
      "aim\n",
      "research\n",
      "organ\n",
      "transplant\n",
      "implement\n",
      "clinic\n",
      "practic\n",
      "human\n"
     ]
    }
   ],
   "source": [
    "## stemming\n",
    "for i in corpus:\n",
    "    words = nltk.word_tokenize(i)\n",
    "    for word in words:\n",
    "        if word not in set(stopwords.words('english')): #show only words that not in stopwords\n",
    "            print(stemmer.stem(word))\n"
   ]
  },
  {
   "cell_type": "markdown",
   "id": "968dc785",
   "metadata": {},
   "source": [
    "### bag of words"
   ]
  },
  {
   "cell_type": "code",
   "execution_count": 19,
   "id": "a07c2c0b",
   "metadata": {},
   "outputs": [],
   "source": [
    "from sklearn.feature_extraction.text import CountVectorizer\n",
    "cv = CountVectorizer()"
   ]
  },
  {
   "cell_type": "code",
   "execution_count": 23,
   "id": "21ccb59c",
   "metadata": {},
   "outputs": [],
   "source": [
    "X = cv.fit_transform(corpus)"
   ]
  },
  {
   "cell_type": "code",
   "execution_count": 24,
   "id": "7b26c50c",
   "metadata": {},
   "outputs": [
    {
     "data": {
      "text/plain": [
       "{'after': 1,\n",
       " 'the': 95,\n",
       " 'war': 105,\n",
       " 'demikhov': 23,\n",
       " 'resumed': 80,\n",
       " 'his': 39,\n",
       " 'post': 72,\n",
       " 'in': 45,\n",
       " 'human': 41,\n",
       " 'physiology': 70,\n",
       " 'department': 24,\n",
       " 'at': 10,\n",
       " 'moscow': 56,\n",
       " 'state': 85,\n",
       " 'university': 103,\n",
       " 'where': 109,\n",
       " 'he': 36,\n",
       " 'continued': 19,\n",
       " 'experimental': 31,\n",
       " 'research': 79,\n",
       " 'eventually': 29,\n",
       " 'performing': 69,\n",
       " 'successful': 87,\n",
       " 'heart': 37,\n",
       " 'and': 6,\n",
       " 'lung': 54,\n",
       " 'transplants': 101,\n",
       " 'on': 61,\n",
       " 'warm': 106,\n",
       " 'blooded': 14,\n",
       " 'animals': 7,\n",
       " 'moved': 57,\n",
       " 'to': 97,\n",
       " 'institute': 48,\n",
       " 'of': 59,\n",
       " 'surgery': 89,\n",
       " 'began': 13,\n",
       " 'experiment': 30,\n",
       " 'with': 111,\n",
       " 'liver': 53,\n",
       " 'kidney': 51,\n",
       " 'transplantation': 99,\n",
       " 'late': 52,\n",
       " 'spent': 84,\n",
       " 'carrying': 16,\n",
       " 'out': 66,\n",
       " 'into': 49,\n",
       " 'organ': 64,\n",
       " 'continuously': 20,\n",
       " 'improving': 44,\n",
       " 'techniques': 92,\n",
       " 'successfully': 88,\n",
       " 'performed': 68,\n",
       " 'an': 4,\n",
       " 'isolated': 50,\n",
       " 'orthotopic': 65,\n",
       " 'dog': 26,\n",
       " 'was': 107,\n",
       " 'correctly': 22,\n",
       " 'positioned': 71,\n",
       " 'rather': 77,\n",
       " 'than': 93,\n",
       " 'offset': 60,\n",
       " 'inside': 47,\n",
       " 'thoracic': 96,\n",
       " 'cavity': 17,\n",
       " 'survival': 90,\n",
       " 'rates': 76,\n",
       " 'steadily': 86,\n",
       " 'increased': 46,\n",
       " 'from': 35,\n",
       " 'few': 32,\n",
       " 'hours': 40,\n",
       " 'several': 83,\n",
       " 'weeks': 108,\n",
       " 'one': 62,\n",
       " 'dogs': 27,\n",
       " 'that': 94,\n",
       " 'received': 78,\n",
       " 'transplant': 98,\n",
       " 'survived': 91,\n",
       " 'for': 34,\n",
       " 'another': 8,\n",
       " 'seven': 82,\n",
       " 'years': 113,\n",
       " 'operation': 63,\n",
       " 'mammary': 55,\n",
       " 'coronary': 21,\n",
       " 'artery': 9,\n",
       " 'anastomosis': 5,\n",
       " 'achieved': 0,\n",
       " 'unsuccessful': 104,\n",
       " 'attempts': 11,\n",
       " 'previous': 74,\n",
       " 'year': 112,\n",
       " 'also': 3,\n",
       " 'developed': 25,\n",
       " 'principles': 75,\n",
       " 'myocardial': 58,\n",
       " 'revascularization': 81,\n",
       " 'which': 110,\n",
       " 'enabled': 28,\n",
       " 'him': 38,\n",
       " 'perform': 67,\n",
       " 'first': 33,\n",
       " 'bypass': 15,\n",
       " 'ultimate': 102,\n",
       " 'aim': 2,\n",
       " 'transplantations': 100,\n",
       " 'be': 12,\n",
       " 'implemented': 43,\n",
       " 'clinical': 18,\n",
       " 'practice': 73,\n",
       " 'humans': 42}"
      ]
     },
     "execution_count": 24,
     "metadata": {},
     "output_type": "execute_result"
    }
   ],
   "source": [
    "cv.vocabulary_ # feature number (index)"
   ]
  },
  {
   "cell_type": "code",
   "execution_count": 25,
   "id": "2c819e1e",
   "metadata": {},
   "outputs": [
    {
     "data": {
      "text/plain": [
       "' after the war  demikhov resumed his post in the human physiology department at moscow state university        where he continued his experimental research  eventually performing successful heart and lung transplants on warm blooded animals '"
      ]
     },
     "execution_count": 25,
     "metadata": {},
     "output_type": "execute_result"
    }
   ],
   "source": [
    "corpus[0]"
   ]
  },
  {
   "cell_type": "code",
   "execution_count": 27,
   "id": "28983fb5",
   "metadata": {},
   "outputs": [
    {
     "data": {
      "text/plain": [
       "array([[0, 1, 0, 0, 0, 0, 1, 1, 0, 0, 1, 0, 0, 0, 1, 0, 0, 0, 0, 1, 0, 0,\n",
       "        0, 1, 1, 0, 0, 0, 0, 1, 0, 1, 0, 0, 0, 0, 1, 1, 0, 2, 0, 1, 0, 0,\n",
       "        0, 1, 0, 0, 0, 0, 0, 0, 0, 0, 1, 0, 1, 0, 0, 0, 0, 1, 0, 0, 0, 0,\n",
       "        0, 0, 0, 1, 1, 0, 1, 0, 0, 0, 0, 0, 0, 1, 1, 0, 0, 0, 0, 1, 0, 1,\n",
       "        0, 0, 0, 0, 0, 0, 0, 2, 0, 0, 0, 0, 0, 1, 0, 1, 0, 1, 1, 0, 0, 1,\n",
       "        0, 0, 0, 0]], dtype=int64)"
      ]
     },
     "execution_count": 27,
     "metadata": {},
     "output_type": "execute_result"
    }
   ],
   "source": [
    "X[0].toarray()"
   ]
  },
  {
   "cell_type": "code",
   "execution_count": 28,
   "id": "7b5b2a67",
   "metadata": {},
   "outputs": [
    {
     "data": {
      "text/plain": [
       "{'after': 1,\n",
       " 'the': 95,\n",
       " 'war': 105,\n",
       " 'demikhov': 23,\n",
       " 'resumed': 80,\n",
       " 'his': 39,\n",
       " 'post': 72,\n",
       " 'in': 45,\n",
       " 'human': 41,\n",
       " 'physiology': 70,\n",
       " 'department': 24,\n",
       " 'at': 10,\n",
       " 'moscow': 56,\n",
       " 'state': 85,\n",
       " 'university': 103,\n",
       " 'where': 109,\n",
       " 'he': 36,\n",
       " 'continued': 19,\n",
       " 'experimental': 31,\n",
       " 'research': 79,\n",
       " 'eventually': 29,\n",
       " 'performing': 69,\n",
       " 'successful': 87,\n",
       " 'heart': 37,\n",
       " 'and': 6,\n",
       " 'lung': 54,\n",
       " 'transplants': 101,\n",
       " 'on': 61,\n",
       " 'warm': 106,\n",
       " 'blooded': 14,\n",
       " 'animals': 7,\n",
       " 'moved': 57,\n",
       " 'to': 97,\n",
       " 'institute': 48,\n",
       " 'of': 59,\n",
       " 'surgery': 89,\n",
       " 'began': 13,\n",
       " 'experiment': 30,\n",
       " 'with': 111,\n",
       " 'liver': 53,\n",
       " 'kidney': 51,\n",
       " 'transplantation': 99,\n",
       " 'late': 52,\n",
       " 'spent': 84,\n",
       " 'carrying': 16,\n",
       " 'out': 66,\n",
       " 'into': 49,\n",
       " 'organ': 64,\n",
       " 'continuously': 20,\n",
       " 'improving': 44,\n",
       " 'techniques': 92,\n",
       " 'successfully': 88,\n",
       " 'performed': 68,\n",
       " 'an': 4,\n",
       " 'isolated': 50,\n",
       " 'orthotopic': 65,\n",
       " 'dog': 26,\n",
       " 'was': 107,\n",
       " 'correctly': 22,\n",
       " 'positioned': 71,\n",
       " 'rather': 77,\n",
       " 'than': 93,\n",
       " 'offset': 60,\n",
       " 'inside': 47,\n",
       " 'thoracic': 96,\n",
       " 'cavity': 17,\n",
       " 'survival': 90,\n",
       " 'rates': 76,\n",
       " 'steadily': 86,\n",
       " 'increased': 46,\n",
       " 'from': 35,\n",
       " 'few': 32,\n",
       " 'hours': 40,\n",
       " 'several': 83,\n",
       " 'weeks': 108,\n",
       " 'one': 62,\n",
       " 'dogs': 27,\n",
       " 'that': 94,\n",
       " 'received': 78,\n",
       " 'transplant': 98,\n",
       " 'survived': 91,\n",
       " 'for': 34,\n",
       " 'another': 8,\n",
       " 'seven': 82,\n",
       " 'years': 113,\n",
       " 'operation': 63,\n",
       " 'mammary': 55,\n",
       " 'coronary': 21,\n",
       " 'artery': 9,\n",
       " 'anastomosis': 5,\n",
       " 'achieved': 0,\n",
       " 'unsuccessful': 104,\n",
       " 'attempts': 11,\n",
       " 'previous': 74,\n",
       " 'year': 112,\n",
       " 'also': 3,\n",
       " 'developed': 25,\n",
       " 'principles': 75,\n",
       " 'myocardial': 58,\n",
       " 'revascularization': 81,\n",
       " 'which': 110,\n",
       " 'enabled': 28,\n",
       " 'him': 38,\n",
       " 'perform': 67,\n",
       " 'first': 33,\n",
       " 'bypass': 15,\n",
       " 'ultimate': 102,\n",
       " 'aim': 2,\n",
       " 'transplantations': 100,\n",
       " 'be': 12,\n",
       " 'implemented': 43,\n",
       " 'clinical': 18,\n",
       " 'practice': 73,\n",
       " 'humans': 42}"
      ]
     },
     "execution_count": 28,
     "metadata": {},
     "output_type": "execute_result"
    }
   ],
   "source": [
    "cv = CountVectorizer(binary = True)\n",
    "X = cv.fit_transform(corpus)\n",
    "cv.vocabulary_ # feature number (index)\n"
   ]
  },
  {
   "cell_type": "code",
   "execution_count": 29,
   "id": "5a24f8da",
   "metadata": {},
   "outputs": [
    {
     "data": {
      "text/plain": [
       "array([[0, 1, 0, 0, 0, 0, 1, 1, 0, 0, 1, 0, 0, 0, 1, 0, 0, 0, 0, 1, 0, 0,\n",
       "        0, 1, 1, 0, 0, 0, 0, 1, 0, 1, 0, 0, 0, 0, 1, 1, 0, 1, 0, 1, 0, 0,\n",
       "        0, 1, 0, 0, 0, 0, 0, 0, 0, 0, 1, 0, 1, 0, 0, 0, 0, 1, 0, 0, 0, 0,\n",
       "        0, 0, 0, 1, 1, 0, 1, 0, 0, 0, 0, 0, 0, 1, 1, 0, 0, 0, 0, 1, 0, 1,\n",
       "        0, 0, 0, 0, 0, 0, 0, 1, 0, 0, 0, 0, 0, 1, 0, 1, 0, 1, 1, 0, 0, 1,\n",
       "        0, 0, 0, 0]], dtype=int64)"
      ]
     },
     "execution_count": 29,
     "metadata": {},
     "output_type": "execute_result"
    }
   ],
   "source": [
    "# all values are either 0 or 1\n",
    "X[0].toarray()"
   ]
  },
  {
   "cell_type": "code",
   "execution_count": null,
   "id": "99af2e81",
   "metadata": {},
   "outputs": [],
   "source": []
  }
 ],
 "metadata": {
  "kernelspec": {
   "display_name": "Python 3 (ipykernel)",
   "language": "python",
   "name": "python3"
  },
  "language_info": {
   "codemirror_mode": {
    "name": "ipython",
    "version": 3
   },
   "file_extension": ".py",
   "mimetype": "text/x-python",
   "name": "python",
   "nbconvert_exporter": "python",
   "pygments_lexer": "ipython3",
   "version": "3.8.5"
  }
 },
 "nbformat": 4,
 "nbformat_minor": 5
}
