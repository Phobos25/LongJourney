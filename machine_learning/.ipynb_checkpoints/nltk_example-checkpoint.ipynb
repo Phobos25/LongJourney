{
 "cells": [
  {
   "cell_type": "code",
   "execution_count": 1,
   "id": "33db903c",
   "metadata": {},
   "outputs": [
    {
     "name": "stdout",
     "output_type": "stream",
     "text": [
      "Collecting nltk\n",
      "  Downloading nltk-3.7-py3-none-any.whl (1.5 MB)\n",
      "\u001b[K     |████████████████████████████████| 1.5 MB 247 kB/s eta 0:00:01\n",
      "\u001b[?25hRequirement already satisfied: click in /home/igorpetrov/anaconda3/envs/tensorflow/lib/python3.7/site-packages (from nltk) (8.0.4)\n",
      "Requirement already satisfied: joblib in /home/igorpetrov/anaconda3/envs/tensorflow/lib/python3.7/site-packages (from nltk) (1.1.0)\n",
      "Collecting tqdm\n",
      "  Downloading tqdm-4.64.0-py2.py3-none-any.whl (78 kB)\n",
      "\u001b[K     |████████████████████████████████| 78 kB 4.3 MB/s  eta 0:00:01\n",
      "\u001b[?25hCollecting regex>=2021.8.3\n",
      "  Downloading regex-2022.6.2-cp37-cp37m-manylinux_2_17_x86_64.manylinux2014_x86_64.whl (749 kB)\n",
      "\u001b[K     |████████████████████████████████| 749 kB 171 kB/s eta 0:00:011\n",
      "\u001b[?25hRequirement already satisfied: importlib-metadata in /home/igorpetrov/anaconda3/envs/tensorflow/lib/python3.7/site-packages (from click->nltk) (4.11.3)\n",
      "Requirement already satisfied: typing-extensions>=3.6.4 in /home/igorpetrov/anaconda3/envs/tensorflow/lib/python3.7/site-packages (from importlib-metadata->click->nltk) (4.1.1)\n",
      "Requirement already satisfied: zipp>=0.5 in /home/igorpetrov/anaconda3/envs/tensorflow/lib/python3.7/site-packages (from importlib-metadata->click->nltk) (3.8.0)\n",
      "Installing collected packages: tqdm, regex, nltk\n",
      "Successfully installed nltk-3.7 regex-2022.6.2 tqdm-4.64.0\n"
     ]
    }
   ],
   "source": [
    "!pip install nltk"
   ]
  },
  {
   "cell_type": "code",
   "execution_count": 1,
   "id": "2b2f822d",
   "metadata": {},
   "outputs": [],
   "source": [
    "import nltk\n",
    "# nltk.download('all')"
   ]
  },
  {
   "cell_type": "code",
   "execution_count": 2,
   "id": "52e718d1",
   "metadata": {},
   "outputs": [],
   "source": [
    "paragraph = \"\"\"\n",
    "After the war, Demikhov resumed his post in the human physiology department at Moscow State University,[4][5] where he continued his experimental research, eventually performing successful heart and lung transplants on warm-blooded animals.[1] In 1947, he moved to the Institute of Surgery in Moscow where he began to experiment with liver and kidney transplantation in the late 1940s.[4]\n",
    "\n",
    "He spent the 1950s carrying out research into organ transplantation surgery, continuously improving his experimental techniques. He successfully performed an isolated orthotopic heart transplantation in a dog in 1951 (where the heart was correctly positioned rather than offset inside the thoracic cavity). The survival rates steadily increased from a few hours to several weeks,[6] and one of the dogs that received a heart transplant in 1953 survived for another seven years after the operation.[1] A successful mammary–coronary artery anastomosis was achieved in 1953, after unsuccessful attempts the previous year. Demikhov also developed the principles of myocardial revascularization, which enabled him to perform the first experimental coronary artery bypass operation.[7] The ultimate aim of his research was for organ transplantations to be implemented in clinical practice on humans.[1] \n",
    "\n",
    "\"\"\""
   ]
  },
  {
   "cell_type": "code",
   "execution_count": 12,
   "id": "fea0c1ed",
   "metadata": {},
   "outputs": [],
   "source": [
    "import nltk\n",
    "from nltk.stem import PorterStemmer\n",
    "from nltk.corpus import stopwords"
   ]
  },
  {
   "cell_type": "code",
   "execution_count": 4,
   "id": "5fe646f9",
   "metadata": {},
   "outputs": [
    {
     "name": "stderr",
     "output_type": "stream",
     "text": [
      "[nltk_data] Downloading package punkt to /home/igorpetrov/nltk_data...\n",
      "[nltk_data]   Package punkt is already up-to-date!\n"
     ]
    }
   ],
   "source": [
    "## tokenization --- convert paragraph-setncences-words\n",
    "nltk.download('punkt')\n",
    "sentences=nltk.sent_tokenize(paragraph)"
   ]
  },
  {
   "cell_type": "code",
   "execution_count": 6,
   "id": "c99aad0e",
   "metadata": {},
   "outputs": [
    {
     "name": "stdout",
     "output_type": "stream",
     "text": [
      "\n",
      "After the war, Demikhov resumed his post in the human physiology department at Moscow State University,[4][5] where he continued his experimental research, eventually performing successful heart and lung transplants on warm-blooded animals.\n",
      "\n",
      "\n",
      "[1] In 1947, he moved to the Institute of Surgery in Moscow where he began to experiment with liver and kidney transplantation in the late 1940s.\n",
      "\n",
      "\n",
      "[4]\n",
      "\n",
      "He spent the 1950s carrying out research into organ transplantation surgery, continuously improving his experimental techniques.\n",
      "\n",
      "\n",
      "He successfully performed an isolated orthotopic heart transplantation in a dog in 1951 (where the heart was correctly positioned rather than offset inside the thoracic cavity).\n",
      "\n",
      "\n",
      "The survival rates steadily increased from a few hours to several weeks,[6] and one of the dogs that received a heart transplant in 1953 survived for another seven years after the operation.\n",
      "\n",
      "\n",
      "[1] A successful mammary–coronary artery anastomosis was achieved in 1953, after unsuccessful attempts the previous year.\n",
      "\n",
      "\n",
      "Demikhov also developed the principles of myocardial revascularization, which enabled him to perform the first experimental coronary artery bypass operation.\n",
      "\n",
      "\n",
      "[7] The ultimate aim of his research was for organ transplantations to be implemented in clinical practice on humans.\n",
      "\n",
      "\n",
      "[1]\n",
      "\n",
      "\n"
     ]
    }
   ],
   "source": [
    "for sent in sentences:\n",
    "    print(sent)\n",
    "    print('\\n')"
   ]
  },
  {
   "cell_type": "code",
   "execution_count": 8,
   "id": "7caef549",
   "metadata": {},
   "outputs": [],
   "source": [
    "stemmer = nltk.stem.PorterStemmer()"
   ]
  },
  {
   "cell_type": "code",
   "execution_count": 9,
   "id": "72193709",
   "metadata": {},
   "outputs": [
    {
     "data": {
      "text/plain": [
       "'final'"
      ]
     },
     "execution_count": 9,
     "metadata": {},
     "output_type": "execute_result"
    }
   ],
   "source": [
    "stemmer.stem('finally')"
   ]
  },
  {
   "cell_type": "code",
   "execution_count": 10,
   "id": "cdd6e8e6",
   "metadata": {},
   "outputs": [],
   "source": [
    "from nltk.stem import WordNetLemmatizer"
   ]
  },
  {
   "cell_type": "code",
   "execution_count": 11,
   "id": "35656966",
   "metadata": {},
   "outputs": [
    {
     "name": "stderr",
     "output_type": "stream",
     "text": [
      "[nltk_data] Downloading package wordnet to\n",
      "[nltk_data]     /home/igorpetrov/nltk_data...\n",
      "[nltk_data]   Package wordnet is already up-to-date!\n",
      "[nltk_data] Downloading package omw-1.4 to\n",
      "[nltk_data]     /home/igorpetrov/nltk_data...\n",
      "[nltk_data]   Package omw-1.4 is already up-to-date!\n"
     ]
    }
   ],
   "source": [
    "nltk.download('wordnet')\n",
    "nltk.download('omw-1.4')\n",
    "lemmatizer = WordNetLemmatizer()"
   ]
  },
  {
   "cell_type": "code",
   "execution_count": null,
   "id": "b356e9ba",
   "metadata": {},
   "outputs": [],
   "source": [
    "lemmatizer.lemmatize('goes')"
   ]
  },
  {
   "cell_type": "code",
   "execution_count": null,
   "id": "fba6d486",
   "metadata": {},
   "outputs": [],
   "source": [
    "import re\n",
    "corpus=[]\n",
    "for i in range(len(sentences)):\n",
    "    review = re.sub('[^a-zA-Z]',' ',sentences[i]) # replace anything but a-z and A-Z with blank space\n",
    "    review = review.lower()\n",
    "    corpus.append(review)"
   ]
  },
  {
   "cell_type": "code",
   "execution_count": null,
   "id": "e964a12c",
   "metadata": {},
   "outputs": [],
   "source": [
    "corpus"
   ]
  },
  {
   "cell_type": "code",
   "execution_count": null,
   "id": "99a659ba",
   "metadata": {},
   "outputs": [],
   "source": [
    "## stemming\n"
   ]
  }
 ],
 "metadata": {
  "kernelspec": {
   "display_name": "Python 3 (ipykernel)",
   "language": "python",
   "name": "python3"
  },
  "language_info": {
   "codemirror_mode": {
    "name": "ipython",
    "version": 3
   },
   "file_extension": ".py",
   "mimetype": "text/x-python",
   "name": "python",
   "nbconvert_exporter": "python",
   "pygments_lexer": "ipython3",
   "version": "3.7.13"
  }
 },
 "nbformat": 4,
 "nbformat_minor": 5
}
