{
 "cells": [
  {
   "cell_type": "markdown",
   "metadata": {
    "id": "BvNNfs06t2Yt"
   },
   "source": [
    "# Случайность\n",
    "\n",
    "В этом ноутбуке мы рассмотрим примеры работы с вероятностью в Python"
   ]
  },
  {
   "cell_type": "code",
   "execution_count": 1,
   "metadata": {
    "colab": {
     "base_uri": "https://localhost:8080/"
    },
    "executionInfo": {
     "elapsed": 1062,
     "status": "ok",
     "timestamp": 1605189161558,
     "user": {
      "displayName": "Vladimir Podolskii",
      "photoUrl": "",
      "userId": "06527081676405376569"
     },
     "user_tz": -180
    },
    "id": "wjYRqTXLt2Yu",
    "outputId": "50a57e8f-64b8-404a-d00a-c7405e9c4b30"
   },
   "outputs": [
    {
     "name": "stdout",
     "output_type": "stream",
     "text": [
      "Случайное число от 0 до 5: 5\n",
      "Случайное число от 1 до 6: 2\n",
      "Случайная буква из A, B, C, D: C\n",
      "10 cлучайных результатов в лотерее: ['0 рублей', '0 рублей', '0 рублей', '0 рублей', '0 рублей', '0 рублей', '100 рублей', '0 рублей', '0 рублей', '0 рублей']\n",
      "Общий выигрыш: 100 рублей\n"
     ]
    }
   ],
   "source": [
    "import random as rand\n",
    "\n",
    "print(\"Случайное число от 0 до 5:\", rand.randrange(6))\n",
    "\n",
    "print(\"Случайное число от 1 до 6:\", rand.randrange(1,7))\n",
    "\n",
    "print(\"Случайная буква из A, B, C, D:\", rand.choice('ABCD'))\n",
    "\n",
    "lottery_results = rand.choices(['1000 рублей', '100 рублей', '0 рублей'], [1, 10, 89], k=10)\n",
    "\n",
    "print(\"10 cлучайных результатов в лотерее:\", lottery_results)\n",
    "print(\"Общий выигрыш:\", 100 * lottery_results.count('100 рублей') + 1000 * lottery_results.count('1000 рублей'), \"рублей\")"
   ]
  },
  {
   "cell_type": "code",
   "execution_count": null,
   "metadata": {
    "colab": {
     "base_uri": "https://localhost:8080/"
    },
    "executionInfo": {
     "elapsed": 883,
     "status": "ok",
     "timestamp": 1605189215045,
     "user": {
      "displayName": "Vladimir Podolskii",
      "photoUrl": "",
      "userId": "06527081676405376569"
     },
     "user_tz": -180
    },
    "id": "IXkaQUTft2Yx",
    "outputId": "145d2935-21b7-4d73-f943-8fbad3833682"
   },
   "outputs": [],
   "source": [
    "# Генерируем выборку без возвращений\n",
    "\n",
    "rand.sample(range(9), k=4) "
   ]
  },
  {
   "cell_type": "code",
   "execution_count": null,
   "metadata": {
    "colab": {
     "base_uri": "https://localhost:8080/"
    },
    "executionInfo": {
     "elapsed": 927,
     "status": "ok",
     "timestamp": 1605189221332,
     "user": {
      "displayName": "Vladimir Podolskii",
      "photoUrl": "",
      "userId": "06527081676405376569"
     },
     "user_tz": -180
    },
    "id": "l3hooURXt2Y0",
    "outputId": "d5375d89-87de-4d45-c773-4cec03432fb6"
   },
   "outputs": [],
   "source": [
    "# Считаем среднюю оценку за тест\n",
    "\n",
    "from statistics import mean\n",
    "\n",
    "mean([78,72,87])"
   ]
  },
  {
   "cell_type": "code",
   "execution_count": null,
   "metadata": {
    "colab": {
     "base_uri": "https://localhost:8080/"
    },
    "executionInfo": {
     "elapsed": 831,
     "status": "ok",
     "timestamp": 1605189271746,
     "user": {
      "displayName": "Vladimir Podolskii",
      "photoUrl": "",
      "userId": "06527081676405376569"
     },
     "user_tz": -180
    },
    "id": "I2S_XLswt2Y2",
    "outputId": "5cfdf4e9-5275-44e7-e10a-4ae7c08b587b"
   },
   "outputs": [],
   "source": [
    "# Считаем среднее значение на кубике в серии бросаний\n",
    "\n",
    "mean(i for i in rand.choices(range(1,7),k=10))"
   ]
  }
 ],
 "metadata": {
  "colab": {
   "name": "random.ipynb",
   "provenance": []
  },
  "kernelspec": {
   "display_name": "Python 3",
   "language": "python",
   "name": "python3"
  },
  "language_info": {
   "codemirror_mode": {
    "name": "ipython",
    "version": 3
   },
   "file_extension": ".py",
   "mimetype": "text/x-python",
   "name": "python",
   "nbconvert_exporter": "python",
   "pygments_lexer": "ipython3",
   "version": "3.7.6"
  }
 },
 "nbformat": 4,
 "nbformat_minor": 1
}
