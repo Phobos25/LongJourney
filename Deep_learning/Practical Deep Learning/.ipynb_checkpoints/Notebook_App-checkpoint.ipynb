{
 "cells": [
  {
   "cell_type": "code",
   "execution_count": 1,
   "id": "96bf297d",
   "metadata": {},
   "outputs": [
    {
     "name": "stdout",
     "output_type": "stream",
     "text": [
      "Collecting voila\n",
      "  Downloading voila-0.2.9-py3-none-any.whl (1.6 MB)\n",
      "\u001b[K     |████████████████████████████████| 1.6 MB 436 kB/s eta 0:00:01\n",
      "\u001b[?25hCollecting jupyter-client<7,>=6.1.3\n",
      "  Downloading jupyter_client-6.1.12-py3-none-any.whl (112 kB)\n",
      "\u001b[K     |████████████████████████████████| 112 kB 71 kB/s eta 0:00:01\n",
      "\u001b[?25hCollecting nbclient<0.6,>=0.4.0\n",
      "  Downloading nbclient-0.5.3-py3-none-any.whl (82 kB)\n",
      "\u001b[K     |████████████████████████████████| 82 kB 420 kB/s eta 0:00:011\n",
      "\u001b[?25hCollecting nbconvert<7,>=6.0.0\n",
      "  Downloading nbconvert-6.0.7-py3-none-any.whl (552 kB)\n",
      "\u001b[K     |████████████████████████████████| 552 kB 50 kB/s eta 0:00:011\n",
      "\u001b[?25hCollecting jupyter-server<2.0.0,>=0.3.0\n",
      "  Downloading jupyter_server-1.6.2-py3-none-any.whl (375 kB)\n",
      "\u001b[K     |████████████████████████████████| 375 kB 428 kB/s eta 0:00:01\n",
      "\u001b[?25hRequirement already satisfied: tornado>=4.1 in /home/igorpetrov/anaconda3/lib/python3.7/site-packages (from jupyter-client<7,>=6.1.3->voila) (6.0.3)\n",
      "Requirement already satisfied: python-dateutil>=2.1 in /home/igorpetrov/anaconda3/lib/python3.7/site-packages (from jupyter-client<7,>=6.1.3->voila) (2.8.1)\n",
      "Requirement already satisfied: traitlets in /home/igorpetrov/anaconda3/lib/python3.7/site-packages (from jupyter-client<7,>=6.1.3->voila) (4.3.3)\n",
      "Requirement already satisfied: jupyter-core>=4.6.0 in /home/igorpetrov/anaconda3/lib/python3.7/site-packages (from jupyter-client<7,>=6.1.3->voila) (4.6.1)\n",
      "Requirement already satisfied: pyzmq>=13 in /home/igorpetrov/anaconda3/lib/python3.7/site-packages (from jupyter-client<7,>=6.1.3->voila) (18.1.1)\n",
      "Collecting nest-asyncio\n",
      "  Downloading nest_asyncio-1.5.1-py3-none-any.whl (5.0 kB)\n",
      "Requirement already satisfied: nbformat>=5.0 in /home/igorpetrov/anaconda3/lib/python3.7/site-packages (from nbclient<0.6,>=0.4.0->voila) (5.0.4)\n",
      "Collecting async-generator\n",
      "  Downloading async_generator-1.10-py3-none-any.whl (18 kB)\n",
      "Requirement already satisfied: bleach in /home/igorpetrov/anaconda3/lib/python3.7/site-packages (from nbconvert<7,>=6.0.0->voila) (3.1.0)\n",
      "Requirement already satisfied: testpath in /home/igorpetrov/anaconda3/lib/python3.7/site-packages (from nbconvert<7,>=6.0.0->voila) (0.4.4)\n",
      "Collecting jupyterlab-pygments\n",
      "  Downloading jupyterlab_pygments-0.1.2-py2.py3-none-any.whl (4.6 kB)\n",
      "Requirement already satisfied: mistune<2,>=0.8.1 in /home/igorpetrov/anaconda3/lib/python3.7/site-packages (from nbconvert<7,>=6.0.0->voila) (0.8.4)\n",
      "Requirement already satisfied: entrypoints>=0.2.2 in /home/igorpetrov/anaconda3/lib/python3.7/site-packages (from nbconvert<7,>=6.0.0->voila) (0.3)\n",
      "Requirement already satisfied: pandocfilters>=1.4.1 in /home/igorpetrov/anaconda3/lib/python3.7/site-packages (from nbconvert<7,>=6.0.0->voila) (1.4.2)\n",
      "Requirement already satisfied: pygments>=2.4.1 in /home/igorpetrov/anaconda3/lib/python3.7/site-packages (from nbconvert<7,>=6.0.0->voila) (2.5.2)\n",
      "Requirement already satisfied: defusedxml in /home/igorpetrov/anaconda3/lib/python3.7/site-packages (from nbconvert<7,>=6.0.0->voila) (0.6.0)\n",
      "Requirement already satisfied: jinja2>=2.4 in /home/igorpetrov/anaconda3/lib/python3.7/site-packages (from nbconvert<7,>=6.0.0->voila) (2.11.1)\n",
      "Collecting argon2-cffi\n",
      "  Downloading argon2_cffi-20.1.0-cp35-abi3-manylinux1_x86_64.whl (97 kB)\n",
      "\u001b[K     |████████████████████████████████| 97 kB 836 kB/s eta 0:00:011\n",
      "\u001b[?25hCollecting anyio>=2.0.2\n",
      "  Downloading anyio-2.2.0-py3-none-any.whl (65 kB)\n",
      "\u001b[K     |████████████████████████████████| 65 kB 774 kB/s eta 0:00:01\n",
      "\u001b[?25hRequirement already satisfied: prometheus-client in /home/igorpetrov/anaconda3/lib/python3.7/site-packages (from jupyter-server<2.0.0,>=0.3.0->voila) (0.7.1)\n",
      "Requirement already satisfied: terminado>=0.8.3 in /home/igorpetrov/anaconda3/lib/python3.7/site-packages (from jupyter-server<2.0.0,>=0.3.0->voila) (0.8.3)\n",
      "Requirement already satisfied: ipython-genutils in /home/igorpetrov/anaconda3/lib/python3.7/site-packages (from jupyter-server<2.0.0,>=0.3.0->voila) (0.2.0)\n",
      "Collecting jupyter-packaging~=0.9\n",
      "  Downloading jupyter_packaging-0.9.1-py2.py3-none-any.whl (13 kB)\n",
      "Requirement already satisfied: Send2Trash in /home/igorpetrov/anaconda3/lib/python3.7/site-packages (from jupyter-server<2.0.0,>=0.3.0->voila) (1.5.0)\n",
      "Requirement already satisfied: six>=1.5 in /home/igorpetrov/anaconda3/lib/python3.7/site-packages (from python-dateutil>=2.1->jupyter-client<7,>=6.1.3->voila) (1.14.0)\n",
      "Requirement already satisfied: decorator in /home/igorpetrov/anaconda3/lib/python3.7/site-packages (from traitlets->jupyter-client<7,>=6.1.3->voila) (4.4.1)\n",
      "Requirement already satisfied: jsonschema!=2.5.0,>=2.4 in /home/igorpetrov/anaconda3/lib/python3.7/site-packages (from nbformat>=5.0->nbclient<0.6,>=0.4.0->voila) (3.2.0)\n",
      "Requirement already satisfied: webencodings in /home/igorpetrov/anaconda3/lib/python3.7/site-packages (from bleach->nbconvert<7,>=6.0.0->voila) (0.5.1)\n",
      "Requirement already satisfied: MarkupSafe>=0.23 in /home/igorpetrov/anaconda3/lib/python3.7/site-packages (from jinja2>=2.4->nbconvert<7,>=6.0.0->voila) (1.1.1)\n",
      "Requirement already satisfied: cffi>=1.0.0 in /home/igorpetrov/anaconda3/lib/python3.7/site-packages (from argon2-cffi->jupyter-server<2.0.0,>=0.3.0->voila) (1.14.0)\n",
      "Requirement already satisfied: idna>=2.8 in /home/igorpetrov/anaconda3/lib/python3.7/site-packages (from anyio>=2.0.2->jupyter-server<2.0.0,>=0.3.0->voila) (2.8)\n",
      "Collecting sniffio>=1.1\n",
      "  Downloading sniffio-1.2.0-py3-none-any.whl (10 kB)\n",
      "Collecting typing-extensions; python_version < \"3.8\"\n",
      "  Downloading typing_extensions-3.7.4.3-py3-none-any.whl (22 kB)\n",
      "Collecting tomlkit\n",
      "  Downloading tomlkit-0.7.0-py2.py3-none-any.whl (32 kB)\n",
      "Requirement already satisfied: wheel in /home/igorpetrov/anaconda3/lib/python3.7/site-packages (from jupyter-packaging~=0.9->jupyter-server<2.0.0,>=0.3.0->voila) (0.34.2)\n",
      "Requirement already satisfied: packaging in /home/igorpetrov/anaconda3/lib/python3.7/site-packages (from jupyter-packaging~=0.9->jupyter-server<2.0.0,>=0.3.0->voila) (20.1)\n",
      "Collecting setuptools>=49.4.0\n",
      "  Downloading setuptools-56.0.0-py3-none-any.whl (784 kB)\n",
      "\u001b[K     |████████████████████████████████| 784 kB 330 kB/s eta 0:00:011\n",
      "\u001b[?25hCollecting deprecation\n",
      "  Downloading deprecation-2.1.0-py2.py3-none-any.whl (11 kB)\n",
      "Requirement already satisfied: pyrsistent>=0.14.0 in /home/igorpetrov/anaconda3/lib/python3.7/site-packages (from jsonschema!=2.5.0,>=2.4->nbformat>=5.0->nbclient<0.6,>=0.4.0->voila) (0.15.7)\n",
      "Requirement already satisfied: attrs>=17.4.0 in /home/igorpetrov/anaconda3/lib/python3.7/site-packages (from jsonschema!=2.5.0,>=2.4->nbformat>=5.0->nbclient<0.6,>=0.4.0->voila) (19.3.0)\n",
      "Requirement already satisfied: importlib-metadata; python_version < \"3.8\" in /home/igorpetrov/anaconda3/lib/python3.7/site-packages (from jsonschema!=2.5.0,>=2.4->nbformat>=5.0->nbclient<0.6,>=0.4.0->voila) (1.5.0)\n",
      "Requirement already satisfied: pycparser in /home/igorpetrov/anaconda3/lib/python3.7/site-packages (from cffi>=1.0.0->argon2-cffi->jupyter-server<2.0.0,>=0.3.0->voila) (2.19)\n",
      "Requirement already satisfied: pyparsing>=2.0.2 in /home/igorpetrov/anaconda3/lib/python3.7/site-packages (from packaging->jupyter-packaging~=0.9->jupyter-server<2.0.0,>=0.3.0->voila) (2.4.6)\n",
      "Requirement already satisfied: zipp>=0.5 in /home/igorpetrov/anaconda3/lib/python3.7/site-packages (from importlib-metadata; python_version < \"3.8\"->jsonschema!=2.5.0,>=2.4->nbformat>=5.0->nbclient<0.6,>=0.4.0->voila) (2.2.0)\n",
      "\u001b[31mERROR: spyder 4.0.1 requires pyqt5<5.13; python_version >= \"3\", which is not installed.\u001b[0m\n",
      "\u001b[31mERROR: spyder 4.0.1 requires pyqtwebengine<5.13; python_version >= \"3\", which is not installed.\u001b[0m\n",
      "\u001b[31mERROR: jupyter-server 1.6.2 has requirement tornado>=6.1.0, but you'll have tornado 6.0.3 which is incompatible.\u001b[0m\n",
      "Installing collected packages: jupyter-client, nest-asyncio, async-generator, nbclient, jupyterlab-pygments, nbconvert, argon2-cffi, sniffio, typing-extensions, anyio, tomlkit, setuptools, deprecation, jupyter-packaging, jupyter-server, voila\n",
      "  Attempting uninstall: jupyter-client\n",
      "    Found existing installation: jupyter-client 5.3.4\n",
      "    Uninstalling jupyter-client-5.3.4:\n",
      "      Successfully uninstalled jupyter-client-5.3.4\n",
      "  Attempting uninstall: nbconvert\n",
      "    Found existing installation: nbconvert 5.6.1\n"
     ]
    },
    {
     "name": "stdout",
     "output_type": "stream",
     "text": [
      "    Uninstalling nbconvert-5.6.1:\n",
      "      Successfully uninstalled nbconvert-5.6.1\n",
      "  Attempting uninstall: setuptools\n",
      "    Found existing installation: setuptools 45.2.0.post20200210\n",
      "    Uninstalling setuptools-45.2.0.post20200210:\n",
      "      Successfully uninstalled setuptools-45.2.0.post20200210\n",
      "Successfully installed anyio-2.2.0 argon2-cffi-20.1.0 async-generator-1.10 deprecation-2.1.0 jupyter-client-6.1.12 jupyter-packaging-0.9.1 jupyter-server-1.6.2 jupyterlab-pygments-0.1.2 nbclient-0.5.3 nbconvert-6.0.7 nest-asyncio-1.5.1 setuptools-56.0.0 sniffio-1.2.0 tomlkit-0.7.0 typing-extensions-3.7.4.3 voila-0.2.9\n",
      "Enabling: voila\n",
      "- Writing config: /home/igorpetrov/anaconda3/etc/jupyter\n",
      "    - Validating...\n",
      "      voila 0.2.9 \u001b[32mOK\u001b[0m\n"
     ]
    }
   ],
   "source": [
    "#!pip install voila\n",
    "#!jupyter serverextension enable --sys-prefix voila "
   ]
  },
  {
   "cell_type": "code",
   "execution_count": 3,
   "id": "5c81c22a",
   "metadata": {},
   "outputs": [
    {
     "name": "stdout",
     "output_type": "stream",
     "text": [
      "^C\r\n",
      "\u001b[31mERROR: Operation cancelled by user\u001b[0m\r\n"
     ]
    }
   ],
   "source": [
    "#!pip install -Uqq fastbook"
   ]
  },
  {
   "cell_type": "code",
   "execution_count": 1,
   "id": "71f0307b",
   "metadata": {},
   "outputs": [
    {
     "name": "stderr",
     "output_type": "stream",
     "text": [
      "C:\\Users\\Igor\\anaconda3\\lib\\site-packages\\fastbook\\__init__.py:18: UserWarning: Missing `graphviz` - please run `conda install fastbook`\n",
      "  except ModuleNotFoundError: warn(\"Missing `graphviz` - please run `conda install fastbook`\")\n"
     ]
    }
   ],
   "source": [
    "from fastbook import *\n",
    "from fastai.vision.widgets import *"
   ]
  },
  {
   "cell_type": "code",
   "execution_count": 2,
   "id": "350087d0",
   "metadata": {},
   "outputs": [
    {
     "data": {
      "text/plain": [
       "(#1) [Path('parameters/export.pkl')]"
      ]
     },
     "execution_count": 2,
     "metadata": {},
     "output_type": "execute_result"
    }
   ],
   "source": [
    "#проверяем есть ли сохраненная модель\n",
    "path = Path()/\"parameters\"\n",
    "path.ls(file_exts=\".pkl\")"
   ]
  },
  {
   "cell_type": "code",
   "execution_count": 3,
   "id": "018907fe",
   "metadata": {},
   "outputs": [],
   "source": [
    "#redirect PosixPath to WindowsPath.\n",
    "import pathlib\n",
    "temp = pathlib.PosixPath  # backup copy\n",
    "pathlib.PosixPath = pathlib.WindowsPath # change posixPath to windows path type"
   ]
  },
  {
   "cell_type": "code",
   "execution_count": 15,
   "id": "7d201d96",
   "metadata": {},
   "outputs": [],
   "source": [
    "#загружаем нашу модель\n",
    "learn_inf = load_learner(path/\"export.pkl\")\n",
    "pathlib.PosixPath = temp # Since this might cause issues later. change it back"
   ]
  },
  {
   "cell_type": "code",
   "execution_count": 16,
   "id": "22a24e98",
   "metadata": {},
   "outputs": [
    {
     "data": {
      "text/html": [],
      "text/plain": [
       "<IPython.core.display.HTML object>"
      ]
     },
     "metadata": {},
     "output_type": "display_data"
    },
    {
     "data": {
      "text/plain": [
       "('teddy', tensor(3), tensor([0.0054, 0.2020, 0.1683, 0.6242]))"
      ]
     },
     "execution_count": 16,
     "metadata": {},
     "output_type": "execute_result"
    }
   ],
   "source": [
    "learn_inf.predict('images/200037_620.jpg') # this is wrong, since it's not teddy it's polar bear!"
   ]
  },
  {
   "cell_type": "code",
   "execution_count": 17,
   "id": "4772dff5",
   "metadata": {},
   "outputs": [
    {
     "data": {
      "text/plain": [
       "['grizzly', 'panda', 'polar', 'teddy']"
      ]
     },
     "execution_count": 17,
     "metadata": {},
     "output_type": "execute_result"
    }
   ],
   "source": [
    "learn_inf.dls.vocab"
   ]
  },
  {
   "cell_type": "code",
   "execution_count": 18,
   "id": "f4a0cae3",
   "metadata": {},
   "outputs": [
    {
     "data": {
      "application/vnd.jupyter.widget-view+json": {
       "model_id": "519d9bdfff5c4589b0daad8ec957016f",
       "version_major": 2,
       "version_minor": 0
      },
      "text/plain": [
       "FileUpload(value={}, description='Upload')"
      ]
     },
     "metadata": {},
     "output_type": "display_data"
    }
   ],
   "source": [
    "#hide_output\n",
    "btn_upload = widgets.FileUpload()\n",
    "btn_upload"
   ]
  },
  {
   "cell_type": "code",
   "execution_count": 19,
   "id": "11c99eff",
   "metadata": {},
   "outputs": [],
   "source": [
    "img = PILImage.create(btn_upload.data[-1]) # we take the last added picture"
   ]
  },
  {
   "cell_type": "code",
   "execution_count": 21,
   "id": "3f153110",
   "metadata": {},
   "outputs": [
    {
     "data": {
      "application/vnd.jupyter.widget-view+json": {
       "model_id": "cb3fc6f499534c66b6d7d0ce466e0770",
       "version_major": 2,
       "version_minor": 0
      },
      "text/plain": [
       "Output()"
      ]
     },
     "metadata": {},
     "output_type": "display_data"
    }
   ],
   "source": [
    "#hide_output\n",
    "out_pl = widgets.Output()\n",
    "out_pl.clear_output()\n",
    "with out_pl: display(img.to_thumb(128,128))\n",
    "out_pl"
   ]
  },
  {
   "cell_type": "code",
   "execution_count": 22,
   "id": "38e19ef2",
   "metadata": {},
   "outputs": [
    {
     "data": {
      "text/html": [],
      "text/plain": [
       "<IPython.core.display.HTML object>"
      ]
     },
     "metadata": {},
     "output_type": "display_data"
    },
    {
     "data": {
      "application/vnd.jupyter.widget-view+json": {
       "model_id": "18fc406145e64334bd3cbe6504c5eef0",
       "version_major": 2,
       "version_minor": 0
      },
      "text/plain": [
       "Label(value='Prediction: panda; Probability: 1.0000')"
      ]
     },
     "metadata": {},
     "output_type": "display_data"
    }
   ],
   "source": [
    "#get our predictions\n",
    "pred,pred_idx,probs = learn_inf.predict(img)\n",
    "\n",
    "#use label to display\n",
    "lbl_pred = widgets.Label()\n",
    "lbl_pred.value = f'Prediction: {pred}; Probability: {probs[pred_idx]:.04f}'\n",
    "lbl_pred"
   ]
  },
  {
   "cell_type": "code",
   "execution_count": 24,
   "id": "d46e75a8",
   "metadata": {},
   "outputs": [],
   "source": [
    "def on_click_classify(change):\n",
    "    img = PILImage.create(btn_upload.data[-1])\n",
    "    out_pl.clear_output()\n",
    "    with out_pl: display(img.to_thumb(128,128))\n",
    "    pred,pred_idx,probs = learn_inf.predict(img)\n",
    "    lbl_pred.value = f'Prediction: {pred}; Probability: {probs[pred_idx]:.04f}'\n",
    "\n",
    "btn_run.on_click(on_click_classify)"
   ]
  },
  {
   "cell_type": "code",
   "execution_count": 25,
   "id": "7bd6c8f3",
   "metadata": {},
   "outputs": [
    {
     "data": {
      "application/vnd.jupyter.widget-view+json": {
       "model_id": "f866e17c7a37427e9c1b240e5617965b",
       "version_major": 2,
       "version_minor": 0
      },
      "text/plain": [
       "Button(description='Classify', style=ButtonStyle())"
      ]
     },
     "metadata": {},
     "output_type": "display_data"
    }
   ],
   "source": [
    "#hide_output\n",
    "btn_run = widgets.Button(description='Classify')\n",
    "btn_run"
   ]
  },
  {
   "cell_type": "code",
   "execution_count": 26,
   "id": "97af73fb",
   "metadata": {},
   "outputs": [],
   "source": [
    "#hide\n",
    "#Putting back btn_upload to a widget for next cell\n",
    "btn_upload = widgets.FileUpload()"
   ]
  },
  {
   "cell_type": "code",
   "execution_count": 28,
   "id": "cf90fe1f",
   "metadata": {},
   "outputs": [
    {
     "data": {
      "application/vnd.jupyter.widget-view+json": {
       "model_id": "af0dd4a5e71a4dceb60aa2e83285c1e9",
       "version_major": 2,
       "version_minor": 0
      },
      "text/plain": [
       "VBox(children=(Label(value='Select your bear!'), FileUpload(value={'index.jpg': {'metadata': {'name': 'index.j…"
      ]
     },
     "metadata": {},
     "output_type": "display_data"
    }
   ],
   "source": [
    "#hide_output\n",
    "VBox([widgets.Label('Select your bear!'), \n",
    "      btn_upload, btn_run, out_pl, lbl_pred])"
   ]
  },
  {
   "cell_type": "code",
   "execution_count": null,
   "id": "73d316a3",
   "metadata": {},
   "outputs": [],
   "source": []
  }
 ],
 "metadata": {
  "kernelspec": {
   "display_name": "Python 3",
   "language": "python",
   "name": "python3"
  },
  "language_info": {
   "codemirror_mode": {
    "name": "ipython",
    "version": 3
   },
   "file_extension": ".py",
   "mimetype": "text/x-python",
   "name": "python",
   "nbconvert_exporter": "python",
   "pygments_lexer": "ipython3",
   "version": "3.7.6"
  }
 },
 "nbformat": 4,
 "nbformat_minor": 5
}
