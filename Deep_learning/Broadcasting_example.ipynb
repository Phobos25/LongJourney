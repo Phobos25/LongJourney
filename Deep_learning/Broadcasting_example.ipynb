{
 "cells": [
  {
   "cell_type": "markdown",
   "metadata": {},
   "source": [
    "**Broadcasting** - используется в пайтоне при использовании математических операторов (+-/*). Основная задача - это облегчение при написании кода. Активируется при использовании векторов (одномерной матрицы)\n",
    "\n",
    "Проще всего, объяснить использованием формулы и примеров:\n",
    "\n",
    "* (mxn) + (1xn), вектор в данном случае увеличивает число строк до m, становиться mxn;\n",
    "* (mxn) + (mx1), вектор увеличивает число столбцов до n, становится mxn;\n",
    "\n",
    "Такое **broadcasting** применяется для всех математических операторов. Тут надо иметь в виду, что это не умножение матриц, или сложение/вычитание. \n",
    "\n",
    "Пример использование в коде см. ниже. \n",
    "\n",
    "Используется при делении на *cal.reshape*. размеры матрицы *A = (3x4)*, а размеры *cal = (1x4)*. **Broadcasting** увеличивает число строк матрицы *cal* до (*3x4)*.\n",
    "\n",
    "percentage = 100*A/cal.reshape(1,4)\n"
   ]
  },
  {
   "cell_type": "code",
   "execution_count": 2,
   "metadata": {},
   "outputs": [
    {
     "name": "stdout",
     "output_type": "stream",
     "text": [
      "[[ 56.    0.    4.4  68. ]\n",
      " [  1.2 104.   52.    8. ]\n",
      " [  1.8 135.   99.    0.9]]\n"
     ]
    }
   ],
   "source": [
    "import numpy as np\n",
    "\n",
    "A = np.array([[56.0, 0.0, 4.4, 68.0],\n",
    "             [1.2, 104.0, 52.0, 8.0],\n",
    "             [1.8, 135.0, 99.0, 0.9]])\n",
    "\n",
    "print(A)"
   ]
  },
  {
   "cell_type": "code",
   "execution_count": 4,
   "metadata": {},
   "outputs": [
    {
     "name": "stdout",
     "output_type": "stream",
     "text": [
      "[ 59.  239.  155.4  76.9]\n"
     ]
    }
   ],
   "source": [
    "cal = A.sum(axis=0)\n",
    "print(cal)"
   ]
  },
  {
   "cell_type": "code",
   "execution_count": 5,
   "metadata": {},
   "outputs": [
    {
     "name": "stdout",
     "output_type": "stream",
     "text": [
      "[[94.91525424  0.          2.83140283 88.42652796]\n",
      " [ 2.03389831 43.51464435 33.46203346 10.40312094]\n",
      " [ 3.05084746 56.48535565 63.70656371  1.17035111]]\n"
     ]
    }
   ],
   "source": [
    "percentage = 100*A/cal.reshape(1,4)\n",
    "print(percentage)"
   ]
  },
  {
   "cell_type": "code",
   "execution_count": null,
   "metadata": {},
   "outputs": [],
   "source": []
  }
 ],
 "metadata": {
  "kernelspec": {
   "display_name": "Python 3",
   "language": "python",
   "name": "python3"
  },
  "language_info": {
   "codemirror_mode": {
    "name": "ipython",
    "version": 3
   },
   "file_extension": ".py",
   "mimetype": "text/x-python",
   "name": "python",
   "nbconvert_exporter": "python",
   "pygments_lexer": "ipython3",
   "version": "3.6.5"
  }
 },
 "nbformat": 4,
 "nbformat_minor": 2
}
