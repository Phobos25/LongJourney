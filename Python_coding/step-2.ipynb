{
 "cells": [
  {
   "cell_type": "markdown",
   "id": "c202e5b2",
   "metadata": {},
   "source": [
    "### Перебор правильных скобочных последовательностей с двумя типами скобок - 2"
   ]
  },
  {
   "cell_type": "markdown",
   "id": "1f452823",
   "metadata": {},
   "source": [
    "Выведите все правильные скобочные последовательности с двумя типами скобок ‘(’, ‘)’, ‘[‘, ‘]’, содержащие 2n скобок, в лексикографическом порядке. В последовательности могут встречаться оба типа скобок или только один из них.\n",
    "\n",
    "Входные данные\n",
    "\n",
    "Натуральное число n.\n",
    "\n",
    "Выходные данные\n",
    "\n",
    "Выведите все правильные скобочные последовательности в лексикографическом порядке, каждую последовательность - в отдельной строке, без пробелов. Считайте, что ‘(’ < ‘)’ < ‘[‘ < ‘]’.\n"
   ]
  },
  {
   "cell_type": "markdown",
   "id": "7b960602",
   "metadata": {},
   "source": [
    "В качестве ответа на задание выберите последовательность для n=7 (состоящую из 14 скобок) с номером 8233 в лексикографическом порядке."
   ]
  },
  {
   "cell_type": "code",
   "execution_count": 2,
   "id": "50fc7bbe",
   "metadata": {},
   "outputs": [],
   "source": [
    "brackets = {'(': ')', '[': ']'}\n",
    "\n",
    "def gen(n, i = 0, a = '', stack = ''):\n",
    "    if i == 2 * n:\n",
    "        if len(stack) == 0:\n",
    "            yield a\n",
    "    else:\n",
    "        for c in '([':\n",
    "            yield from gen(n, i + 1, a + c, stack + c)\n",
    "            if len(stack) > 0 and stack[-1] == c:\n",
    "                yield from gen(n, i + 1, a + brackets[c], stack[:-1])"
   ]
  },
  {
   "cell_type": "code",
   "execution_count": 3,
   "id": "e4f392e6",
   "metadata": {},
   "outputs": [
    {
     "name": "stdout",
     "output_type": "stream",
     "text": [
      "(([]())([]))()\n"
     ]
    }
   ],
   "source": [
    "c = 1\n",
    "for s in gen(7):\n",
    "    if c == 8233:\n",
    "        print(s)\n",
    "        break\n",
    "    c += 1"
   ]
  },
  {
   "cell_type": "code",
   "execution_count": null,
   "id": "56851442",
   "metadata": {},
   "outputs": [],
   "source": []
  }
 ],
 "metadata": {
  "kernelspec": {
   "display_name": "Python 3",
   "language": "python",
   "name": "python3"
  },
  "language_info": {
   "codemirror_mode": {
    "name": "ipython",
    "version": 3
   },
   "file_extension": ".py",
   "mimetype": "text/x-python",
   "name": "python",
   "nbconvert_exporter": "python",
   "pygments_lexer": "ipython3",
   "version": "3.7.6"
  }
 },
 "nbformat": 4,
 "nbformat_minor": 5
}
