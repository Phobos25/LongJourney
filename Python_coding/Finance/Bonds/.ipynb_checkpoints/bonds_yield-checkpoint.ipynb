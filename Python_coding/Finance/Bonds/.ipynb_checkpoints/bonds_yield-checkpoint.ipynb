{
 "cells": [
  {
   "cell_type": "markdown",
   "metadata": {},
   "source": [
    "### Доходность к погашению облигаций"
   ]
  },
  {
   "cell_type": "markdown",
   "metadata": {},
   "source": [
    "для расчета доходности к погашению используется следующая формула:\n",
    "\n",
    "$\\frac{Номинал - рыночная\\_стоимость + сумма\\_всех\\_купонов - НКД}{рыночная\\_стоимость} \\times \\frac{365}{Дней\\_до\\_погашения} \\times 100$"
   ]
  },
  {
   "cell_type": "code",
   "execution_count": null,
   "metadata": {},
   "outputs": [],
   "source": [
    "class bond:\n",
    "    def __init__(self, remaining_days:int, price:float, \n",
    "                 pay_per_year:int, body = 1000):\n",
    "        \n",
    "        self.remaining_days = remaining_days\n",
    "        self.price = price\n",
    "        self.pay_per_year = pay_per_year\n",
    "        self.body = body\n",
    "    \n",
    "    def calculate_accrued_interest(self, interest_rate:float, T, B=365):\n",
    "        return self.body * interest_rate * T/B    \n",
    "    \n",
    "    def get_yield(self, accrued_interest:float):\n",
    "        final_yield = (self.body - self.price + self.remaining_coupons - accrued_interest)/self.price * 365/self.remaining_days * 100\n",
    "        return final_yield"
   ]
  },
  {
   "cell_type": "code",
   "execution_count": 5,
   "metadata": {},
   "outputs": [],
   "source": [
    "body = 1000 # номинал облигации\n",
    "price = 0.9584*body # рыночная стоимость облигации\n",
    "pay_per_year = 4\n",
    "coupon= 23.56 * pay_per_year\n",
    "remaining_coupons = coupon * 3 + coupon/4\n",
    "remaining_days = 1216\n",
    "accrued_interest = 15.02\n",
    "\n",
    "final_yield = (body - price + remaining_coupons - accrued_interest)/price * 365/remaining_days * 100"
   ]
  },
  {
   "cell_type": "code",
   "execution_count": 6,
   "metadata": {},
   "outputs": [
    {
     "data": {
      "text/plain": [
       "10.424952703519024"
      ]
     },
     "execution_count": 6,
     "metadata": {},
     "output_type": "execute_result"
    }
   ],
   "source": [
    "final_yield"
   ]
  },
  {
   "cell_type": "code",
   "execution_count": 4,
   "metadata": {},
   "outputs": [
    {
     "data": {
      "text/plain": [
       "95840.0"
      ]
     },
     "execution_count": 4,
     "metadata": {},
     "output_type": "execute_result"
    }
   ],
   "source": [
    "price"
   ]
  },
  {
   "cell_type": "code",
   "execution_count": null,
   "metadata": {},
   "outputs": [],
   "source": []
  }
 ],
 "metadata": {
  "kernelspec": {
   "display_name": "Python 3",
   "language": "python",
   "name": "python3"
  },
  "language_info": {
   "codemirror_mode": {
    "name": "ipython",
    "version": 3
   },
   "file_extension": ".py",
   "mimetype": "text/x-python",
   "name": "python",
   "nbconvert_exporter": "python",
   "pygments_lexer": "ipython3",
   "version": "3.7.6"
  }
 },
 "nbformat": 4,
 "nbformat_minor": 4
}
