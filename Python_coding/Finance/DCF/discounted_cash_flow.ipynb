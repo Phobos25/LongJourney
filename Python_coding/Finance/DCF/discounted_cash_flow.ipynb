{
 "cells": [
  {
   "cell_type": "code",
   "execution_count": 1,
   "metadata": {},
   "outputs": [],
   "source": [
    "path_cashflow = r\"./Cashflows.csv\"\n",
    "path_rate = r\"./Yield curve.csv\"\n",
    "\n",
    "# Implementation with Pandas\n",
    "import pandas as pd\n",
    "\n",
    "# Read in the cash flows data and rate data as csv\n",
    "cashflow_df = pd.read_csv(path_cashflow)\n",
    "rate_df = pd.read_csv(path_rate)\n",
    "\n",
    "# Calculate discount factor from the rates\n",
    "rate_df[\"Discount factor\"] = 1 / (1 + rate_df[\"Interest rate\"])**rate_df[\"Year\"]\n",
    "\n",
    "# Join cash flows with rates\n",
    "cf_with_rate_df = cashflow_df.merge(rate_df, on=[\"Currency\", \"Year\"], how=\"left\")\n",
    "\n",
    "# Calculate present values\n",
    "cf_with_rate_df[\"Present value\"] = cf_with_rate_df[\"Cash flows\"] * cf_with_rate_df[\"Discount factor\"]\n",
    "\n",
    "# Groupby product and check the profitability\n",
    "cf_with_rate_df = cf_with_rate_df.groupby(\"Product\")[[\"Present value\"]].sum().reset_index()\n"
   ]
  },
  {
   "cell_type": "code",
   "execution_count": 2,
   "metadata": {},
   "outputs": [
    {
     "data": {
      "text/html": [
       "<div>\n",
       "<style scoped>\n",
       "    .dataframe tbody tr th:only-of-type {\n",
       "        vertical-align: middle;\n",
       "    }\n",
       "\n",
       "    .dataframe tbody tr th {\n",
       "        vertical-align: top;\n",
       "    }\n",
       "\n",
       "    .dataframe thead th {\n",
       "        text-align: right;\n",
       "    }\n",
       "</style>\n",
       "<table border=\"1\" class=\"dataframe\">\n",
       "  <thead>\n",
       "    <tr style=\"text-align: right;\">\n",
       "      <th></th>\n",
       "      <th>Product</th>\n",
       "      <th>Present value</th>\n",
       "    </tr>\n",
       "  </thead>\n",
       "  <tbody>\n",
       "    <tr>\n",
       "      <th>0</th>\n",
       "      <td>Fire insurance</td>\n",
       "      <td>993.107122</td>\n",
       "    </tr>\n",
       "    <tr>\n",
       "      <th>1</th>\n",
       "      <td>Flood insurance</td>\n",
       "      <td>7094.239858</td>\n",
       "    </tr>\n",
       "  </tbody>\n",
       "</table>\n",
       "</div>"
      ],
      "text/plain": [
       "           Product  Present value\n",
       "0   Fire insurance     993.107122\n",
       "1  Flood insurance    7094.239858"
      ]
     },
     "execution_count": 2,
     "metadata": {},
     "output_type": "execute_result"
    }
   ],
   "source": [
    "cf_with_rate_df"
   ]
  },
  {
   "cell_type": "markdown",
   "metadata": {},
   "source": [
    "### Implementation with Koalas\n"
   ]
  },
  {
   "cell_type": "code",
   "execution_count": null,
   "metadata": {},
   "outputs": [],
   "source": [
    "import databricks.koalas as ks\n",
    "\n",
    "# Read in the cash flows data and rate data as csv\n",
    "cashflow_df = ks.read_csv(path_cashflow)\n",
    "rate_df = ks.read_csv(path_rate)\n",
    "\n",
    "# Calculate discount factor from the rates\n",
    "rate_df[\"Discount factor\"] = 1 / (1 + rate_df[\"Interest rate\"])**rate_df[\"Year\"]\n",
    "\n",
    "# Join cash flows with rates\n",
    "cf_with_rate_df = cashflow_df.merge(rate_df, on=[\"Currency\", \"Year\"], how=\"left\")\n",
    "\n",
    "# Calculate present values\n",
    "cf_with_rate_df[\"Present value\"] = cf_with_rate_df[\"Cash flows\"] * cf_with_rate_df[\"Discount factor\"]\n",
    "\n",
    "# Groupby product and check the profitability\n",
    "cf_with_rate_df = cf_with_rate_df.groupby(\"Product\")[[\"Present value\"]].sum().reset_index()\n"
   ]
  },
  {
   "cell_type": "markdown",
   "metadata": {},
   "source": [
    "### Implementation with PySpark\n"
   ]
  },
  {
   "cell_type": "code",
   "execution_count": null,
   "metadata": {},
   "outputs": [],
   "source": [
    "from pyspark.sql import SparkSession\n",
    "from pyspark.sql import Window\n",
    "from pyspark.sql import functions as f\n",
    "\n",
    "# Define Spark settings\n",
    "builder = SparkSession.builder.appName(\"Discount_Cashflows\")\n",
    "spark = builder.getOrCreate()\n",
    "\n",
    "# Read in the cash flows data and rate data as csv\n",
    "cashflow_df = spark.read.csv(path_cashflow, header=True, inferSchema=True)\n",
    "rate_df = spark.read.csv(path_rate, header=True, inferSchema=True)\n",
    "\n",
    "# Calculate discount factor from the rates\n",
    "rate_df = rate_df.withColumn(\"Discount factor\", 1 / (1 + rate_df[\"Interest rate\"])**rate_df[\"Year\"])\n",
    "\n",
    "# Join cash flows with rates\n",
    "cf_with_rate_df = cashflow_df.join(f.broadcast(rate_df), on=[\"Currency\", \"Year\"], how=\"left\")\n",
    "\n",
    "# Calculate present values\n",
    "cf_with_rate_df = cf_with_rate_df.withColumn(\"Present value\", f.col(\"Cash flows\") * f.col(\"Discount factor\"))\n",
    "\n",
    "# Groupby product and check the profitability\n",
    "cf_with_rate_df = cf_with_rate_df.groupBy(\"Product\").agg(f.sum(\"Present value\").alias(\"Present value\"))\n"
   ]
  }
 ],
 "metadata": {
  "kernelspec": {
   "display_name": "Python 3",
   "language": "python",
   "name": "python3"
  },
  "language_info": {
   "codemirror_mode": {
    "name": "ipython",
    "version": 3
   },
   "file_extension": ".py",
   "mimetype": "text/x-python",
   "name": "python",
   "nbconvert_exporter": "python",
   "pygments_lexer": "ipython3",
   "version": "3.7.6"
  }
 },
 "nbformat": 4,
 "nbformat_minor": 4
}
