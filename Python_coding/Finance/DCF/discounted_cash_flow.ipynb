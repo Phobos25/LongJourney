{
 "cells": [
  {
   "cell_type": "markdown",
   "metadata": {},
   "source": [
    "## Discounter cash flow"
   ]
  },
  {
   "cell_type": "markdown",
   "metadata": {},
   "source": [
    "DCF --- это метод оценки компании, для получения т.н. fair value (справедливая стоимость), с учетом будущих денежных потоков.  "
   ]
  },
  {
   "cell_type": "markdown",
   "metadata": {},
   "source": [
    "простая формула может быть записана так:\n",
    "\n",
    "FCF = PCF(1+r)^t\n",
    "\n",
    "где FCF --- future cash flow, PCF --- present cash flow, r --- процентная ставка, t --- длительность инвестиций (в годах)\n",
    "\n",
    "Если мы хотим посмотреть в будущее, то надо перенести правую часть формулы в левую:\n",
    "\n",
    "$PCF = \\frac{FCF}{(1+r)^t} $"
   ]
  },
  {
   "cell_type": "markdown",
   "metadata": {},
   "source": [
    "Если мы хотим посмотреть в будущее не на один год, а на несколько (обычно берется 5-10 лет), то формула превращается в следующее:\n",
    "\n",
    "$Intrinsic Value = \\sum^{T}_{t=1}\\frac{FCF}{(1+r)^t}$"
   ]
  },
  {
   "cell_type": "markdown",
   "metadata": {},
   "source": [
    "Чтобы компанию можно было бы оценить при помощи DCF-анализа, она должна удовлетворять одной из четырех критериев:\n",
    "\n",
    "1) Компания не платит дивидендов;\n",
    "\n",
    "2) Компания платит мало дивидендов. Т.е. платит гораздо меньше, чем могла бы;\n",
    "\n",
    "3) Размер свободного денежного потока совпадает или одного порядка с рентабельностью компании (для этого можно посмотреть FCF/Net Income); \n",
    "\n",
    "4) Инвестор рассматривает компанию в перспективе\n",
    "\n",
    "5) Компания имеет положительный денежный поток"
   ]
  },
  {
   "cell_type": "markdown",
   "metadata": {},
   "source": [
    "Для примера рассмотрим Apple:\n",
    "![Apple](images/apple_cashflow.png)"
   ]
  },
  {
   "cell_type": "markdown",
   "metadata": {},
   "source": [
    "Для рассчета свободного денежного потока (FCF --- free cash flow) берется операционный денежный поток (OCF --- operational cash flow) *минус* капитальные затраты (CAPEX --- capital expenditure) *плюс* net borrowing. Net borrowing находится в financing cash flow. <- **это сложный способ**\n",
    "\n",
    "**Обычно net borrowing не учитывается.**\n",
    "\n",
    "и используется упрощенная формула: \n",
    "\n",
    "$FCF = OCF - CAPEX$"
   ]
  },
  {
   "cell_type": "code",
   "execution_count": 18,
   "metadata": {},
   "outputs": [],
   "source": [
    "fcf_year1 = 77434-13313\n",
    "fcf_year2 = 69391-10495\n",
    "fcf_year3 = 80674-7309\n",
    "fcf_year4 = 104038-11085\n",
    "\n",
    "fcf = []\n",
    "fcf.append(fcf_year1)\n",
    "fcf.append(fcf_year2)\n",
    "fcf.append(fcf_year3)\n",
    "fcf.append(fcf_year4)\n",
    "\n",
    "income1 = 59531\n",
    "income2 = 55256\n",
    "income3 = 57411\n",
    "income4 = 94680\n",
    "\n",
    "net_income = []\n",
    "net_income.append(income1)\n",
    "net_income.append(income2)\n",
    "net_income.append(income3)\n",
    "net_income.append(income4)\n",
    "\n",
    "rev1 = 265595\n",
    "rev2 = 260174\n",
    "rev3 = 274515\n",
    "rev4 = 365817\n",
    "\n",
    "revenue = []\n",
    "revenue.append(rev1)\n",
    "revenue.append(rev2)\n",
    "revenue.append(rev3)\n",
    "revenue.append(rev4)"
   ]
  },
  {
   "cell_type": "code",
   "execution_count": 19,
   "metadata": {},
   "outputs": [
    {
     "data": {
      "text/plain": [
       "1.1006571232225535"
      ]
     },
     "execution_count": 19,
     "metadata": {},
     "output_type": "execute_result"
    }
   ],
   "source": [
    "import numpy as np\n",
    "\n",
    "np.sum(np.array(fcf)/np.array(net_income))/4"
   ]
  },
  {
   "cell_type": "markdown",
   "metadata": {},
   "source": [
    "Далее, нам надо подсчитать **growth rate** и **net income margin**\n",
    "\n",
    "**growth rate** --- мы просто берем средний рост выручки за последние 3-5 лет, желательно быть более консервативным и брать минимальное положительное значение \n",
    "\n",
    "**net income margin** --- мы разделяем net income (ЧП) на revenue (выручку)"
   ]
  },
  {
   "cell_type": "code",
   "execution_count": 20,
   "metadata": {},
   "outputs": [
    {
     "name": "stdout",
     "output_type": "stream",
     "text": [
      "[0.22414202 0.21238095 0.20913611 0.25881793]\n"
     ]
    }
   ],
   "source": [
    "growth_rate = 1.03\n",
    "net_income_margin = np.array(net_income)/np.array(revenue)\n",
    "print(net_income_margin)"
   ]
  },
  {
   "cell_type": "markdown",
   "metadata": {},
   "source": [
    "Зная эти значения мы можем экстраполировать текущие данные на будущие"
   ]
  },
  {
   "cell_type": "code",
   "execution_count": 21,
   "metadata": {},
   "outputs": [
    {
     "name": "stdout",
     "output_type": "stream",
     "text": [
      "revenue:376791 income:79126 fcf:102248\n",
      "revenue:388095 income:81499 fcf:112473\n",
      "revenue:399738 income:83944 fcf:123720\n",
      "revenue:411730 income:86463 fcf:136092\n",
      "revenue:424082 income:89057 fcf:149701\n"
     ]
    }
   ],
   "source": [
    "t = 5\n",
    "rev = revenue[-1]\n",
    "cash_flow = fcf[-1]\n",
    "for i in range(1,t+1,1):\n",
    "    new_revenue = int(rev*(growth_rate)**i)\n",
    "    new_income = int(new_revenue*0.21)\n",
    "    new_fcf = int(cash_flow*1.10**i)\n",
    "    print(f'revenue:{new_revenue} income:{new_income} fcf:{new_fcf}')\n",
    "    revenue.append(new_revenue)\n",
    "    net_income.append(new_income)\n",
    "    fcf.append(new_fcf)"
   ]
  },
  {
   "cell_type": "markdown",
   "metadata": {},
   "source": [
    "Далее, нам нужно значение **required return** --- это требуемая доходность (ТД). Пусть, для примера ТД будет **9%** (как в среднем у snp500)\n",
    "\n",
    "И используем формулу:\n",
    "$V_0 = \\frac{FCFE_d\\times(1+g)}{r-g}$, где\n",
    "\n",
    "g --- perpetual growth (2.5% хорошее значение)\n",
    "r --- ТД"
   ]
  },
  {
   "cell_type": "code",
   "execution_count": 22,
   "metadata": {},
   "outputs": [],
   "source": [
    "perpetual_growth = 0.025\n",
    "required_return = 0.09"
   ]
  },
  {
   "cell_type": "code",
   "execution_count": 23,
   "metadata": {},
   "outputs": [],
   "source": [
    "# shares outstanding\n",
    "shares = 16406.397 # in millions"
   ]
  },
  {
   "cell_type": "code",
   "execution_count": 24,
   "metadata": {},
   "outputs": [
    {
     "name": "stdout",
     "output_type": "stream",
     "text": [
      "2360669.615384615\n"
     ]
    }
   ],
   "source": [
    "terminal_value = fcf[-1]*(1+perpetual_growth)/(required_return - perpetual_growth)\n",
    "\n",
    "print(terminal_value)"
   ]
  },
  {
   "cell_type": "markdown",
   "metadata": {},
   "source": [
    "Теперь нам надо дисконтировать полученное значение.\n",
    "\n",
    "Для дисконтирование используется discount_factor\n",
    "\n",
    "$df = (1+r)^t$, где\n",
    "\n",
    "r - required return\n",
    "t - время (в годах)"
   ]
  },
  {
   "cell_type": "code",
   "execution_count": 25,
   "metadata": {},
   "outputs": [],
   "source": [
    "discount_factor = []\n",
    "for i in range(1,t+1):\n",
    "    discount_factor.append((1+required_return)**i)"
   ]
  },
  {
   "cell_type": "code",
   "execution_count": 26,
   "metadata": {},
   "outputs": [
    {
     "name": "stdout",
     "output_type": "stream",
     "text": [
      "[1.09, 1.1881000000000002, 1.2950290000000002, 1.4115816100000005, 1.5386239549000005]\n"
     ]
    }
   ],
   "source": [
    "print(discount_factor)"
   ]
  },
  {
   "cell_type": "markdown",
   "metadata": {},
   "source": [
    "теперь дисконтируем каждый расчитанный денежный поток"
   ]
  },
  {
   "cell_type": "code",
   "execution_count": 36,
   "metadata": {},
   "outputs": [],
   "source": [
    "j = 0\n",
    "dfcf = []\n",
    "for i in range(t-1, len(fcf)):    \n",
    "    dfcf.append(fcf[i]/discount_factor[j])\n",
    "    j += 1"
   ]
  },
  {
   "cell_type": "code",
   "execution_count": 39,
   "metadata": {},
   "outputs": [
    {
     "name": "stdout",
     "output_type": "stream",
     "text": [
      "2011985.9766268183\n"
     ]
    }
   ],
   "source": [
    "today_value = terminal_value / discount_factor[-1] + np.array(dfcf).sum()\n",
    "print(today_value)"
   ]
  },
  {
   "cell_type": "code",
   "execution_count": 40,
   "metadata": {},
   "outputs": [
    {
     "name": "stdout",
     "output_type": "stream",
     "text": [
      "122.6342369154433\n"
     ]
    }
   ],
   "source": [
    "intrinsic_value = today_value / shares\n",
    "print(intrinsic_value)"
   ]
  },
  {
   "cell_type": "code",
   "execution_count": 1,
   "metadata": {},
   "outputs": [],
   "source": [
    "path_cashflow = r\"./Cashflows.csv\"\n",
    "path_rate = r\"./Yield curve.csv\"\n",
    "\n",
    "# Implementation with Pandas\n",
    "import pandas as pd\n",
    "\n",
    "# Read in the cash flows data and rate data as csv\n",
    "cashflow_df = pd.read_csv(path_cashflow)\n",
    "rate_df = pd.read_csv(path_rate)\n",
    "\n",
    "# Calculate discount factor from the rates\n",
    "rate_df[\"Discount factor\"] = 1 / (1 + rate_df[\"Interest rate\"])**rate_df[\"Year\"]\n",
    "\n",
    "# Join cash flows with rates\n",
    "cf_with_rate_df = cashflow_df.merge(rate_df, on=[\"Currency\", \"Year\"], how=\"left\")\n",
    "\n",
    "# Calculate present values\n",
    "cf_with_rate_df[\"Present value\"] = cf_with_rate_df[\"Cash flows\"] * cf_with_rate_df[\"Discount factor\"]\n",
    "\n",
    "# Groupby product and check the profitability\n",
    "cf_with_rate_df = cf_with_rate_df.groupby(\"Product\")[[\"Present value\"]].sum().reset_index()\n"
   ]
  },
  {
   "cell_type": "code",
   "execution_count": 2,
   "metadata": {},
   "outputs": [
    {
     "data": {
      "text/html": [
       "<div>\n",
       "<style scoped>\n",
       "    .dataframe tbody tr th:only-of-type {\n",
       "        vertical-align: middle;\n",
       "    }\n",
       "\n",
       "    .dataframe tbody tr th {\n",
       "        vertical-align: top;\n",
       "    }\n",
       "\n",
       "    .dataframe thead th {\n",
       "        text-align: right;\n",
       "    }\n",
       "</style>\n",
       "<table border=\"1\" class=\"dataframe\">\n",
       "  <thead>\n",
       "    <tr style=\"text-align: right;\">\n",
       "      <th></th>\n",
       "      <th>Product</th>\n",
       "      <th>Present value</th>\n",
       "    </tr>\n",
       "  </thead>\n",
       "  <tbody>\n",
       "    <tr>\n",
       "      <th>0</th>\n",
       "      <td>Fire insurance</td>\n",
       "      <td>993.107122</td>\n",
       "    </tr>\n",
       "    <tr>\n",
       "      <th>1</th>\n",
       "      <td>Flood insurance</td>\n",
       "      <td>7094.239858</td>\n",
       "    </tr>\n",
       "  </tbody>\n",
       "</table>\n",
       "</div>"
      ],
      "text/plain": [
       "           Product  Present value\n",
       "0   Fire insurance     993.107122\n",
       "1  Flood insurance    7094.239858"
      ]
     },
     "execution_count": 2,
     "metadata": {},
     "output_type": "execute_result"
    }
   ],
   "source": [
    "cf_with_rate_df"
   ]
  },
  {
   "cell_type": "markdown",
   "metadata": {},
   "source": [
    "### Implementation with Koalas\n"
   ]
  },
  {
   "cell_type": "code",
   "execution_count": null,
   "metadata": {},
   "outputs": [],
   "source": [
    "import databricks.koalas as ks\n",
    "\n",
    "# Read in the cash flows data and rate data as csv\n",
    "cashflow_df = ks.read_csv(path_cashflow)\n",
    "rate_df = ks.read_csv(path_rate)\n",
    "\n",
    "# Calculate discount factor from the rates\n",
    "rate_df[\"Discount factor\"] = 1 / (1 + rate_df[\"Interest rate\"])**rate_df[\"Year\"]\n",
    "\n",
    "# Join cash flows with rates\n",
    "cf_with_rate_df = cashflow_df.merge(rate_df, on=[\"Currency\", \"Year\"], how=\"left\")\n",
    "\n",
    "# Calculate present values\n",
    "cf_with_rate_df[\"Present value\"] = cf_with_rate_df[\"Cash flows\"] * cf_with_rate_df[\"Discount factor\"]\n",
    "\n",
    "# Groupby product and check the profitability\n",
    "cf_with_rate_df = cf_with_rate_df.groupby(\"Product\")[[\"Present value\"]].sum().reset_index()\n"
   ]
  },
  {
   "cell_type": "markdown",
   "metadata": {},
   "source": [
    "### Implementation with PySpark\n"
   ]
  },
  {
   "cell_type": "code",
   "execution_count": null,
   "metadata": {},
   "outputs": [],
   "source": [
    "from pyspark.sql import SparkSession\n",
    "from pyspark.sql import Window\n",
    "from pyspark.sql import functions as f\n",
    "\n",
    "# Define Spark settings\n",
    "builder = SparkSession.builder.appName(\"Discount_Cashflows\")\n",
    "spark = builder.getOrCreate()\n",
    "\n",
    "# Read in the cash flows data and rate data as csv\n",
    "cashflow_df = spark.read.csv(path_cashflow, header=True, inferSchema=True)\n",
    "rate_df = spark.read.csv(path_rate, header=True, inferSchema=True)\n",
    "\n",
    "# Calculate discount factor from the rates\n",
    "rate_df = rate_df.withColumn(\"Discount factor\", 1 / (1 + rate_df[\"Interest rate\"])**rate_df[\"Year\"])\n",
    "\n",
    "# Join cash flows with rates\n",
    "cf_with_rate_df = cashflow_df.join(f.broadcast(rate_df), on=[\"Currency\", \"Year\"], how=\"left\")\n",
    "\n",
    "# Calculate present values\n",
    "cf_with_rate_df = cf_with_rate_df.withColumn(\"Present value\", f.col(\"Cash flows\") * f.col(\"Discount factor\"))\n",
    "\n",
    "# Groupby product and check the profitability\n",
    "cf_with_rate_df = cf_with_rate_df.groupBy(\"Product\").agg(f.sum(\"Present value\").alias(\"Present value\"))\n"
   ]
  }
 ],
 "metadata": {
  "kernelspec": {
   "display_name": "Python 3",
   "language": "python",
   "name": "python3"
  },
  "language_info": {
   "codemirror_mode": {
    "name": "ipython",
    "version": 3
   },
   "file_extension": ".py",
   "mimetype": "text/x-python",
   "name": "python",
   "nbconvert_exporter": "python",
   "pygments_lexer": "ipython3",
   "version": "3.7.6"
  }
 },
 "nbformat": 4,
 "nbformat_minor": 4
}
