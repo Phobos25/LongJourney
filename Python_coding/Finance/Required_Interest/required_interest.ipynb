{
 "cells": [
  {
   "cell_type": "markdown",
   "metadata": {},
   "source": [
    "### Оценка доходности вложений"
   ]
  },
  {
   "cell_type": "markdown",
   "metadata": {},
   "source": [
    "Основная идея этой программы это обработка внесенных значений выручки, ЧП и капитала для вывода ключевых параметров. \n",
    "\n",
    "Моя программа должна состоять из основной части, которая непосредственно обрабатывает данные, выводит ключевые мультипликаторы, выводит рисунки и т.п.\n",
    "\n",
    "Дополнительно можно сделать чтение с csv файла, и если будет возможность, то напишу другую программу, которая генерит эти csv файлы. "
   ]
  },
  {
   "cell_type": "code",
   "execution_count": 2,
   "metadata": {},
   "outputs": [],
   "source": [
    "import csv\n",
    "import pandas as pd\n",
    "import matplotlib.pyplot as plt\n",
    "%matplotlib inline\n",
    "\n",
    "class ReasonableGrowth:\n",
    "    required_growth = 7\n",
    "    def __init__(self, df):\n",
    "        pass\n",
    "    def __repr__(self):\n",
    "        pass    \n",
    "    def extrapolate_growth(self):\n",
    "        pass\n",
    "    def plot_everything(self):\n",
    "        pass\n",
    "    def plot_roe(self):\n",
    "        pass\n",
    "    def plot_income(self):\n",
    "        pass\n",
    "    def plot_revenue(self):\n",
    "        pass\n",
    "    def plot_capital(self):\n",
    "        pass\n",
    "    \n",
    "    # class method\n",
    "    @classmethod\n",
    "    def instantiate_from_csv(cls, filename):\n",
    "        with open(filename, 'r') as f:\n",
    "            reader = csv.DictReader(f)\n",
    "            items = list(reader)\n",
    "        \n",
    "        #instantiate\n",
    "#         for item in items:\n",
    "#             ReasonableGrowth(\n",
    "#                 name  = item.get('name'),\n",
    "#                 price = float(item.get('price')),\n",
    "#                 quantity = int(item.get('quantity'))\n",
    "#             )"
   ]
  },
  {
   "cell_type": "code",
   "execution_count": 18,
   "metadata": {},
   "outputs": [],
   "source": [
    "row_names = ['Net Income', 'Revenue', \n",
    "            'Total Assets', 'Equity', \n",
    "            'Total Liabilites']\n",
    "col_names = ['Annual Data']\n",
    "for year in range(2014,2021,1):\n",
    "    col_names.append(year)"
   ]
  },
  {
   "cell_type": "code",
   "execution_count": 19,
   "metadata": {},
   "outputs": [],
   "source": [
    "intel = {}\n",
    "\n",
    "intel['2014'] = [11704,55870,91900,55865,36035]\n",
    "intel['2015'] = [11420,55355,101459,61085,40374]\n",
    "intel['2016'] = [10316,59387,113327,66226,47101]\n",
    "intel['2017'] = [9601,62761,123249,69019,54230]\n",
    "intel['2018'] = [21053,70848,127963,74563,53400]\n",
    "intel['2019'] = [21048,71965,136534,77514,59020]\n",
    "intel['2020'] = [20899,77867,153091,81038,72053]"
   ]
  },
  {
   "cell_type": "code",
   "execution_count": 20,
   "metadata": {},
   "outputs": [
    {
     "data": {
      "text/plain": [
       "{'2014': [11704, 55870, 91900, 55865, 36035],\n",
       " '2015': [11420, 55355, 101459, 61085, 40374],\n",
       " '2016': [10316, 59387, 113327, 66226, 47101],\n",
       " '2017': [9601, 62761, 123249, 69019, 54230],\n",
       " '2018': [21053, 70848, 127963, 74563, 53400],\n",
       " '2019': [21048, 71965, 136534, 77514, 59020],\n",
       " '2020': [20899, 77867, 153091, 81038, 72053]}"
      ]
     },
     "execution_count": 20,
     "metadata": {},
     "output_type": "execute_result"
    }
   ],
   "source": [
    "intel"
   ]
  },
  {
   "cell_type": "code",
   "execution_count": null,
   "metadata": {},
   "outputs": [],
   "source": []
  }
 ],
 "metadata": {
  "kernelspec": {
   "display_name": "Python 3",
   "language": "python",
   "name": "python3"
  },
  "language_info": {
   "codemirror_mode": {
    "name": "ipython",
    "version": 3
   },
   "file_extension": ".py",
   "mimetype": "text/x-python",
   "name": "python",
   "nbconvert_exporter": "python",
   "pygments_lexer": "ipython3",
   "version": "3.7.6"
  }
 },
 "nbformat": 4,
 "nbformat_minor": 4
}
