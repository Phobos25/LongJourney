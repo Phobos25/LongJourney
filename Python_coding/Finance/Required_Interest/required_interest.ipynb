{
 "cells": [
  {
   "cell_type": "markdown",
   "metadata": {},
   "source": [
    "### Оценка доходности вложений"
   ]
  },
  {
   "cell_type": "markdown",
   "metadata": {},
   "source": [
    "Основная идея этой программы это обработка внесенных значений выручки, ЧП и капитала для вывода ключевых параметров. \n",
    "\n",
    "Моя программа должна состоять из основной части, которая непосредственно обрабатывает данные, выводит ключевые мультипликаторы, выводит рисунки и т.п.\n",
    "\n",
    "Дополнительно можно сделать чтение с csv файла, и если будет возможность, то напишу другую программу, которая генерит эти csv файлы. "
   ]
  },
  {
   "cell_type": "code",
   "execution_count": 1,
   "metadata": {},
   "outputs": [],
   "source": [
    "import csv\n",
    "import pandas as pd\n",
    "import matplotlib.pyplot as plt\n",
    "%matplotlib inline\n",
    "\n",
    "class ReasonableGrowth:\n",
    "    required_growth = 7\n",
    "    def __init__(self, dict_data):\n",
    "        pass\n",
    "    def __repr__(self):\n",
    "        pass    \n",
    "    def extrapolate_growth(self):\n",
    "        pass\n",
    "    def plot_everything(self):\n",
    "        pass\n",
    "    def plot_roe(self):\n",
    "        pass\n",
    "    def plot_income(self):\n",
    "        pass\n",
    "    def plot_revenue(self):\n",
    "        pass\n",
    "    def plot_capital(self):\n",
    "        pass\n",
    "    \n",
    "    # class method\n",
    "    @classmethod\n",
    "    def instantiate_from_csv(cls, filename):\n",
    "        with open(filename, 'r') as f:\n",
    "            reader = csv.DictReader(f)\n",
    "            items = list(reader)\n",
    "        \n",
    "        #instantiate\n",
    "#         for item in items:\n",
    "#             ReasonableGrowth(\n",
    "#                 name  = item.get('name'),\n",
    "#                 price = float(item.get('price')),\n",
    "#                 quantity = int(item.get('quantity'))\n",
    "#             )"
   ]
  },
  {
   "cell_type": "code",
   "execution_count": 2,
   "metadata": {},
   "outputs": [],
   "source": [
    "row_names = ['Net Income', 'Revenue', \n",
    "            'Total Assets', 'Equity', \n",
    "            'Total Liabilites']\n",
    "col_names = ['Annual Data']\n",
    "for year in range(2014,2021,1):\n",
    "    col_names.append(year)"
   ]
  },
  {
   "cell_type": "code",
   "execution_count": 3,
   "metadata": {},
   "outputs": [],
   "source": [
    "intel = {}\n",
    "roe = {}\n",
    "\n",
    "intel[2014] = [11704,55870,91900,55865,36035]\n",
    "intel[2015] = [11420,55355,101459,61085,40374]\n",
    "intel[2016] = [10316,59387,113327,66226,47101]\n",
    "intel[2017] = [9601,62761,123249,69019,54230]\n",
    "intel[2018] = [21053,70848,127963,74563,53400]\n",
    "intel[2019] = [21048,71965,136534,77514,59020]\n",
    "intel[2020] = [20899,77867,153091,81038,72053]\n",
    "year = 2014\n",
    "roe[year] = -1\n",
    "year = 2015\n",
    "roe[year] = intel[year][0]/intel[year-1][3]\n",
    "year = 2016\n",
    "roe[year] = intel[year][0]/intel[year-1][3]\n",
    "year = 2017\n",
    "roe[year] = intel[year][0]/intel[year-1][3]\n",
    "year = 2018\n",
    "roe[year] = intel[year][0]/intel[year-1][3]\n",
    "year = 2019\n",
    "roe[year] = intel[year][0]/intel[year-1][3]\n",
    "year = 2020\n",
    "roe[year] = intel[year][0]/intel[year-1][3]"
   ]
  },
  {
   "cell_type": "code",
   "execution_count": 4,
   "metadata": {},
   "outputs": [
    {
     "data": {
      "text/plain": [
       "{2014: -1,\n",
       " 2015: 0.20442137295265372,\n",
       " 2016: 0.16887943030203814,\n",
       " 2017: 0.14497327333675597,\n",
       " 2018: 0.3050319477245396,\n",
       " 2019: 0.28228477931413704,\n",
       " 2020: 0.26961581133730683}"
      ]
     },
     "execution_count": 4,
     "metadata": {},
     "output_type": "execute_result"
    }
   ],
   "source": [
    "roe"
   ]
  },
  {
   "cell_type": "code",
   "execution_count": 5,
   "metadata": {},
   "outputs": [
    {
     "data": {
      "text/plain": [
       "<function matplotlib.pyplot.bar(x, height, width=0.8, bottom=None, *, align='center', data=None, **kwargs)>"
      ]
     },
     "execution_count": 5,
     "metadata": {},
     "output_type": "execute_result"
    }
   ],
   "source": [
    "x = []\n",
    "y = []\n",
    "for year in roe:\n",
    "    x.append(int(year))\n",
    "    y.append(round(100*roe[year]))\n",
    "plt.bar"
   ]
  },
  {
   "cell_type": "code",
   "execution_count": 6,
   "metadata": {},
   "outputs": [
    {
     "data": {
      "text/plain": [
       "{2014: [11704, 55870, 91900, 55865, 36035],\n",
       " 2015: [11420, 55355, 101459, 61085, 40374],\n",
       " 2016: [10316, 59387, 113327, 66226, 47101],\n",
       " 2017: [9601, 62761, 123249, 69019, 54230],\n",
       " 2018: [21053, 70848, 127963, 74563, 53400],\n",
       " 2019: [21048, 71965, 136534, 77514, 59020],\n",
       " 2020: [20899, 77867, 153091, 81038, 72053]}"
      ]
     },
     "execution_count": 6,
     "metadata": {},
     "output_type": "execute_result"
    }
   ],
   "source": [
    "intel"
   ]
  },
  {
   "cell_type": "code",
   "execution_count": 7,
   "metadata": {},
   "outputs": [],
   "source": [
    "df = pd.DataFrame(intel, index = row_names)"
   ]
  },
  {
   "cell_type": "markdown",
   "metadata": {},
   "source": [
    "Total Liabilities / Total Assets --- это закредитованность компании. \n",
    "Очень важный параметр"
   ]
  },
  {
   "cell_type": "code",
   "execution_count": 8,
   "metadata": {},
   "outputs": [],
   "source": [
    "row_names.append('Liability')\n",
    "for year in intel:\n",
    "    liability = 100*intel[year][4]/intel[year][2]\n",
    "    intel[year].append(round(liability))\n",
    "    "
   ]
  },
  {
   "cell_type": "code",
   "execution_count": 9,
   "metadata": {},
   "outputs": [],
   "source": [
    "# row_names.append('ROE')\n"
   ]
  },
  {
   "cell_type": "code",
   "execution_count": 10,
   "metadata": {},
   "outputs": [
    {
     "data": {
      "text/plain": [
       "['Net Income',\n",
       " 'Revenue',\n",
       " 'Total Assets',\n",
       " 'Equity',\n",
       " 'Total Liabilites',\n",
       " 'Liability']"
      ]
     },
     "execution_count": 10,
     "metadata": {},
     "output_type": "execute_result"
    }
   ],
   "source": [
    "row_names"
   ]
  },
  {
   "cell_type": "code",
   "execution_count": 11,
   "metadata": {},
   "outputs": [
    {
     "data": {
      "text/html": [
       "<div>\n",
       "<style scoped>\n",
       "    .dataframe tbody tr th:only-of-type {\n",
       "        vertical-align: middle;\n",
       "    }\n",
       "\n",
       "    .dataframe tbody tr th {\n",
       "        vertical-align: top;\n",
       "    }\n",
       "\n",
       "    .dataframe thead th {\n",
       "        text-align: right;\n",
       "    }\n",
       "</style>\n",
       "<table border=\"1\" class=\"dataframe\">\n",
       "  <thead>\n",
       "    <tr style=\"text-align: right;\">\n",
       "      <th></th>\n",
       "      <th>2014</th>\n",
       "      <th>2015</th>\n",
       "      <th>2016</th>\n",
       "      <th>2017</th>\n",
       "      <th>2018</th>\n",
       "      <th>2019</th>\n",
       "      <th>2020</th>\n",
       "    </tr>\n",
       "  </thead>\n",
       "  <tbody>\n",
       "    <tr>\n",
       "      <th>Net Income</th>\n",
       "      <td>11704</td>\n",
       "      <td>11420</td>\n",
       "      <td>10316</td>\n",
       "      <td>9601</td>\n",
       "      <td>21053</td>\n",
       "      <td>21048</td>\n",
       "      <td>20899</td>\n",
       "    </tr>\n",
       "    <tr>\n",
       "      <th>Revenue</th>\n",
       "      <td>55870</td>\n",
       "      <td>55355</td>\n",
       "      <td>59387</td>\n",
       "      <td>62761</td>\n",
       "      <td>70848</td>\n",
       "      <td>71965</td>\n",
       "      <td>77867</td>\n",
       "    </tr>\n",
       "    <tr>\n",
       "      <th>Total Assets</th>\n",
       "      <td>91900</td>\n",
       "      <td>101459</td>\n",
       "      <td>113327</td>\n",
       "      <td>123249</td>\n",
       "      <td>127963</td>\n",
       "      <td>136534</td>\n",
       "      <td>153091</td>\n",
       "    </tr>\n",
       "    <tr>\n",
       "      <th>Equity</th>\n",
       "      <td>55865</td>\n",
       "      <td>61085</td>\n",
       "      <td>66226</td>\n",
       "      <td>69019</td>\n",
       "      <td>74563</td>\n",
       "      <td>77514</td>\n",
       "      <td>81038</td>\n",
       "    </tr>\n",
       "    <tr>\n",
       "      <th>Total Liabilites</th>\n",
       "      <td>36035</td>\n",
       "      <td>40374</td>\n",
       "      <td>47101</td>\n",
       "      <td>54230</td>\n",
       "      <td>53400</td>\n",
       "      <td>59020</td>\n",
       "      <td>72053</td>\n",
       "    </tr>\n",
       "  </tbody>\n",
       "</table>\n",
       "</div>"
      ],
      "text/plain": [
       "                   2014    2015    2016    2017    2018    2019    2020\n",
       "Net Income        11704   11420   10316    9601   21053   21048   20899\n",
       "Revenue           55870   55355   59387   62761   70848   71965   77867\n",
       "Total Assets      91900  101459  113327  123249  127963  136534  153091\n",
       "Equity            55865   61085   66226   69019   74563   77514   81038\n",
       "Total Liabilites  36035   40374   47101   54230   53400   59020   72053"
      ]
     },
     "execution_count": 11,
     "metadata": {},
     "output_type": "execute_result"
    }
   ],
   "source": [
    "df"
   ]
  },
  {
   "cell_type": "code",
   "execution_count": null,
   "metadata": {},
   "outputs": [],
   "source": []
  }
 ],
 "metadata": {
  "kernelspec": {
   "display_name": "Python 3",
   "language": "python",
   "name": "python3"
  },
  "language_info": {
   "codemirror_mode": {
    "name": "ipython",
    "version": 3
   },
   "file_extension": ".py",
   "mimetype": "text/x-python",
   "name": "python",
   "nbconvert_exporter": "python",
   "pygments_lexer": "ipython3",
   "version": "3.7.6"
  }
 },
 "nbformat": 4,
 "nbformat_minor": 4
}
