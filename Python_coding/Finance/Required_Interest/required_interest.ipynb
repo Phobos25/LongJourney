{
 "cells": [
  {
   "cell_type": "markdown",
   "metadata": {},
   "source": [
    "### Оценка доходности вложений"
   ]
  },
  {
   "cell_type": "markdown",
   "metadata": {},
   "source": [
    "Основная идея этой программы это обработка внесенных значений выручки, ЧП и капитала для вывода ключевых параметров. \n",
    "\n",
    "Моя программа должна состоять из основной части, которая непосредственно обрабатывает данные, выводит ключевые мультипликаторы, выводит рисунки и т.п.\n",
    "\n",
    "Дополнительно можно сделать чтение с csv файла, и если будет возможность, то напишу другую программу, которая генерит эти csv файлы. \n",
    "\n",
    "**мне нужен еще код, который будет генерировать словарь (dictionary), либо из csv файла, либо как-то еще. **"
   ]
  },
  {
   "cell_type": "code",
   "execution_count": 12,
   "metadata": {},
   "outputs": [],
   "source": [
    "import csv\n",
    "import pandas as pd\n",
    "import matplotlib.pyplot as plt\n",
    "%matplotlib inline\n",
    "\n",
    "class ReasonableGrowth:\n",
    "    required_growth = 7    \n",
    "    \n",
    "    def __init__(self, \n",
    "                 data: dict, \n",
    "                 row_names = ['Net Income', 'Revenue','Total Assets', 'Equity', 'Total Liabilites'], \n",
    "                 col_names = ['Annual Data']):\n",
    "        \n",
    "        self.__data = data\n",
    "        self.__row_names = row_names        \n",
    "        self.__col_names = col_names        \n",
    "        \n",
    "        self.process_data()        \n",
    "    \n",
    "    def __convert_to_dataframe(self):\n",
    "        return pd.DataFrame(self.__data, index = self.__row_names)\n",
    "    \n",
    "    def process_data(self):\n",
    "        self.__calc_roe()  \n",
    "        self.__calc_liabilities()\n",
    "        print(\"Processing is done\")\n",
    "    def __calc_roe(self):\n",
    "        self.__row_names.append(\"ROE\") # return on equity        \n",
    "        roe = {}\n",
    "        keys = []        \n",
    "        for year in self.__data:\n",
    "            keys.append(year)\n",
    "            \n",
    "        for i in range(len(keys)):\n",
    "            if i == 0:\n",
    "                roe[keys[i]] = -1\n",
    "                continue\n",
    "            year = keys[i]\n",
    "            roe[year] = round(self.__data[year][0]/self.__data[year-1][3]*100)\n",
    "        \n",
    "        for year in self.__data: #add roe to data dictionary\n",
    "            self.__data[year].append(roe[year])\n",
    "            \n",
    "    def __calc_liabilities(self):\n",
    "        self.__row_names.append('Indebtness')\n",
    "        for year in self.__data:\n",
    "            liability = 100*self.__data[year][4]/self.__data[year][2]\n",
    "            self.__data[year].append(round(liability))\n",
    "\n",
    "    def plot_everything(self):\n",
    "        pass\n",
    "    def plot_roe(self):\n",
    "        pass\n",
    "    def plot_income(self):\n",
    "        pass\n",
    "    def plot_revenue(self):\n",
    "        pass\n",
    "    def plot_capital(self):\n",
    "        pass\n",
    "    \n",
    "    @property\n",
    "    def dict_data(self):\n",
    "        return self.__dict_data\n",
    "    \n",
    "    # class method\n",
    "    @classmethod\n",
    "    def instantiate_from_csv(cls, filename):\n",
    "        with open(filename, 'r') as f:\n",
    "            reader = csv.DictReader(f)\n",
    "            items = list(reader)\n",
    "    \n",
    "    \n",
    "    def __repr__(self):\n",
    "        df = self.__convert_to_dataframe()\n",
    "        return repr(df)\n",
    "    \n",
    "        #instantiate\n",
    "#         for item in items:\n",
    "#             ReasonableGrowth(\n",
    "#                 name  = item.get('name'),\n",
    "#                 price = float(item.get('price')),\n",
    "#                 quantity = int(item.get('quantity'))\n",
    "#             )"
   ]
  },
  {
   "cell_type": "code",
   "execution_count": 18,
   "metadata": {},
   "outputs": [],
   "source": [
    "class GrowthCompany(ReasonableGrowth):\n",
    "    growth_rate = 0\n",
    "    def __init__(self, dict_data):\n",
    "        super().__init__(dict_data)\n",
    "    def extrapolate_growth(self, years=5):\n",
    "        pass"
   ]
  },
  {
   "cell_type": "code",
   "execution_count": 4,
   "metadata": {},
   "outputs": [],
   "source": [
    "row_names = ['Net Income', 'Revenue', \n",
    "            'Total Assets', 'Equity', \n",
    "            'Total Liabilites']\n",
    "col_names = ['Annual Data']\n",
    "for year in range(2014,2021,1):\n",
    "    col_names.append(year)"
   ]
  },
  {
   "cell_type": "code",
   "execution_count": 1,
   "metadata": {},
   "outputs": [],
   "source": [
    "intel = {}\n",
    "roe = {}\n",
    "\n",
    "intel[2014] = [11704,55870,91900,55865,36035]\n",
    "intel[2015] = [11420,55355,101459,61085,40374]\n",
    "intel[2016] = [10316,59387,113327,66226,47101]\n",
    "intel[2017] = [9601,62761,123249,69019,54230]\n",
    "intel[2018] = [21053,70848,127963,74563,53400]\n",
    "intel[2019] = [21048,71965,136534,77514,59020]\n",
    "intel[2020] = [20899,77867,153091,81038,72053]\n",
    "year = 2014\n",
    "roe[year] = -1\n",
    "year = 2015\n",
    "roe[year] = intel[year][0]/intel[year-1][3]\n",
    "year = 2016\n",
    "roe[year] = intel[year][0]/intel[year-1][3]\n",
    "year = 2017\n",
    "roe[year] = intel[year][0]/intel[year-1][3]\n",
    "year = 2018\n",
    "roe[year] = intel[year][0]/intel[year-1][3]\n",
    "year = 2019\n",
    "roe[year] = intel[year][0]/intel[year-1][3]\n",
    "year = 2020\n",
    "roe[year] = intel[year][0]/intel[year-1][3]"
   ]
  },
  {
   "cell_type": "code",
   "execution_count": 5,
   "metadata": {},
   "outputs": [
    {
     "name": "stdout",
     "output_type": "stream",
     "text": [
      "Processing is done\n"
     ]
    }
   ],
   "source": [
    "data = dict(intel)\n",
    "grow_intel = ReasonableGrowth(data)\n"
   ]
  },
  {
   "cell_type": "code",
   "execution_count": 6,
   "metadata": {},
   "outputs": [
    {
     "data": {
      "text/plain": [
       "                   2014    2015    2016    2017    2018    2019    2020\n",
       "Net Income        11704   11420   10316    9601   21053   21048   20899\n",
       "Revenue           55870   55355   59387   62761   70848   71965   77867\n",
       "Total Assets      91900  101459  113327  123249  127963  136534  153091\n",
       "Equity            55865   61085   66226   69019   74563   77514   81038\n",
       "Total Liabilites  36035   40374   47101   54230   53400   59020   72053\n",
       "ROE                  -1      20      17      14      31      28      27\n",
       "Indebtness           39      40      42      44      42      43      47"
      ]
     },
     "execution_count": 6,
     "metadata": {},
     "output_type": "execute_result"
    }
   ],
   "source": [
    "grow_intel"
   ]
  },
  {
   "cell_type": "code",
   "execution_count": 7,
   "metadata": {},
   "outputs": [
    {
     "data": {
      "text/plain": [
       "{2014: -1,\n",
       " 2015: 0.20442137295265372,\n",
       " 2016: 0.16887943030203814,\n",
       " 2017: 0.14497327333675597,\n",
       " 2018: 0.3050319477245396,\n",
       " 2019: 0.28228477931413704,\n",
       " 2020: 0.26961581133730683}"
      ]
     },
     "execution_count": 7,
     "metadata": {},
     "output_type": "execute_result"
    }
   ],
   "source": [
    "roe"
   ]
  },
  {
   "cell_type": "markdown",
   "metadata": {},
   "source": [
    "### Тестирование элементов программы"
   ]
  },
  {
   "cell_type": "code",
   "execution_count": 2,
   "metadata": {},
   "outputs": [],
   "source": [
    "# это сделано для удобства\n",
    "stock = intel"
   ]
  },
  {
   "cell_type": "code",
   "execution_count": 5,
   "metadata": {},
   "outputs": [],
   "source": [
    "# мне нужно хранить roe в процентах, поэтому умножай на 100 и округляй\n",
    "roe = {}\n",
    "\n",
    "keys = []\n",
    "for year in stock:\n",
    "    keys.append(year)\n",
    "    \n",
    "for i in range(len(keys)):\n",
    "    if i == 0:\n",
    "        roe[keys[i]] = -1\n",
    "        continue\n",
    "    year = keys[i]\n",
    "    roe[year] = round(stock[year][0]/stock[year-1][3]*100)\n",
    "\n",
    "row_names.append(\"ROE\") # return on equity"
   ]
  },
  {
   "cell_type": "code",
   "execution_count": 6,
   "metadata": {},
   "outputs": [
    {
     "data": {
      "text/plain": [
       "{2014: -1, 2015: 20, 2016: 17, 2017: 14, 2018: 31, 2019: 28, 2020: 27}"
      ]
     },
     "execution_count": 6,
     "metadata": {},
     "output_type": "execute_result"
    }
   ],
   "source": [
    "roe"
   ]
  },
  {
   "cell_type": "code",
   "execution_count": 7,
   "metadata": {},
   "outputs": [],
   "source": [
    "for year in stock:\n",
    "    stock[year].append(roe[year])"
   ]
  },
  {
   "cell_type": "code",
   "execution_count": 8,
   "metadata": {},
   "outputs": [
    {
     "data": {
      "text/plain": [
       "{2014: [11704, 55870, 91900, 55865, 36035, -1],\n",
       " 2015: [11420, 55355, 101459, 61085, 40374, 20],\n",
       " 2016: [10316, 59387, 113327, 66226, 47101, 17],\n",
       " 2017: [9601, 62761, 123249, 69019, 54230, 14],\n",
       " 2018: [21053, 70848, 127963, 74563, 53400, 31],\n",
       " 2019: [21048, 71965, 136534, 77514, 59020, 28],\n",
       " 2020: [20899, 77867, 153091, 81038, 72053, 27]}"
      ]
     },
     "execution_count": 8,
     "metadata": {},
     "output_type": "execute_result"
    }
   ],
   "source": [
    "stock"
   ]
  },
  {
   "cell_type": "markdown",
   "metadata": {},
   "source": [
    "Total Liabilities / Total Assets --- это закредитованность компании. \n",
    "Очень важный параметр"
   ]
  },
  {
   "cell_type": "code",
   "execution_count": 9,
   "metadata": {},
   "outputs": [],
   "source": [
    "row_names.append('Indebtness')\n",
    "for year in stock:\n",
    "    liability = 100*stock[year][4]/stock[year][2]\n",
    "    stock[year].append(round(liability))"
   ]
  },
  {
   "cell_type": "code",
   "execution_count": 10,
   "metadata": {},
   "outputs": [
    {
     "data": {
      "text/plain": [
       "['Net Income',\n",
       " 'Revenue',\n",
       " 'Total Assets',\n",
       " 'Equity',\n",
       " 'Total Liabilites',\n",
       " 'ROE',\n",
       " 'Indebtness']"
      ]
     },
     "execution_count": 10,
     "metadata": {},
     "output_type": "execute_result"
    }
   ],
   "source": [
    "row_names"
   ]
  },
  {
   "cell_type": "code",
   "execution_count": 13,
   "metadata": {},
   "outputs": [],
   "source": [
    "df = pd.DataFrame(intel, index = row_names)"
   ]
  },
  {
   "cell_type": "code",
   "execution_count": 14,
   "metadata": {},
   "outputs": [
    {
     "data": {
      "text/html": [
       "<div>\n",
       "<style scoped>\n",
       "    .dataframe tbody tr th:only-of-type {\n",
       "        vertical-align: middle;\n",
       "    }\n",
       "\n",
       "    .dataframe tbody tr th {\n",
       "        vertical-align: top;\n",
       "    }\n",
       "\n",
       "    .dataframe thead th {\n",
       "        text-align: right;\n",
       "    }\n",
       "</style>\n",
       "<table border=\"1\" class=\"dataframe\">\n",
       "  <thead>\n",
       "    <tr style=\"text-align: right;\">\n",
       "      <th></th>\n",
       "      <th>2014</th>\n",
       "      <th>2015</th>\n",
       "      <th>2016</th>\n",
       "      <th>2017</th>\n",
       "      <th>2018</th>\n",
       "      <th>2019</th>\n",
       "      <th>2020</th>\n",
       "    </tr>\n",
       "  </thead>\n",
       "  <tbody>\n",
       "    <tr>\n",
       "      <th>Net Income</th>\n",
       "      <td>11704</td>\n",
       "      <td>11420</td>\n",
       "      <td>10316</td>\n",
       "      <td>9601</td>\n",
       "      <td>21053</td>\n",
       "      <td>21048</td>\n",
       "      <td>20899</td>\n",
       "    </tr>\n",
       "    <tr>\n",
       "      <th>Revenue</th>\n",
       "      <td>55870</td>\n",
       "      <td>55355</td>\n",
       "      <td>59387</td>\n",
       "      <td>62761</td>\n",
       "      <td>70848</td>\n",
       "      <td>71965</td>\n",
       "      <td>77867</td>\n",
       "    </tr>\n",
       "    <tr>\n",
       "      <th>Total Assets</th>\n",
       "      <td>91900</td>\n",
       "      <td>101459</td>\n",
       "      <td>113327</td>\n",
       "      <td>123249</td>\n",
       "      <td>127963</td>\n",
       "      <td>136534</td>\n",
       "      <td>153091</td>\n",
       "    </tr>\n",
       "    <tr>\n",
       "      <th>Equity</th>\n",
       "      <td>55865</td>\n",
       "      <td>61085</td>\n",
       "      <td>66226</td>\n",
       "      <td>69019</td>\n",
       "      <td>74563</td>\n",
       "      <td>77514</td>\n",
       "      <td>81038</td>\n",
       "    </tr>\n",
       "    <tr>\n",
       "      <th>Total Liabilites</th>\n",
       "      <td>36035</td>\n",
       "      <td>40374</td>\n",
       "      <td>47101</td>\n",
       "      <td>54230</td>\n",
       "      <td>53400</td>\n",
       "      <td>59020</td>\n",
       "      <td>72053</td>\n",
       "    </tr>\n",
       "    <tr>\n",
       "      <th>ROE</th>\n",
       "      <td>-1</td>\n",
       "      <td>20</td>\n",
       "      <td>17</td>\n",
       "      <td>14</td>\n",
       "      <td>31</td>\n",
       "      <td>28</td>\n",
       "      <td>27</td>\n",
       "    </tr>\n",
       "    <tr>\n",
       "      <th>Indebtness</th>\n",
       "      <td>39</td>\n",
       "      <td>40</td>\n",
       "      <td>42</td>\n",
       "      <td>44</td>\n",
       "      <td>42</td>\n",
       "      <td>43</td>\n",
       "      <td>47</td>\n",
       "    </tr>\n",
       "  </tbody>\n",
       "</table>\n",
       "</div>"
      ],
      "text/plain": [
       "                   2014    2015    2016    2017    2018    2019    2020\n",
       "Net Income        11704   11420   10316    9601   21053   21048   20899\n",
       "Revenue           55870   55355   59387   62761   70848   71965   77867\n",
       "Total Assets      91900  101459  113327  123249  127963  136534  153091\n",
       "Equity            55865   61085   66226   69019   74563   77514   81038\n",
       "Total Liabilites  36035   40374   47101   54230   53400   59020   72053\n",
       "ROE                  -1      20      17      14      31      28      27\n",
       "Indebtness           39      40      42      44      42      43      47"
      ]
     },
     "execution_count": 14,
     "metadata": {},
     "output_type": "execute_result"
    }
   ],
   "source": [
    "df"
   ]
  },
  {
   "cell_type": "code",
   "execution_count": 27,
   "metadata": {},
   "outputs": [],
   "source": [
    "years = df.columns.values\n",
    "y_value = df.loc['Revenue'].values"
   ]
  },
  {
   "cell_type": "code",
   "execution_count": 29,
   "metadata": {},
   "outputs": [
    {
     "data": {
      "text/plain": [
       "<BarContainer object of 7 artists>"
      ]
     },
     "execution_count": 29,
     "metadata": {},
     "output_type": "execute_result"
    },
    {
     "data": {
      "image/png": "[encoded data removed]",
      "text/plain": [
       "<Figure size 432x288 with 1 Axes>"
      ]
     },
     "metadata": {
      "needs_background": "light"
     },
     "output_type": "display_data"
    }
   ],
   "source": [
    "plt.bar(years, y_value)"
   ]
  },
  {
   "cell_type": "code",
   "execution_count": null,
   "metadata": {},
   "outputs": [],
   "source": []
  }
 ],
 "metadata": {
  "kernelspec": {
   "display_name": "Python 3",
   "language": "python",
   "name": "python3"
  },
  "language_info": {
   "codemirror_mode": {
    "name": "ipython",
    "version": 3
   },
   "file_extension": ".py",
   "mimetype": "text/x-python",
   "name": "python",
   "nbconvert_exporter": "python",
   "pygments_lexer": "ipython3",
   "version": "3.7.6"
  }
 },
 "nbformat": 4,
 "nbformat_minor": 4
}
