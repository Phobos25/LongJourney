{
 "cells": [
  {
   "cell_type": "markdown",
   "id": "a60fad23",
   "metadata": {},
   "source": [
    "## Logging\n"
   ]
  },
  {
   "cell_type": "markdown",
   "id": "a1f1f720",
   "metadata": {},
   "source": [
    "Logging is very important, you always need it, to check different kind of problems that can occur during lifetime of the program. \n",
    "\n",
    "Python has logging library that can utilize it"
   ]
  },
  {
   "cell_type": "code",
   "execution_count": 2,
   "id": "5bab6243",
   "metadata": {},
   "outputs": [],
   "source": [
    "import logging\n",
    "\n",
    "#configuring logging\n",
    "logging.basicConfig(\n",
    "    filename = 'app.log',\n",
    "    filemode  = 'w',\n",
    "    level    = logging.DEBUG,\n",
    "    format   = '%(asctime)s-%(name)s-%(levelname)s-%(message)s',\n",
    "    datefmt  = '%Y-%m-%d %H-%M-%S'\n",
    ")\n",
    "\n",
    "# log message with different severity levels\n",
    "logging.debug(\"This is a debug message\")\n",
    "logging.info(\"This is an info message\")\n",
    "logging.warning(\"This is a warning message\")\n",
    "logging.error(\"This is an error message\")\n",
    "logging.critical(\"This is a critical message\")"
   ]
  },
  {
   "cell_type": "code",
   "execution_count": null,
   "id": "0add34e2",
   "metadata": {},
   "outputs": [],
   "source": []
  }
 ],
 "metadata": {
  "kernelspec": {
   "display_name": "Python 3 (ipykernel)",
   "language": "python",
   "name": "python3"
  },
  "language_info": {
   "codemirror_mode": {
    "name": "ipython",
    "version": 3
   },
   "file_extension": ".py",
   "mimetype": "text/x-python",
   "name": "python",
   "nbconvert_exporter": "python",
   "pygments_lexer": "ipython3",
   "version": "3.9.12"
  }
 },
 "nbformat": 4,
 "nbformat_minor": 5
}
