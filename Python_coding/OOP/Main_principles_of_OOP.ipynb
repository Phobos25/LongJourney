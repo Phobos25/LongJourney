{
 "cells": [
  {
   "cell_type": "markdown",
   "metadata": {},
   "source": [
    "## Main Principles of OOP"
   ]
  },
  {
   "cell_type": "markdown",
   "metadata": {},
   "source": [
    "* Инкапсуляция\n",
    "\n",
    "* Абстракция\n",
    "\n",
    "* Наследование\n",
    "\n",
    "* Полиморфизм\n"
   ]
  },
  {
   "cell_type": "markdown",
   "metadata": {},
   "source": [
    "### Инкапсуляция"
   ]
  },
  {
   "cell_type": "markdown",
   "metadata": {},
   "source": [
    "Основная идея инкапсуляции лежит в том, чтобы не позволить программисту менять данные, которые лучше не трогать. Чтобы программа работала как раньше. \n",
    "\n",
    "Еще одна задача инкапсуляции --- защита входных данных, или защита от неверного ввода. Мы должны защитить программу от ввода неверных данных, ведь наша программа может работать неправильно, и мы можем не заметить этого. "
   ]
  },
  {
   "cell_type": "markdown",
   "metadata": {},
   "source": [
    "Какие переменные лучше не менять? Например, если у нас используются константы, то лучше их не трогать. Или веса при рисовании графиков. Или доход, расход, чтобы не вносить в эти поля отрицательные числа"
   ]
  },
  {
   "cell_type": "markdown",
   "metadata": {},
   "source": [
    "### Абстракция"
   ]
  },
  {
   "cell_type": "markdown",
   "metadata": {},
   "source": [
    "Сокрытие ненужной информации от пользователя\n",
    "\n",
    "Рассмотрим пример с посылкой нашего класса Item по электронной почте:\n",
    "\n",
    "```python\n",
    "item1 = Item(\"Xiaomi\", 750, 3)\n",
    "\n",
    "item1.send_email()\n",
    "```\n",
    "\n",
    "Мы понимаем, что отправка email это сложный процесс, нам надо подсоединиться к smtp серверу, создать тело письма, вложить туда что-нибудь (если надо), и отправить само письмо\n",
    "\n",
    "поэтому у нас будут методы, которые будут вызываться только внутри нашего класса **Item**. Для этого нам надо скрыть эти методы от пользователя. В Пайтоне это достигается использованием __ перед названием методов:\n",
    "```python\n",
    "# connect to smtp\n",
    "def __connect(self, smtp_name):\n",
    "    ...\n",
    "\n",
    "# message's body\n",
    "def __prepare_message(self):\n",
    "    '''\n",
    "    Dear, Batman\n",
    "    I rule Arkham\n",
    "    Regards, Joker\n",
    "    '''\n",
    "# send email\n",
    "def __send(self):\n",
    "    ...\n",
    "\n",
    "def send_email(self):\n",
    "    smtp_name = \"smpt_name\"\n",
    "    self.__connect(smtp_name)\n",
    "    self.__prepare_message()\n",
    "    self.__send()\n",
    "```"
   ]
  },
  {
   "cell_type": "markdown",
   "metadata": {},
   "source": [
    "### Наследование"
   ]
  },
  {
   "cell_type": "markdown",
   "metadata": {},
   "source": [
    "Создание базовых методов в родительском классе и в наследованных классов указывают специфичные методы. \n"
   ]
  },
  {
   "cell_type": "markdown",
   "metadata": {},
   "source": [
    "```python\n",
    "class Phone(Item):\n",
    "    ...\n",
    "```"
   ]
  },
  {
   "cell_type": "markdown",
   "metadata": {},
   "source": [
    "```python\n",
    "phone1 = Phone(\"Macbook\", 1000, 10)\n",
    "phone1.send_email()\n",
    "```\n",
    "\n",
    "Т.к. мы определили метод send_email в родительском классе Item, и класс Phone наследут от класса Item, мы можем использовать метод send_email(). \n",
    "\n",
    "Наследование позволяет уменьшить дублирование кода, что уменьшает количество ошибок. "
   ]
  },
  {
   "cell_type": "markdown",
   "metadata": {},
   "source": [
    "### Полиморфизм"
   ]
  },
  {
   "cell_type": "markdown",
   "metadata": {},
   "source": [
    "det --- это когда одна функция может принимать разные аргументы и вести себя по разному, взасимости от аргументов.\n",
    "\n",
    "Ярким примером полиморфизма в пайтон является функция len, который возвращает размер объекта:\n",
    "\n",
    "```python\n",
    "name = 'name' # str\n",
    "print(len(name)) # len returns length of the string\n",
    "\n",
    "full_name = ['name', 'lastname'] # list\n",
    "print(len(full_name)) # len returns size of the list (2)\n",
    "```\n"
   ]
  },
  {
   "cell_type": "markdown",
   "metadata": {},
   "source": [
    "Полиморфизм нередко используется совместно с наследованием.\n",
    "\n",
    "К примеру, у нас есть метод apply_discount(), который умножает цену на размер pay_rate, который является внутриклассовой переменной\n",
    "\n",
    "Это значение можно изменять для каждого наследуемого класса отдельно. К примеру установить pay_rate для класса Phone равным 0.5, для нового класса Laptop, сделать pay_rate = 0.7, а для родительского класса Item он будет стоять равным 0.8. \n",
    "\n",
    "При этом нам не надо менять сам метод **apply_discount()**. Такое использование переменных тоже является полиморфизмом, т.к. один и тот же метод, работает по разному для разных наследованных классов"
   ]
  },
  {
   "cell_type": "code",
   "execution_count": null,
   "metadata": {},
   "outputs": [],
   "source": []
  }
 ],
 "metadata": {
  "kernelspec": {
   "display_name": "Python 3",
   "language": "python",
   "name": "python3"
  },
  "language_info": {
   "codemirror_mode": {
    "name": "ipython",
    "version": 3
   },
   "file_extension": ".py",
   "mimetype": "text/x-python",
   "name": "python",
   "nbconvert_exporter": "python",
   "pygments_lexer": "ipython3",
   "version": "3.8.8"
  }
 },
 "nbformat": 4,
 "nbformat_minor": 4
}
