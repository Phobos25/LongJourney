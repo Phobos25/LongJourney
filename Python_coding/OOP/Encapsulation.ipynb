{
 "cells": [
  {
   "cell_type": "code",
   "execution_count": 2,
   "metadata": {},
   "outputs": [
    {
     "name": "stdout",
     "output_type": "stream",
     "text": [
      "NewItem\n"
     ]
    }
   ],
   "source": [
    "from item import Item\n",
    "\n",
    "item1 = Item(\"MyItem1\", 750)\n",
    "item1.name = \"NewItem\"\n",
    "\n",
    "print(item1.name)"
   ]
  },
  {
   "cell_type": "markdown",
   "metadata": {},
   "source": [
    "как мы видим, после создания объекта item1 мы поменяли ему имя. Далее мы рассмотрим следующее. Что если мы не хотим, чтобы после создания объекта ему меняли название, или получали прямой доступ к его полям. Это ведь может привести к нежелательынм последствиям"
   ]
  },
  {
   "cell_type": "markdown",
   "metadata": {},
   "source": [
    "Мы будем использовать т.н. read only attributes. Т.е. после того, как мы задали имя объекту, мы уже не может менять ему имя. "
   ]
  },
  {
   "cell_type": "markdown",
   "metadata": {},
   "source": [
    "для этого используется декоратор property\n",
    "\n",
    "```python\n",
    "@property\n",
    "# Property decorator = read-only decorator\n",
    "def name(self):\n",
    "    return self.__name          \n",
    "```"
   ]
  },
  {
   "cell_type": "markdown",
   "metadata": {},
   "source": [
    "в таком случае наша программа может вызывать значение, но не менять!\n",
    "\n",
    "Если мы попробуем использовать ``` item1.__name ```, то либо будет ошибка, либо пайтон создаст новую переменную ```__name``` и назначит ему наше новое имя. \n",
    "\n",
    "Но при вызове переменной: ```item.name```, программа будет показывать старое значение"
   ]
  },
  {
   "cell_type": "code",
   "execution_count": 12,
   "metadata": {},
   "outputs": [
    {
     "name": "stdout",
     "output_type": "stream",
     "text": [
      "NewItem\n",
      "OtherItem\n"
     ]
    }
   ],
   "source": [
    "from item import Item\n",
    "\n",
    "item1 = Item(\"NewItem\", 750)\n",
    "item1.__name = \"OtherItem\"\n",
    "print(item1.name)\n",
    "print(item1.__name)"
   ]
  },
  {
   "cell_type": "markdown",
   "metadata": {},
   "source": [
    "Чтобы была возможность менять переменную, если мы захотим. Используется декоратор ```@var.setter```\n",
    "\n",
    "```python\n",
    "@name.setter\n",
    "# allows to set a name\n",
    "def name(self, value):\n",
    "    self.__name = value\n",
    "\n",
    "```"
   ]
  },
  {
   "cell_type": "code",
   "execution_count": 11,
   "metadata": {},
   "outputs": [
    {
     "name": "stdout",
     "output_type": "stream",
     "text": [
      "OtherName\n"
     ]
    }
   ],
   "source": [
    "item1.name = \"OtherName\"\n",
    "print(item1.name)"
   ]
  },
  {
   "cell_type": "markdown",
   "metadata": {},
   "source": [
    "использование такого способа позволяет нам проверять валидность данных, к примеру, если название слишком длинное:\n",
    "```python\n",
    "@name.setter\n",
    "# allows to set a name\n",
    "def name(self, value):\n",
    "    if len(value) > 10:\n",
    "        raise Exception(\"The name is too long\")\n",
    "    else:\n",
    "        self.__name = value\n",
    "\n",
    "```"
   ]
  },
  {
   "cell_type": "code",
   "execution_count": 13,
   "metadata": {},
   "outputs": [
    {
     "ename": "Exception",
     "evalue": "The name is too long",
     "output_type": "error",
     "traceback": [
      "\u001b[0;31m---------------------------------------------------------------------------\u001b[0m",
      "\u001b[0;31mException\u001b[0m                                 Traceback (most recent call last)",
      "\u001b[0;32m<ipython-input-13-ac83bbd83a07>\u001b[0m in \u001b[0;36m<module>\u001b[0;34m\u001b[0m\n\u001b[0;32m----> 1\u001b[0;31m \u001b[0mitem1\u001b[0m\u001b[0;34m.\u001b[0m\u001b[0mname\u001b[0m \u001b[0;34m=\u001b[0m \u001b[0;34m\"OtherNamemm\"\u001b[0m\u001b[0;34m\u001b[0m\u001b[0;34m\u001b[0m\u001b[0m\n\u001b[0m",
      "\u001b[0;32m~/Documents/LongJourney/Python_coding/OOP/item.py\u001b[0m in \u001b[0;36mname\u001b[0;34m(self, value)\u001b[0m\n\u001b[1;32m     29\u001b[0m     \u001b[0;32mdef\u001b[0m \u001b[0mname\u001b[0m\u001b[0;34m(\u001b[0m\u001b[0mself\u001b[0m\u001b[0;34m,\u001b[0m \u001b[0mvalue\u001b[0m\u001b[0;34m)\u001b[0m\u001b[0;34m:\u001b[0m\u001b[0;34m\u001b[0m\u001b[0;34m\u001b[0m\u001b[0m\n\u001b[1;32m     30\u001b[0m         \u001b[0;32mif\u001b[0m \u001b[0mlen\u001b[0m\u001b[0;34m(\u001b[0m\u001b[0mvalue\u001b[0m\u001b[0;34m)\u001b[0m \u001b[0;34m>\u001b[0m \u001b[0;36m10\u001b[0m\u001b[0;34m:\u001b[0m\u001b[0;34m\u001b[0m\u001b[0;34m\u001b[0m\u001b[0m\n\u001b[0;32m---> 31\u001b[0;31m             \u001b[0;32mraise\u001b[0m \u001b[0mException\u001b[0m\u001b[0;34m(\u001b[0m\u001b[0;34m\"The name is too long\"\u001b[0m\u001b[0;34m)\u001b[0m\u001b[0;34m\u001b[0m\u001b[0;34m\u001b[0m\u001b[0m\n\u001b[0m\u001b[1;32m     32\u001b[0m         \u001b[0;32melse\u001b[0m\u001b[0;34m:\u001b[0m\u001b[0;34m\u001b[0m\u001b[0;34m\u001b[0m\u001b[0m\n\u001b[1;32m     33\u001b[0m             \u001b[0mself\u001b[0m\u001b[0;34m.\u001b[0m\u001b[0m__name\u001b[0m \u001b[0;34m=\u001b[0m \u001b[0mvalue\u001b[0m\u001b[0;34m\u001b[0m\u001b[0;34m\u001b[0m\u001b[0m\n",
      "\u001b[0;31mException\u001b[0m: The name is too long"
     ]
    }
   ],
   "source": [
    "item1.name = \"OtherNamemm\""
   ]
  },
  {
   "cell_type": "markdown",
   "metadata": {},
   "source": [
    "как мы видим, наша программа бросает исключение ```The name is too long```"
   ]
  },
  {
   "cell_type": "code",
   "execution_count": 14,
   "metadata": {},
   "outputs": [
    {
     "name": "stdout",
     "output_type": "stream",
     "text": [
      "NewItem\n"
     ]
    }
   ],
   "source": [
    "print(item1.name)"
   ]
  },
  {
   "cell_type": "code",
   "execution_count": null,
   "metadata": {},
   "outputs": [],
   "source": []
  }
 ],
 "metadata": {
  "kernelspec": {
   "display_name": "Python 3",
   "language": "python",
   "name": "python3"
  },
  "language_info": {
   "codemirror_mode": {
    "name": "ipython",
    "version": 3
   },
   "file_extension": ".py",
   "mimetype": "text/x-python",
   "name": "python",
   "nbconvert_exporter": "python",
   "pygments_lexer": "ipython3",
   "version": "3.8.8"
  }
 },
 "nbformat": 4,
 "nbformat_minor": 4
}
