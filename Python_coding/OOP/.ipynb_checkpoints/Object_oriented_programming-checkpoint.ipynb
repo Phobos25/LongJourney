{
 "cells": [
  {
   "cell_type": "code",
   "execution_count": 1,
   "metadata": {},
   "outputs": [],
   "source": [
    "import csv\n",
    "\n",
    "class Item:\n",
    "    pay_rate = 0.8\n",
    "    all = []\n",
    "    # указываем тип переменной в конструкторе\n",
    "    # если есть переменная по умолчанию, то указывать не надо. переменная\n",
    "    # по умолчанию показывает, что ожидается получить\n",
    "    def __init__(self, name: str, price: float, quantity = 0):\n",
    "        # validate values\n",
    "        assert price >= 0, f\"Price {price} is not greater than zero\"\n",
    "        assert quantity >= 0, f\"Quantity {quantity} is not greater than zero\"\n",
    "        \n",
    "        # Assign to self object\n",
    "        self.name = name\n",
    "        self.price = price\n",
    "        self.quantity = quantity\n",
    "        \n",
    "        # Actions to execute\n",
    "        Item.all.append(self)\n",
    "        \n",
    "    def calculate_total_price(self):\n",
    "        return self.price * self.quantity;\n",
    "    \n",
    "    def apply_discount(self):\n",
    "        self.price = self.price * self.pay_rate\n",
    "    \n",
    "    # class method\n",
    "    @classmethod\n",
    "    def instantiate_from_csv(cls, filename):\n",
    "        with open(filename, 'r') as f:\n",
    "            reader = csv.DictReader(f)\n",
    "            items = list(reader)\n",
    "        \n",
    "        # print read items\n",
    "        for item in items:\n",
    "            Item(\n",
    "                name  = item.get('name'),\n",
    "                price = float(item.get('price')),\n",
    "                quantity = int(item.get('quantity'))\n",
    "            )\n",
    "    \n",
    "    @staticmethod\n",
    "    def is_integer(num):\n",
    "        # we will count out floats that are point zero\n",
    "        # i.e. 5.0, 10.0, 0.0 etc.\n",
    "        if isinstance(num, float):\n",
    "            # count out the floats that are point zero\n",
    "            return num.is_integer()\n",
    "        elif isinstance(num, int):\n",
    "            return True\n",
    "        else:\n",
    "            return False\n",
    "        \n",
    "    def __repr__(self):\n",
    "        return f\"{self.__class__.__name__}('{self.name}', {self.price}, {self.quantity})\""
   ]
  },
  {
   "cell_type": "code",
   "execution_count": 2,
   "metadata": {},
   "outputs": [
    {
     "name": "stdout",
     "output_type": "stream",
     "text": [
      "400.0\n"
     ]
    }
   ],
   "source": [
    "item1 = Item(\"Phone\", 100, 5)\n",
    "item1.apply_discount()\n",
    "print(item1.calculate_total_price())"
   ]
  },
  {
   "cell_type": "markdown",
   "metadata": {},
   "source": [
    "#### magic method for a class __dict__"
   ]
  },
  {
   "cell_type": "code",
   "execution_count": 3,
   "metadata": {},
   "outputs": [
    {
     "name": "stdout",
     "output_type": "stream",
     "text": [
      "{'__module__': '__main__', 'pay_rate': 0.8, 'all': [Item('Phone', 80.0, 5)], '__init__': <function Item.__init__ at 0x7fd0ec250320>, 'calculate_total_price': <function Item.calculate_total_price at 0x7fd0ec1f0710>, 'apply_discount': <function Item.apply_discount at 0x7fd0ec1f07a0>, 'instantiate_from_csv': <classmethod object at 0x7fd0ec2290d0>, 'is_integer': <staticmethod object at 0x7fd0ec229710>, '__repr__': <function Item.__repr__ at 0x7fd0ec1f0950>, '__dict__': <attribute '__dict__' of 'Item' objects>, '__weakref__': <attribute '__weakref__' of 'Item' objects>, '__doc__': None}\n",
      "\n",
      "\n",
      "{'name': 'Phone', 'price': 80.0, 'quantity': 5}\n"
     ]
    }
   ],
   "source": [
    "print(Item.__dict__) # All the attributes for Class level\n",
    "print('\\n')\n",
    "print(item1.__dict__) # All the attributes for instance level"
   ]
  },
  {
   "cell_type": "code",
   "execution_count": 4,
   "metadata": {},
   "outputs": [],
   "source": [
    "item1 = Item(\"Phone\",    100 , 5)\n",
    "item2 = Item('Laptop',   1000, 3)\n",
    "item3 = Item('Cable',    10  , 5)\n",
    "item4 = Item('Mouse',    50  , 5)\n",
    "item5 = Item('Keyboard', 75  , 5)"
   ]
  },
  {
   "cell_type": "code",
   "execution_count": 5,
   "metadata": {},
   "outputs": [
    {
     "data": {
      "text/plain": [
       "[Item('Phone', 80.0, 5),\n",
       " Item('Phone', 100, 5),\n",
       " Item('Laptop', 1000, 3),\n",
       " Item('Cable', 10, 5),\n",
       " Item('Mouse', 50, 5),\n",
       " Item('Keyboard', 75, 5)]"
      ]
     },
     "execution_count": 5,
     "metadata": {},
     "output_type": "execute_result"
    }
   ],
   "source": [
    "Item.all # it shows a number ot instances of the class"
   ]
  },
  {
   "cell_type": "code",
   "execution_count": 6,
   "metadata": {},
   "outputs": [
    {
     "name": "stdout",
     "output_type": "stream",
     "text": [
      "Phone\n",
      "Phone\n",
      "Laptop\n",
      "Cable\n",
      "Mouse\n",
      "Keyboard\n"
     ]
    }
   ],
   "source": [
    "for instance in Item.all:\n",
    "    print(instance.name)"
   ]
  },
  {
   "cell_type": "markdown",
   "metadata": {},
   "source": [
    "### Working with database"
   ]
  },
  {
   "cell_type": "code",
   "execution_count": 7,
   "metadata": {},
   "outputs": [
    {
     "name": "stdout",
     "output_type": "stream",
     "text": [
      "Phone\n",
      "Phone\n",
      "Laptop\n",
      "Cable\n",
      "Mouse\n",
      "Keyboard\n",
      "'Phone'\n",
      "'Laptop'\n",
      "'Cable'\n",
      "'Mouse'\n",
      "'Keyboard'\n"
     ]
    }
   ],
   "source": [
    "Item.instantiate_from_csv('items.csv')\n",
    "for instance in Item.all:\n",
    "    print(instance.name)"
   ]
  },
  {
   "cell_type": "markdown",
   "metadata": {},
   "source": [
    "### Class methods"
   ]
  },
  {
   "cell_type": "markdown",
   "metadata": {},
   "source": [
    "Class methods are general methods that exist in every instance or even before creating an instance of the class.\n",
    "\n",
    "example:\n",
    "```python\n",
    "@classmethod\n",
    "def instantiate_from_csv(cls):\n",
    "    ...\n",
    "```"
   ]
  },
  {
   "cell_type": "markdown",
   "metadata": {},
   "source": [
    "### Static methods"
   ]
  },
  {
   "cell_type": "markdown",
   "metadata": {},
   "source": [
    "Static methods are like functions inside of the class. they don't require to pass an argument like cls or self, like methods in the class\n",
    "\n",
    "example:\n",
    "\n",
    "```python\n",
    "@staticmethod\n",
    "def is_integer(num):\n",
    "```\n",
    "\n",
    "and they can be called inside of the class methods or like a class method"
   ]
  },
  {
   "cell_type": "markdown",
   "metadata": {},
   "source": [
    "#### When to use static methods, when to use class methods\n",
    "\n",
    "On general classmethods can be used to create an instance of the class, while static methods can be used in various methods inside the class. Includig @classmethod. \n",
    "\n",
    "Since @staticmethod is basically a function, that can even exist outside of the class, it's not necessary to use @staticmethod. But if your class methods heavily rely on custom functions you can put one inside of @staticmethod"
   ]
  },
  {
   "cell_type": "markdown",
   "metadata": {},
   "source": [
    "### Inheritance"
   ]
  },
  {
   "cell_type": "code",
   "execution_count": 12,
   "metadata": {},
   "outputs": [],
   "source": [
    "class Phone(Item):\n",
    "    def __init__(self, \n",
    "                 name: str, \n",
    "                 price: float, \n",
    "                 quantity = 0, \n",
    "                 broken_phones=0):\n",
    "        # call to super function to have access to all attributes / methods\n",
    "        super().__init__(\n",
    "            name, price, quantity\n",
    "        )    \n",
    "        # validate values        \n",
    "        assert broken_phones >= 0, f\"Broken phones {broken_phones} is not greater than zero\"\n",
    "        \n",
    "        # Assign to self object        \n",
    "        self.broken_phones = broken_phones"
   ]
  },
  {
   "cell_type": "code",
   "execution_count": 16,
   "metadata": {},
   "outputs": [],
   "source": [
    "phone1 = Phone('Xiaomi', 700, 10)\n",
    "phone2 = Phone('Huawei', 600, 8)"
   ]
  },
  {
   "cell_type": "code",
   "execution_count": 17,
   "metadata": {},
   "outputs": [
    {
     "data": {
      "text/plain": [
       "7000"
      ]
     },
     "execution_count": 17,
     "metadata": {},
     "output_type": "execute_result"
    }
   ],
   "source": [
    "phone1.calculate_total_price()"
   ]
  },
  {
   "cell_type": "code",
   "execution_count": 20,
   "metadata": {},
   "outputs": [
    {
     "data": {
      "text/plain": [
       "[Item('Phone', 80.0, 5),\n",
       " Item('Phone', 100, 5),\n",
       " Item('Laptop', 1000, 3),\n",
       " Item('Cable', 10, 5),\n",
       " Item('Mouse', 50, 5),\n",
       " Item('Keyboard', 75, 5),\n",
       " Item(''Phone'', 100.0, 5),\n",
       " Item(''Laptop'', 1000.0, 3),\n",
       " Item(''Cable'', 10.0, 5),\n",
       " Item(''Mouse'', 50.0, 5),\n",
       " Item(''Keyboard'', 75.0, 5),\n",
       " Phone('Xiaomi', 700, 10),\n",
       " Phone('Xiaomi', 700, 10),\n",
       " Phone('Xiaomi', 700, 10),\n",
       " Phone('Huawei', 600, 8)]"
      ]
     },
     "execution_count": 20,
     "metadata": {},
     "output_type": "execute_result"
    }
   ],
   "source": [
    "Phone.all"
   ]
  },
  {
   "cell_type": "code",
   "execution_count": null,
   "metadata": {},
   "outputs": [],
   "source": []
  }
 ],
 "metadata": {
  "kernelspec": {
   "display_name": "Python 3",
   "language": "python",
   "name": "python3"
  },
  "language_info": {
   "codemirror_mode": {
    "name": "ipython",
    "version": 3
   },
   "file_extension": ".py",
   "mimetype": "text/x-python",
   "name": "python",
   "nbconvert_exporter": "python",
   "pygments_lexer": "ipython3",
   "version": "3.7.6"
  }
 },
 "nbformat": 4,
 "nbformat_minor": 4
}
