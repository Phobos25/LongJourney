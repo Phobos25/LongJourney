{
 "cells": [
  {
   "cell_type": "code",
   "execution_count": 3,
   "metadata": {},
   "outputs": [
    {
     "name": "stdout",
     "output_type": "stream",
     "text": [
      "(2, 6)\n",
      "(3, 5)\n",
      "(4, 4)\n",
      "(5, 3)\n",
      "(6, 2)\n",
      "5\n"
     ]
    }
   ],
   "source": [
    "from itertools import product\n",
    "\n",
    "count = 0\n",
    "for p in product(range(7),repeat = 2):\n",
    "    if sum(list(p)) == 8:\n",
    "        count += 1\n",
    "        print(p)\n",
    "print(count)"
   ]
  },
  {
   "cell_type": "code",
   "execution_count": 4,
   "metadata": {},
   "outputs": [
    {
     "data": {
      "text/plain": [
       "128"
      ]
     },
     "execution_count": 4,
     "metadata": {},
     "output_type": "execute_result"
    }
   ],
   "source": [
    "2**7"
   ]
  },
  {
   "cell_type": "code",
   "execution_count": 5,
   "metadata": {},
   "outputs": [
    {
     "data": {
      "text/plain": [
       "1.1166666666666667"
      ]
     },
     "execution_count": 5,
     "metadata": {},
     "output_type": "execute_result"
    }
   ],
   "source": [
    "2/3+1/4+1/5"
   ]
  },
  {
   "cell_type": "code",
   "execution_count": 1,
   "metadata": {},
   "outputs": [],
   "source": [
    "n=8\n",
    "count = 0\n",
    "\n",
    "for i in range(n):\n",
    "    for j in range(n):\n",
    "        for k in range(n):\n",
    "            if i < j and j < k:\n",
    "                count += 1\n",
    "\n",
    "print(count)"
   ]
  },
  {
   "cell_type": "code",
   "execution_count": 2,
   "metadata": {},
   "outputs": [],
   "source": [
    "from itertools import combinations"
   ]
  },
  {
   "cell_type": "code",
   "execution_count": 3,
   "metadata": {},
   "outputs": [
    {
     "name": "stdout",
     "output_type": "stream",
     "text": [
      "1234567\n",
      "1234568\n",
      "1234578\n",
      "1234678\n",
      "1235678\n",
      "1245678\n",
      "1345678\n",
      "2345678\n"
     ]
    }
   ],
   "source": [
    "count = 0\n",
    "for c in combinations('12345678', 7):\n",
    "    print(\"\".join(c))\n",
    "    count += 1\n",
    "    "
   ]
  },
  {
   "cell_type": "code",
   "execution_count": 4,
   "metadata": {},
   "outputs": [
    {
     "name": "stdout",
     "output_type": "stream",
     "text": [
      "8\n"
     ]
    }
   ],
   "source": [
    "print(count)"
   ]
  },
  {
   "cell_type": "code",
   "execution_count": 5,
   "metadata": {},
   "outputs": [],
   "source": [
    "from itertools import permutations\n",
    "\n",
    "count = 0\n",
    "for p in permutations('12345678', 7):\n",
    "#   print(''.join(p))\n",
    "    count += 1"
   ]
  },
  {
   "cell_type": "code",
   "execution_count": 6,
   "metadata": {},
   "outputs": [
    {
     "data": {
      "text/plain": [
       "40320"
      ]
     },
     "execution_count": 6,
     "metadata": {},
     "output_type": "execute_result"
    }
   ],
   "source": [
    "count"
   ]
  },
  {
   "cell_type": "code",
   "execution_count": 14,
   "metadata": {},
   "outputs": [],
   "source": [
    "# time complexity: O(n)\n",
    "# space complexity: O(n)\n",
    "# n - number\n",
    "def factorial(num, memo={}):\n",
    "    if num < 2:\n",
    "        return 1\n",
    "    if num not in memo:\n",
    "        memo[num] = num*factorial(num-1, memo)\n",
    "    return memo[num]"
   ]
  },
  {
   "cell_type": "code",
   "execution_count": 17,
   "metadata": {},
   "outputs": [
    {
     "name": "stdout",
     "output_type": "stream",
     "text": [
      "0 : 1\n",
      "1 : 1\n",
      "2 : 2\n",
      "3 : 6\n",
      "4 : 24\n",
      "5 : 120\n",
      "6 : 720\n",
      "7 : 5040\n",
      "8 : 40320\n",
      "9 : 362880\n",
      "10 : 3628800\n",
      "11 : 39916800\n",
      "12 : 479001600\n",
      "13 : 6227020800\n"
     ]
    }
   ],
   "source": [
    "for i in range(14):\n",
    "    print(f'{i} : {factorial(i)}')"
   ]
  },
  {
   "cell_type": "markdown",
   "metadata": {},
   "source": [
    "Given an array nums of distinct integers, return all the possible permutations. You can return the answer in **any order.**"
   ]
  },
  {
   "cell_type": "code",
   "execution_count": 15,
   "metadata": {},
   "outputs": [],
   "source": [
    "def permutations(elements):\n",
    "    if len(elements) == 0:\n",
    "        return [[]]\n",
    "    first = elements[0]\n",
    "    rest  = elements[1:]\n",
    "    perms_without_first = permutations(rest)\n",
    "    \n",
    "    all_permutations = []\n",
    "    for perm in perms_without_first:\n",
    "        for i in range(len(perm)+1):\n",
    "            perms_with_first = perm[:i] + [first] + perm[i:]\n",
    "            all_permutations.append(perms_with_first)\n",
    "    return all_permutations"
   ]
  },
  {
   "cell_type": "code",
   "execution_count": 16,
   "metadata": {},
   "outputs": [
    {
     "name": "stdout",
     "output_type": "stream",
     "text": [
      "[1, 2, 3]\n",
      "[2, 1, 3]\n",
      "[2, 3, 1]\n",
      "[1, 3, 2]\n",
      "[3, 1, 2]\n",
      "[3, 2, 1]\n"
     ]
    }
   ],
   "source": [
    "nums = [1,2,3]\n",
    "perms = permutations(nums)\n",
    "for perm in perms:\n",
    "    print(perm)"
   ]
  },
  {
   "cell_type": "code",
   "execution_count": 7,
   "metadata": {},
   "outputs": [
    {
     "name": "stdout",
     "output_type": "stream",
     "text": [
      "[[0, [1]], [[1], 0]]\n"
     ]
    }
   ],
   "source": [
    "nums = [0,1]\n",
    "perms = permutations(nums)\n",
    "for perm in perms:\n",
    "    print(perm)"
   ]
  },
  {
   "cell_type": "code",
   "execution_count": 18,
   "metadata": {},
   "outputs": [
    {
     "name": "stdout",
     "output_type": "stream",
     "text": [
      "[[1]]\n"
     ]
    }
   ],
   "source": [
    "nums = [1]\n",
    "perms = permutations(nums)\n",
    "for perm in perms:\n",
    "    print(perm)\n"
   ]
  },
  {
   "cell_type": "code",
   "execution_count": 25,
   "metadata": {},
   "outputs": [],
   "source": [
    "class Solution(object):\n",
    "    def permute(self, nums):\n",
    "        \"\"\"\n",
    "        :type nums: List[int]\n",
    "        :rtype: List[List[int]]\n",
    "        \"\"\"\n",
    "        if len(nums) == 0:\n",
    "            return [[]]\n",
    "        \n",
    "        first = nums[0]\n",
    "        rest  = nums[1:]\n",
    "        perms_without_first = self.permute(rest)\n",
    "        \n",
    "        all_permutations = []\n",
    "        for perm in perms_without_first:\n",
    "            for i in range(len(perm) + 1):\n",
    "                perms_with_first = perm[:i] + [first] + perm[i:]\n",
    "                all_permutations.append(perms_with_first)\n",
    "        return all_permutations\n",
    "        "
   ]
  },
  {
   "cell_type": "code",
   "execution_count": 26,
   "metadata": {},
   "outputs": [
    {
     "data": {
      "text/plain": [
       "[[1, 2, 3], [2, 1, 3], [2, 3, 1], [1, 3, 2], [3, 1, 2], [3, 2, 1]]"
      ]
     },
     "execution_count": 26,
     "metadata": {},
     "output_type": "execute_result"
    }
   ],
   "source": [
    "sol = Solution()\n",
    "sol.permute([1,2,3])"
   ]
  },
  {
   "cell_type": "code",
   "execution_count": 21,
   "metadata": {},
   "outputs": [
    {
     "data": {
      "text/plain": [
       "119750400.0"
      ]
     },
     "execution_count": 21,
     "metadata": {},
     "output_type": "execute_result"
    }
   ],
   "source": [
    "factorial(12)/factorial(2)/2"
   ]
  },
  {
   "cell_type": "code",
   "execution_count": 22,
   "metadata": {},
   "outputs": [
    {
     "data": {
      "text/plain": [
       "10395.0"
      ]
     },
     "execution_count": 22,
     "metadata": {},
     "output_type": "execute_result"
    }
   ],
   "source": [
    "factorial(12)/factorial(6)/2**6"
   ]
  },
  {
   "cell_type": "code",
   "execution_count": 26,
   "metadata": {},
   "outputs": [
    {
     "data": {
      "text/plain": [
       "7484400"
      ]
     },
     "execution_count": 26,
     "metadata": {},
     "output_type": "execute_result"
    }
   ],
   "source": [
    "66*45*28*15*6"
   ]
  },
  {
   "cell_type": "code",
   "execution_count": 25,
   "metadata": {},
   "outputs": [
    {
     "data": {
      "text/plain": [
       "7484400.0"
      ]
     },
     "execution_count": 25,
     "metadata": {},
     "output_type": "execute_result"
    }
   ],
   "source": [
    "factorial(12)/2**6"
   ]
  },
  {
   "cell_type": "code",
   "execution_count": null,
   "metadata": {},
   "outputs": [],
   "source": []
  }
 ],
 "metadata": {
  "kernelspec": {
   "display_name": "Python 3",
   "language": "python",
   "name": "python3"
  },
  "language_info": {
   "codemirror_mode": {
    "name": "ipython",
    "version": 3
   },
   "file_extension": ".py",
   "mimetype": "text/x-python",
   "name": "python",
   "nbconvert_exporter": "python",
   "pygments_lexer": "ipython3",
   "version": "3.7.6"
  }
 },
 "nbformat": 4,
 "nbformat_minor": 4
}
