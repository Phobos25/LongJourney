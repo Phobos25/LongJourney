{
 "cells": [
  {
   "cell_type": "code",
   "execution_count": 1,
   "metadata": {},
   "outputs": [
    {
     "data": {
      "text/plain": [
       "31381059609"
      ]
     },
     "execution_count": 1,
     "metadata": {},
     "output_type": "execute_result"
    }
   ],
   "source": [
    "x = 3**10\n",
    "y = 3**12\n",
    "x*y"
   ]
  },
  {
   "cell_type": "code",
   "execution_count": 15,
   "metadata": {},
   "outputs": [],
   "source": [
    "# time complexity: O(n)\n",
    "# space complexity: O(n)\n",
    "# n - number\n",
    "def factorial(num, memo={}):\n",
    "    if num < 2:\n",
    "        return 1\n",
    "    if num not in memo:\n",
    "        memo[num] = num*factorial(num-1, memo)\n",
    "    return memo[num]"
   ]
  },
  {
   "cell_type": "code",
   "execution_count": 25,
   "metadata": {},
   "outputs": [
    {
     "name": "stdout",
     "output_type": "stream",
     "text": [
      "0 : 1\n",
      "1 : 1\n",
      "2 : 2\n",
      "3 : 6\n",
      "4 : 24\n",
      "5 : 120\n",
      "6 : 720\n",
      "7 : 5040\n",
      "8 : 40320\n",
      "9 : 362880\n"
     ]
    }
   ],
   "source": [
    "for i in range(10):\n",
    "    print(f'{i} : {factorial(i)}')"
   ]
  },
  {
   "cell_type": "code",
   "execution_count": null,
   "metadata": {},
   "outputs": [],
   "source": []
  }
 ],
 "metadata": {
  "kernelspec": {
   "display_name": "Python 3",
   "language": "python",
   "name": "python3"
  },
  "language_info": {
   "codemirror_mode": {
    "name": "ipython",
    "version": 3
   },
   "file_extension": ".py",
   "mimetype": "text/x-python",
   "name": "python",
   "nbconvert_exporter": "python",
   "pygments_lexer": "ipython3",
   "version": "3.7.6"
  }
 },
 "nbformat": 4,
 "nbformat_minor": 4
}
