{
 "cells": [
  {
   "cell_type": "markdown",
   "id": "444a9751",
   "metadata": {},
   "source": [
    "### Здесь мы рассмотрим однострочники. "
   ]
  },
  {
   "cell_type": "markdown",
   "id": "c7f00d6c",
   "metadata": {},
   "source": [
    "[Распаковка](#open)\n",
    "\n",
    "[map](#map)\n",
    "\n",
    "[reduce](#reduce)\n",
    "\n",
    "[filter](#filter)\n",
    "\n",
    "[Обращение списка](#reverse_list)\n",
    "\n",
    "[in_all_any](#in)"
   ]
  },
  {
   "cell_type": "markdown",
   "id": "ed93539a",
   "metadata": {},
   "source": [
    "### Распаковка <a id='open'></a>"
   ]
  },
  {
   "cell_type": "code",
   "execution_count": 1,
   "id": "47888c39",
   "metadata": {},
   "outputs": [
    {
     "name": "stdout",
     "output_type": "stream",
     "text": [
      "1 2 3\n"
     ]
    }
   ],
   "source": [
    "sizes = input()\n",
    "sizes = sizes.strip() # убираем лишние пробелы\n",
    "sizes = sizes.split() # разделяем их по пробелам\n",
    "x = sizes[0]\n",
    "y = sizes[1]\n",
    "z = sizes[2]"
   ]
  },
  {
   "cell_type": "code",
   "execution_count": 10,
   "id": "f6e6eac2",
   "metadata": {},
   "outputs": [
    {
     "name": "stdout",
     "output_type": "stream",
     "text": [
      "1 2 3\n"
     ]
    }
   ],
   "source": [
    "x, y, z = input().strip().split() # делает то же самое, что и код выше"
   ]
  },
  {
   "cell_type": "code",
   "execution_count": 11,
   "id": "0851834c",
   "metadata": {},
   "outputs": [
    {
     "data": {
      "text/plain": [
       "str"
      ]
     },
     "execution_count": 11,
     "metadata": {},
     "output_type": "execute_result"
    }
   ],
   "source": [
    "type(x)"
   ]
  },
  {
   "cell_type": "markdown",
   "id": "c71ae348",
   "metadata": {},
   "source": [
    "### map  \n",
    "<a id='map'> </a>"
   ]
  },
  {
   "cell_type": "code",
   "execution_count": 12,
   "id": "36016b88",
   "metadata": {},
   "outputs": [],
   "source": [
    "# если мы хотим перевести считанные данные, скажем, в int\n",
    "x,y,z = map(int, (x,y,z))"
   ]
  },
  {
   "cell_type": "code",
   "execution_count": 13,
   "id": "8cdf2f2a",
   "metadata": {},
   "outputs": [
    {
     "data": {
      "text/plain": [
       "int"
      ]
     },
     "execution_count": 13,
     "metadata": {},
     "output_type": "execute_result"
    }
   ],
   "source": [
    "type(x)"
   ]
  },
  {
   "cell_type": "markdown",
   "id": "84510e6e",
   "metadata": {},
   "source": [
    "### reduce\n",
    "<a id ='reduce' ></a>"
   ]
  },
  {
   "cell_type": "markdown",
   "id": "919a2ab8",
   "metadata": {},
   "source": [
    "Отличие reduce от map в том, что reduce возвращает одно значение. В то время, как map возвращает несколько значений. "
   ]
  },
  {
   "cell_type": "code",
   "execution_count": 14,
   "id": "16e1af05",
   "metadata": {},
   "outputs": [],
   "source": [
    "from functools import reduce"
   ]
  },
  {
   "cell_type": "code",
   "execution_count": 15,
   "id": "e635619d",
   "metadata": {},
   "outputs": [],
   "source": [
    "volume = reduce(lambda x,y: x*y, (x,y,z))"
   ]
  },
  {
   "cell_type": "code",
   "execution_count": 16,
   "id": "330df6ca",
   "metadata": {},
   "outputs": [
    {
     "data": {
      "text/plain": [
       "6"
      ]
     },
     "execution_count": 16,
     "metadata": {},
     "output_type": "execute_result"
    }
   ],
   "source": [
    "volume"
   ]
  },
  {
   "cell_type": "markdown",
   "id": "3b1e5615",
   "metadata": {},
   "source": [
    "### filter \n",
    "\n",
    "<a id='filter' ></a>"
   ]
  },
  {
   "cell_type": "markdown",
   "id": "48586cf0",
   "metadata": {},
   "source": [
    "filter использует функцию-фильтр к данным. Возвращает итератор"
   ]
  },
  {
   "cell_type": "code",
   "execution_count": 27,
   "id": "25be2fd5",
   "metadata": {},
   "outputs": [],
   "source": [
    "names = [\"Христофор\", \"Колумб\", \"Васко\", \"де Гама\", \"Фердинанд\", \"Магеллан\", \"Хеминг\", \"Эрнестуей\"]\n",
    "names_starts_h = filter(lambda name: name.startswith('Х'), names)"
   ]
  },
  {
   "cell_type": "code",
   "execution_count": 28,
   "id": "4b322e82",
   "metadata": {},
   "outputs": [
    {
     "name": "stdout",
     "output_type": "stream",
     "text": [
      "('Христофор', 'Хеминг')\n"
     ]
    }
   ],
   "source": [
    "# обязательно надо конвертировать, иначе ничего не выведет\n",
    "# лучше конвертировать в кортеж, т.к. кортеж оптимальней, чем список (list)\n",
    "print(tuple(names_starts_h))"
   ]
  },
  {
   "cell_type": "markdown",
   "id": "29bad02a",
   "metadata": {},
   "source": [
    "### Обращение списка\n",
    "\n",
    "<a id = 'reverse_list'></a>"
   ]
  },
  {
   "cell_type": "code",
   "execution_count": 29,
   "id": "2457ff70",
   "metadata": {},
   "outputs": [
    {
     "data": {
      "text/plain": [
       "[5, 4, 3, 2, 1]"
      ]
     },
     "execution_count": 29,
     "metadata": {},
     "output_type": "execute_result"
    }
   ],
   "source": [
    "arr = [1, 2, 3, 4, 5]\n",
    "arr[::-1]"
   ]
  },
  {
   "cell_type": "markdown",
   "id": "b9f557a2",
   "metadata": {},
   "source": [
    "### in вместо if\n",
    "\n",
    "<a id='in'></a>"
   ]
  },
  {
   "cell_type": "code",
   "execution_count": 31,
   "id": "a02e2fec",
   "metadata": {},
   "outputs": [
    {
     "name": "stdout",
     "output_type": "stream",
     "text": [
      "Магеллан\n"
     ]
    }
   ],
   "source": [
    "name = \"Магеллан\"\n",
    "if name in names: \n",
    "    print(name)"
   ]
  },
  {
   "cell_type": "markdown",
   "id": "065170fe",
   "metadata": {},
   "source": [
    "### all и any вместо сложного if"
   ]
  },
  {
   "cell_type": "code",
   "execution_count": 32,
   "id": "fb323342",
   "metadata": {},
   "outputs": [
    {
     "name": "stdout",
     "output_type": "stream",
     "text": [
      "all_true\n"
     ]
    }
   ],
   "source": [
    "a = b = c= d = True\n",
    "if a and b and c and d:\n",
    "    print('all_true')"
   ]
  },
  {
   "cell_type": "code",
   "execution_count": 36,
   "id": "dd7be14d",
   "metadata": {},
   "outputs": [
    {
     "name": "stdout",
     "output_type": "stream",
     "text": [
      "all true\n"
     ]
    }
   ],
   "source": [
    "# мы используем all вместо and\n",
    "if all((a,b,c,d)):\n",
    "    print('all true')"
   ]
  },
  {
   "cell_type": "code",
   "execution_count": 35,
   "id": "a20f9268",
   "metadata": {},
   "outputs": [
    {
     "name": "stdout",
     "output_type": "stream",
     "text": [
      "one of them is true\n"
     ]
    }
   ],
   "source": [
    "# мы используем any вместо or\n",
    "if any((a,b,c,d)):\n",
    "    print('one of them is true')"
   ]
  },
  {
   "cell_type": "code",
   "execution_count": null,
   "id": "a4566542",
   "metadata": {},
   "outputs": [],
   "source": []
  }
 ],
 "metadata": {
  "kernelspec": {
   "display_name": "Python 3 (ipykernel)",
   "language": "python",
   "name": "python3"
  },
  "language_info": {
   "codemirror_mode": {
    "name": "ipython",
    "version": 3
   },
   "file_extension": ".py",
   "mimetype": "text/x-python",
   "name": "python",
   "nbconvert_exporter": "python",
   "pygments_lexer": "ipython3",
   "version": "3.9.12"
  }
 },
 "nbformat": 4,
 "nbformat_minor": 5
}
