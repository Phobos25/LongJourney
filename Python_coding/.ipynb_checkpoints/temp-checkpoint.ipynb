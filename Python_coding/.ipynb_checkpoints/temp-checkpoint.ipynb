{
 "cells": [
  {
   "cell_type": "code",
   "execution_count": 3,
   "id": "b805a437",
   "metadata": {},
   "outputs": [],
   "source": [
    "import numpy as np\n",
    "import matplotlib.pyplot as plt\n",
    "%matplotlib inline"
   ]
  },
  {
   "cell_type": "code",
   "execution_count": 2,
   "id": "8cccae9c",
   "metadata": {},
   "outputs": [],
   "source": [
    "def func(x):\n",
    "    return -x*x + 6*x + 1"
   ]
  },
  {
   "cell_type": "code",
   "execution_count": 42,
   "id": "56e1c316",
   "metadata": {},
   "outputs": [],
   "source": [
    "x = np.arange(-1,8,1)"
   ]
  },
  {
   "cell_type": "code",
   "execution_count": 43,
   "id": "090d639a",
   "metadata": {},
   "outputs": [],
   "source": [
    "z1 = 3 - np.sqrt(10.5)\n",
    "z2 = 3 + np.sqrt(10.5)"
   ]
  },
  {
   "cell_type": "code",
   "execution_count": 46,
   "id": "62ceaf0b",
   "metadata": {},
   "outputs": [
    {
     "data": {
      "text/plain": [
       "[<matplotlib.lines.Line2D at 0x226c9d46d88>]"
      ]
     },
     "execution_count": 46,
     "metadata": {},
     "output_type": "execute_result"
    },
    {
     "data": {
      "image/png": "[encoded data removed]",
      "text/plain": [
       "<Figure size 432x288 with 1 Axes>"
      ]
     },
     "metadata": {
      "needs_background": "light"
     },
     "output_type": "display_data"
    }
   ],
   "source": [
    "plt.plot(x, func(x))\n",
    "plt.plot([-1,8],[-1,-1])\n",
    "plt.scatter(z1, -1, c='r')\n",
    "plt.scatter(z2, -1, c='r')\n",
    "plt.plot([3,3],[-1,10], c='orange')"
   ]
  },
  {
   "cell_type": "code",
   "execution_count": 14,
   "id": "b4acf9bb",
   "metadata": {},
   "outputs": [
    {
     "name": "stdout",
     "output_type": "stream",
     "text": [
      "-5: -54\n",
      "-4: -39\n",
      "-3: -26\n",
      "-2: -15\n",
      "-1: -6\n",
      "0: 1\n",
      "1: 6\n",
      "2: 9\n",
      "3: 10\n",
      "4: 9\n",
      "5: 6\n"
     ]
    }
   ],
   "source": [
    "for i in x:\n",
    "    print(f'{i}: {func(i)}')"
   ]
  },
  {
   "cell_type": "markdown",
   "id": "b10d3231",
   "metadata": {},
   "source": [
    "\\[ {{S_{\\max }} = 2\\sqrt {\\frac{c}{3}} \\left[ {c - {{\\left( {\\sqrt {\\frac{c}{3}} } \\right)}^2}} \\right] } = {2\\sqrt {\\frac{c}{3}} \\cdot \\frac{{2c}}{3} } = {4\\sqrt {{{\\left( {\\frac{c}{3}} \\right)}^3}}.} \\] "
   ]
  },
  {
   "cell_type": "code",
   "execution_count": 48,
   "id": "e8e72b6e",
   "metadata": {},
   "outputs": [
    {
     "data": {
      "text/plain": [
       "120"
      ]
     },
     "execution_count": 48,
     "metadata": {},
     "output_type": "execute_result"
    }
   ],
   "source": [
    "12*-17 + 18**2\n"
   ]
  },
  {
   "cell_type": "code",
   "execution_count": 49,
   "id": "e2c3802b",
   "metadata": {},
   "outputs": [
    {
     "data": {
      "text/plain": [
       "48.686449556014765"
      ]
     },
     "execution_count": 49,
     "metadata": {},
     "output_type": "execute_result"
    }
   ],
   "source": [
    "240*np.sqrt(30)/27"
   ]
  },
  {
   "cell_type": "code",
   "execution_count": 50,
   "id": "f49d7580",
   "metadata": {},
   "outputs": [
    {
     "data": {
      "text/plain": [
       "1.4142135623730951"
      ]
     },
     "execution_count": 50,
     "metadata": {},
     "output_type": "execute_result"
    }
   ],
   "source": [
    "np.sqrt(2)"
   ]
  },
  {
   "cell_type": "code",
   "execution_count": 51,
   "id": "384381c1",
   "metadata": {},
   "outputs": [
    {
     "data": {
      "text/plain": [
       "574"
      ]
     },
     "execution_count": 51,
     "metadata": {},
     "output_type": "execute_result"
    }
   ],
   "source": [
    "8**3+8**2-2"
   ]
  },
  {
   "cell_type": "code",
   "execution_count": 52,
   "id": "e9d5be50",
   "metadata": {},
   "outputs": [
    {
     "data": {
      "text/plain": [
       "600"
      ]
     },
     "execution_count": 52,
     "metadata": {},
     "output_type": "execute_result"
    }
   ],
   "source": [
    "25*24\n"
   ]
  },
  {
   "cell_type": "code",
   "execution_count": 56,
   "id": "8174bc45",
   "metadata": {},
   "outputs": [
    {
     "data": {
      "text/plain": [
       "36.0"
      ]
     },
     "execution_count": 56,
     "metadata": {},
     "output_type": "execute_result"
    }
   ],
   "source": [
    "8*9/2\n"
   ]
  },
  {
   "cell_type": "code",
   "execution_count": 65,
   "id": "9874a0e9",
   "metadata": {},
   "outputs": [],
   "source": [
    "import math"
   ]
  },
  {
   "cell_type": "code",
   "execution_count": 66,
   "id": "f0197d27",
   "metadata": {},
   "outputs": [],
   "source": [
    "n = 1\n",
    "k = 4"
   ]
  },
  {
   "cell_type": "code",
   "execution_count": 68,
   "id": "d86fc959",
   "metadata": {},
   "outputs": [],
   "source": [
    "import operator as op\n",
    "from functools import reduce\n",
    "\n",
    "def ncr(n, r):\n",
    "    r = min(r, n-r)\n",
    "    numer = reduce(op.mul, range(n, n-r, -1), 1)\n",
    "    denom = reduce(op.mul, range(1, r+1), 1)\n",
    "    return numer // denom  # or / in Python 2\n"
   ]
  },
  {
   "cell_type": "code",
   "execution_count": 74,
   "id": "237b9939",
   "metadata": {},
   "outputs": [
    {
     "data": {
      "text/plain": [
       "0.41354723707664887"
      ]
     },
     "execution_count": 74,
     "metadata": {},
     "output_type": "execute_result"
    }
   ],
   "source": [
    "ncr(4,1) * ncr(32,5)/ncr(36,6)"
   ]
  },
  {
   "cell_type": "code",
   "execution_count": 82,
   "id": "70c88891",
   "metadata": {},
   "outputs": [
    {
     "data": {
      "text/plain": [
       "0.00025464731347084286"
      ]
     },
     "execution_count": 82,
     "metadata": {},
     "output_type": "execute_result"
    }
   ],
   "source": [
    "ncr(32, 2)/ncr(36,6)"
   ]
  },
  {
   "cell_type": "code",
   "execution_count": 86,
   "id": "3c842cb7",
   "metadata": {},
   "outputs": [
    {
     "data": {
      "text/plain": [
       "0.06366182836771071"
      ]
     },
     "execution_count": 86,
     "metadata": {},
     "output_type": "execute_result"
    }
   ],
   "source": [
    "2*4/32*ncr(32, 2)/ncr(36,6)*10**3"
   ]
  },
  {
   "cell_type": "code",
   "execution_count": null,
   "id": "c64203a4",
   "metadata": {},
   "outputs": [],
   "source": []
  },
  {
   "cell_type": "code",
   "execution_count": null,
   "id": "d9d6f2cc",
   "metadata": {},
   "outputs": [],
   "source": []
  },
  {
   "cell_type": "markdown",
   "id": "2e73676f",
   "metadata": {},
   "source": [
    "## Операции с массивом"
   ]
  },
  {
   "cell_type": "code",
   "execution_count": 106,
   "id": "fa764ba1",
   "metadata": {},
   "outputs": [],
   "source": [
    "m, n = 5, 2\n",
    "a = [1,2,3,4,5]\n"
   ]
  },
  {
   "cell_type": "code",
   "execution_count": 160,
   "id": "d3df9296",
   "metadata": {
    "scrolled": true
   },
   "outputs": [
    {
     "name": "stdout",
     "output_type": "stream",
     "text": [
      "10 3\n",
      "1 2 3 1 2 3 1 2 1 2\n",
      "[10, 10, 10]\n",
      "[7, 7, 8]\n"
     ]
    }
   ],
   "source": [
    "m, n = input().split()\n",
    "m = int(m)\n",
    "n = int(n)\n",
    "a = [int(i) for i in input().split()] \n",
    "b = [m]*n\n",
    "for num in range(1000001):\n",
    "    count = 0\n",
    "    for i in range(len(a)):\n",
    "        if a[i] == num:              \n",
    "            a[i]=0\n",
    "            b[count] -= 1\n",
    "            count += 1\n",
    "            if count >= n:\n",
    "                break\n",
    "print(b)"
   ]
  },
  {
   "cell_type": "code",
   "execution_count": 157,
   "id": "73741749",
   "metadata": {},
   "outputs": [
    {
     "data": {
      "text/plain": [
       "5"
      ]
     },
     "execution_count": 157,
     "metadata": {},
     "output_type": "execute_result"
    }
   ],
   "source": []
  },
  {
   "cell_type": "code",
   "execution_count": 134,
   "id": "6037c925",
   "metadata": {},
   "outputs": [
    {
     "ename": "IndexError",
     "evalue": "list index out of range",
     "output_type": "error",
     "traceback": [
      "\u001b[1;31m---------------------------------------------------------------------------\u001b[0m",
      "\u001b[1;31mIndexError\u001b[0m                                Traceback (most recent call last)",
      "\u001b[1;32m<ipython-input-134-e72125d76d35>\u001b[0m in \u001b[0;36m<module>\u001b[1;34m\u001b[0m\n\u001b[0;32m      2\u001b[0m \u001b[1;32mfor\u001b[0m \u001b[0ml\u001b[0m \u001b[1;32min\u001b[0m \u001b[0mrange\u001b[0m\u001b[1;33m(\u001b[0m\u001b[1;36m5\u001b[0m\u001b[1;33m)\u001b[0m\u001b[1;33m:\u001b[0m\u001b[1;33m\u001b[0m\u001b[1;33m\u001b[0m\u001b[0m\n\u001b[0;32m      3\u001b[0m     \u001b[1;32mfor\u001b[0m \u001b[0mi\u001b[0m \u001b[1;32min\u001b[0m \u001b[0mrange\u001b[0m\u001b[1;33m(\u001b[0m\u001b[0mlen\u001b[0m\u001b[1;33m(\u001b[0m\u001b[0ma\u001b[0m\u001b[1;33m)\u001b[0m\u001b[1;33m)\u001b[0m\u001b[1;33m:\u001b[0m\u001b[1;33m\u001b[0m\u001b[1;33m\u001b[0m\u001b[0m\n\u001b[1;32m----> 4\u001b[1;33m         \u001b[1;32mif\u001b[0m \u001b[0ma\u001b[0m\u001b[1;33m[\u001b[0m\u001b[0mi\u001b[0m\u001b[1;33m]\u001b[0m \u001b[1;33m==\u001b[0m \u001b[1;36m1\u001b[0m\u001b[1;33m:\u001b[0m\u001b[1;33m\u001b[0m\u001b[1;33m\u001b[0m\u001b[0m\n\u001b[0m\u001b[0;32m      5\u001b[0m             \u001b[0ma\u001b[0m\u001b[1;33m.\u001b[0m\u001b[0mpop\u001b[0m\u001b[1;33m(\u001b[0m\u001b[0mi\u001b[0m\u001b[1;33m)\u001b[0m\u001b[1;33m\u001b[0m\u001b[1;33m\u001b[0m\u001b[0m\n",
      "\u001b[1;31mIndexError\u001b[0m: list index out of range"
     ]
    }
   ],
   "source": [
    "a = [1, 1, 1, 1, 1]\n",
    "for l in range(5):\n",
    "    for i in range(len(a)):\n",
    "        if a[i] == 1:\n",
    "            a.pop(i)"
   ]
  },
  {
   "cell_type": "code",
   "execution_count": 91,
   "id": "555756d8",
   "metadata": {},
   "outputs": [],
   "source": [
    "i = 0\n",
    "if i in a:\n",
    "    print(a)"
   ]
  },
  {
   "cell_type": "code",
   "execution_count": 137,
   "id": "39e6522c",
   "metadata": {},
   "outputs": [],
   "source": [
    "def printTheArray(arr, n):\n",
    " \n",
    "    for i in range(0, n):\n",
    "        print(arr[i], end = \" \")\n",
    "     \n",
    "    print()\n",
    " \n",
    "# Function to generate all binary strings\n",
    "def generateAllBinaryStrings(n, arr, i):\n",
    " \n",
    "    if i == n:\n",
    "        printTheArray(arr, n)\n",
    "        return\n",
    "     \n",
    "    # First assign \"0\" at ith position\n",
    "    # and try for all other permutations\n",
    "    # for remaining positions\n",
    "    arr[i] = 0\n",
    "    generateAllBinaryStrings(n, arr, i + 1)\n",
    " \n",
    "    # And then assign \"1\" at ith position\n",
    "    # and try for all other permutations\n",
    "    # for remaining positions\n",
    "    arr[i] = 1\n",
    "    generateAllBinaryStrings(n, arr, i + 1)\n",
    " "
   ]
  },
  {
   "cell_type": "code",
   "execution_count": 138,
   "id": "8cdb8e4d",
   "metadata": {},
   "outputs": [],
   "source": [
    "n = 4\n",
    "arr = [None] * n"
   ]
  },
  {
   "cell_type": "code",
   "execution_count": 146,
   "id": "a5d0d108",
   "metadata": {},
   "outputs": [
    {
     "name": "stdout",
     "output_type": "stream",
     "text": [
      "0 0 0 0 \n",
      "0 0 0 1 \n",
      "0 0 1 0 \n",
      "0 0 1 1 \n",
      "0 1 0 0 \n",
      "0 1 0 1 \n",
      "0 1 1 0 \n",
      "0 1 1 1 \n",
      "1 0 0 0 \n",
      "1 0 0 1 \n",
      "1 0 1 0 \n",
      "1 0 1 1 \n",
      "1 1 0 0 \n",
      "1 1 0 1 \n",
      "1 1 1 0 \n",
      "1 1 1 1 \n"
     ]
    }
   ],
   "source": [
    "generateAllBinaryStrings(n, arr, 0)"
   ]
  },
  {
   "cell_type": "code",
   "execution_count": 149,
   "id": "0e9349c4",
   "metadata": {},
   "outputs": [
    {
     "data": {
      "text/plain": [
       "63.843213965977185"
      ]
     },
     "execution_count": 149,
     "metadata": {},
     "output_type": "execute_result"
    }
   ],
   "source": [
    "np.exp(15)/(15**4+2) - np.exp(8)/(8**4+2)"
   ]
  },
  {
   "cell_type": "code",
   "execution_count": null,
   "id": "0fef9ee7",
   "metadata": {},
   "outputs": [],
   "source": []
  }
 ],
 "metadata": {
  "kernelspec": {
   "display_name": "Python 3",
   "language": "python",
   "name": "python3"
  },
  "language_info": {
   "codemirror_mode": {
    "name": "ipython",
    "version": 3
   },
   "file_extension": ".py",
   "mimetype": "text/x-python",
   "name": "python",
   "nbconvert_exporter": "python",
   "pygments_lexer": "ipython3",
   "version": "3.7.6"
  }
 },
 "nbformat": 4,
 "nbformat_minor": 5
}
