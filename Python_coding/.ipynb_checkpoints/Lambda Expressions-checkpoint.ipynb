{
 "cells": [
  {
   "cell_type": "markdown",
   "id": "61e01a17",
   "metadata": {},
   "source": [
    "### Lambda expressions"
   ]
  },
  {
   "cell_type": "markdown",
   "id": "16b69e1a",
   "metadata": {},
   "source": [
    "lambda expressions or anonymous function is used to create a one time used function\n",
    "\n",
    "It usually needed for sorting, but can be used for almost anything"
   ]
  },
  {
   "cell_type": "markdown",
   "id": "cc2b7d83",
   "metadata": {},
   "source": [
    "```python\n",
    "lambda x1, x2, ..., xn: <expression>\n",
    "```"
   ]
  },
  {
   "cell_type": "code",
   "execution_count": 7,
   "id": "b3981a21",
   "metadata": {},
   "outputs": [],
   "source": [
    "def f(x):\n",
    "    return 3*x+1"
   ]
  },
  {
   "cell_type": "code",
   "execution_count": 8,
   "id": "f014b751",
   "metadata": {},
   "outputs": [
    {
     "data": {
      "text/plain": [
       "7"
      ]
     },
     "execution_count": 8,
     "metadata": {},
     "output_type": "execute_result"
    }
   ],
   "source": [
    "f(2)"
   ]
  },
  {
   "cell_type": "code",
   "execution_count": 10,
   "id": "4cb0517e",
   "metadata": {},
   "outputs": [
    {
     "data": {
      "text/plain": [
       "7"
      ]
     },
     "execution_count": 10,
     "metadata": {},
     "output_type": "execute_result"
    }
   ],
   "source": [
    "# lambda expression\n",
    "lambda x: 3*x+1\n",
    "\n",
    "# if we'd like to use it again\n",
    "f2 = lambda x: 3*x +1 \n",
    "f2(2)\n",
    "# this way f2 is the same as f"
   ]
  },
  {
   "cell_type": "code",
   "execution_count": 6,
   "id": "046a8836",
   "metadata": {},
   "outputs": [
    {
     "data": {
      "text/plain": [
       "7"
      ]
     },
     "execution_count": 6,
     "metadata": {},
     "output_type": "execute_result"
    }
   ],
   "source": [
    "lam(2)"
   ]
  },
  {
   "cell_type": "markdown",
   "id": "e7fb0ab7",
   "metadata": {},
   "source": [
    "### Combine first name and last name"
   ]
  },
  {
   "cell_type": "code",
   "execution_count": 13,
   "id": "923ce369",
   "metadata": {},
   "outputs": [],
   "source": [
    "full_name = lambda fn, ln: fn.strip().title() + ' ' + ln.strip().title()"
   ]
  },
  {
   "cell_type": "code",
   "execution_count": 17,
   "id": "0345637c",
   "metadata": {},
   "outputs": [
    {
     "data": {
      "text/plain": [
       "'Enrico Fermi'"
      ]
     },
     "execution_count": 17,
     "metadata": {},
     "output_type": "execute_result"
    }
   ],
   "source": [
    "full_name(\"enrico\", \"FERMI\")"
   ]
  },
  {
   "cell_type": "markdown",
   "id": "cb811d7b",
   "metadata": {},
   "source": [
    "### Sorting"
   ]
  },
  {
   "cell_type": "code",
   "execution_count": 19,
   "id": "2a03ac71",
   "metadata": {},
   "outputs": [],
   "source": [
    "author_names = [\"Isaac Asimov\", \"Ray Bradbury\", \"Larry Niven\", \"Robert Heinlein\",\n",
    "               \"Frank Herbert\", \"Orson Scott Card\", \"Douglas Adams\", \"H.G. Wells\",\n",
    "               \"Leigh Brackett\", \"Arthus C. Clarke\"]\n",
    "\n",
    "author_names.sort(key = lambda name: name.split(' ')[-1].lower())"
   ]
  },
  {
   "cell_type": "code",
   "execution_count": 20,
   "id": "3899e29f",
   "metadata": {},
   "outputs": [
    {
     "data": {
      "text/plain": [
       "['Douglas Adams',\n",
       " 'Isaac Asimov',\n",
       " 'Leigh Brackett',\n",
       " 'Ray Bradbury',\n",
       " 'Orson Scott Card',\n",
       " 'Arthus C. Clarke',\n",
       " 'Robert Heinlein',\n",
       " 'Frank Herbert',\n",
       " 'Larry Niven',\n",
       " 'H.G. Wells']"
      ]
     },
     "execution_count": 20,
     "metadata": {},
     "output_type": "execute_result"
    }
   ],
   "source": [
    "author_names"
   ]
  },
  {
   "cell_type": "code",
   "execution_count": null,
   "id": "caa565da",
   "metadata": {},
   "outputs": [],
   "source": []
  }
 ],
 "metadata": {
  "kernelspec": {
   "display_name": "Python 3 (ipykernel)",
   "language": "python",
   "name": "python3"
  },
  "language_info": {
   "codemirror_mode": {
    "name": "ipython",
    "version": 3
   },
   "file_extension": ".py",
   "mimetype": "text/x-python",
   "name": "python",
   "nbconvert_exporter": "python",
   "pygments_lexer": "ipython3",
   "version": "3.7.11"
  }
 },
 "nbformat": 4,
 "nbformat_minor": 5
}
