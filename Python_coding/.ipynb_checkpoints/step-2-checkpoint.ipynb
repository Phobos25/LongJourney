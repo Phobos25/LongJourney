{
 "cells": [
  {
   "cell_type": "code",
   "execution_count": 5,
   "id": "41eae963",
   "metadata": {},
   "outputs": [],
   "source": [
    "from itertools import permutations"
   ]
  },
  {
   "cell_type": "code",
   "execution_count": 7,
   "id": "f2ee5275",
   "metadata": {},
   "outputs": [],
   "source": [
    "def skobki_stack(skobki, close = ')]'):\n",
    "    stack = []    \n",
    "    for s in skobki:\n",
    "        if len(stack) == 0:\n",
    "            stack.append(s)\n",
    "        elif s in close:\n",
    "            temp = stack.pop()            \n",
    "            if s == ')' and temp == '(':\n",
    "                continue\n",
    "            elif s == ']' and temp =='[':\n",
    "                continue\n",
    "            else:\n",
    "                return False\n",
    "        else:\n",
    "            stack.append(s)\n",
    "    if len(stack) == 0:\n",
    "        return True    \n",
    "    else:\n",
    "        return False"
   ]
  },
  {
   "cell_type": "code",
   "execution_count": 8,
   "id": "16fe9c61",
   "metadata": {},
   "outputs": [],
   "source": [
    "# final_new_menu = list(set(new_menu))\n",
    "perms = []\n",
    "n = 3\n",
    "for perm in permutations('()()()', 2*n):\n",
    "    if skobki_stack(''.join(perm)):\n",
    "        perms.append(perm)\n",
    "for perm in permutations('[]()()', 2*n):\n",
    "    if skobki_stack(''.join(perm)):\n",
    "        perms.append(perm)\n",
    "for perm in permutations('[][][]', 2*n):\n",
    "     if skobki_stack(''.join(perm)):\n",
    "        perms.append(perm)\n",
    "for perm in permutations('[][]()', 2*n):\n",
    "     if skobki_stack(''.join(perm)):\n",
    "        perms.append(perm)    "
   ]
  },
  {
   "cell_type": "code",
   "execution_count": 9,
   "id": "c78ff2da",
   "metadata": {},
   "outputs": [
    {
     "name": "stdout",
     "output_type": "stream",
     "text": [
      "1: ((()))\n",
      "2: (()())\n",
      "3: (())()\n",
      "4: (())[]\n",
      "5: (()[])\n",
      "6: (([]))\n",
      "7: ()(())\n",
      "8: ()()()\n",
      "9: ()()[]\n",
      "10: ()([])\n",
      "11: ()[()]\n",
      "12: ()[[]]\n",
      "13: ()[]()\n",
      "14: ()[][]\n",
      "15: ([()])\n",
      "16: ([[]])\n",
      "17: ([]())\n",
      "18: ([])()\n",
      "19: ([])[]\n",
      "20: ([][])\n",
      "21: [(())]\n",
      "22: [()()]\n",
      "23: [()[]]\n",
      "24: [()]()\n",
      "25: [()][]\n",
      "26: [([])]\n",
      "27: [[()]]\n",
      "28: [[[]]]\n",
      "29: [[]()]\n",
      "30: [[][]]\n",
      "31: [[]]()\n",
      "32: [[]][]\n",
      "33: [](())\n",
      "34: []()()\n",
      "35: []()[]\n",
      "36: []([])\n",
      "37: [][()]\n",
      "38: [][[]]\n",
      "39: [][]()\n",
      "40: [][][]\n"
     ]
    }
   ],
   "source": [
    "final_perms = list(set(perms))\n",
    "final_perms.sort()\n",
    "count = 0\n",
    "for perm in final_perms:\n",
    "    count += 1\n",
    "    print(f'{count}: {\"\".join(perm)}')"
   ]
  },
  {
   "cell_type": "code",
   "execution_count": 14,
   "id": "2dab8cee",
   "metadata": {},
   "outputs": [],
   "source": [
    "a = '()()()'\n",
    "b = '()()[]'\n",
    "c = '(())[]'"
   ]
  },
  {
   "cell_type": "markdown",
   "id": "92559d69",
   "metadata": {},
   "source": [
    "для простоты и в целях динамического программирования рассмотрим n = 2. и для двух скобок. Мы знаем, что баланс должен держаться, т.е. если первые 2 скобки были круглые, открывающиеся, то и следующие будут такими же.\n",
    "\n",
    "Поэтому мне нужен счетчик баланса ( 2 счетчика, отдельно для круглой скобки, и отдельно для квадратной)"
   ]
  },
  {
   "cell_type": "code",
   "execution_count": null,
   "id": "53cb8c2f",
   "metadata": {},
   "outputs": [],
   "source": [
    "n = 2\n",
    "bal1 = 0\n",
    "bal2 = 0\n",
    "for i in range(2*n):\n",
    "    "
   ]
  },
  {
   "cell_type": "code",
   "execution_count": null,
   "id": "06bc73b8",
   "metadata": {},
   "outputs": [],
   "source": [
    "string get_sequence(n: int, k: int):\n",
    "   depth = 0\n",
    "   s = \"\"\n",
    "   for i = 0 to 2 * n - 1\n",
    "     if d[2 * n - (i + 1)][depth + 1] ⩾\n",
    "\n",
    " k\n",
    "       s += '('\n",
    "       depth++\n",
    "     else\n",
    "       k -= d[2 * n - (i + 1)][depth + 1]\n",
    "       s += ')'\n",
    "       depth--\n",
    "   return s\n"
   ]
  }
 ],
 "metadata": {
  "kernelspec": {
   "display_name": "Python 3 (ipykernel)",
   "language": "python",
   "name": "python3"
  },
  "language_info": {
   "codemirror_mode": {
    "name": "ipython",
    "version": 3
   },
   "file_extension": ".py",
   "mimetype": "text/x-python",
   "name": "python",
   "nbconvert_exporter": "python",
   "pygments_lexer": "ipython3",
   "version": "3.7.11"
  }
 },
 "nbformat": 4,
 "nbformat_minor": 5
}
