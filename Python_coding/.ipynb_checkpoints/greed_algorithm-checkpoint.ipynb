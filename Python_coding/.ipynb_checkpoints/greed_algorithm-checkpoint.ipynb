{
 "cells": [
  {
   "cell_type": "markdown",
   "id": "a8187bde",
   "metadata": {},
   "source": [
    "### Жадный алгоритм"
   ]
  },
  {
   "cell_type": "markdown",
   "id": "0c0edb1e",
   "metadata": {},
   "source": [
    "Задача о расписании\n",
    "У программиста есть n заказов. Для каждого заказа известен дед-\n",
    "лайн di — срок, до которого его надо выполнить, и его стоимость\n",
    "ci. На выполнение каждого заказа требуется один день. Програм-\n",
    "мист начинает работать с 1-го дня, и если у заказа дедлайн di, то\n",
    "этот заказ нужно выполнить до конца di-го дня. Например, если\n",
    "дедлайн заказа равен 1, то программист успеет его выполнить в\n",
    "первый день. Нужно составить оптимальное расписание: опре-\n",
    "делить, какие заказы программист может выполнять и в каком\n",
    "порядке, чтобы максимизировать их суммарную стоимость."
   ]
  },
  {
   "cell_type": "markdown",
   "id": "2c1322ba",
   "metadata": {},
   "source": [
    "Упражнение 2.2.1\n",
    "У программиста пять заказов с дедлайнами d = [1, 2, 2, 3, 5] и сто-\n",
    "имостями c = [2, 5, 4, 1, 3]. \n",
    "\n",
    "Какую максимальную сумму сможет\n",
    "заработать программист?"
   ]
  },
  {
   "cell_type": "code",
   "execution_count": 4,
   "id": "9a3b6748",
   "metadata": {},
   "outputs": [
    {
     "name": "stdout",
     "output_type": "stream",
     "text": [
      "<class 'list'>\n",
      "13\n"
     ]
    }
   ],
   "source": [
    "d = [1, 2, 2, 3, 5]\n",
    "c = [2, 5, 4, 1, 3]\n",
    "lst = list(zip(d, c))\n",
    "# предварительно сортируем наш список. Чтобы впереди стояла максимальная цена\n",
    "lst.sort(key=lambda x: x[1], reverse=True)\n",
    "days = [True] * max(d)\n",
    "sm = 0\n",
    "for i in lst:\n",
    "    for j in range(i[0] - 1, -1, -1):\n",
    "        if days[j]:\n",
    "            days[j] = False\n",
    "            sm += i[1]\n",
    "            break\n",
    "print(sm)"
   ]
  },
  {
   "cell_type": "code",
   "execution_count": null,
   "id": "9ee6115d",
   "metadata": {},
   "outputs": [],
   "source": []
  }
 ],
 "metadata": {
  "kernelspec": {
   "display_name": "Python 3 (ipykernel)",
   "language": "python",
   "name": "python3"
  },
  "language_info": {
   "codemirror_mode": {
    "name": "ipython",
    "version": 3
   },
   "file_extension": ".py",
   "mimetype": "text/x-python",
   "name": "python",
   "nbconvert_exporter": "python",
   "pygments_lexer": "ipython3",
   "version": "3.7.11"
  }
 },
 "nbformat": 4,
 "nbformat_minor": 5
}
