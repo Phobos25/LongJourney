{
 "cells": [
  {
   "cell_type": "markdown",
   "id": "77ba8f77",
   "metadata": {},
   "source": [
    "## Перебор всех возможных строк и символов"
   ]
  },
  {
   "cell_type": "code",
   "execution_count": 2,
   "id": "4bf9e469",
   "metadata": {},
   "outputs": [],
   "source": [
    "import numpy as np"
   ]
  },
  {
   "cell_type": "code",
   "execution_count": 11,
   "id": "bf73f61c",
   "metadata": {},
   "outputs": [],
   "source": [
    "def out(arr):\n",
    "    print(arr)\n",
    "    \n",
    "def rec(arr, idx, m, n):\n",
    "    if idx == n:\n",
    "        out(arr)\n",
    "        return\n",
    "    for i in range(m) :\n",
    "        arr[idx] = i\n",
    "        rec(arr, idx+1, m, n)"
   ]
  },
  {
   "cell_type": "code",
   "execution_count": 14,
   "id": "8089c9f1",
   "metadata": {},
   "outputs": [
    {
     "name": "stdout",
     "output_type": "stream",
     "text": [
      "[0 0]\n",
      "[0 1]\n",
      "[0 2]\n",
      "[1 0]\n",
      "[1 1]\n",
      "[1 2]\n",
      "[2 0]\n",
      "[2 1]\n",
      "[2 2]\n"
     ]
    }
   ],
   "source": [
    "n = 2\n",
    "m = 3\n",
    "a = np.zeros(n, dtype=int)\n",
    "rec(a, 0, m, n)"
   ]
  },
  {
   "cell_type": "markdown",
   "id": "d183912e",
   "metadata": {},
   "source": [
    "## Правильные скобочные последовательности"
   ]
  },
  {
   "cell_type": "markdown",
   "id": "20536aca",
   "metadata": {},
   "source": [
    "функция correct проверяет баланс скобок, т.е. на каждую открытую скобку должна быть одна закрытая:\n",
    "\n",
    "```\n",
    "(())  --- правильная последовательность\n",
    "(() --- неправильная последовательность. Баланс нарушен\n",
    ")( --- неправильная последовательность, нельзя закрыть скобку, а потом открыть. \n",
    "```\n",
    "Идея алгоритма:\n",
    "\n",
    "Мы ведем баланс скобок, если скобка открывается, мы прибавляем 1, если скобка закрывается, мы вычитаем.\n",
    "\n",
    "Если баланс станет меньше 0, то последовательность уже неправильная, мы возвращаем **False**\n",
    "\n",
    "После перебора всей строки, мы проверям баланс, если баланс не равен 0 (количество открывающихся и закрывающихся скобо одинаковые), то возвращаем **False**, иначе **True**"
   ]
  },
  {
   "cell_type": "code",
   "execution_count": 17,
   "id": "15c4bb92",
   "metadata": {},
   "outputs": [],
   "source": [
    "def correct(s):\n",
    "    bal = 0\n",
    "    for i in range(len(s)):\n",
    "        if s[i] == '(':\n",
    "            bal += 1\n",
    "        else:\n",
    "            bal -= 1\n",
    "        if bal < 0:\n",
    "            return False\n",
    "    return bal == 0"
   ]
  },
  {
   "cell_type": "code",
   "execution_count": 20,
   "id": "0b4c69f4",
   "metadata": {},
   "outputs": [],
   "source": [
    "s = '(()'\n",
    "correct(s)"
   ]
  },
  {
   "cell_type": "markdown",
   "id": "81f1c3ee",
   "metadata": {},
   "source": [
    "Рассмотрим следующую задачу: \n",
    "```\n",
    "Сколько существует правильных скобочных последовательностей\n",
    "из трёх открывающихся и трёх закрывающихся скобок?\n",
    "```"
   ]
  },
  {
   "cell_type": "code",
   "execution_count": 29,
   "id": "e3dacede",
   "metadata": {},
   "outputs": [],
   "source": [
    "def out():\n",
    "    print(s)\n",
    "def rec(idx, bal):\n",
    "    if idx == 2*n:\n",
    "        if bal == 0:\n",
    "            out()\n",
    "        return\n",
    "    s[idx] = '('\n",
    "    rec(idx+1, bal+1)\n",
    "    if bal == 0:\n",
    "        return\n",
    "    s[idx] = ')'\n",
    "    rec(idx+1, bal-1)"
   ]
  },
  {
   "cell_type": "code",
   "execution_count": 39,
   "id": "9d684e4d",
   "metadata": {},
   "outputs": [
    {
     "name": "stdout",
     "output_type": "stream",
     "text": [
      "['(' '(' '(' ')' ')' ')']\n",
      "['(' '(' ')' '(' ')' ')']\n",
      "['(' '(' ')' ')' '(' ')']\n",
      "['(' ')' '(' '(' ')' ')']\n",
      "['(' ')' '(' ')' '(' ')']\n"
     ]
    }
   ],
   "source": [
    "n = 3\n",
    "s = np.zeros(2*n, dtype=str)\n",
    "rec(0, 0)"
   ]
  },
  {
   "cell_type": "code",
   "execution_count": 38,
   "id": "717fd23f",
   "metadata": {},
   "outputs": [
    {
     "data": {
      "text/plain": [
       "6"
      ]
     },
     "execution_count": 38,
     "metadata": {},
     "output_type": "execute_result"
    }
   ],
   "source": []
  },
  {
   "cell_type": "code",
   "execution_count": null,
   "id": "aa1c6495",
   "metadata": {},
   "outputs": [],
   "source": []
  }
 ],
 "metadata": {
  "kernelspec": {
   "display_name": "Python 3",
   "language": "python",
   "name": "python3"
  },
  "language_info": {
   "codemirror_mode": {
    "name": "ipython",
    "version": 3
   },
   "file_extension": ".py",
   "mimetype": "text/x-python",
   "name": "python",
   "nbconvert_exporter": "python",
   "pygments_lexer": "ipython3",
   "version": "3.8.8"
  }
 },
 "nbformat": 4,
 "nbformat_minor": 5
}
