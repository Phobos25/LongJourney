{
 "cells": [
  {
   "cell_type": "markdown",
   "id": "952eae4e",
   "metadata": {},
   "source": [
    "### List comprehension"
   ]
  },
  {
   "cell_type": "markdown",
   "id": "fc1e3332",
   "metadata": {},
   "source": [
    "Используется для создания и заполнения списка в python:"
   ]
  },
  {
   "cell_type": "code",
   "execution_count": 1,
   "id": "4018d5aa",
   "metadata": {},
   "outputs": [
    {
     "name": "stdout",
     "output_type": "stream",
     "text": [
      "[1, 4, 9, 16, 25, 36, 49, 64, 81, 100, 121, 144, 169, 196, 225, 256, 289, 324, 361, 400, 441, 484, 529, 576, 625, 676, 729, 784, 841, 900, 961, 1024, 1089, 1156, 1225, 1296, 1369, 1444, 1521, 1600, 1681, 1764, 1849, 1936, 2025, 2116, 2209, 2304, 2401, 2500, 2601, 2704, 2809, 2916, 3025, 3136, 3249, 3364, 3481, 3600, 3721, 3844, 3969, 4096, 4225, 4356, 4489, 4624, 4761, 4900, 5041, 5184, 5329, 5476, 5625, 5776, 5929, 6084, 6241, 6400, 6561, 6724, 6889, 7056, 7225, 7396, 7569, 7744, 7921, 8100, 8281, 8464, 8649, 8836, 9025, 9216, 9409, 9604, 9801, 10000]\n"
     ]
    }
   ],
   "source": [
    "# допустим, мы хотим заполнить список квадратами чисел от 1 до 100\n",
    "square = []\n",
    "for i in range(1,101):\n",
    "    square.append(i**2)\n",
    "print(square)"
   ]
  },
  {
   "cell_type": "code",
   "execution_count": 3,
   "id": "b48255e2",
   "metadata": {},
   "outputs": [
    {
     "name": "stdout",
     "output_type": "stream",
     "text": [
      "[1, 4, 9, 16, 25, 36, 49, 64, 81, 100, 121, 144, 169, 196, 225, 256, 289, 324, 361, 400, 441, 484, 529, 576, 625, 676, 729, 784, 841, 900, 961, 1024, 1089, 1156, 1225, 1296, 1369, 1444, 1521, 1600, 1681, 1764, 1849, 1936, 2025, 2116, 2209, 2304, 2401, 2500, 2601, 2704, 2809, 2916, 3025, 3136, 3249, 3364, 3481, 3600, 3721, 3844, 3969, 4096, 4225, 4356, 4489, 4624, 4761, 4900, 5041, 5184, 5329, 5476, 5625, 5776, 5929, 6084, 6241, 6400, 6561, 6724, 6889, 7056, 7225, 7396, 7569, 7744, 7921, 8100, 8281, 8464, 8649, 8836, 9025, 9216, 9409, 9604, 9801, 10000]\n"
     ]
    }
   ],
   "source": [
    "# то же самое что и выше, но 1 строка кода\n",
    "square2 = [i**2 for i in range(1,101)]\n",
    "print(square2)"
   ]
  },
  {
   "cell_type": "markdown",
   "id": "8a5425e2",
   "metadata": {},
   "source": [
    "### Использование условия if в list comprehension"
   ]
  },
  {
   "cell_type": "code",
   "execution_count": 10,
   "id": "8407612b",
   "metadata": {},
   "outputs": [],
   "source": [
    "movies = [\"Star Wars\", \"Gandhi\", \"Casablanca\", \"Shawshank Redemption\", \"Toy Story\", \n",
    "          \"Gove with the Wind\", \"Citizen Kane\", \"It's a Wonderful Life\", \"The Wizard of Oz\", \n",
    "          \"Gattaca\", \"Rear Window\", \"Ghostbusters\", \"To kill A Mockingbird\", \"Good Will Hunting\", \n",
    "          \"2001: A Space Odyssey\", \"Raiders of the Lost Ark\", \"Groundhog Day\", \n",
    "          \"Close Encounters of the Third Kind\"]\n",
    "\n",
    "gmovies = [title for title in movies if title.startswith('G')]\n",
    "print(gmovies)"
   ]
  },
  {
   "cell_type": "markdown",
   "id": "99338b27",
   "metadata": {},
   "source": [
    "Более сложный пример:"
   ]
  },
  {
   "cell_type": "code",
   "execution_count": 12,
   "id": "a633c29f",
   "metadata": {},
   "outputs": [
    {
     "name": "stdout",
     "output_type": "stream",
     "text": [
      "['Star Wars', 'Gandhi', 'Casablanca', 'Shawshank Redemption', 'Toy Story', 'Gove with the Wind', 'Citizen Kane', \"It's a Wonderful Life\", 'The Wizard of Oz', 'Gattaca', 'Rear Window', 'Ghostbusters', 'Groundhog Day', 'Titanic']\n"
     ]
    }
   ],
   "source": [
    "movies = [(\"Star Wars\", 1977), (\"Gandhi\", 1982), (\"Casablanca\", 1942), (\"Shawshank Redemption\", 1994), \n",
    "          (\"Toy Story\", 1995), (\"Gove with the Wind\", 1939), (\"Citizen Kane\", 1941), \n",
    "          (\"It's a Wonderful Life\", 1947), (\"The Wizard of Oz\", 1939), (\"Gattaca\", 1997), \n",
    "          (\"Rear Window\", 1954), (\"Ghostbusters\", 1984), (\"Hunger Games\", 2012), \n",
    "          (\"Lord of the Rings\", 2002),(\"Interstellar\", 2014), (\"Tenet\", 2020), (\"Groundhog Day\", 1995), \n",
    "          (\"Titanic\", 1997)]\n",
    "\n",
    "pre2k = [title for (title, year) in movies if year < 2000]\n",
    "print(pre2k)"
   ]
  },
  {
   "cell_type": "markdown",
   "id": "b23b1dd8",
   "metadata": {},
   "source": [
    "### Скалярное произведение"
   ]
  },
  {
   "cell_type": "code",
   "execution_count": 13,
   "id": "745d2728",
   "metadata": {},
   "outputs": [
    {
     "name": "stdout",
     "output_type": "stream",
     "text": [
      "[8, -12, 4]\n"
     ]
    }
   ],
   "source": [
    "v = [2, -3, 1]\n",
    "w = [4*x for x in v]\n",
    "print(w)"
   ]
  },
  {
   "cell_type": "markdown",
   "id": "156d648a",
   "metadata": {},
   "source": [
    "### Прямое или декартово произведение"
   ]
  },
  {
   "cell_type": "code",
   "execution_count": 14,
   "id": "1d00363d",
   "metadata": {},
   "outputs": [
    {
     "name": "stdout",
     "output_type": "stream",
     "text": [
      "[(1, 2), (1, 4), (1, 6), (1, 8), (3, 2), (3, 4), (3, 6), (3, 8), (5, 2), (5, 4), (5, 6), (5, 8), (7, 2), (7, 4), (7, 6), (7, 8)]\n"
     ]
    }
   ],
   "source": [
    "A = [1, 3, 5, 7]\n",
    "B = [2, 4, 6, 8]\n",
    "\n",
    "cartesian_product = [(a,b) for a in A for b in B]\n",
    "print(cartesian_product)"
   ]
  },
  {
   "cell_type": "code",
   "execution_count": null,
   "id": "9ec28a8b",
   "metadata": {},
   "outputs": [],
   "source": []
  }
 ],
 "metadata": {
  "kernelspec": {
   "display_name": "Python 3 (ipykernel)",
   "language": "python",
   "name": "python3"
  },
  "language_info": {
   "codemirror_mode": {
    "name": "ipython",
    "version": 3
   },
   "file_extension": ".py",
   "mimetype": "text/x-python",
   "name": "python",
   "nbconvert_exporter": "python",
   "pygments_lexer": "ipython3",
   "version": "3.7.11"
  }
 },
 "nbformat": 4,
 "nbformat_minor": 5
}
