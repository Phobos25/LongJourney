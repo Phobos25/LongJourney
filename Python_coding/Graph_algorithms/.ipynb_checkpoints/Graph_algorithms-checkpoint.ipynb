{
 "cells": [
  {
   "cell_type": "code",
   "execution_count": 29,
   "metadata": {},
   "outputs": [],
   "source": [
    "def DepthFirstPrint(graph, source):\n",
    "    stack = [ source ]\n",
    "    while (len(stack) > 0):\n",
    "        current = stack.pop()\n",
    "        print(current)\n",
    "        for neighbour in graph[current]:\n",
    "            stack.append(neighbour)\n",
    "\n",
    "def BreadthFirstPrint(graph, source):\n",
    "    stack = [ source ]\n",
    "    while (len(stack) > 0):\n",
    "        current = stack.pop(0)\n",
    "        print(current)\n",
    "        for neighbour in graph[current]:\n",
    "            stack.append(neighbour)\n",
    "            \n",
    "def HasPath(graph, src, dest):\n",
    "    if src == dest:\n",
    "        return True\n",
    "    for neighbour in graph[src]:\n",
    "        if HasPath(graph, neighbour, dest) == True:\n",
    "            return True\n",
    "    return False\n",
    "\n",
    "def HasPathB(graph, src, dest):\n",
    "    stack = [ src ]\n",
    "    while (len(stack) > 0):\n",
    "        current = stack.pop(0)        \n",
    "        if current == dest:\n",
    "            return True\n",
    "        for neighbour in graph[current]:\n",
    "            stack.append(neighbour)\n",
    "    return False"
   ]
  },
  {
   "cell_type": "code",
   "execution_count": 26,
   "metadata": {},
   "outputs": [],
   "source": [
    "graph = {\n",
    "    \"a\":['b','c'],\n",
    "    'b':['d'],\n",
    "    'c':['e'],\n",
    "    'd':['f'],\n",
    "    'e':[],\n",
    "    'f':[]\n",
    "}\n",
    "graphPath = {\n",
    "    'f':['g','i'],\n",
    "    'g':['h'],\n",
    "    'i':['g','k'],\n",
    "    'h':[],\n",
    "    'j':['i'],\n",
    "    'k':[]\n",
    "}"
   ]
  },
  {
   "cell_type": "code",
   "execution_count": 33,
   "metadata": {},
   "outputs": [
    {
     "data": {
      "text/plain": [
       "True"
      ]
     },
     "execution_count": 33,
     "metadata": {},
     "output_type": "execute_result"
    }
   ],
   "source": [
    "HasPathB(graphPath, 'f', 'f')"
   ]
  },
  {
   "cell_type": "code",
   "execution_count": null,
   "metadata": {},
   "outputs": [],
   "source": []
  }
 ],
 "metadata": {
  "kernelspec": {
   "display_name": "Python 3",
   "language": "python",
   "name": "python3"
  },
  "language_info": {
   "codemirror_mode": {
    "name": "ipython",
    "version": 3
   },
   "file_extension": ".py",
   "mimetype": "text/x-python",
   "name": "python",
   "nbconvert_exporter": "python",
   "pygments_lexer": "ipython3",
   "version": "3.7.6"
  }
 },
 "nbformat": 4,
 "nbformat_minor": 4
}
