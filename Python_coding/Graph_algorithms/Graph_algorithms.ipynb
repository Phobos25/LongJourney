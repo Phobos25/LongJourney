{
 "cells": [
  {
   "cell_type": "code",
   "execution_count": 1,
   "metadata": {},
   "outputs": [],
   "source": [
    "def DepthFirstPrint(graph, source):\n",
    "    stack = [ source ]\n",
    "    while (len(stack) > 0):\n",
    "        current = stack.pop()\n",
    "        print(current)\n",
    "        for neighbour in graph[current]:\n",
    "            stack.append(neighbour)\n",
    "\n",
    "def BreadthFirstPrint(graph, source):\n",
    "    stack = [ source ]\n",
    "    while (len(stack) > 0):\n",
    "        current = stack.pop(0)\n",
    "        print(current)\n",
    "        for neighbour in graph[current]:\n",
    "            stack.append(neighbour)\n",
    "            \n",
    "def HasPath(graph, src, dest, visited):    \n",
    "    if src == dest:    return True\n",
    "    if src in visited: return False\n",
    "    \n",
    "    visited.update([src])\n",
    "    for neighbour in graph[src]:\n",
    "        if HasPath(graph, neighbour, dest, visited) == True:\n",
    "            return True\n",
    "    return False\n",
    "\n",
    "def HasPathB(graph, src, dest):\n",
    "    stack = [ src ]\n",
    "    while (len(stack) > 0):\n",
    "        current = stack.pop(0)        \n",
    "        if current == dest:\n",
    "            return True\n",
    "        for neighbour in graph[current]:\n",
    "            stack.append(neighbour)\n",
    "    return False\n",
    "\n",
    "def BuildGraph(edges):\n",
    "    graph = {}\n",
    "    for edge in edges:\n",
    "        a,b = edge\n",
    "        if a not in graph: graph[a] = []\n",
    "        if b not in graph: graph[b] = []\n",
    "        graph[a].append(b)\n",
    "        graph[b].append(a)\n",
    "    return graph"
   ]
  },
  {
   "cell_type": "code",
   "execution_count": 21,
   "metadata": {},
   "outputs": [],
   "source": [
    "graph = {\n",
    "    \"a\":['b','c'],\n",
    "    'b':['d'],\n",
    "    'c':['e'],\n",
    "    'd':['f'],\n",
    "    'e':[],\n",
    "    'f':[]\n",
    "}\n",
    "graphPath = {\n",
    "    'f':['g','i'],\n",
    "    'g':['h'],\n",
    "    'i':['g','k'],\n",
    "    'h':[],\n",
    "    'j':['i'],\n",
    "    'k':[]\n",
    "}\n",
    "\n",
    "edges = [\n",
    "    ['i','j'],\n",
    "    ['k','i'],\n",
    "    ['m','k'],\n",
    "    ['k','l'],\n",
    "    ['o','n']    \n",
    "]\n",
    "\n",
    "graph2 = {\n",
    "    0:[8,1,5],\n",
    "    1:[0],\n",
    "    5:[0,8],\n",
    "    8:[0,5],\n",
    "    2:[3,4],\n",
    "    3:[2,4],\n",
    "    4:[3,2]\n",
    "} # ->2\n",
    "\n",
    "graph3 ={\n",
    "  1: [2],\n",
    "  2: [1,8],\n",
    "  6: [7],\n",
    "  9: [8],\n",
    "  7: [6, 8],\n",
    "  8: [9, 7, 2]\n",
    "} # -> 1\n",
    "\n",
    "graph4 = {\n",
    "  3: [],\n",
    "  4: [6],\n",
    "  6: [4, 5, 7, 8],\n",
    "  8: [6],\n",
    "  7: [6],\n",
    "  5: [6],\n",
    "  1: [2],\n",
    "  2: [1]\n",
    "} # -> 3"
   ]
  },
  {
   "cell_type": "code",
   "execution_count": 3,
   "metadata": {},
   "outputs": [
    {
     "data": {
      "text/plain": [
       "True"
      ]
     },
     "execution_count": 3,
     "metadata": {},
     "output_type": "execute_result"
    }
   ],
   "source": [
    "HasPathB(graphPath, 'f', 'f')"
   ]
  },
  {
   "cell_type": "code",
   "execution_count": 4,
   "metadata": {},
   "outputs": [],
   "source": [
    "test_graph = BuildGraph(edges)"
   ]
  },
  {
   "cell_type": "markdown",
   "metadata": {},
   "source": [
    "### Undirected path"
   ]
  },
  {
   "cell_type": "markdown",
   "metadata": {},
   "source": [
    "Let's use some helper function undirected path"
   ]
  },
  {
   "cell_type": "code",
   "execution_count": 5,
   "metadata": {},
   "outputs": [],
   "source": [
    "def UndirectedPath(edges, node_a, node_b):\n",
    "    graph = BuildGraph(edges)\n",
    "    return HasPath(graph, node_a, node_b, set())"
   ]
  },
  {
   "cell_type": "code",
   "execution_count": 6,
   "metadata": {},
   "outputs": [
    {
     "data": {
      "text/plain": [
       "True"
      ]
     },
     "execution_count": 6,
     "metadata": {},
     "output_type": "execute_result"
    }
   ],
   "source": [
    "UndirectedPath(edges, 'i', 'l')"
   ]
  },
  {
   "cell_type": "markdown",
   "metadata": {},
   "source": [
    "### Connected components count"
   ]
  },
  {
   "cell_type": "code",
   "execution_count": 17,
   "metadata": {},
   "outputs": [],
   "source": [
    "def ConnectedComponentsCount(graph):\n",
    "    visited = set()\n",
    "    count = 0\n",
    "    for node in graph:\n",
    "        if Explore(graph, node, visited) == True:\n",
    "            count += 1\n",
    "    print(count)\n",
    "def Explore(graph, current, visited):\n",
    "    if current in visited: \n",
    "        return False\n",
    "    visited.update([current])\n",
    "    \n",
    "    for neighbour in graph[current]:\n",
    "        Explore(graph, neighbour, visited)\n",
    "    \n",
    "    return True"
   ]
  },
  {
   "cell_type": "code",
   "execution_count": 23,
   "metadata": {},
   "outputs": [
    {
     "name": "stdout",
     "output_type": "stream",
     "text": [
      "1\n"
     ]
    }
   ],
   "source": [
    "ConnectedComponentsCount(graph3)"
   ]
  },
  {
   "cell_type": "markdown",
   "metadata": {},
   "source": [
    "### Largest component"
   ]
  },
  {
   "cell_type": "code",
   "execution_count": 48,
   "metadata": {},
   "outputs": [],
   "source": [
    "def LargestComponent(graph):\n",
    "    visited = set()\n",
    "    longest = 0\n",
    "    for node in graph:\n",
    "        size = ExploreSize(graph, node, visited)\n",
    "        if size > longest:\n",
    "            longest = size    \n",
    "    return longest\n",
    "    \n",
    "def ExploreSize(graph, current, visited):\n",
    "    if current in visited: \n",
    "        return 0\n",
    "    \n",
    "    visited.update([current])\n",
    "    count = 1\n",
    "    for neighbour in graph[current]:\n",
    "        count += ExploreSize(graph, neighbour, visited)\n",
    "    \n",
    "    return count"
   ]
  },
  {
   "cell_type": "code",
   "execution_count": 52,
   "metadata": {},
   "outputs": [
    {
     "data": {
      "text/plain": [
       "4"
      ]
     },
     "execution_count": 52,
     "metadata": {},
     "output_type": "execute_result"
    }
   ],
   "source": [
    "LargestComponent(graph2)"
   ]
  },
  {
   "cell_type": "code",
   "execution_count": null,
   "metadata": {},
   "outputs": [],
   "source": []
  }
 ],
 "metadata": {
  "kernelspec": {
   "display_name": "Python 3",
   "language": "python",
   "name": "python3"
  },
  "language_info": {
   "codemirror_mode": {
    "name": "ipython",
    "version": 3
   },
   "file_extension": ".py",
   "mimetype": "text/x-python",
   "name": "python",
   "nbconvert_exporter": "python",
   "pygments_lexer": "ipython3",
   "version": "3.8.8"
  }
 },
 "nbformat": 4,
 "nbformat_minor": 4
}
