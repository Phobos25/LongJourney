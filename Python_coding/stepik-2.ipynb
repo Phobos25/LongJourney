{
 "cells": [
  {
   "cell_type": "code",
   "execution_count": 1,
   "id": "ed40872d",
   "metadata": {},
   "outputs": [],
   "source": [
    "import numpy as np"
   ]
  },
  {
   "cell_type": "code",
   "execution_count": 2,
   "id": "8ae7f6ed",
   "metadata": {},
   "outputs": [],
   "source": [
    "def permutations(elements):\n",
    "    if len(elements) == 0: # if is empty \n",
    "        return [[]]        # return base scenario\n",
    "    first = elements[0]    # save first element\n",
    "    rest = elements[1:]    # remove first element\n",
    "    perms_without_first = permutations(rest)\n",
    "    \n",
    "    all_permutations = []\n",
    "    for perm in perms_without_first:\n",
    "        for i in range(len(perm)+1):\n",
    "            perm_with_first = perm[:i] + [first] + perm[i:]\n",
    "            all_permutations.append(perm_with_first)\n",
    "    return all_permutations"
   ]
  },
  {
   "cell_type": "code",
   "execution_count": 4,
   "id": "c9559df1",
   "metadata": {},
   "outputs": [
    {
     "name": "stdout",
     "output_type": "stream",
     "text": [
      "['(', ')', '[', ']']\n",
      "[')', '(', '[', ']']\n",
      "[')', '[', '(', ']']\n",
      "[')', '[', ']', '(']\n",
      "['(', '[', ')', ']']\n",
      "['[', '(', ')', ']']\n",
      "['[', ')', '(', ']']\n",
      "['[', ')', ']', '(']\n",
      "['(', '[', ']', ')']\n",
      "['[', '(', ']', ')']\n",
      "['[', ']', '(', ')']\n",
      "['[', ']', ')', '(']\n",
      "['(', ')', ']', '[']\n",
      "[')', '(', ']', '[']\n",
      "[')', ']', '(', '[']\n",
      "[')', ']', '[', '(']\n",
      "['(', ']', ')', '[']\n",
      "[']', '(', ')', '[']\n",
      "[']', ')', '(', '[']\n",
      "[']', ')', '[', '(']\n",
      "['(', ']', '[', ')']\n",
      "[']', '(', '[', ')']\n",
      "[']', '[', '(', ')']\n",
      "[']', '[', ')', '(']\n"
     ]
    }
   ],
   "source": [
    "perms = permutations(['(',')','[', ']'])\n",
    "for perm in perms:\n",
    "    print(perm)"
   ]
  },
  {
   "cell_type": "code",
   "execution_count": null,
   "id": "e251d411",
   "metadata": {},
   "outputs": [],
   "source": []
  }
 ],
 "metadata": {
  "kernelspec": {
   "display_name": "Python 3",
   "language": "python",
   "name": "python3"
  },
  "language_info": {
   "codemirror_mode": {
    "name": "ipython",
    "version": 3
   },
   "file_extension": ".py",
   "mimetype": "text/x-python",
   "name": "python",
   "nbconvert_exporter": "python",
   "pygments_lexer": "ipython3",
   "version": "3.7.6"
  }
 },
 "nbformat": 4,
 "nbformat_minor": 5
}
