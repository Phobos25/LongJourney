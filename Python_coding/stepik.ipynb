{
 "cells": [
  {
   "cell_type": "markdown",
   "id": "c96a8ef4",
   "metadata": {},
   "source": [
    "## Перебор всех возможных строк и символов"
   ]
  },
  {
   "cell_type": "code",
   "execution_count": 1,
   "id": "009ecffd",
   "metadata": {},
   "outputs": [],
   "source": [
    "import numpy as np"
   ]
  },
  {
   "cell_type": "code",
   "execution_count": 2,
   "id": "ab614a49",
   "metadata": {},
   "outputs": [],
   "source": [
    "def out(arr):\n",
    "    print(arr)\n",
    "    \n",
    "def rec(arr, idx, m, n):\n",
    "    if idx == n:\n",
    "        out(arr)\n",
    "        return\n",
    "    for i in range(m) :\n",
    "        arr[idx] = i\n",
    "        rec(arr, idx+1, m, n)"
   ]
  },
  {
   "cell_type": "code",
   "execution_count": 3,
   "id": "57da4ea8",
   "metadata": {},
   "outputs": [
    {
     "name": "stdout",
     "output_type": "stream",
     "text": [
      "[0 0]\n",
      "[0 1]\n",
      "[0 2]\n",
      "[1 0]\n",
      "[1 1]\n",
      "[1 2]\n",
      "[2 0]\n",
      "[2 1]\n",
      "[2 2]\n"
     ]
    }
   ],
   "source": [
    "n = 2\n",
    "m = 3\n",
    "a = np.zeros(n, dtype=int)\n",
    "rec(a, 0, m, n)"
   ]
  },
  {
   "cell_type": "markdown",
   "id": "70cd1f92",
   "metadata": {},
   "source": [
    "## Правильные скобочные последовательности"
   ]
  },
  {
   "cell_type": "markdown",
   "id": "f75863b0",
   "metadata": {},
   "source": [
    "функция correct проверяет баланс скобок, т.е. на каждую открытую скобку должна быть одна закрытая:\n",
    "\n",
    "```\n",
    "(())  --- правильная последовательность\n",
    "(() --- неправильная последовательность. Баланс нарушен\n",
    ")( --- неправильная последовательность, нельзя закрыть скобку, а потом открыть. \n",
    "```\n",
    "Идея алгоритма:\n",
    "\n",
    "Мы ведем баланс скобок, если скобка открывается, мы прибавляем 1, если скобка закрывается, мы вычитаем.\n",
    "\n",
    "Если баланс станет меньше 0, то последовательность уже неправильная, мы возвращаем **False**\n",
    "\n",
    "После перебора всей строки, мы проверям баланс, если баланс не равен 0 (количество открывающихся и закрывающихся скобо одинаковые), то возвращаем **False**, иначе **True**"
   ]
  },
  {
   "cell_type": "code",
   "execution_count": 4,
   "id": "9ba6d093",
   "metadata": {},
   "outputs": [],
   "source": [
    "def correct(s):\n",
    "    bal = 0\n",
    "    for i in range(len(s)):\n",
    "        if s[i] == '(':\n",
    "            bal += 1\n",
    "        else:\n",
    "            bal -= 1\n",
    "        if bal < 0:\n",
    "            return False\n",
    "    return bal == 0"
   ]
  },
  {
   "cell_type": "code",
   "execution_count": 5,
   "id": "1fc5174f",
   "metadata": {},
   "outputs": [
    {
     "data": {
      "text/plain": [
       "False"
      ]
     },
     "execution_count": 5,
     "metadata": {},
     "output_type": "execute_result"
    }
   ],
   "source": [
    "s = '((())())))'\n",
    "correct(s)"
   ]
  },
  {
   "cell_type": "markdown",
   "id": "7e438115",
   "metadata": {},
   "source": [
    "Рассмотрим следующую задачу: \n",
    "```\n",
    "Сколько существует правильных скобочных последовательностей\n",
    "из трёх открывающихся и трёх закрывающихся скобок?\n",
    "```"
   ]
  },
  {
   "cell_type": "code",
   "execution_count": 6,
   "id": "ac7bcac3",
   "metadata": {},
   "outputs": [],
   "source": [
    "def out():\n",
    "    print(s)\n",
    "def rec(idx, bal):\n",
    "    if idx == 2*n:\n",
    "        if bal == 0:\n",
    "            out()\n",
    "        return\n",
    "    s[idx] = '('\n",
    "    rec(idx+1, bal+1)\n",
    "    if bal == 0:\n",
    "        return\n",
    "    s[idx] = ')'\n",
    "    rec(idx+1, bal-1)"
   ]
  },
  {
   "cell_type": "code",
   "execution_count": 7,
   "id": "27ced831",
   "metadata": {},
   "outputs": [
    {
     "name": "stdout",
     "output_type": "stream",
     "text": [
      "['(' '(' '(' ')' ')' ')']\n",
      "['(' '(' ')' '(' ')' ')']\n",
      "['(' '(' ')' ')' '(' ')']\n",
      "['(' ')' '(' '(' ')' ')']\n",
      "['(' ')' '(' ')' '(' ')']\n"
     ]
    }
   ],
   "source": [
    "n = 3\n",
    "s = np.zeros(2*n, dtype=str)\n",
    "rec(0, 0)"
   ]
  },
  {
   "cell_type": "markdown",
   "id": "eb36556c",
   "metadata": {},
   "source": [
    "### Комбинации"
   ]
  },
  {
   "cell_type": "code",
   "execution_count": 2,
   "id": "07c74388",
   "metadata": {},
   "outputs": [],
   "source": [
    "def generate_permutations(s, i = 0, a = ''):\n",
    "    if i == len(s):\n",
    "        yield a\n",
    "    else:\n",
    "        for c in s:\n",
    "            if c not in a:\n",
    "                yield from generate_permutations(s, i + 1, a + c)"
   ]
  },
  {
   "cell_type": "code",
   "execution_count": 3,
   "id": "a382c1a5",
   "metadata": {},
   "outputs": [
    {
     "name": "stdout",
     "output_type": "stream",
     "text": [
      "4468: 7231564\n"
     ]
    }
   ],
   "source": [
    "count = 0\n",
    "for c in generate_permutations('1234567'):\n",
    "    count += 1\n",
    "    if count == 4468:\n",
    "        print(f'{count}: {c}')"
   ]
  },
  {
   "cell_type": "markdown",
   "id": "2270f9fe",
   "metadata": {},
   "source": [
    "### Разбиение на слагаемые"
   ]
  },
  {
   "cell_type": "code",
   "execution_count": 77,
   "id": "ce264156",
   "metadata": {},
   "outputs": [],
   "source": [
    "# вывод слагаемых\n",
    "def out(a, n):\n",
    "    global count\n",
    "    count += 1\n",
    "    if count == 13672:\n",
    "        print(f'{count}: {n} =', ' + '.join(map(str, a)))\n",
    "    \n",
    "def rec(n, idx=0, summa = 0, last = 1, a = None):\n",
    "    a = a or []\n",
    "    if summa == n:\n",
    "        out(a, n)\n",
    "        return\n",
    "    for i in range(last, n - summa +1):\n",
    "        rec(n, idx, summa+i, i, a + [i])"
   ]
  },
  {
   "cell_type": "code",
   "execution_count": 78,
   "id": "6fa14bb7",
   "metadata": {},
   "outputs": [
    {
     "name": "stdout",
     "output_type": "stream",
     "text": [
      "13672: 35 = 2 + 3 + 3 + 4 + 4 + 6 + 13\n"
     ]
    }
   ],
   "source": [
    "count = 0\n",
    "rec(35)"
   ]
  },
  {
   "cell_type": "code",
   "execution_count": 49,
   "id": "347a1777",
   "metadata": {},
   "outputs": [],
   "source": [
    "def sums(n, cur_sum = 0, last = 1, a = None):\n",
    "    a = a or []\n",
    "    if cur_sum == n:\n",
    "        yield a\n",
    "    elif cur_sum < n:\n",
    "        for i in range(last, n - cur_sum + 1):\n",
    "            yield from sums(n, cur_sum + i, i, a + [i])\n"
   ]
  },
  {
   "cell_type": "code",
   "execution_count": 50,
   "id": "d40fbb47",
   "metadata": {
    "scrolled": true
   },
   "outputs": [
    {
     "name": "stdout",
     "output_type": "stream",
     "text": [
      "5 = 1 + 1 + 1 + 1 + 1\n",
      "5 = 1 + 1 + 1 + 2\n",
      "5 = 1 + 1 + 3\n",
      "5 = 1 + 2 + 2\n",
      "5 = 1 + 4\n",
      "5 = 2 + 3\n",
      "5 = 5\n"
     ]
    }
   ],
   "source": [
    "for s in sums(5):\n",
    "    print('5 =', ' + '.join(map(str, s)))"
   ]
  },
  {
   "cell_type": "code",
   "execution_count": 27,
   "id": "5e20052f",
   "metadata": {},
   "outputs": [],
   "source": [
    "a = sums(5)"
   ]
  },
  {
   "cell_type": "code",
   "execution_count": 28,
   "id": "d1876394",
   "metadata": {},
   "outputs": [
    {
     "name": "stdout",
     "output_type": "stream",
     "text": [
      "[1, 1, 1, 1, 1]\n",
      "[1, 1, 1, 2]\n",
      "[1, 1, 3]\n",
      "[1, 2, 2]\n",
      "[1, 4]\n",
      "[2, 3]\n",
      "[5]\n"
     ]
    }
   ],
   "source": [
    "for x in a:\n",
    "    print(x)"
   ]
  },
  {
   "cell_type": "markdown",
   "id": "7e4e4a97",
   "metadata": {},
   "source": [
    "### Расстановка фишек"
   ]
  },
  {
   "cell_type": "markdown",
   "id": "f70d60e6",
   "metadata": {},
   "source": [
    "\n",
    "\n",
    "Расстановка фишек. Имеется полоса размера 1×n, разбитая на единичные клетки. Нужно расставить в клетках полосы mmm фишек, чтобы никакие две фишки не стояли в соседних клетках. Выведите все возможные расстановки.\n",
    "\n",
    "Входные данные\n",
    "\n",
    "Натуральные числа nnn и mmm.\n",
    "\n",
    "Выходные данные\n",
    "\n",
    "Выведите все корректные расстановки фишек. Каждая расстановка должна быть выведена в отдельной строке. Клетки, занятые фишками, обозначаются символами ‘*’, свободные клетки - точками ‘.’. Выводите расстановки в лексикографическом порядке, считая, что ‘*’ < ‘.’.\n",
    "\n",
    "Пример входных данных\n",
    "\n",
    "5 2\n",
    "\n",
    "Пример выходных данных\n",
    "\n",
    "```\n",
    "*.*..\n",
    "\n",
    "*..*.\n",
    "\n",
    "*...*\n",
    "\n",
    ".*.*.\n",
    "\n",
    ".*..*\n",
    "\n",
    "..*.*\n",
    "```\n",
    "В качестве ответа на задание выберите расстановку фишек для n=7, m=3 с номером 7 в лексикографическом порядке. Для примера из условия расстановка с номером 3  имеет вид ```*...*```\n"
   ]
  },
  {
   "cell_type": "code",
   "execution_count": 50,
   "id": "c1f02955",
   "metadata": {},
   "outputs": [],
   "source": [
    "#Задача решается при помощи рекурсивной функции:\n",
    "def fishki(idx, k, number=0):\n",
    "    '''\n",
    "    idx --- индекс текущей клетки\n",
    "    k --- количество поставленных фишек\n",
    "    '''\n",
    "    global a\n",
    "    global count\n",
    "    if k == m:  \n",
    "        count += 1\n",
    "        if number == 0:\n",
    "            print(f'{count}: {a}')\n",
    "        elif count == number:\n",
    "            print(f'{count}: {a}')\n",
    "        return\n",
    "    if idx == len(a):\n",
    "        return\n",
    "    if idx == 0 or a[idx-1] == '.':\n",
    "        a[idx] = '*'\n",
    "        fishki(idx+1, k+1, number)\n",
    "    a[idx] = '.'\n",
    "    fishki(idx+1, k, number)"
   ]
  },
  {
   "cell_type": "code",
   "execution_count": 53,
   "id": "1eb30281",
   "metadata": {},
   "outputs": [
    {
     "name": "stdout",
     "output_type": "stream",
     "text": [
      "1: ['*' '.' '*' '.' '*' '.' '.']\n",
      "2: ['*' '.' '*' '.' '.' '*' '.']\n",
      "3: ['*' '.' '*' '.' '.' '.' '*']\n",
      "4: ['*' '.' '.' '*' '.' '*' '.']\n",
      "5: ['*' '.' '.' '*' '.' '.' '*']\n",
      "6: ['*' '.' '.' '.' '*' '.' '*']\n",
      "7: ['.' '*' '.' '*' '.' '*' '.']\n",
      "8: ['.' '*' '.' '*' '.' '.' '*']\n",
      "9: ['.' '*' '.' '.' '*' '.' '*']\n",
      "10: ['.' '.' '*' '.' '*' '.' '*']\n"
     ]
    }
   ],
   "source": [
    "n = 7\n",
    "m = 3\n",
    "a = np.full(n, '.')\n",
    "count = 0\n",
    "fishki(0,0)"
   ]
  },
  {
   "cell_type": "code",
   "execution_count": 55,
   "id": "9715a541",
   "metadata": {},
   "outputs": [
    {
     "name": "stdout",
     "output_type": "stream",
     "text": [
      "24008: ['.' '*' '.' '*' '.' '.' '.' '.' '.' '*' '.' '*' '.' '*' '.' '*' '.' '.'\n",
      " '.' '.' '*' '.' '.' '*' '.']\n"
     ]
    }
   ],
   "source": [
    "n = 25\n",
    "m = 8\n",
    "a = np.full(n, '.')\n",
    "count = 0\n",
    "fishki(0,0, 24008)"
   ]
  },
  {
   "cell_type": "code",
   "execution_count": null,
   "id": "91713830",
   "metadata": {},
   "outputs": [],
   "source": []
  },
  {
   "cell_type": "code",
   "execution_count": null,
   "id": "7848ab0a",
   "metadata": {},
   "outputs": [],
   "source": []
  }
 ],
 "metadata": {
  "kernelspec": {
   "display_name": "Python 3",
   "language": "python",
   "name": "python3"
  },
  "language_info": {
   "codemirror_mode": {
    "name": "ipython",
    "version": 3
   },
   "file_extension": ".py",
   "mimetype": "text/x-python",
   "name": "python",
   "nbconvert_exporter": "python",
   "pygments_lexer": "ipython3",
   "version": "3.7.6"
  }
 },
 "nbformat": 4,
 "nbformat_minor": 5
}
