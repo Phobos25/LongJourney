{
 "cells": [
  {
   "cell_type": "markdown",
   "id": "8894460b",
   "metadata": {},
   "source": [
    "## Перебор всех возможных строк и символов"
   ]
  },
  {
   "cell_type": "code",
   "execution_count": 1,
   "id": "ae90ecc1",
   "metadata": {},
   "outputs": [],
   "source": [
    "import numpy as np"
   ]
  },
  {
   "cell_type": "code",
   "execution_count": 2,
   "id": "1ca2e523",
   "metadata": {},
   "outputs": [],
   "source": [
    "def out(arr):\n",
    "    print(arr)\n",
    "    \n",
    "def rec(arr, idx, m, n):\n",
    "    if idx == n:\n",
    "        out(arr)\n",
    "        return\n",
    "    for i in range(m) :\n",
    "        arr[idx] = i\n",
    "        rec(arr, idx+1, m, n)"
   ]
  },
  {
   "cell_type": "code",
   "execution_count": 3,
   "id": "5a2cba96",
   "metadata": {},
   "outputs": [
    {
     "name": "stdout",
     "output_type": "stream",
     "text": [
      "[0 0]\n",
      "[0 1]\n",
      "[0 2]\n",
      "[1 0]\n",
      "[1 1]\n",
      "[1 2]\n",
      "[2 0]\n",
      "[2 1]\n",
      "[2 2]\n"
     ]
    }
   ],
   "source": [
    "n = 2\n",
    "m = 3\n",
    "a = np.zeros(n, dtype=int)\n",
    "rec(a, 0, m, n)"
   ]
  },
  {
   "cell_type": "markdown",
   "id": "5c8b357c",
   "metadata": {},
   "source": [
    "## Правильные скобочные последовательности"
   ]
  },
  {
   "cell_type": "markdown",
   "id": "968d2244",
   "metadata": {},
   "source": [
    "функция correct проверяет баланс скобок, т.е. на каждую открытую скобку должна быть одна закрытая:\n",
    "\n",
    "```\n",
    "(())  --- правильная последовательность\n",
    "(() --- неправильная последовательность. Баланс нарушен\n",
    ")( --- неправильная последовательность, нельзя закрыть скобку, а потом открыть. \n",
    "```\n",
    "Идея алгоритма:\n",
    "\n",
    "Мы ведем баланс скобок, если скобка открывается, мы прибавляем 1, если скобка закрывается, мы вычитаем.\n",
    "\n",
    "Если баланс станет меньше 0, то последовательность уже неправильная, мы возвращаем **False**\n",
    "\n",
    "После перебора всей строки, мы проверям баланс, если баланс не равен 0 (количество открывающихся и закрывающихся скобо одинаковые), то возвращаем **False**, иначе **True**"
   ]
  },
  {
   "cell_type": "code",
   "execution_count": 4,
   "id": "aea0e3f9",
   "metadata": {},
   "outputs": [],
   "source": [
    "def correct(s):\n",
    "    bal = 0\n",
    "    for i in range(len(s)):\n",
    "        if s[i] == '(':\n",
    "            bal += 1\n",
    "        else:\n",
    "            bal -= 1\n",
    "        if bal < 0:\n",
    "            return False\n",
    "    return bal == 0"
   ]
  },
  {
   "cell_type": "code",
   "execution_count": 5,
   "id": "1a987c45",
   "metadata": {},
   "outputs": [
    {
     "data": {
      "text/plain": [
       "False"
      ]
     },
     "execution_count": 5,
     "metadata": {},
     "output_type": "execute_result"
    }
   ],
   "source": [
    "s = '((())())))'\n",
    "correct(s)"
   ]
  },
  {
   "cell_type": "markdown",
   "id": "aa0d6936",
   "metadata": {},
   "source": [
    "Рассмотрим следующую задачу: \n",
    "```\n",
    "Сколько существует правильных скобочных последовательностей\n",
    "из трёх открывающихся и трёх закрывающихся скобок?\n",
    "```"
   ]
  },
  {
   "cell_type": "code",
   "execution_count": 6,
   "id": "1b0a80a6",
   "metadata": {},
   "outputs": [],
   "source": [
    "def out():\n",
    "    print(s)\n",
    "def rec(idx, bal):\n",
    "    if idx == 2*n:\n",
    "        if bal == 0:\n",
    "            out()\n",
    "        return\n",
    "    s[idx] = '('\n",
    "    rec(idx+1, bal+1)\n",
    "    if bal == 0:\n",
    "        return\n",
    "    s[idx] = ')'\n",
    "    rec(idx+1, bal-1)"
   ]
  },
  {
   "cell_type": "code",
   "execution_count": 7,
   "id": "c9b0a031",
   "metadata": {},
   "outputs": [
    {
     "name": "stdout",
     "output_type": "stream",
     "text": [
      "['(' '(' '(' ')' ')' ')']\n",
      "['(' '(' ')' '(' ')' ')']\n",
      "['(' '(' ')' ')' '(' ')']\n",
      "['(' ')' '(' '(' ')' ')']\n",
      "['(' ')' '(' ')' '(' ')']\n"
     ]
    }
   ],
   "source": [
    "n = 3\n",
    "s = np.zeros(2*n, dtype=str)\n",
    "rec(0, 0)"
   ]
  },
  {
   "cell_type": "markdown",
   "id": "9e282576",
   "metadata": {},
   "source": [
    "### Комбинации"
   ]
  },
  {
   "cell_type": "code",
   "execution_count": 6,
   "id": "45f9a910",
   "metadata": {},
   "outputs": [
    {
     "name": "stdout",
     "output_type": "stream",
     "text": [
      "abc\n",
      "acb\n",
      "bac\n",
      "bca\n",
      "cab\n",
      "cba\n"
     ]
    }
   ],
   "source": [
    "def generate_permutations(s, i = 0, a = ''):\n",
    "    if i == len(s):\n",
    "        yield a\n",
    "    else:\n",
    "        for c in s:\n",
    "            if c not in a:\n",
    "                yield from generate_permutations(s, i + 1, a + c)"
   ]
  },
  {
   "cell_type": "code",
   "execution_count": 73,
   "id": "13a15e42",
   "metadata": {},
   "outputs": [
    {
     "ename": "NameError",
     "evalue": "name 'generate_permutations' is not defined",
     "output_type": "error",
     "traceback": [
      "\u001b[0;31m---------------------------------------------------------------------------\u001b[0m",
      "\u001b[0;31mNameError\u001b[0m                                 Traceback (most recent call last)",
      "\u001b[0;32m/tmp/ipykernel_5182/1267373690.py\u001b[0m in \u001b[0;36m<module>\u001b[0;34m\u001b[0m\n\u001b[1;32m      1\u001b[0m \u001b[0mcount\u001b[0m \u001b[0;34m=\u001b[0m \u001b[0;36m0\u001b[0m\u001b[0;34m\u001b[0m\u001b[0;34m\u001b[0m\u001b[0m\n\u001b[0;32m----> 2\u001b[0;31m \u001b[0;32mfor\u001b[0m \u001b[0mc\u001b[0m \u001b[0;32min\u001b[0m \u001b[0mgenerate_permutations\u001b[0m\u001b[0;34m(\u001b[0m\u001b[0;34m'1234567'\u001b[0m\u001b[0;34m)\u001b[0m\u001b[0;34m:\u001b[0m\u001b[0;34m\u001b[0m\u001b[0;34m\u001b[0m\u001b[0m\n\u001b[0m\u001b[1;32m      3\u001b[0m     \u001b[0mcount\u001b[0m \u001b[0;34m+=\u001b[0m \u001b[0;36m1\u001b[0m\u001b[0;34m\u001b[0m\u001b[0;34m\u001b[0m\u001b[0m\n\u001b[1;32m      4\u001b[0m     \u001b[0;32mif\u001b[0m \u001b[0mcount\u001b[0m \u001b[0;34m==\u001b[0m \u001b[0;36m4468\u001b[0m\u001b[0;34m:\u001b[0m\u001b[0;34m\u001b[0m\u001b[0;34m\u001b[0m\u001b[0m\n\u001b[1;32m      5\u001b[0m         \u001b[0mprint\u001b[0m\u001b[0;34m(\u001b[0m\u001b[0;34mf'{count}: {c}'\u001b[0m\u001b[0;34m)\u001b[0m\u001b[0;34m\u001b[0m\u001b[0;34m\u001b[0m\u001b[0m\n",
      "\u001b[0;31mNameError\u001b[0m: name 'generate_permutations' is not defined"
     ]
    }
   ],
   "source": [
    "count = 0\n",
    "for c in generate_permutations('1234567'):\n",
    "    count += 1\n",
    "    if count == 4468:\n",
    "        print(f'{count}: {c}')"
   ]
  },
  {
   "cell_type": "markdown",
   "id": "bff3e39c",
   "metadata": {},
   "source": [
    "### Разбиение на слагаемые"
   ]
  },
  {
   "cell_type": "code",
   "execution_count": 77,
   "id": "e2035c4a",
   "metadata": {},
   "outputs": [],
   "source": [
    "# вывод слагаемых\n",
    "def out(a, n):\n",
    "    global count\n",
    "    count += 1\n",
    "    if count == 13672:\n",
    "        print(f'{count}: {n} =', ' + '.join(map(str, a)))\n",
    "    \n",
    "def rec(n, idx=0, summa = 0, last = 1, a = None):\n",
    "    a = a or []\n",
    "    if summa == n:\n",
    "        out(a, n)\n",
    "        return\n",
    "    for i in range(last, n - summa +1):\n",
    "        rec(n, idx, summa+i, i, a + [i])"
   ]
  },
  {
   "cell_type": "code",
   "execution_count": 78,
   "id": "fcee6595",
   "metadata": {},
   "outputs": [
    {
     "name": "stdout",
     "output_type": "stream",
     "text": [
      "13672: 35 = 2 + 3 + 3 + 4 + 4 + 6 + 13\n"
     ]
    }
   ],
   "source": [
    "count = 0\n",
    "rec(35)"
   ]
  },
  {
   "cell_type": "code",
   "execution_count": 49,
   "id": "6dedf10d",
   "metadata": {},
   "outputs": [],
   "source": [
    "def sums(n, cur_sum = 0, last = 1, a = None):\n",
    "    a = a or []\n",
    "    if cur_sum == n:\n",
    "        yield a\n",
    "    elif cur_sum < n:\n",
    "        for i in range(last, n - cur_sum + 1):\n",
    "            yield from sums(n, cur_sum + i, i, a + [i])\n"
   ]
  },
  {
   "cell_type": "code",
   "execution_count": 50,
   "id": "6fc65d3b",
   "metadata": {
    "scrolled": true
   },
   "outputs": [
    {
     "name": "stdout",
     "output_type": "stream",
     "text": [
      "5 = 1 + 1 + 1 + 1 + 1\n",
      "5 = 1 + 1 + 1 + 2\n",
      "5 = 1 + 1 + 3\n",
      "5 = 1 + 2 + 2\n",
      "5 = 1 + 4\n",
      "5 = 2 + 3\n",
      "5 = 5\n"
     ]
    }
   ],
   "source": [
    "for s in sums(5):\n",
    "    print('5 =', ' + '.join(map(str, s)))"
   ]
  },
  {
   "cell_type": "code",
   "execution_count": 27,
   "id": "f1c864b2",
   "metadata": {},
   "outputs": [],
   "source": [
    "a = sums(5)"
   ]
  },
  {
   "cell_type": "code",
   "execution_count": 28,
   "id": "340d49a7",
   "metadata": {},
   "outputs": [
    {
     "name": "stdout",
     "output_type": "stream",
     "text": [
      "[1, 1, 1, 1, 1]\n",
      "[1, 1, 1, 2]\n",
      "[1, 1, 3]\n",
      "[1, 2, 2]\n",
      "[1, 4]\n",
      "[2, 3]\n",
      "[5]\n"
     ]
    }
   ],
   "source": [
    "for x in a:\n",
    "    print(x)"
   ]
  },
  {
   "cell_type": "code",
   "execution_count": null,
   "id": "d5d55c68",
   "metadata": {},
   "outputs": [],
   "source": []
  }
 ],
 "metadata": {
  "kernelspec": {
   "display_name": "Python 3 (ipykernel)",
   "language": "python",
   "name": "python3"
  },
  "language_info": {
   "codemirror_mode": {
    "name": "ipython",
    "version": 3
   },
   "file_extension": ".py",
   "mimetype": "text/x-python",
   "name": "python",
   "nbconvert_exporter": "python",
   "pygments_lexer": "ipython3",
   "version": "3.7.11"
  }
 },
 "nbformat": 4,
 "nbformat_minor": 5
}
