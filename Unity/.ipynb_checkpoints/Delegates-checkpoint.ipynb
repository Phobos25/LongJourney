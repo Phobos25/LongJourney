{
 "cells": [
  {
   "cell_type": "markdown",
   "id": "7eaaa686",
   "metadata": {},
   "source": [
    "## Delegates"
   ]
  },
  {
   "cell_type": "markdown",
   "id": "f95cf3cd",
   "metadata": {},
   "source": [
    "Delegates are basically variables for functions. It allows to store more than one function in a variable\n",
    "\n",
    "It's essential for making a programme cleaner, more modular, and easily upgradable"
   ]
  },
  {
   "cell_type": "markdown",
   "id": "0c29df29",
   "metadata": {},
   "source": [
    "```C#\n",
    "\n",
    "public class DelegateTesting: Monobehaviour{\n",
    "  // first we create a variable type\n",
    "  public delegate void TestDelegate();\n",
    "  public delegate bool TestBoolDelegate(int i);\n",
    "  \n",
    "  // second we declare a variable \n",
    "  private TestDelegate testDelegateFunction;\n",
    "  private TestBoolDelegate testBoolDelegateFunction;\n",
    "  \n",
    "  private void Start() {\n",
    "    // we can assing one or more functions to a delegate\n",
    "    testDelegateFunction += MyTestDelegateFunction;    \n",
    "    testDelegateFunction += My2ndTestDelegateFunction;\n",
    "    // it calls both functions    \n",
    "    testDelegateFunction();\n",
    "\n",
    "    // use of one function\n",
    "    testDelegateFunction = MyTestDelegateFunction;\n",
    "    testDelegateFunction();\n",
    "\n",
    "    // use of a function that returns something\n",
    "    // let's use lambda expression instead of a function\n",
    "    testBoolDelegateFunction = (int i) => { return i < 5; };\n",
    "    testBoolDelegateFunction(1); // returns true\n",
    "  }\n",
    "  \n",
    "  private void MyTestDelegateFunction() {\n",
    "    Debug.Log(\"MyTestDelegateFunction\");\n",
    "\t}\n",
    "  private void My2ndTestDelegateFunction() {\n",
    "    Debug.Log(\"My2ndDelegateFunction\");\n",
    "  }\n",
    "}\n",
    "```"
   ]
  },
  {
   "cell_type": "markdown",
   "id": "22676d63",
   "metadata": {},
   "source": [
    "we can also use built in function Action:"
   ]
  },
  {
   "cell_type": "markdown",
   "id": "517816fe",
   "metadata": {},
   "source": [
    "```C#\n",
    "Using System;\n",
    "public class DelegateTesting: Monobehaviour{\n",
    "  // part of System built-in functions\n",
    "  private Action testAction;  \n",
    "  private Action<int, float> testIntFloatAction;\n",
    "  \n",
    "  private void Start(){\n",
    "    // use of an Action function\n",
    "    testAction = (){Debug.Log(\"Test action\")};\n",
    "    testAction();\n",
    "      \n",
    "    testIntFloatAction = (int i, float f) => { Debug.Log(\"int: \" + i + \" float: \" + f); };\n",
    "    testIntFloatAction(1, 5f);\n",
    "  }\n",
    "}\n",
    "```"
   ]
  },
  {
   "cell_type": "markdown",
   "id": "367e512d",
   "metadata": {},
   "source": [
    "we can also use built-in function Func"
   ]
  },
  {
   "cell_type": "markdown",
   "id": "cb0c1118",
   "metadata": {},
   "source": [
    "```C#\n",
    "Using System;\n",
    "public class DelegateTesting: Monobehaviour{\n",
    "  // in Func the last one is always returning type;\n",
    "  private Func<int, bool> testIntBoolFunc;\n",
    "  \n",
    "  private void Start(){\n",
    "    // use of a Func function\n",
    "    testIntBoolFunc = (int i) => { return i < 5; };\n",
    "    testIntBoolFunc(1);\n",
    "  }\n",
    "}\n",
    "```"
   ]
  },
  {
   "cell_type": "markdown",
   "id": "5d47cb3a",
   "metadata": {},
   "source": [
    "### Example of Action use in a code"
   ]
  },
  {
   "cell_type": "markdown",
   "id": "5ce34aee",
   "metadata": {},
   "source": [
    "Let's assume we have a game. In a game you can use an attack. First we attack with hands, and at certain moment in the game we start to use a weapon. Or maybe change between different type of attacks/weapons"
   ]
  },
  {
   "cell_type": "markdown",
   "id": "86493418",
   "metadata": {},
   "source": [
    "```C#\n",
    "private Action attackFunction;\n",
    "\n",
    "private void Start(){\n",
    "  // at first we can use only bare hands\n",
    "  attackFunction = PunchAttack;    \n",
    "}\n",
    "// change to sword weapon\n",
    "private void SetUseSword(){\n",
    "  attackFunction = SwordAttack;   \n",
    "}\n",
    "// attack\n",
    "private void HandleAttack(){\n",
    "  attackFunction();\n",
    "}\n",
    "```"
   ]
  }
 ],
 "metadata": {
  "kernelspec": {
   "display_name": "Python 3",
   "language": "python",
   "name": "python3"
  },
  "language_info": {
   "codemirror_mode": {
    "name": "ipython",
    "version": 3
   },
   "file_extension": ".py",
   "mimetype": "text/x-python",
   "name": "python",
   "nbconvert_exporter": "python",
   "pygments_lexer": "ipython3",
   "version": "3.7.6"
  }
 },
 "nbformat": 4,
 "nbformat_minor": 5
}
