{
 "cells": [
  {
   "cell_type": "markdown",
   "id": "ef8fbd92",
   "metadata": {},
   "source": [
    "### Быстрый код"
   ]
  },
  {
   "cell_type": "markdown",
   "id": "dc5235a9",
   "metadata": {},
   "source": [
    "что такое быстрый код?\n",
    "\n",
    "* код не бывает просто быстрым или медленным\n",
    "\n",
    "* он бывает достаточно быстрым для своей задачи\n",
    "\n",
    "Отсюда вывод:\n",
    "\n",
    "**Избегайте преждевременной оптимизации**"
   ]
  },
  {
   "cell_type": "markdown",
   "id": "ebee7bbe",
   "metadata": {},
   "source": [
    "Для большинства задач действует **Принцип Парето** (как и для многих задач в жизни, кстати говоря)\n",
    "\n",
    "* 80% времени работы программы тратится на исполнение 20% кода\n",
    "\n",
    "* эти 20% и надо оптимизровать\n",
    "\n",
    "* Но сначала их надо найти"
   ]
  },
  {
   "cell_type": "markdown",
   "id": "0fdcff02",
   "metadata": {},
   "source": [
    "### Недостатки преждевременной оптимизации"
   ]
  },
  {
   "cell_type": "markdown",
   "id": "1722e1e3",
   "metadata": {},
   "source": [
    "* необоснованное усложнение кода\n",
    "\n",
    "* усложнение поддержки кода\n",
    "\n",
    "* замедление разработки"
   ]
  },
  {
   "cell_type": "markdown",
   "id": "be69522d",
   "metadata": {},
   "source": [
    "### Итоги"
   ]
  },
  {
   "cell_type": "markdown",
   "id": "018b3fd0",
   "metadata": {},
   "source": [
    "* Как правило, код надо стараться делать правильным, простым, а только потом быстрым\n",
    "\n",
    "* Это не значит, что о производительности вообще не надо думать"
   ]
  },
  {
   "cell_type": "markdown",
   "id": "c846cfde",
   "metadata": {},
   "source": [
    "### 2 правило оптимизации"
   ]
  },
  {
   "cell_type": "markdown",
   "id": "bc4ea728",
   "metadata": {},
   "source": [
    "Прежде, чем ускорять код, замертье сколько он работает\n",
    "\n",
    "Если это недостаточно быстро, начинайте искать узкие места\n",
    "\n",
    "Интуиция не работает --- замеряйте"
   ]
  },
  {
   "cell_type": "code",
   "execution_count": null,
   "id": "196a110b",
   "metadata": {},
   "outputs": [],
   "source": []
  }
 ],
 "metadata": {
  "kernelspec": {
   "display_name": "Python 3",
   "language": "python",
   "name": "python3"
  },
  "language_info": {
   "codemirror_mode": {
    "name": "ipython",
    "version": 3
   },
   "file_extension": ".py",
   "mimetype": "text/x-python",
   "name": "python",
   "nbconvert_exporter": "python",
   "pygments_lexer": "ipython3",
   "version": "3.7.6"
  }
 },
 "nbformat": 4,
 "nbformat_minor": 5
}
