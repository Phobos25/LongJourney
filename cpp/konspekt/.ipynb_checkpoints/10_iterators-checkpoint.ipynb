{
 "cells": [
  {
   "cell_type": "markdown",
   "metadata": {},
   "source": [
    "## Итераторы"
   ]
  },
  {
   "cell_type": "markdown",
   "metadata": {},
   "source": [
    "Рассмотрим такой случай, у нас есть вектор слов: vector<string> langs. \n",
    "```\n",
    "vector<string> langs = {\"Python\", \"C++\", \"Java\", \"C\", \"C#\"};\n",
    "```\n",
    "    \n",
    "Внутри которого мы хотим посмотреть, есть ли элемент, которые начинается на 'C'. \n",
    "\n",
    "Для этого воспользуемся функцией find_if из стандартной библиотеки <algorithn>"
   ]
  },
  {
   "cell_type": "markdown",
   "metadata": {},
   "source": [
    "```\n",
    "vector<string> langs = {\"Python\", \"C++\", \"Java\", \"C\", \"C#\"}; \n",
    "\n",
    "auto result = find_if{\n",
    "    begin(langs), end(langs).\n",
    "    [](const &string lang){\n",
    "        return lang[0] == 'C';\n",
    "    });\n",
    "}\n",
    "```\n",
    "\n",
    "Возвращаемая переменная result, является ссылкой на тот объект, который был найден в ходе работе find_if. Поэтому мы можем менять возвращаемый объект: \n",
    "```\n",
    "*result = \"D++\";\n",
    "```"
   ]
  },
  {
   "cell_type": "markdown",
   "metadata": {},
   "source": [
    "Тогда вместо C++ у нас будет D++."
   ]
  },
  {
   "cell_type": "markdown",
   "metadata": {},
   "source": [
    "В случае если мы ничего не нашли, и хотим знать, что ничего не нашли. Надо использовать следующее:\n",
    "```\n",
    "if (result == end(langs){\n",
    "    cout << \"Not found\" << endl;\n",
    "}\n",
    "```\n",
    "Мы сравниваем наш result с концом вектора. Если он ему равен, значит наш алгоритм **find_if** ничего не нашел"
   ]
  },
  {
   "cell_type": "markdown",
   "metadata": {},
   "source": [
    "Как мы можем видеть, у result такой же тип, как и у end(langs), и следовательно, и у begin(langs). \n",
    "Тип, у begin и end зависит от контейнера, который в нем используется, и они называются **итераторами**"
   ]
  },
  {
   "cell_type": "markdown",
   "metadata": {},
   "source": [
    "### Итераторы String"
   ]
  },
  {
   "cell_type": "markdown",
   "metadata": {},
   "source": [
    "Итераторы бывают не только у контейнеров, они бывают и у переменных string\n",
    "\n",
    "```\n",
    "string text = langs.name[1];\n",
    "auto it = begin(text);\n",
    "cout << *it << endl;  // 'C'\n",
    "```\n",
    "будет выводить 'С'\n",
    "\n",
    "Итераторы, могут итерироваться:\n",
    "```\n",
    "++it;\n",
    "cout << *it << endl; // '+'\n",
    "```\n",
    "будет выводить '+'"
   ]
  }
 ],
 "metadata": {
  "kernelspec": {
   "display_name": "Python 3",
   "language": "python",
   "name": "python3"
  },
  "language_info": {
   "codemirror_mode": {
    "name": "ipython",
    "version": 3
   },
   "file_extension": ".py",
   "mimetype": "text/x-python",
   "name": "python",
   "nbconvert_exporter": "python",
   "pygments_lexer": "ipython3",
   "version": "3.7.6"
  }
 },
 "nbformat": 4,
 "nbformat_minor": 4
}
