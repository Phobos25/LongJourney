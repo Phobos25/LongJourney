{
 "cells": [
  {
   "cell_type": "markdown",
   "id": "2c954292",
   "metadata": {},
   "source": [
    "## Map --- словари в c++"
   ]
  },
  {
   "cell_type": "markdown",
   "id": "3ecf31de",
   "metadata": {},
   "source": [
    "```\n",
    "map <int, string> events;\n",
    "events[1950] = \"Bjarne Stroustrup's birth\";\n",
    "events[1941] = \"Dennis Ritchie's birth\";\n",
    "events[1970] = \"UNIX epoch start\";\n",
    "```\n",
    "\n",
    "Для вывода словаря достаточно знать, что в словаре есть первое и второе значение (или больше, если значение у нас больше)\n",
    "```\n",
    "void PrintMap (const map <int, string>& m{\n",
    "    for (const auto& item: m) {\n",
    "        cout << item.first << \": \" << item.second << endl;\n",
    "    }\n",
    "}\n",
    "```\n",
    "где item.first --- это ключ. **Важно** в map ключи хранятся в отсортированном виде, т.е. для нашего кода выше\n",
    "вывод будет выглядеть вот так:\n",
    "\n",
    "```\n",
    "1941: Dennis Ritchie's birth\n",
    "1950: Bjarne Stroustrup's birth\n",
    "1970: UNIX epoch start\n",
    "```\n",
    "хоть мы и вносили в словарь не в таком порядке.\n",
    "\n",
    "Для работы с map надо включить библиотеку <map>\n",
    "```\n",
    "#include <map>    \n",
    "```"
   ]
  },
  {
   "cell_type": "markdown",
   "id": "016e69bb",
   "metadata": {},
   "source": [
    "**Еще команды:**\n",
    "\n",
    "events.size() --- возвращает число пар ключ-значение или количество ключей\n",
    "\n",
    "events[1950] --- возвращает значение ключа 1950. Это как у массива или у вектора\n",
    "\n",
    "Также, в словаре можно удалять по значению ключей\n",
    "\n",
    "events.erase(1970) --- удаляет пару ключ-значение. 1970: UNIX epoch start\n",
    "\n",
    "\n",
    "Словари могут иметь в качестве ключа не только числа int, но и строки string.\n"
   ]
  },
  {
   "cell_type": "markdown",
   "id": "c188040d",
   "metadata": {},
   "source": [
    "Объявление словаря map со значениями:\n",
    "```\n",
    "map<string, int> m = {{\"one\", 1}, {\"two\", 2}, {\"three\", 3}};\n",
    "```"
   ]
  },
  {
   "cell_type": "code",
   "execution_count": null,
   "id": "c5b38d23",
   "metadata": {},
   "outputs": [],
   "source": []
  }
 ],
 "metadata": {
  "kernelspec": {
   "display_name": "Python 3",
   "language": "python",
   "name": "python3"
  },
  "language_info": {
   "codemirror_mode": {
    "name": "ipython",
    "version": 3
   },
   "file_extension": ".py",
   "mimetype": "text/x-python",
   "name": "python",
   "nbconvert_exporter": "python",
   "pygments_lexer": "ipython3",
   "version": "3.7.6"
  }
 },
 "nbformat": 4,
 "nbformat_minor": 5
}
