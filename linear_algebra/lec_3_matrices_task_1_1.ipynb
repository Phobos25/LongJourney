{
 "cells": [
  {
   "cell_type": "markdown",
   "metadata": {},
   "source": [
    "## Задачи по программированию к лекции 3"
   ]
  },
  {
   "cell_type": "markdown",
   "metadata": {},
   "source": [
    "В этой лабораторной работе мы будем считать определители матриц с помощью нашего любимого модуля `numpy`.  Определители мы будем считать в том числе и у случайных матриц, поэтому загрузим также `numpy.random`."
   ]
  },
  {
   "cell_type": "code",
   "execution_count": 82,
   "metadata": {
    "ExecuteTime": {
     "end_time": "2020-12-21T21:03:23.679306Z",
     "start_time": "2020-12-21T21:03:23.500379Z"
    }
   },
   "outputs": [],
   "source": [
    "import numpy as np\n",
    "import numpy.random as npr\n",
    "import matplotlib.pyplot as plt\n",
    "%matplotlib inline"
   ]
  },
  {
   "cell_type": "markdown",
   "metadata": {},
   "source": [
    "### Задача 1. Определитель  "
   ]
  },
  {
   "cell_type": "markdown",
   "metadata": {},
   "source": [
    "####  Симуляции"
   ]
  },
  {
   "cell_type": "markdown",
   "metadata": {},
   "source": [
    "Рассмотрим определители матриц 2 на 2, `[[a, b], [c, d]]`, где `a,b,c,d` -- целые числа от 0 до 9. \n",
    "\n",
    "Оцените вероятность, что определитель случайно выбранной матрицы, удовлетворяющей таким условиям равен нулю. Посчитайте определители у 10000 случайных матриц `A` и сравните их с нулем."
   ]
  },
  {
   "cell_type": "code",
   "execution_count": 91,
   "metadata": {
    "ExecuteTime": {
     "end_time": "2020-12-21T23:27:46.489575Z",
     "start_time": "2020-12-21T23:27:46.153298Z"
    },
    "deletable": false,
    "nbgrader": {
     "cell_type": "code",
     "checksum": "df2915ebc50f99e877c8860e1a5dc42b",
     "grade": false,
     "grade_id": "cell-1a2a5cb8f3b11d72",
     "locked": false,
     "schema_version": 3,
     "solution": true,
     "task": false
    }
   },
   "outputs": [],
   "source": [
    "zero = 0 # сюда можно записывать ответы\n",
    "for i in range(10000):\n",
    "    # код писать сюда  \n",
    "    mtx = npr.random_integers(0, 9, (2,2))\n",
    "    det_mtx = np.linalg.det(mtx)\n",
    "    if int(round(det_mtx)) == 0:\n",
    "        zero += 1\n",
    "# your code here\n"
   ]
  },
  {
   "cell_type": "markdown",
   "metadata": {},
   "source": [
    "Запишите полученный ответ в переменную `prob_zero`."
   ]
  },
  {
   "cell_type": "code",
   "execution_count": 92,
   "metadata": {},
   "outputs": [],
   "source": [
    "prob_zero = zero/10000# ваш ответ"
   ]
  },
  {
   "cell_type": "code",
   "execution_count": 93,
   "metadata": {
    "ExecuteTime": {
     "end_time": "2020-12-21T22:19:03.996972Z",
     "start_time": "2020-12-21T22:19:03.990699Z"
    },
    "deletable": false,
    "editable": false,
    "nbgrader": {
     "cell_type": "code",
     "checksum": "08545f32257ebdaaf6f390ed38e12d21",
     "grade": true,
     "grade_id": "cell-5ce14f319496ea8b",
     "locked": false,
     "points": 1,
     "schema_version": 3,
     "solution": false,
     "task": false
    }
   },
   "outputs": [
    {
     "data": {
      "text/plain": [
       "0.0591"
      ]
     },
     "execution_count": 93,
     "metadata": {},
     "output_type": "execute_result"
    }
   ],
   "source": [
    "prob_zero # здесь проверяется ваш ответ\n"
   ]
  },
  {
   "cell_type": "markdown",
   "metadata": {},
   "source": [
    "#### Точные-точные расчеты\n",
    "\n",
    "Снова рассмотрим определители матриц 2 на 2, `[[a, b], [c, d]]`, где `a,b,c,d` -- целые числа от 0 до 9. \n",
    "\n",
    "Задача состоит в том, чтобы найти определители всех возможных матриц такого вида и построить гистограмму значений которые может пинимать определитель таких матриц.\n",
    "\n",
    "Другими словами, необходимо найти распределение определителей, если `a,b,c,d` выбираются  независимо и равномерно.\n",
    "\n",
    "Подсказка: можете воспользоваться функцией `np.subtract.outer`."
   ]
  },
  {
   "cell_type": "code",
   "execution_count": 94,
   "metadata": {
    "ExecuteTime": {
     "end_time": "2020-12-21T22:29:44.150041Z",
     "start_time": "2020-12-21T22:29:43.930622Z"
    },
    "deletable": false,
    "nbgrader": {
     "cell_type": "code",
     "checksum": "aec738a7137bdde423b06b0f82767bcb",
     "grade": false,
     "grade_id": "cell-b677138af952110f",
     "locked": false,
     "schema_version": 3,
     "solution": true,
     "task": false
    }
   },
   "outputs": [
    {
     "data": {
      "image/png": "[encoded data removed]",
      "text/plain": [
       "<Figure size 432x288 with 1 Axes>"
      ]
     },
     "metadata": {
      "needs_background": "light"
     },
     "output_type": "display_data"
    }
   ],
   "source": [
    "# код писать сюда\n",
    "w, h = 2, 2\n",
    "all_dets = []# сюда запишите все возможные определители в виде np.array\n",
    "for i in range(10):\n",
    "    for j in range(10):\n",
    "        for k in range(10):            \n",
    "            for z in range(10):                \n",
    "                A = []\n",
    "                A.append(i)\n",
    "                A.append(j)\n",
    "                A.append(k)\n",
    "                A.append(z)\n",
    "                A = np.array(A).reshape((w,h))\n",
    "                all_dets.append(int(round(np.linalg.det(A))))\n",
    "plt.hist(all_dets, bins = 100);\n",
    "# your code here\n"
   ]
  },
  {
   "cell_type": "markdown",
   "metadata": {},
   "source": [
    "Напишите функцию, которая будет считать вероятность, что определеитель матрицы `A` будет меньше или равен `x`"
   ]
  },
  {
   "cell_type": "code",
   "execution_count": 101,
   "metadata": {},
   "outputs": [],
   "source": [
    "def calc_zero(all_dets):\n",
    "    res_zero = 0\n",
    "    for i in all_dets:\n",
    "        if i == 0:\n",
    "            res_zero += 1\n",
    "    return res_zero / len(all_dets)"
   ]
  },
  {
   "cell_type": "code",
   "execution_count": 106,
   "metadata": {
    "ExecuteTime": {
     "end_time": "2020-12-21T22:40:49.006658Z",
     "start_time": "2020-12-21T22:40:49.003622Z"
    },
    "deletable": false,
    "nbgrader": {
     "cell_type": "code",
     "checksum": "2ec353559c5614aaf8c1c67174f1443d",
     "grade": false,
     "grade_id": "cell-7be8f8138686a6c3",
     "locked": false,
     "schema_version": 3,
     "solution": true,
     "task": false
    }
   },
   "outputs": [],
   "source": [
    "def calc_prob(x, all_dets):\n",
    "    # код писать сюда     \n",
    "    lesser_than_x = [i for i in all_dets if i <= x]\n",
    "    lesser_than_x = 0\n",
    "    for i in all_dets:\n",
    "        if i <= x:\n",
    "            lesser_than_x += 1\n",
    "    result = lesser_than_x/len(all_dets)\n",
    "    return result# и сюда\n",
    "\n",
    "# your code here\n"
   ]
  },
  {
   "cell_type": "code",
   "execution_count": 107,
   "metadata": {
    "ExecuteTime": {
     "end_time": "2020-12-21T22:42:07.777183Z",
     "start_time": "2020-12-21T22:42:07.774576Z"
    },
    "deletable": false,
    "editable": false,
    "nbgrader": {
     "cell_type": "code",
     "checksum": "84da7ec73fcc56d601039e04a58406a2",
     "grade": true,
     "grade_id": "cell-9d7715aafe0608b7",
     "locked": true,
     "points": 1,
     "schema_version": 3,
     "solution": false,
     "task": false
    }
   },
   "outputs": [],
   "source": [
    "prob_0 = calc_prob(0, all_dets)\n"
   ]
  },
  {
   "cell_type": "code",
   "execution_count": 108,
   "metadata": {
    "ExecuteTime": {
     "end_time": "2020-12-21T22:42:45.295688Z",
     "start_time": "2020-12-21T22:42:45.293490Z"
    },
    "deletable": false,
    "editable": false,
    "nbgrader": {
     "cell_type": "code",
     "checksum": "6a7dcfb64999a6223ee4ac97c130f375",
     "grade": true,
     "grade_id": "cell-af4ab12f678a7f2d",
     "locked": true,
     "points": 1,
     "schema_version": 3,
     "solution": false,
     "task": false
    }
   },
   "outputs": [],
   "source": [
    "prob_min_1 = calc_prob(-1, all_dets)\n"
   ]
  },
  {
   "cell_type": "markdown",
   "metadata": {},
   "source": [
    "Насколько точное значение отличается от оцененного на симуляциях?"
   ]
  },
  {
   "cell_type": "code",
   "execution_count": 109,
   "metadata": {
    "ExecuteTime": {
     "end_time": "2020-12-21T22:42:53.630278Z",
     "start_time": "2020-12-21T22:42:53.627109Z"
    },
    "deletable": false,
    "nbgrader": {
     "cell_type": "code",
     "checksum": "d0e56f207be99a141c2c765b2b11844e",
     "grade": false,
     "grade_id": "cell-4334e954f6079134",
     "locked": false,
     "schema_version": 3,
     "solution": true,
     "task": false
    }
   },
   "outputs": [
    {
     "data": {
      "text/plain": [
       "0.0020999999999999977"
      ]
     },
     "execution_count": 109,
     "metadata": {},
     "output_type": "execute_result"
    }
   ],
   "source": [
    "prob_zero_exact = calc_zero(all_dets)\n",
    "prob_zero - prob_zero_exact \n",
    "\n",
    "# your code here\n"
   ]
  },
  {
   "cell_type": "code",
   "execution_count": null,
   "metadata": {},
   "outputs": [],
   "source": []
  }
 ],
 "metadata": {
  "hide_input": false,
  "kernelspec": {
   "display_name": "Python 3",
   "language": "python",
   "name": "python3"
  },
  "language_info": {
   "codemirror_mode": {
    "name": "ipython",
    "version": 3
   },
   "file_extension": ".py",
   "mimetype": "text/x-python",
   "name": "python",
   "nbconvert_exporter": "python",
   "pygments_lexer": "ipython3",
   "version": "3.7.6"
  },
  "latex_envs": {
   "LaTeX_envs_menu_present": true,
   "autoclose": true,
   "autocomplete": true,
   "bibliofile": "biblio.bib",
   "cite_by": "apalike",
   "current_citInitial": 1,
   "eqLabelWithNumbers": true,
   "eqNumInitial": 1,
   "hotkeys": {
    "equation": "Ctrl-E",
    "itemize": "Ctrl-I"
   },
   "labels_anchors": false,
   "latex_user_defs": false,
   "report_style_numbering": false,
   "user_envs_cfg": false
  },
  "toc": {
   "base_numbering": 1,
   "nav_menu": {},
   "number_sections": true,
   "sideBar": true,
   "skip_h1_title": false,
   "title_cell": "Table of Contents",
   "title_sidebar": "Contents",
   "toc_cell": false,
   "toc_position": {},
   "toc_section_display": true,
   "toc_window_display": false
  },
  "varInspector": {
   "cols": {
    "lenName": 16,
    "lenType": 16,
    "lenVar": 40
   },
   "kernels_config": {
    "python": {
     "delete_cmd_postfix": "",
     "delete_cmd_prefix": "del ",
     "library": "var_list.py",
     "varRefreshCmd": "print(var_dic_list())"
    },
    "r": {
     "delete_cmd_postfix": ") ",
     "delete_cmd_prefix": "rm(",
     "library": "var_list.r",
     "varRefreshCmd": "cat(var_dic_list()) "
    }
   },
   "types_to_exclude": [
    "module",
    "function",
    "builtin_function_or_method",
    "instance",
    "_Feature"
   ],
   "window_display": false
  }
 },
 "nbformat": 4,
 "nbformat_minor": 2
}
