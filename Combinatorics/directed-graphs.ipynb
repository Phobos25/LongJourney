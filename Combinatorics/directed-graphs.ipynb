{
 "cells": [
  {
   "cell_type": "markdown",
   "metadata": {
    "id": "Ok3nh4_bzua7"
   },
   "source": [
    "# Ориентированные графы\n",
    "\n",
    "В этом ноутбуке мы посмотрим на примеры работы с ориентированными графами"
   ]
  },
  {
   "cell_type": "code",
   "execution_count": 1,
   "metadata": {
    "colab": {
     "base_uri": "https://localhost:8080/"
    },
    "executionInfo": {
     "elapsed": 2332,
     "status": "ok",
     "timestamp": 1605203939378,
     "user": {
      "displayName": "Николай Проскурин",
      "photoUrl": "https://lh4.googleusercontent.com/-7dldC_av2-E/AAAAAAAAAAI/AAAAAAAAD2U/sxNNx2X6reI/s64/photo.jpg",
      "userId": "08174801876020700561"
     },
     "user_tz": -180
    },
    "id": "7LmnanLMzua8",
    "outputId": "b69645b5-8ceb-4f03-bd76-0cfffa0bc9cf"
   },
   "outputs": [
    {
     "name": "stdout",
     "output_type": "stream",
     "text": [
      "Список вершин: ['A', 'B', 'C', 'D', 'E', 'F']\n",
      "Список ребер: [('A', 'B'), ('B', 'C'), ('C', 'A'), ('C', 'D'), ('C', 'E'), ('D', 'E')]\n",
      "Число вершин: 6\n",
      "Число ребер: 6\n"
     ]
    }
   ],
   "source": [
    "# Задаем граф\n",
    "\n",
    "import networkx as nx\n",
    "\n",
    "G = nx.DiGraph() # ориентированный граф\n",
    "\n",
    "G.add_edge('A','B')\n",
    "G.add_edges_from([('B','C'), ('C','A'), ('C','D'), ('C','E'),('D','E')])\n",
    "\n",
    "G.add_node('F')\n",
    "\n",
    "nodes=list(G.nodes())\n",
    "edges=list(G.edges())\n",
    "\n",
    "print(\"Список вершин:\",nodes)\n",
    "print(\"Список ребер:\",edges)\n",
    "\n",
    "num_nodes = G.number_of_nodes()\n",
    "num_edges = G.number_of_edges()\n",
    "\n",
    "print(\"Число вершин:\",num_nodes)\n",
    "print(\"Число ребер:\",num_edges)"
   ]
  },
  {
   "cell_type": "code",
   "execution_count": 2,
   "metadata": {
    "colab": {
     "base_uri": "https://localhost:8080/",
     "height": 248
    },
    "executionInfo": {
     "elapsed": 1076,
     "status": "ok",
     "timestamp": 1605190527191,
     "user": {
      "displayName": "Vladimir Podolskii",
      "photoUrl": "",
      "userId": "06527081676405376569"
     },
     "user_tz": -180
    },
    "id": "fcLogTQXzua_",
    "outputId": "5504e596-1e8b-4d59-ddf9-29498bff4454"
   },
   "outputs": [
    {
     "data": {
      "image/png": "[encoded data removed]",
      "text/plain": [
       "<Figure size 432x288 with 1 Axes>"
      ]
     },
     "metadata": {},
     "output_type": "display_data"
    }
   ],
   "source": [
    "# Рисуем граф\n",
    "\n",
    "nx.draw_networkx(G)"
   ]
  },
  {
   "cell_type": "code",
   "execution_count": 3,
   "metadata": {
    "colab": {
     "base_uri": "https://localhost:8080/",
     "height": 248
    },
    "executionInfo": {
     "elapsed": 968,
     "status": "ok",
     "timestamp": 1605203961493,
     "user": {
      "displayName": "Николай Проскурин",
      "photoUrl": "https://lh4.googleusercontent.com/-7dldC_av2-E/AAAAAAAAAAI/AAAAAAAAD2U/sxNNx2X6reI/s64/photo.jpg",
      "userId": "08174801876020700561"
     },
     "user_tz": -180
    },
    "id": "mwG54xyMzubC",
    "outputId": "dea18842-ec5c-46d2-e43a-11d661542647"
   },
   "outputs": [
    {
     "data": {
      "image/png": "[encoded data removed]",
      "text/plain": [
       "<Figure size 432x288 with 1 Axes>"
      ]
     },
     "metadata": {},
     "output_type": "display_data"
    }
   ],
   "source": [
    "# Рисуем граф примерно как в слайдах\n",
    "\n",
    "import matplotlib.pyplot as plt\n",
    "\n",
    "pos = {'A': (1, 1.5), 'B': (4, 0), 'C': (5, 2), 'D': (2.9, 2.2), 'E': (6, 0.5), 'F': (7.5, 1.5)}\n",
    "\n",
    "def draw_G():\n",
    "    options = {\n",
    "        \"font_size\": 20,\n",
    "        \"node_size\": 1500,\n",
    "        \"node_color\": \"white\",\n",
    "        \"edgecolors\": \"black\",\n",
    "        \"linewidths\": 3,\n",
    "        \"width\": 3,\n",
    "    }\n",
    "\n",
    "    plt.axis([0, 8.5, -0.5, 2.7])\n",
    "    nx.draw_networkx(G, pos, **options)\n",
    "    plt.show()\n",
    "    \n",
    "draw_G()"
   ]
  },
  {
   "cell_type": "code",
   "execution_count": 8,
   "metadata": {
    "colab": {
     "base_uri": "https://localhost:8080/"
    },
    "executionInfo": {
     "elapsed": 760,
     "status": "ok",
     "timestamp": 1605203963922,
     "user": {
      "displayName": "Николай Проскурин",
      "photoUrl": "https://lh4.googleusercontent.com/-7dldC_av2-E/AAAAAAAAAAI/AAAAAAAAD2U/sxNNx2X6reI/s64/photo.jpg",
      "userId": "08174801876020700561"
     },
     "user_tz": -180
    },
    "id": "fc2Rh4wwzubE",
    "outputId": "1b6807f4-1a9a-42c4-d763-ce6781b539e8"
   },
   "outputs": [
    {
     "name": "stdout",
     "output_type": "stream",
     "text": [
      "Степень вершины: 4\n",
      "Входная степень вершины: 1\n",
      "Исходящая степень вершины: 3\n"
     ]
    }
   ],
   "source": [
    "# Ищем степень вершины\n",
    "\n",
    "print(\"Степень вершины:\",G.degree('C'))\n",
    "print(\"Входная степень вершины:\",G.in_degree('C'))\n",
    "print(\"Исходящая степень вершины:\",G.out_degree('C'))"
   ]
  },
  {
   "cell_type": "code",
   "execution_count": 9,
   "metadata": {
    "colab": {
     "base_uri": "https://localhost:8080/"
    },
    "executionInfo": {
     "elapsed": 761,
     "status": "ok",
     "timestamp": 1605203964884,
     "user": {
      "displayName": "Николай Проскурин",
      "photoUrl": "https://lh4.googleusercontent.com/-7dldC_av2-E/AAAAAAAAAAI/AAAAAAAAD2U/sxNNx2X6reI/s64/photo.jpg",
      "userId": "08174801876020700561"
     },
     "user_tz": -180
    },
    "id": "-tIv37BJzubH",
    "outputId": "b19d75c5-0fac-4fea-f171-40bfb80a0179"
   },
   "outputs": [
    {
     "name": "stdout",
     "output_type": "stream",
     "text": [
      "Что выдает G[v]: ['A', 'D', 'E']\n",
      "А вот соседи по входящим ребрам: ['B']\n"
     ]
    }
   ],
   "source": [
    "# Ищем соседей\n",
    "\n",
    "print(\"Что выдает G[v]:\",list(G['C']))\n",
    "\n",
    "print(\"А вот соседи по входящим ребрам:\",list(G.pred['C']))"
   ]
  },
  {
   "cell_type": "code",
   "execution_count": 11,
   "metadata": {
    "colab": {
     "base_uri": "https://localhost:8080/"
    },
    "executionInfo": {
     "elapsed": 824,
     "status": "ok",
     "timestamp": 1605203966834,
     "user": {
      "displayName": "Николай Проскурин",
      "photoUrl": "https://lh4.googleusercontent.com/-7dldC_av2-E/AAAAAAAAAAI/AAAAAAAAD2U/sxNNx2X6reI/s64/photo.jpg",
      "userId": "08174801876020700561"
     },
     "user_tz": -180
    },
    "id": "aFsCc7YazubJ",
    "outputId": "66257dc4-373d-4d53-9ec7-712623b50616"
   },
   "outputs": [
    {
     "data": {
      "text/plain": [
       "True"
      ]
     },
     "execution_count": 11,
     "metadata": {},
     "output_type": "execute_result"
    }
   ],
   "source": [
    "# Проверяем достижимость\n",
    "\n",
    "# nx.has_path(G,'D','A')\n",
    "nx.has_path(G,'B','E')"
   ]
  },
  {
   "cell_type": "code",
   "execution_count": 13,
   "metadata": {
    "colab": {
     "base_uri": "https://localhost:8080/",
     "height": 265
    },
    "executionInfo": {
     "elapsed": 1050,
     "status": "ok",
     "timestamp": 1605203968148,
     "user": {
      "displayName": "Николай Проскурин",
      "photoUrl": "https://lh4.googleusercontent.com/-7dldC_av2-E/AAAAAAAAAAI/AAAAAAAAD2U/sxNNx2X6reI/s64/photo.jpg",
      "userId": "08174801876020700561"
     },
     "user_tz": -180
    },
    "id": "d4JO1G8zzubL",
    "outputId": "5f8be4d9-ecd8-4421-bcca-0409d87ed02d"
   },
   "outputs": [
    {
     "data": {
      "image/png": "[encoded data removed]",
      "text/plain": [
       "<Figure size 432x288 with 1 Axes>"
      ]
     },
     "metadata": {},
     "output_type": "display_data"
    },
    {
     "data": {
      "text/plain": [
       "True"
      ]
     },
     "execution_count": 13,
     "metadata": {},
     "output_type": "execute_result"
    }
   ],
   "source": [
    "# Проверяем связность\n",
    "\n",
    "# G.add_edges_from([('E','F'),('F','A')])\n",
    "\n",
    "# draw_G()\n",
    "\n",
    "nx.is_strongly_connected(G)"
   ]
  },
  {
   "cell_type": "code",
   "execution_count": null,
   "metadata": {
    "id": "4zj2-QATzubO"
   },
   "outputs": [],
   "source": []
  }
 ],
 "metadata": {
  "colab": {
   "name": "directed-graphs.ipynb",
   "provenance": []
  },
  "kernelspec": {
   "display_name": "Python 3",
   "language": "python",
   "name": "python3"
  },
  "language_info": {
   "codemirror_mode": {
    "name": "ipython",
    "version": 3
   },
   "file_extension": ".py",
   "mimetype": "text/x-python",
   "name": "python",
   "nbconvert_exporter": "python",
   "pygments_lexer": "ipython3",
   "version": "3.7.6"
  }
 },
 "nbformat": 4,
 "nbformat_minor": 1
}
