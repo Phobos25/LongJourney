{
 "cells": [
  {
   "cell_type": "markdown",
   "metadata": {
    "id": "VbYURAba5DjR"
   },
   "source": [
    "# Поиск в ориентированных графах\n",
    "\n",
    "В этом ноутбуке мы разберем поиск в глубину в ориентированных графах и поиск компонент сильной связности"
   ]
  },
  {
   "cell_type": "code",
   "execution_count": 1,
   "metadata": {
    "id": "ByhwZ3op5DjS"
   },
   "outputs": [],
   "source": [
    "# Задаем граф\n",
    "\n",
    "import networkx as nx\n",
    "\n",
    "graph = nx.DiGraph()\n",
    "\n",
    "graph.add_nodes_from(['A','B','C','D','E','F'])\n",
    "graph.add_edges_from([('A','B'), \n",
    "                      ('B','C'), ('B','D'), ('B','E'), \n",
    "                      ('C','A'), \n",
    "                      ('D','A'), ('D','C'), ('D','E'), \n",
    "                      ('F','E')])"
   ]
  },
  {
   "cell_type": "code",
   "execution_count": 2,
   "metadata": {
    "colab": {
     "base_uri": "https://localhost:8080/",
     "height": 248
    },
    "executionInfo": {
     "elapsed": 2137,
     "status": "ok",
     "timestamp": 1605215216610,
     "user": {
      "displayName": "Николай Проскурин",
      "photoUrl": "https://lh4.googleusercontent.com/-7dldC_av2-E/AAAAAAAAAAI/AAAAAAAAD2U/sxNNx2X6reI/s64/photo.jpg",
      "userId": "08174801876020700561"
     },
     "user_tz": -180
    },
    "id": "e_pfD-Y65DjW",
    "outputId": "82bc0c8f-9520-4956-f3c2-959e8e61fb1e"
   },
   "outputs": [
    {
     "data": {
      "image/png": "[encoded data removed]",
      "text/plain": [
       "<Figure size 432x288 with 1 Axes>"
      ]
     },
     "metadata": {},
     "output_type": "display_data"
    }
   ],
   "source": [
    "# Рисуем граф примерно как в слайдах\n",
    "\n",
    "import matplotlib.pyplot as plt\n",
    "\n",
    "pos = {'A': (1, 1.5), 'B': (4, 0), 'C': (5, 2), 'D': (2.9, 2.2), 'E': (6, 0.5), 'F': (7.5, 1.5)}\n",
    "\n",
    "def draw_G(G):\n",
    "    options = {\n",
    "        \"font_size\": 20,\n",
    "        \"node_size\": 1500,\n",
    "        \"node_color\": \"white\",\n",
    "        \"edgecolors\": \"black\",\n",
    "        \"linewidths\": 3,\n",
    "        \"width\": 3,\n",
    "    }\n",
    "\n",
    "\n",
    "    \n",
    "    plt.axis([0, 8.5, -0.5, 2.7])\n",
    "\n",
    "    nx.draw_networkx(G, pos, **options)\n",
    "    plt.show()\n",
    "    \n",
    "draw_G(graph)"
   ]
  },
  {
   "cell_type": "code",
   "execution_count": 3,
   "metadata": {
    "colab": {
     "base_uri": "https://localhost:8080/"
    },
    "executionInfo": {
     "elapsed": 2131,
     "status": "ok",
     "timestamp": 1605215216612,
     "user": {
      "displayName": "Николай Проскурин",
      "photoUrl": "https://lh4.googleusercontent.com/-7dldC_av2-E/AAAAAAAAAAI/AAAAAAAAD2U/sxNNx2X6reI/s64/photo.jpg",
      "userId": "08174801876020700561"
     },
     "user_tz": -180
    },
    "id": "k4O3asj25DjZ",
    "outputId": "450917cb-c036-4bf9-b468-773a1b0a8e3d"
   },
   "outputs": [
    {
     "name": "stdout",
     "output_type": "stream",
     "text": [
      "Pre:  {'A': 0, 'B': 1, 'C': 2, 'D': 4, 'E': 5, 'F': 10}\n",
      "Post: {'A': 9, 'B': 8, 'C': 3, 'D': 7, 'E': 6, 'F': 11}\n"
     ]
    }
   ],
   "source": [
    "# Реализуем поиск в глубину\n",
    "\n",
    "clock = 0\n",
    "\n",
    "pre=dict()\n",
    "post=dict()\n",
    "\n",
    "def Previsit(v):\n",
    "    global clock\n",
    "    pre[v]=clock\n",
    "    clock+=1\n",
    "\n",
    "def Postvisit(v):\n",
    "    global clock\n",
    "    post[v]=clock\n",
    "    clock+=1\n",
    "\n",
    "visited=dict()\n",
    "for v in graph:\n",
    "    visited[v]=False\n",
    "\n",
    "def Explore(v):\n",
    "    visited[v]=True\n",
    "    Previsit(v)\n",
    "    for u in graph[v]:\n",
    "        if not visited[u]:\n",
    "            Explore(u)\n",
    "    Postvisit(v)\n",
    "            \n",
    "def dfs():\n",
    "    for v in graph:\n",
    "        if not visited[v]:\n",
    "            Explore(v)   \n",
    "            \n",
    "dfs()\n",
    "\n",
    "print(\"Pre: \",pre)\n",
    "print(\"Post:\",dict(sorted(post.items())))"
   ]
  },
  {
   "cell_type": "code",
   "execution_count": 4,
   "metadata": {
    "colab": {
     "base_uri": "https://localhost:8080/"
    },
    "executionInfo": {
     "elapsed": 624,
     "status": "ok",
     "timestamp": 1605215481852,
     "user": {
      "displayName": "Николай Проскурин",
      "photoUrl": "https://lh4.googleusercontent.com/-7dldC_av2-E/AAAAAAAAAAI/AAAAAAAAD2U/sxNNx2X6reI/s64/photo.jpg",
      "userId": "08174801876020700561"
     },
     "user_tz": -180
    },
    "id": "mnxrYtcd5Djc",
    "outputId": "d06f5718-2121-4f11-bf8f-4af63d08db24"
   },
   "outputs": [
    {
     "name": "stdout",
     "output_type": "stream",
     "text": [
      "Pre:  [('A', 0), ('B', 1), ('C', 2), ('D', 4), ('E', 5), ('F', 10)]\n",
      "Post: [('A', 9), ('B', 8), ('C', 3), ('D', 7), ('E', 6), ('F', 11)]\n"
     ]
    }
   ],
   "source": [
    "# Реализуем поиск в глубину без глобальных переменных\n",
    "\n",
    "pre={}\n",
    "post={}\n",
    "\n",
    "def Previsit(v, pre, clock):\n",
    "    pre[v]=clock\n",
    "    clock+=1\n",
    "    return clock\n",
    "\n",
    "def Postvisit(v, post, clock):\n",
    "    post[v]=clock\n",
    "    clock+=1\n",
    "    return clock\n",
    "\n",
    "visited=dict()\n",
    "for v in graph:\n",
    "    visited[v]=False\n",
    "\n",
    "def Explore(v,graph,pre,post,clock,visited):\n",
    "    visited[v]=True\n",
    "    clock = Previsit(v,pre,clock)\n",
    "    for u in graph[v]:\n",
    "        if not visited[u]:\n",
    "            clock = Explore(u,graph,pre,post,clock,visited)\n",
    "    clock = Postvisit(v,post,clock)\n",
    "    return clock\n",
    "            \n",
    "def dfs(graph,pre,post,visited):\n",
    "    clock=0\n",
    "    for v in graph:\n",
    "        if not visited[v]:\n",
    "            clock = Explore(v,graph,pre,post,clock,visited)\n",
    "\n",
    "dfs(graph,pre,post,visited)\n",
    "\n",
    "print(\"Pre: \",sorted(pre.items()))\n",
    "print(\"Post:\",sorted(post.items()))"
   ]
  },
  {
   "cell_type": "code",
   "execution_count": 5,
   "metadata": {
    "colab": {
     "base_uri": "https://localhost:8080/"
    },
    "executionInfo": {
     "elapsed": 735,
     "status": "ok",
     "timestamp": 1605190714756,
     "user": {
      "displayName": "Vladimir Podolskii",
      "photoUrl": "",
      "userId": "06527081676405376569"
     },
     "user_tz": -180
    },
    "id": "1CRoKiVO5Djg",
    "outputId": "6da78108-46cf-4dec-a888-de4380989627"
   },
   "outputs": [
    {
     "data": {
      "text/plain": [
       "[{'E'}, {'A', 'B', 'C', 'D'}, {'F'}]"
      ]
     },
     "execution_count": 5,
     "metadata": {},
     "output_type": "execute_result"
    }
   ],
   "source": [
    "# Находим компоненты сильной связности с помощью встроенной функции\n",
    "\n",
    "list(nx.strongly_connected_components(graph))"
   ]
  },
  {
   "cell_type": "code",
   "execution_count": 6,
   "metadata": {
    "colab": {
     "base_uri": "https://localhost:8080/",
     "height": 581
    },
    "executionInfo": {
     "elapsed": 1367,
     "status": "ok",
     "timestamp": 1605215474732,
     "user": {
      "displayName": "Николай Проскурин",
      "photoUrl": "https://lh4.googleusercontent.com/-7dldC_av2-E/AAAAAAAAAAI/AAAAAAAAD2U/sxNNx2X6reI/s64/photo.jpg",
      "userId": "08174801876020700561"
     },
     "user_tz": -180
    },
    "id": "4TyCWphc5Dji",
    "outputId": "fb8129f6-1a00-49a4-df8b-6e5bbe85b1a2"
   },
   "outputs": [
    {
     "data": {
      "image/png": "[encoded data removed]",
      "text/plain": [
       "<Figure size 432x288 with 1 Axes>"
      ]
     },
     "metadata": {},
     "output_type": "display_data"
    },
    {
     "data": {
      "image/png": "[encoded data removed]",
      "text/plain": [
       "<Figure size 432x288 with 1 Axes>"
      ]
     },
     "metadata": {},
     "output_type": "display_data"
    },
    {
     "name": "stdout",
     "output_type": "stream",
     "text": [
      "Pre для обратного графа:\t {'A': 0, 'B': 2, 'C': 1, 'D': 4, 'E': 8, 'F': 9}\n",
      "Post для обратного графа:\t {'A': 7, 'B': 3, 'C': 6, 'D': 5, 'E': 11, 'F': 10}\n",
      "\n",
      "Очередная компонента состоит из: E \n",
      "Очередная компонента состоит из: F \n",
      "Очередная компонента состоит из: A B C D \n"
     ]
    }
   ],
   "source": [
    "# Находим компоненты сильной связности\n",
    "\n",
    "graph_r = graph.reverse(copy=True)\n",
    "\n",
    "\n",
    "draw_G(graph)\n",
    "draw_G(graph_r)\n",
    "\n",
    "# Запускаем поиск в глубину для развернутого графа\n",
    "pre_r={}\n",
    "post_r={}\n",
    "visited_r={}\n",
    "for v in graph_r:\n",
    "    visited_r[v]=False\n",
    "dfs(graph_r,pre_r,post_r,visited_r)\n",
    "\n",
    "print(\"Pre для обратного графа:\\t\",dict(sorted(pre_r.items())))\n",
    "print(\"Post для обратного графа:\\t\",dict(sorted(post_r.items())))\n",
    "print()\n",
    "\n",
    "visited={}\n",
    "for v in graph:\n",
    "    visited[v]=False\n",
    "\n",
    "# Запускаем обход компонент связности\n",
    "while post_r:\n",
    "    print(\"Очередная компонента состоит из:\",end=\" \")\n",
    "    pre={}\n",
    "    post={}\n",
    "\n",
    "    current_v = max(post_r, key=post_r.get)\n",
    "    Explore(current_v,graph,pre,post,0,visited)\n",
    "    \n",
    "    for k, v in visited.items():\n",
    "        if v and k in post_r:\n",
    "            print(k,end=\" \")\n",
    "            del post_r[k]\n",
    "    #print(visited)\n",
    "    print()"
   ]
  },
  {
   "cell_type": "code",
   "execution_count": null,
   "metadata": {
    "id": "R_C2Erhf5Djk"
   },
   "outputs": [],
   "source": []
  }
 ],
 "metadata": {
  "colab": {
   "collapsed_sections": [],
   "name": "directed-dfs.ipynb",
   "provenance": []
  },
  "kernelspec": {
   "display_name": "Python 3",
   "language": "python",
   "name": "python3"
  },
  "language_info": {
   "codemirror_mode": {
    "name": "ipython",
    "version": 3
   },
   "file_extension": ".py",
   "mimetype": "text/x-python",
   "name": "python",
   "nbconvert_exporter": "python",
   "pygments_lexer": "ipython3",
   "version": "3.7.6"
  }
 },
 "nbformat": 4,
 "nbformat_minor": 1
}
